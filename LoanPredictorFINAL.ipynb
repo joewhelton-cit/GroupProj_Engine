{
 "cells": [
  {
   "cell_type": "code",
   "execution_count": 1,
   "metadata": {
    "execution": {
     "iopub.execute_input": "2020-11-28T21:15:59.201642Z",
     "iopub.status.busy": "2020-11-28T21:15:59.200747Z",
     "iopub.status.idle": "2020-11-28T21:15:59.204090Z",
     "shell.execute_reply": "2020-11-28T21:15:59.203341Z"
    },
    "papermill": {
     "duration": 0.032993,
     "end_time": "2020-11-28T21:15:59.204252",
     "exception": false,
     "start_time": "2020-11-28T21:15:59.171259",
     "status": "completed"
    },
    "tags": []
   },
   "outputs": [],
   "source": [
    "#!pip install keras_vggface\n",
    "#!pip install tensorflow==1.13.2"
   ]
  },
  {
   "cell_type": "code",
   "execution_count": 2,
   "metadata": {
    "_cell_guid": "b1076dfc-b9ad-4769-8c92-a6c4dae69d19",
    "_uuid": "8f2839f25d086af736a60e9eeb907d3b93b6e0e5",
    "execution": {
     "iopub.execute_input": "2020-11-28T21:15:59.259015Z",
     "iopub.status.busy": "2020-11-28T21:15:59.258378Z",
     "iopub.status.idle": "2020-11-28T21:16:05.011398Z",
     "shell.execute_reply": "2020-11-28T21:16:05.011880Z"
    },
    "papermill": {
     "duration": 5.783561,
     "end_time": "2020-11-28T21:16:05.012016",
     "exception": false,
     "start_time": "2020-11-28T21:15:59.228455",
     "status": "completed"
    },
    "tags": []
   },
   "outputs": [
    {
     "name": "stdout",
     "output_type": "stream",
     "text": [
      "/kaggle/input/loan-predication/train_u6lujuX_CVtuZ9i (1).csv\n",
      "/kaggle/input/train-u6lujux-cvtuz9icsv/train_u6lujuX_CVtuZ9i.csv\n"
     ]
    }
   ],
   "source": [
    "# This Python 3 environment comes with many helpful analytics libraries installed\n",
    "# It is defined by the kaggle/python Docker image: https://github.com/kaggle/docker-python\n",
    "# For example, here's several helpful packages to load\n",
    "\n",
    "import numpy as np # linear algebra\n",
    "import pandas as pd # data processing, CSV file I/O (e.g. pd.read_csv)\n",
    "\n",
    "# Input data files are available in the read-only \"../input/\" directory\n",
    "# For example, running this (by clicking run or pressing Shift+Enter) will list all files under the input directory\n",
    "import tensorflow as tf\n",
    "from tensorflow import keras\n",
    "\n",
    "import keras\n",
    "#from keras_vggface.vggface import VGGFace\n",
    "import os\n",
    "for dirname, _, filenames in os.walk('/kaggle/input'):\n",
    "    for filename in filenames:\n",
    "        print(os.path.join(dirname, filename))\n"
   ]
  },
  {
   "cell_type": "code",
   "execution_count": 3,
   "metadata": {
    "_cell_guid": "79c7e3d0-c299-4dcb-8224-4455121ee9b0",
    "_uuid": "d629ff2d2480ee46fbb7e2d37f6b5fab8052498a",
    "execution": {
     "iopub.execute_input": "2020-11-28T21:16:05.063846Z",
     "iopub.status.busy": "2020-11-28T21:16:05.058801Z",
     "iopub.status.idle": "2020-11-28T21:16:08.197789Z",
     "shell.execute_reply": "2020-11-28T21:16:08.197253Z"
    },
    "papermill": {
     "duration": 3.169604,
     "end_time": "2020-11-28T21:16:08.197918",
     "exception": false,
     "start_time": "2020-11-28T21:16:05.028314",
     "status": "completed"
    },
    "tags": []
   },
   "outputs": [],
   "source": [
    "#Basic and most important libraries\n",
    "import pandas as pd , numpy as np\n",
    "from sklearn.utils import resample\n",
    "from sklearn.preprocessing import StandardScaler , MinMaxScaler\n",
    "from collections import Counter\n",
    "from scipy import stats\n",
    "import matplotlib.pyplot as plt\n",
    "import seaborn as sns\n",
    "import plotly.express as px\n",
    "import plotly.figure_factory as ff\n",
    "import plotly\n",
    "\n",
    "#Classifiers\n",
    "from sklearn.ensemble import AdaBoostClassifier , GradientBoostingClassifier , VotingClassifier , RandomForestClassifier\n",
    "from sklearn.linear_model import LogisticRegression , RidgeClassifier\n",
    "from sklearn.discriminant_analysis import LinearDiscriminantAnalysis\n",
    "from sklearn.model_selection import RepeatedStratifiedKFold\n",
    "from sklearn.neighbors import KNeighborsClassifier\n",
    "from sklearn.model_selection import GridSearchCV\n",
    "from sklearn.tree import DecisionTreeClassifier \n",
    "from sklearn.naive_bayes import GaussianNB\n",
    "from xgboost import plot_importance\n",
    "from xgboost import XGBClassifier\n",
    "from sklearn.svm import SVC\n",
    "\n",
    "#Model evaluation tools\n",
    "from sklearn.metrics import classification_report , accuracy_score , confusion_matrix\n",
    "from sklearn.metrics import accuracy_score,f1_score\n",
    "from sklearn.model_selection import cross_val_score\n",
    "\n",
    "# Import pickle Package\n",
    "import pickle\n",
    "\n",
    "#Data processing functions\n",
    "from sklearn.preprocessing import StandardScaler\n",
    "from sklearn.model_selection import train_test_split\n",
    "from sklearn import model_selection\n",
    "from sklearn.preprocessing import LabelEncoder\n",
    "le = LabelEncoder()\n",
    "\n",
    "import warnings\n",
    "warnings.filterwarnings(\"ignore\")"
   ]
  },
  {
   "cell_type": "code",
   "execution_count": 4,
   "metadata": {
    "execution": {
     "iopub.execute_input": "2020-11-28T21:16:08.247390Z",
     "iopub.status.busy": "2020-11-28T21:16:08.246473Z",
     "iopub.status.idle": "2020-11-28T21:16:08.284719Z",
     "shell.execute_reply": "2020-11-28T21:16:08.285228Z"
    },
    "papermill": {
     "duration": 0.069757,
     "end_time": "2020-11-28T21:16:08.285362",
     "exception": false,
     "start_time": "2020-11-28T21:16:08.215605",
     "status": "completed"
    },
    "tags": []
   },
   "outputs": [
    {
     "data": {
      "text/html": [
       "<div>\n",
       "<style scoped>\n",
       "    .dataframe tbody tr th:only-of-type {\n",
       "        vertical-align: middle;\n",
       "    }\n",
       "\n",
       "    .dataframe tbody tr th {\n",
       "        vertical-align: top;\n",
       "    }\n",
       "\n",
       "    .dataframe thead th {\n",
       "        text-align: right;\n",
       "    }\n",
       "</style>\n",
       "<table border=\"1\" class=\"dataframe\">\n",
       "  <thead>\n",
       "    <tr style=\"text-align: right;\">\n",
       "      <th></th>\n",
       "      <th>Loan_ID</th>\n",
       "      <th>Gender</th>\n",
       "      <th>Married</th>\n",
       "      <th>Dependents</th>\n",
       "      <th>Education</th>\n",
       "      <th>Self_Employed</th>\n",
       "      <th>ApplicantIncome</th>\n",
       "      <th>CoapplicantIncome</th>\n",
       "      <th>LoanAmount</th>\n",
       "      <th>Loan_Amount_Term</th>\n",
       "      <th>Credit_History</th>\n",
       "      <th>Property_Area</th>\n",
       "      <th>Loan_Status</th>\n",
       "    </tr>\n",
       "  </thead>\n",
       "  <tbody>\n",
       "    <tr>\n",
       "      <th>0</th>\n",
       "      <td>LP001002</td>\n",
       "      <td>Male</td>\n",
       "      <td>No</td>\n",
       "      <td>0</td>\n",
       "      <td>Graduate</td>\n",
       "      <td>No</td>\n",
       "      <td>5849</td>\n",
       "      <td>0.0</td>\n",
       "      <td>NaN</td>\n",
       "      <td>360.0</td>\n",
       "      <td>1.0</td>\n",
       "      <td>Urban</td>\n",
       "      <td>Y</td>\n",
       "    </tr>\n",
       "    <tr>\n",
       "      <th>1</th>\n",
       "      <td>LP001003</td>\n",
       "      <td>Male</td>\n",
       "      <td>Yes</td>\n",
       "      <td>1</td>\n",
       "      <td>Graduate</td>\n",
       "      <td>No</td>\n",
       "      <td>4583</td>\n",
       "      <td>1508.0</td>\n",
       "      <td>128.0</td>\n",
       "      <td>360.0</td>\n",
       "      <td>1.0</td>\n",
       "      <td>Rural</td>\n",
       "      <td>N</td>\n",
       "    </tr>\n",
       "    <tr>\n",
       "      <th>2</th>\n",
       "      <td>LP001005</td>\n",
       "      <td>Male</td>\n",
       "      <td>Yes</td>\n",
       "      <td>0</td>\n",
       "      <td>Graduate</td>\n",
       "      <td>Yes</td>\n",
       "      <td>3000</td>\n",
       "      <td>0.0</td>\n",
       "      <td>66.0</td>\n",
       "      <td>360.0</td>\n",
       "      <td>1.0</td>\n",
       "      <td>Urban</td>\n",
       "      <td>Y</td>\n",
       "    </tr>\n",
       "    <tr>\n",
       "      <th>3</th>\n",
       "      <td>LP001006</td>\n",
       "      <td>Male</td>\n",
       "      <td>Yes</td>\n",
       "      <td>0</td>\n",
       "      <td>Not Graduate</td>\n",
       "      <td>No</td>\n",
       "      <td>2583</td>\n",
       "      <td>2358.0</td>\n",
       "      <td>120.0</td>\n",
       "      <td>360.0</td>\n",
       "      <td>1.0</td>\n",
       "      <td>Urban</td>\n",
       "      <td>Y</td>\n",
       "    </tr>\n",
       "    <tr>\n",
       "      <th>4</th>\n",
       "      <td>LP001008</td>\n",
       "      <td>Male</td>\n",
       "      <td>No</td>\n",
       "      <td>0</td>\n",
       "      <td>Graduate</td>\n",
       "      <td>No</td>\n",
       "      <td>6000</td>\n",
       "      <td>0.0</td>\n",
       "      <td>141.0</td>\n",
       "      <td>360.0</td>\n",
       "      <td>1.0</td>\n",
       "      <td>Urban</td>\n",
       "      <td>Y</td>\n",
       "    </tr>\n",
       "  </tbody>\n",
       "</table>\n",
       "</div>"
      ],
      "text/plain": [
       "    Loan_ID Gender Married Dependents     Education Self_Employed  \\\n",
       "0  LP001002   Male      No          0      Graduate            No   \n",
       "1  LP001003   Male     Yes          1      Graduate            No   \n",
       "2  LP001005   Male     Yes          0      Graduate           Yes   \n",
       "3  LP001006   Male     Yes          0  Not Graduate            No   \n",
       "4  LP001008   Male      No          0      Graduate            No   \n",
       "\n",
       "   ApplicantIncome  CoapplicantIncome  LoanAmount  Loan_Amount_Term  \\\n",
       "0             5849                0.0         NaN             360.0   \n",
       "1             4583             1508.0       128.0             360.0   \n",
       "2             3000                0.0        66.0             360.0   \n",
       "3             2583             2358.0       120.0             360.0   \n",
       "4             6000                0.0       141.0             360.0   \n",
       "\n",
       "   Credit_History Property_Area Loan_Status  \n",
       "0             1.0         Urban           Y  \n",
       "1             1.0         Rural           N  \n",
       "2             1.0         Urban           Y  \n",
       "3             1.0         Urban           Y  \n",
       "4             1.0         Urban           Y  "
      ]
     },
     "execution_count": 4,
     "metadata": {},
     "output_type": "execute_result"
    }
   ],
   "source": [
    "data = pd.read_csv(\"/kaggle/input/train-u6lujux-cvtuz9icsv/train_u6lujuX_CVtuZ9i.csv\")\n",
    "data.head(5)"
   ]
  },
  {
   "cell_type": "code",
   "execution_count": 5,
   "metadata": {
    "execution": {
     "iopub.execute_input": "2020-11-28T21:16:08.327438Z",
     "iopub.status.busy": "2020-11-28T21:16:08.326832Z",
     "iopub.status.idle": "2020-11-28T21:16:08.349566Z",
     "shell.execute_reply": "2020-11-28T21:16:08.350147Z"
    },
    "papermill": {
     "duration": 0.047875,
     "end_time": "2020-11-28T21:16:08.350273",
     "exception": false,
     "start_time": "2020-11-28T21:16:08.302398",
     "status": "completed"
    },
    "tags": []
   },
   "outputs": [
    {
     "data": {
      "text/html": [
       "<div>\n",
       "<style scoped>\n",
       "    .dataframe tbody tr th:only-of-type {\n",
       "        vertical-align: middle;\n",
       "    }\n",
       "\n",
       "    .dataframe tbody tr th {\n",
       "        vertical-align: top;\n",
       "    }\n",
       "\n",
       "    .dataframe thead th {\n",
       "        text-align: right;\n",
       "    }\n",
       "</style>\n",
       "<table border=\"1\" class=\"dataframe\">\n",
       "  <thead>\n",
       "    <tr style=\"text-align: right;\">\n",
       "      <th></th>\n",
       "      <th>ApplicantIncome</th>\n",
       "      <th>CoapplicantIncome</th>\n",
       "      <th>LoanAmount</th>\n",
       "      <th>Loan_Amount_Term</th>\n",
       "      <th>Credit_History</th>\n",
       "    </tr>\n",
       "  </thead>\n",
       "  <tbody>\n",
       "    <tr>\n",
       "      <th>count</th>\n",
       "      <td>614.000000</td>\n",
       "      <td>614.000000</td>\n",
       "      <td>592.000000</td>\n",
       "      <td>600.00000</td>\n",
       "      <td>564.000000</td>\n",
       "    </tr>\n",
       "    <tr>\n",
       "      <th>mean</th>\n",
       "      <td>5403.459283</td>\n",
       "      <td>1621.245798</td>\n",
       "      <td>146.412162</td>\n",
       "      <td>342.00000</td>\n",
       "      <td>0.842199</td>\n",
       "    </tr>\n",
       "    <tr>\n",
       "      <th>std</th>\n",
       "      <td>6109.041673</td>\n",
       "      <td>2926.248369</td>\n",
       "      <td>85.587325</td>\n",
       "      <td>65.12041</td>\n",
       "      <td>0.364878</td>\n",
       "    </tr>\n",
       "    <tr>\n",
       "      <th>min</th>\n",
       "      <td>150.000000</td>\n",
       "      <td>0.000000</td>\n",
       "      <td>9.000000</td>\n",
       "      <td>12.00000</td>\n",
       "      <td>0.000000</td>\n",
       "    </tr>\n",
       "    <tr>\n",
       "      <th>25%</th>\n",
       "      <td>2877.500000</td>\n",
       "      <td>0.000000</td>\n",
       "      <td>100.000000</td>\n",
       "      <td>360.00000</td>\n",
       "      <td>1.000000</td>\n",
       "    </tr>\n",
       "    <tr>\n",
       "      <th>50%</th>\n",
       "      <td>3812.500000</td>\n",
       "      <td>1188.500000</td>\n",
       "      <td>128.000000</td>\n",
       "      <td>360.00000</td>\n",
       "      <td>1.000000</td>\n",
       "    </tr>\n",
       "    <tr>\n",
       "      <th>75%</th>\n",
       "      <td>5795.000000</td>\n",
       "      <td>2297.250000</td>\n",
       "      <td>168.000000</td>\n",
       "      <td>360.00000</td>\n",
       "      <td>1.000000</td>\n",
       "    </tr>\n",
       "    <tr>\n",
       "      <th>max</th>\n",
       "      <td>81000.000000</td>\n",
       "      <td>41667.000000</td>\n",
       "      <td>700.000000</td>\n",
       "      <td>480.00000</td>\n",
       "      <td>1.000000</td>\n",
       "    </tr>\n",
       "  </tbody>\n",
       "</table>\n",
       "</div>"
      ],
      "text/plain": [
       "       ApplicantIncome  CoapplicantIncome  LoanAmount  Loan_Amount_Term  \\\n",
       "count       614.000000         614.000000  592.000000         600.00000   \n",
       "mean       5403.459283        1621.245798  146.412162         342.00000   \n",
       "std        6109.041673        2926.248369   85.587325          65.12041   \n",
       "min         150.000000           0.000000    9.000000          12.00000   \n",
       "25%        2877.500000           0.000000  100.000000         360.00000   \n",
       "50%        3812.500000        1188.500000  128.000000         360.00000   \n",
       "75%        5795.000000        2297.250000  168.000000         360.00000   \n",
       "max       81000.000000       41667.000000  700.000000         480.00000   \n",
       "\n",
       "       Credit_History  \n",
       "count      564.000000  \n",
       "mean         0.842199  \n",
       "std          0.364878  \n",
       "min          0.000000  \n",
       "25%          1.000000  \n",
       "50%          1.000000  \n",
       "75%          1.000000  \n",
       "max          1.000000  "
      ]
     },
     "execution_count": 5,
     "metadata": {},
     "output_type": "execute_result"
    }
   ],
   "source": [
    "data.describe()"
   ]
  },
  {
   "cell_type": "code",
   "execution_count": 6,
   "metadata": {
    "execution": {
     "iopub.execute_input": "2020-11-28T21:16:08.399942Z",
     "iopub.status.busy": "2020-11-28T21:16:08.398896Z",
     "iopub.status.idle": "2020-11-28T21:16:08.402811Z",
     "shell.execute_reply": "2020-11-28T21:16:08.403684Z"
    },
    "papermill": {
     "duration": 0.035917,
     "end_time": "2020-11-28T21:16:08.403872",
     "exception": false,
     "start_time": "2020-11-28T21:16:08.367955",
     "status": "completed"
    },
    "tags": []
   },
   "outputs": [
    {
     "name": "stdout",
     "output_type": "stream",
     "text": [
      "<class 'pandas.core.frame.DataFrame'>\n",
      "RangeIndex: 614 entries, 0 to 613\n",
      "Data columns (total 13 columns):\n",
      " #   Column             Non-Null Count  Dtype  \n",
      "---  ------             --------------  -----  \n",
      " 0   Loan_ID            614 non-null    object \n",
      " 1   Gender             601 non-null    object \n",
      " 2   Married            611 non-null    object \n",
      " 3   Dependents         599 non-null    object \n",
      " 4   Education          614 non-null    object \n",
      " 5   Self_Employed      582 non-null    object \n",
      " 6   ApplicantIncome    614 non-null    int64  \n",
      " 7   CoapplicantIncome  614 non-null    float64\n",
      " 8   LoanAmount         592 non-null    float64\n",
      " 9   Loan_Amount_Term   600 non-null    float64\n",
      " 10  Credit_History     564 non-null    float64\n",
      " 11  Property_Area      614 non-null    object \n",
      " 12  Loan_Status        614 non-null    object \n",
      "dtypes: float64(4), int64(1), object(8)\n",
      "memory usage: 62.5+ KB\n"
     ]
    }
   ],
   "source": [
    "data.info()"
   ]
  },
  {
   "cell_type": "code",
   "execution_count": 7,
   "metadata": {
    "execution": {
     "iopub.execute_input": "2020-11-28T21:16:08.467025Z",
     "iopub.status.busy": "2020-11-28T21:16:08.466250Z",
     "iopub.status.idle": "2020-11-28T21:16:08.470558Z",
     "shell.execute_reply": "2020-11-28T21:16:08.469874Z"
    },
    "papermill": {
     "duration": 0.038453,
     "end_time": "2020-11-28T21:16:08.470658",
     "exception": false,
     "start_time": "2020-11-28T21:16:08.432205",
     "status": "completed"
    },
    "tags": []
   },
   "outputs": [
    {
     "data": {
      "text/plain": [
       "Loan_ID               0\n",
       "Gender               13\n",
       "Married               3\n",
       "Dependents           15\n",
       "Education             0\n",
       "Self_Employed        32\n",
       "ApplicantIncome       0\n",
       "CoapplicantIncome     0\n",
       "LoanAmount           22\n",
       "Loan_Amount_Term     14\n",
       "Credit_History       50\n",
       "Property_Area         0\n",
       "Loan_Status           0\n",
       "dtype: int64"
      ]
     },
     "execution_count": 7,
     "metadata": {},
     "output_type": "execute_result"
    }
   ],
   "source": [
    "data.isnull().sum()"
   ]
  },
  {
   "cell_type": "code",
   "execution_count": 8,
   "metadata": {
    "execution": {
     "iopub.execute_input": "2020-11-28T21:16:08.523627Z",
     "iopub.status.busy": "2020-11-28T21:16:08.522762Z",
     "iopub.status.idle": "2020-11-28T21:16:09.678547Z",
     "shell.execute_reply": "2020-11-28T21:16:09.677998Z"
    },
    "papermill": {
     "duration": 1.189005,
     "end_time": "2020-11-28T21:16:09.678661",
     "exception": false,
     "start_time": "2020-11-28T21:16:08.489656",
     "status": "completed"
    },
    "tags": []
   },
   "outputs": [
    {
     "name": "stdout",
     "output_type": "stream",
     "text": [
      "Data distribution analysis:->---------------------------------------\n",
      "\n",
      "\n",
      "Mean:->\n",
      "\n",
      "ApplicantIncome:  5403.459283387622\n",
      "CoapplicantIncome:  1621.245798027101\n",
      "LoanAmount:  146.41216216216216\n",
      "\n",
      "Mode:->\n",
      "\n",
      "ApplicantIncome:  [2500]\n",
      "CoapplicantIncome:  [0.]\n",
      "LoanAmount:  [120.]\n",
      "\n",
      "Median:->\n",
      "\n",
      "ApplicantIncome:  3812.5\n",
      "CoapplicantIncome:  1188.5\n",
      "LoanAmount:  nan\n",
      "\n",
      "Standard Deviation:->\n",
      "\n",
      "ApplicantIncome:  6104.064856533888\n",
      "CoapplicantIncome:  2923.8644597700627\n",
      "LoanAmount:  85.51500809120331\n"
     ]
    },
    {
     "data": {
      "text/html": [
       "        <script type=\"text/javascript\">\n",
       "        window.PlotlyConfig = {MathJaxConfig: 'local'};\n",
       "        if (window.MathJax) {MathJax.Hub.Config({SVG: {font: \"STIX-Web\"}});}\n",
       "        if (typeof require !== 'undefined') {\n",
       "        require.undef(\"plotly\");\n",
       "        requirejs.config({\n",
       "            paths: {\n",
       "                'plotly': ['https://cdn.plot.ly/plotly-latest.min']\n",
       "            }\n",
       "        });\n",
       "        require(['plotly'], function(Plotly) {\n",
       "            window._Plotly = Plotly;\n",
       "        });\n",
       "        }\n",
       "        </script>\n",
       "        "
      ]
     },
     "metadata": {},
     "output_type": "display_data"
    },
    {
     "data": {
      "text/html": [
       "<div>                            <div id=\"c815b36b-f563-4a03-86d0-f9c517af7938\" class=\"plotly-graph-div\" style=\"height:525px; width:100%;\"></div>            <script type=\"text/javascript\">                require([\"plotly\"], function(Plotly) {                    window.PLOTLYENV=window.PLOTLYENV || {};                                    if (document.getElementById(\"c815b36b-f563-4a03-86d0-f9c517af7938\")) {                    Plotly.newPlot(                        \"c815b36b-f563-4a03-86d0-f9c517af7938\",                        [{\"alignmentgroup\": \"True\", \"bingroup\": \"x\", \"histfunc\": \"sum\", \"hovertemplate\": \"ApplicantIncome=%{x}<br>sum of ApplicantIncome=%{y}<extra></extra>\", \"legendgroup\": \"\", \"marker\": {\"color\": \"#636efa\"}, \"name\": \"\", \"offsetgroup\": \"\", \"orientation\": \"v\", \"showlegend\": false, \"type\": \"histogram\", \"x\": [5849, 4583, 3000, 2583, 6000, 5417, 2333, 3036, 4006, 12841, 3200, 2500, 3073, 1853, 1299, 4950, 3596, 3510, 4887, 2600, 7660, 5955, 2600, 3365, 3717, 9560, 2799, 4226, 1442, 3750, 4166, 3167, 4692, 3500, 12500, 2275, 1828, 3667, 4166, 3748, 3600, 1800, 2400, 3941, 4695, 3410, 5649, 5821, 2645, 4000, 1928, 3086, 4230, 4616, 11500, 2708, 2132, 3366, 8080, 3357, 2500, 3029, 2609, 4945, 4166, 5726, 3200, 10750, 7100, 4300, 3208, 1875, 3500, 4755, 5266, 3750, 3750, 1000, 3167, 3333, 3846, 2395, 1378, 6000, 3988, 2366, 3333, 2500, 8566, 5695, 2958, 6250, 3273, 4133, 3620, 6782, 2484, 1977, 4188, 1759, 4288, 4843, 13650, 4652, 3816, 3052, 11417, 7333, 3800, 2071, 5316, 2929, 3572, 7451, 5050, 14583, 3167, 2214, 5568, 10408, 5667, 4166, 2137, 2957, 4300, 3692, 23803, 3865, 10513, 6080, 20166, 2014, 2718, 3459, 4895, 4000, 4583, 3316, 14999, 4200, 5042, 5417, 6950, 2698, 11757, 2330, 14866, 1538, 10000, 4860, 6277, 2577, 9166, 2281, 3254, 39999, 6000, 9538, 2980, 4583, 1863, 7933, 3089, 4167, 9323, 3707, 4583, 2439, 2237, 8000, 1820, 51763, 3522, 5708, 4344, 3497, 2045, 5516, 3750, 2333, 6400, 1916, 4600, 33846, 3625, 39147, 2178, 2383, 674, 9328, 4885, 12000, 6033, 3858, 4191, 3125, 8333, 1907, 3416, 11000, 2600, 4923, 3992, 3500, 3917, 4408, 3244, 3975, 2479, 3418, 10000, 3430, 7787, 5703, 3173, 3850, 150, 3727, 5000, 4283, 2221, 4009, 2971, 7578, 6250, 3250, 4735, 6250, 4758, 6400, 2491, 3716, 3189, 8333, 3155, 5500, 5746, 3463, 3812, 3315, 5819, 2510, 2965, 6250, 3406, 6050, 9703, 6608, 2882, 1809, 1668, 3427, 2583, 2661, 16250, 3083, 6045, 5250, 14683, 4931, 6083, 2060, 3481, 7200, 5166, 4095, 4708, 4333, 3418, 2876, 3237, 11146, 2833, 2620, 3900, 2750, 3993, 3103, 14583, 4100, 4053, 3927, 2301, 1811, 20667, 3158, 2600, 3704, 4124, 9508, 3075, 4400, 3153, 5417, 2383, 4416, 6875, 4666, 5000, 2014, 1800, 2875, 5000, 1625, 4000, 2000, 3762, 2400, 20233, 7667, 2917, 2927, 2507, 5746, 2473, 3399, 3717, 2058, 3541, 10000, 2400, 4342, 3601, 3166, 15000, 8666, 4917, 5818, 4333, 2500, 4384, 2935, 2833, 63337, 9833, 5503, 5250, 2500, 1830, 4160, 2647, 2378, 4554, 3173, 2583, 2499, 3523, 3083, 6333, 2625, 9083, 8750, 2666, 5500, 2423, 3813, 8333, 3875, 3000, 5167, 4723, 5000, 4750, 3013, 6822, 6216, 2500, 5124, 6325, 19730, 15759, 5185, 9323, 3062, 2764, 4817, 8750, 4310, 3069, 5391, 3333, 5941, 6000, 7167, 4566, 3667, 2346, 3010, 2333, 5488, 9167, 9504, 2583, 1993, 3100, 3276, 3180, 3033, 3902, 1500, 2889, 2755, 2500, 1963, 7441, 4547, 2167, 2213, 8300, 81000, 3867, 6256, 6096, 2253, 2149, 2995, 2600, 1600, 1025, 3246, 5829, 2720, 1820, 7250, 14880, 2666, 4606, 5935, 2920, 2717, 8624, 6500, 12876, 2425, 3750, 10047, 1926, 2213, 10416, 7142, 3660, 7901, 4707, 37719, 7333, 3466, 4652, 3539, 3340, 2769, 2309, 1958, 3948, 2483, 7085, 3859, 4301, 3708, 4354, 8334, 2083, 7740, 3015, 5191, 4166, 6000, 2947, 16692, 210, 4333, 3450, 2653, 4691, 2500, 5532, 16525, 6700, 2873, 16667, 2947, 4350, 3095, 2083, 10833, 8333, 1958, 3547, 18333, 4583, 2435, 2699, 5333, 3691, 17263, 3597, 3326, 2600, 4625, 2895, 6283, 645, 3159, 4865, 4050, 3814, 3510, 20833, 3583, 2479, 13262, 3598, 6065, 3283, 2130, 5815, 3466, 2031, 3074, 4683, 3400, 2192, 2500, 5677, 7948, 4680, 17500, 3775, 5285, 2679, 6783, 1025, 4281, 3588, 11250, 18165, 2550, 6133, 3617, 2917, 6417, 4608, 2138, 3652, 2239, 3017, 2768, 3358, 2526, 5000, 2785, 6633, 2492, 3333, 2454, 3593, 5468, 2667, 10139, 3887, 4180, 3675, 19484, 5923, 5800, 8799, 4467, 3333, 3400, 2378, 3166, 3417, 5116, 16666, 6125, 6406, 3159, 3087, 3229, 1782, 3182, 6540, 1836, 3166, 1880, 2787, 4283, 2297, 2165, 4750, 2726, 3000, 6000, 9357, 3859, 16120, 3833, 6383, 2987, 9963, 5780, 416, 2894, 5703, 3676, 12000, 2400, 3400, 3987, 3232, 2900, 4106, 8072, 7583, 4583], \"xaxis\": \"x\", \"y\": [5849, 4583, 3000, 2583, 6000, 5417, 2333, 3036, 4006, 12841, 3200, 2500, 3073, 1853, 1299, 4950, 3596, 3510, 4887, 2600, 7660, 5955, 2600, 3365, 3717, 9560, 2799, 4226, 1442, 3750, 4166, 3167, 4692, 3500, 12500, 2275, 1828, 3667, 4166, 3748, 3600, 1800, 2400, 3941, 4695, 3410, 5649, 5821, 2645, 4000, 1928, 3086, 4230, 4616, 11500, 2708, 2132, 3366, 8080, 3357, 2500, 3029, 2609, 4945, 4166, 5726, 3200, 10750, 7100, 4300, 3208, 1875, 3500, 4755, 5266, 3750, 3750, 1000, 3167, 3333, 3846, 2395, 1378, 6000, 3988, 2366, 3333, 2500, 8566, 5695, 2958, 6250, 3273, 4133, 3620, 6782, 2484, 1977, 4188, 1759, 4288, 4843, 13650, 4652, 3816, 3052, 11417, 7333, 3800, 2071, 5316, 2929, 3572, 7451, 5050, 14583, 3167, 2214, 5568, 10408, 5667, 4166, 2137, 2957, 4300, 3692, 23803, 3865, 10513, 6080, 20166, 2014, 2718, 3459, 4895, 4000, 4583, 3316, 14999, 4200, 5042, 5417, 6950, 2698, 11757, 2330, 14866, 1538, 10000, 4860, 6277, 2577, 9166, 2281, 3254, 39999, 6000, 9538, 2980, 4583, 1863, 7933, 3089, 4167, 9323, 3707, 4583, 2439, 2237, 8000, 1820, 51763, 3522, 5708, 4344, 3497, 2045, 5516, 3750, 2333, 6400, 1916, 4600, 33846, 3625, 39147, 2178, 2383, 674, 9328, 4885, 12000, 6033, 3858, 4191, 3125, 8333, 1907, 3416, 11000, 2600, 4923, 3992, 3500, 3917, 4408, 3244, 3975, 2479, 3418, 10000, 3430, 7787, 5703, 3173, 3850, 150, 3727, 5000, 4283, 2221, 4009, 2971, 7578, 6250, 3250, 4735, 6250, 4758, 6400, 2491, 3716, 3189, 8333, 3155, 5500, 5746, 3463, 3812, 3315, 5819, 2510, 2965, 6250, 3406, 6050, 9703, 6608, 2882, 1809, 1668, 3427, 2583, 2661, 16250, 3083, 6045, 5250, 14683, 4931, 6083, 2060, 3481, 7200, 5166, 4095, 4708, 4333, 3418, 2876, 3237, 11146, 2833, 2620, 3900, 2750, 3993, 3103, 14583, 4100, 4053, 3927, 2301, 1811, 20667, 3158, 2600, 3704, 4124, 9508, 3075, 4400, 3153, 5417, 2383, 4416, 6875, 4666, 5000, 2014, 1800, 2875, 5000, 1625, 4000, 2000, 3762, 2400, 20233, 7667, 2917, 2927, 2507, 5746, 2473, 3399, 3717, 2058, 3541, 10000, 2400, 4342, 3601, 3166, 15000, 8666, 4917, 5818, 4333, 2500, 4384, 2935, 2833, 63337, 9833, 5503, 5250, 2500, 1830, 4160, 2647, 2378, 4554, 3173, 2583, 2499, 3523, 3083, 6333, 2625, 9083, 8750, 2666, 5500, 2423, 3813, 8333, 3875, 3000, 5167, 4723, 5000, 4750, 3013, 6822, 6216, 2500, 5124, 6325, 19730, 15759, 5185, 9323, 3062, 2764, 4817, 8750, 4310, 3069, 5391, 3333, 5941, 6000, 7167, 4566, 3667, 2346, 3010, 2333, 5488, 9167, 9504, 2583, 1993, 3100, 3276, 3180, 3033, 3902, 1500, 2889, 2755, 2500, 1963, 7441, 4547, 2167, 2213, 8300, 81000, 3867, 6256, 6096, 2253, 2149, 2995, 2600, 1600, 1025, 3246, 5829, 2720, 1820, 7250, 14880, 2666, 4606, 5935, 2920, 2717, 8624, 6500, 12876, 2425, 3750, 10047, 1926, 2213, 10416, 7142, 3660, 7901, 4707, 37719, 7333, 3466, 4652, 3539, 3340, 2769, 2309, 1958, 3948, 2483, 7085, 3859, 4301, 3708, 4354, 8334, 2083, 7740, 3015, 5191, 4166, 6000, 2947, 16692, 210, 4333, 3450, 2653, 4691, 2500, 5532, 16525, 6700, 2873, 16667, 2947, 4350, 3095, 2083, 10833, 8333, 1958, 3547, 18333, 4583, 2435, 2699, 5333, 3691, 17263, 3597, 3326, 2600, 4625, 2895, 6283, 645, 3159, 4865, 4050, 3814, 3510, 20833, 3583, 2479, 13262, 3598, 6065, 3283, 2130, 5815, 3466, 2031, 3074, 4683, 3400, 2192, 2500, 5677, 7948, 4680, 17500, 3775, 5285, 2679, 6783, 1025, 4281, 3588, 11250, 18165, 2550, 6133, 3617, 2917, 6417, 4608, 2138, 3652, 2239, 3017, 2768, 3358, 2526, 5000, 2785, 6633, 2492, 3333, 2454, 3593, 5468, 2667, 10139, 3887, 4180, 3675, 19484, 5923, 5800, 8799, 4467, 3333, 3400, 2378, 3166, 3417, 5116, 16666, 6125, 6406, 3159, 3087, 3229, 1782, 3182, 6540, 1836, 3166, 1880, 2787, 4283, 2297, 2165, 4750, 2726, 3000, 6000, 9357, 3859, 16120, 3833, 6383, 2987, 9963, 5780, 416, 2894, 5703, 3676, 12000, 2400, 3400, 3987, 3232, 2900, 4106, 8072, 7583, 4583], \"yaxis\": \"y\"}],                        {\"barmode\": \"relative\", \"legend\": {\"tracegroupgap\": 0}, \"margin\": {\"t\": 60}, \"template\": {\"data\": {\"bar\": [{\"error_x\": {\"color\": \"#2a3f5f\"}, \"error_y\": {\"color\": \"#2a3f5f\"}, \"marker\": {\"line\": {\"color\": \"#E5ECF6\", \"width\": 0.5}}, \"type\": \"bar\"}], \"barpolar\": [{\"marker\": {\"line\": {\"color\": \"#E5ECF6\", \"width\": 0.5}}, \"type\": \"barpolar\"}], \"carpet\": [{\"aaxis\": {\"endlinecolor\": \"#2a3f5f\", \"gridcolor\": \"white\", \"linecolor\": \"white\", \"minorgridcolor\": \"white\", \"startlinecolor\": \"#2a3f5f\"}, \"baxis\": {\"endlinecolor\": \"#2a3f5f\", \"gridcolor\": \"white\", \"linecolor\": \"white\", \"minorgridcolor\": \"white\", \"startlinecolor\": \"#2a3f5f\"}, \"type\": \"carpet\"}], \"choropleth\": [{\"colorbar\": {\"outlinewidth\": 0, \"ticks\": \"\"}, \"type\": \"choropleth\"}], \"contour\": [{\"colorbar\": {\"outlinewidth\": 0, \"ticks\": \"\"}, \"colorscale\": [[0.0, \"#0d0887\"], [0.1111111111111111, \"#46039f\"], [0.2222222222222222, \"#7201a8\"], [0.3333333333333333, \"#9c179e\"], [0.4444444444444444, \"#bd3786\"], [0.5555555555555556, \"#d8576b\"], [0.6666666666666666, \"#ed7953\"], [0.7777777777777778, \"#fb9f3a\"], [0.8888888888888888, \"#fdca26\"], [1.0, \"#f0f921\"]], \"type\": \"contour\"}], \"contourcarpet\": [{\"colorbar\": {\"outlinewidth\": 0, \"ticks\": \"\"}, \"type\": \"contourcarpet\"}], \"heatmap\": [{\"colorbar\": {\"outlinewidth\": 0, \"ticks\": \"\"}, \"colorscale\": [[0.0, \"#0d0887\"], [0.1111111111111111, \"#46039f\"], [0.2222222222222222, \"#7201a8\"], [0.3333333333333333, \"#9c179e\"], [0.4444444444444444, \"#bd3786\"], [0.5555555555555556, \"#d8576b\"], [0.6666666666666666, \"#ed7953\"], [0.7777777777777778, \"#fb9f3a\"], [0.8888888888888888, \"#fdca26\"], [1.0, \"#f0f921\"]], \"type\": \"heatmap\"}], \"heatmapgl\": [{\"colorbar\": {\"outlinewidth\": 0, \"ticks\": \"\"}, \"colorscale\": [[0.0, \"#0d0887\"], [0.1111111111111111, \"#46039f\"], [0.2222222222222222, \"#7201a8\"], [0.3333333333333333, \"#9c179e\"], [0.4444444444444444, \"#bd3786\"], [0.5555555555555556, \"#d8576b\"], [0.6666666666666666, \"#ed7953\"], [0.7777777777777778, \"#fb9f3a\"], [0.8888888888888888, \"#fdca26\"], [1.0, \"#f0f921\"]], \"type\": \"heatmapgl\"}], \"histogram\": [{\"marker\": {\"colorbar\": {\"outlinewidth\": 0, \"ticks\": \"\"}}, \"type\": \"histogram\"}], \"histogram2d\": [{\"colorbar\": {\"outlinewidth\": 0, \"ticks\": \"\"}, \"colorscale\": [[0.0, \"#0d0887\"], [0.1111111111111111, \"#46039f\"], [0.2222222222222222, \"#7201a8\"], [0.3333333333333333, \"#9c179e\"], [0.4444444444444444, \"#bd3786\"], [0.5555555555555556, \"#d8576b\"], [0.6666666666666666, \"#ed7953\"], [0.7777777777777778, \"#fb9f3a\"], [0.8888888888888888, \"#fdca26\"], [1.0, \"#f0f921\"]], \"type\": \"histogram2d\"}], \"histogram2dcontour\": [{\"colorbar\": {\"outlinewidth\": 0, \"ticks\": \"\"}, \"colorscale\": [[0.0, \"#0d0887\"], [0.1111111111111111, \"#46039f\"], [0.2222222222222222, \"#7201a8\"], [0.3333333333333333, \"#9c179e\"], [0.4444444444444444, \"#bd3786\"], [0.5555555555555556, \"#d8576b\"], [0.6666666666666666, \"#ed7953\"], [0.7777777777777778, \"#fb9f3a\"], [0.8888888888888888, \"#fdca26\"], [1.0, \"#f0f921\"]], \"type\": \"histogram2dcontour\"}], \"mesh3d\": [{\"colorbar\": {\"outlinewidth\": 0, \"ticks\": \"\"}, \"type\": \"mesh3d\"}], \"parcoords\": [{\"line\": {\"colorbar\": {\"outlinewidth\": 0, \"ticks\": \"\"}}, \"type\": \"parcoords\"}], \"pie\": [{\"automargin\": true, \"type\": \"pie\"}], \"scatter\": [{\"marker\": {\"colorbar\": {\"outlinewidth\": 0, \"ticks\": \"\"}}, \"type\": \"scatter\"}], \"scatter3d\": [{\"line\": {\"colorbar\": {\"outlinewidth\": 0, \"ticks\": \"\"}}, \"marker\": {\"colorbar\": {\"outlinewidth\": 0, \"ticks\": \"\"}}, \"type\": \"scatter3d\"}], \"scattercarpet\": [{\"marker\": {\"colorbar\": {\"outlinewidth\": 0, \"ticks\": \"\"}}, \"type\": \"scattercarpet\"}], \"scattergeo\": [{\"marker\": {\"colorbar\": {\"outlinewidth\": 0, \"ticks\": \"\"}}, \"type\": \"scattergeo\"}], \"scattergl\": [{\"marker\": {\"colorbar\": {\"outlinewidth\": 0, \"ticks\": \"\"}}, \"type\": \"scattergl\"}], \"scattermapbox\": [{\"marker\": {\"colorbar\": {\"outlinewidth\": 0, \"ticks\": \"\"}}, \"type\": \"scattermapbox\"}], \"scatterpolar\": [{\"marker\": {\"colorbar\": {\"outlinewidth\": 0, \"ticks\": \"\"}}, \"type\": \"scatterpolar\"}], \"scatterpolargl\": [{\"marker\": {\"colorbar\": {\"outlinewidth\": 0, \"ticks\": \"\"}}, \"type\": \"scatterpolargl\"}], \"scatterternary\": [{\"marker\": {\"colorbar\": {\"outlinewidth\": 0, \"ticks\": \"\"}}, \"type\": \"scatterternary\"}], \"surface\": [{\"colorbar\": {\"outlinewidth\": 0, \"ticks\": \"\"}, \"colorscale\": [[0.0, \"#0d0887\"], [0.1111111111111111, \"#46039f\"], [0.2222222222222222, \"#7201a8\"], [0.3333333333333333, \"#9c179e\"], [0.4444444444444444, \"#bd3786\"], [0.5555555555555556, \"#d8576b\"], [0.6666666666666666, \"#ed7953\"], [0.7777777777777778, \"#fb9f3a\"], [0.8888888888888888, \"#fdca26\"], [1.0, \"#f0f921\"]], \"type\": \"surface\"}], \"table\": [{\"cells\": {\"fill\": {\"color\": \"#EBF0F8\"}, \"line\": {\"color\": \"white\"}}, \"header\": {\"fill\": {\"color\": \"#C8D4E3\"}, \"line\": {\"color\": \"white\"}}, \"type\": \"table\"}]}, \"layout\": {\"annotationdefaults\": {\"arrowcolor\": \"#2a3f5f\", \"arrowhead\": 0, \"arrowwidth\": 1}, \"coloraxis\": {\"colorbar\": {\"outlinewidth\": 0, \"ticks\": \"\"}}, \"colorscale\": {\"diverging\": [[0, \"#8e0152\"], [0.1, \"#c51b7d\"], [0.2, \"#de77ae\"], [0.3, \"#f1b6da\"], [0.4, \"#fde0ef\"], [0.5, \"#f7f7f7\"], [0.6, \"#e6f5d0\"], [0.7, \"#b8e186\"], [0.8, \"#7fbc41\"], [0.9, \"#4d9221\"], [1, \"#276419\"]], \"sequential\": [[0.0, \"#0d0887\"], [0.1111111111111111, \"#46039f\"], [0.2222222222222222, \"#7201a8\"], [0.3333333333333333, \"#9c179e\"], [0.4444444444444444, \"#bd3786\"], [0.5555555555555556, \"#d8576b\"], [0.6666666666666666, \"#ed7953\"], [0.7777777777777778, \"#fb9f3a\"], [0.8888888888888888, \"#fdca26\"], [1.0, \"#f0f921\"]], \"sequentialminus\": [[0.0, \"#0d0887\"], [0.1111111111111111, \"#46039f\"], [0.2222222222222222, \"#7201a8\"], [0.3333333333333333, \"#9c179e\"], [0.4444444444444444, \"#bd3786\"], [0.5555555555555556, \"#d8576b\"], [0.6666666666666666, \"#ed7953\"], [0.7777777777777778, \"#fb9f3a\"], [0.8888888888888888, \"#fdca26\"], [1.0, \"#f0f921\"]]}, \"colorway\": [\"#636efa\", \"#EF553B\", \"#00cc96\", \"#ab63fa\", \"#FFA15A\", \"#19d3f3\", \"#FF6692\", \"#B6E880\", \"#FF97FF\", \"#FECB52\"], \"font\": {\"color\": \"#2a3f5f\"}, \"geo\": {\"bgcolor\": \"white\", \"lakecolor\": \"white\", \"landcolor\": \"#E5ECF6\", \"showlakes\": true, \"showland\": true, \"subunitcolor\": \"white\"}, \"hoverlabel\": {\"align\": \"left\"}, \"hovermode\": \"closest\", \"mapbox\": {\"style\": \"light\"}, \"paper_bgcolor\": \"white\", \"plot_bgcolor\": \"#E5ECF6\", \"polar\": {\"angularaxis\": {\"gridcolor\": \"white\", \"linecolor\": \"white\", \"ticks\": \"\"}, \"bgcolor\": \"#E5ECF6\", \"radialaxis\": {\"gridcolor\": \"white\", \"linecolor\": \"white\", \"ticks\": \"\"}}, \"scene\": {\"xaxis\": {\"backgroundcolor\": \"#E5ECF6\", \"gridcolor\": \"white\", \"gridwidth\": 2, \"linecolor\": \"white\", \"showbackground\": true, \"ticks\": \"\", \"zerolinecolor\": \"white\"}, \"yaxis\": {\"backgroundcolor\": \"#E5ECF6\", \"gridcolor\": \"white\", \"gridwidth\": 2, \"linecolor\": \"white\", \"showbackground\": true, \"ticks\": \"\", \"zerolinecolor\": \"white\"}, \"zaxis\": {\"backgroundcolor\": \"#E5ECF6\", \"gridcolor\": \"white\", \"gridwidth\": 2, \"linecolor\": \"white\", \"showbackground\": true, \"ticks\": \"\", \"zerolinecolor\": \"white\"}}, \"shapedefaults\": {\"line\": {\"color\": \"#2a3f5f\"}}, \"ternary\": {\"aaxis\": {\"gridcolor\": \"white\", \"linecolor\": \"white\", \"ticks\": \"\"}, \"baxis\": {\"gridcolor\": \"white\", \"linecolor\": \"white\", \"ticks\": \"\"}, \"bgcolor\": \"#E5ECF6\", \"caxis\": {\"gridcolor\": \"white\", \"linecolor\": \"white\", \"ticks\": \"\"}}, \"title\": {\"x\": 0.05}, \"xaxis\": {\"automargin\": true, \"gridcolor\": \"white\", \"linecolor\": \"white\", \"ticks\": \"\", \"title\": {\"standoff\": 15}, \"zerolinecolor\": \"white\", \"zerolinewidth\": 2}, \"yaxis\": {\"automargin\": true, \"gridcolor\": \"white\", \"linecolor\": \"white\", \"ticks\": \"\", \"title\": {\"standoff\": 15}, \"zerolinecolor\": \"white\", \"zerolinewidth\": 2}}}, \"title\": {\"text\": \"ApplicantIncome\"}, \"xaxis\": {\"anchor\": \"y\", \"domain\": [0.0, 1.0], \"title\": {\"text\": \"ApplicantIncome\"}}, \"yaxis\": {\"anchor\": \"x\", \"domain\": [0.0, 1.0], \"title\": {\"text\": \"sum of ApplicantIncome\"}}},                        {\"responsive\": true}                    ).then(function(){\n",
       "                            \n",
       "var gd = document.getElementById('c815b36b-f563-4a03-86d0-f9c517af7938');\n",
       "var x = new MutationObserver(function (mutations, observer) {{\n",
       "        var display = window.getComputedStyle(gd).display;\n",
       "        if (!display || display === 'none') {{\n",
       "            console.log([gd, 'removed!']);\n",
       "            Plotly.purge(gd);\n",
       "            observer.disconnect();\n",
       "        }}\n",
       "}});\n",
       "\n",
       "// Listen for the removal of the full notebook cells\n",
       "var notebookContainer = gd.closest('#notebook-container');\n",
       "if (notebookContainer) {{\n",
       "    x.observe(notebookContainer, {childList: true});\n",
       "}}\n",
       "\n",
       "// Listen for the clearing of the current output cell\n",
       "var outputEl = gd.closest('.output');\n",
       "if (outputEl) {{\n",
       "    x.observe(outputEl, {childList: true});\n",
       "}}\n",
       "\n",
       "                        })                };                });            </script>        </div>"
      ]
     },
     "metadata": {},
     "output_type": "display_data"
    },
    {
     "data": {
      "text/html": [
       "<div>                            <div id=\"8c214c5b-f83b-4452-aa04-d1e9ec478b68\" class=\"plotly-graph-div\" style=\"height:525px; width:100%;\"></div>            <script type=\"text/javascript\">                require([\"plotly\"], function(Plotly) {                    window.PLOTLYENV=window.PLOTLYENV || {};                                    if (document.getElementById(\"8c214c5b-f83b-4452-aa04-d1e9ec478b68\")) {                    Plotly.newPlot(                        \"8c214c5b-f83b-4452-aa04-d1e9ec478b68\",                        [{\"alignmentgroup\": \"True\", \"bingroup\": \"x\", \"histfunc\": \"sum\", \"hovertemplate\": \"CoapplicantIncome=%{x}<br>sum of CoapplicantIncome=%{y}<extra></extra>\", \"legendgroup\": \"\", \"marker\": {\"color\": \"#636efa\"}, \"name\": \"\", \"offsetgroup\": \"\", \"orientation\": \"v\", \"showlegend\": false, \"type\": \"histogram\", \"x\": [0.0, 1508.0, 0.0, 2358.0, 0.0, 4196.0, 1516.0, 2504.0, 1526.0, 10968.0, 700.0, 1840.0, 8106.0, 2840.0, 1086.0, 0.0, 0.0, 0.0, 0.0, 3500.0, 0.0, 5625.0, 1911.0, 1917.0, 2925.0, 0.0, 2253.0, 1040.0, 0.0, 2083.0, 3369.0, 0.0, 0.0, 1667.0, 3000.0, 2067.0, 1330.0, 1459.0, 7210.0, 1668.0, 0.0, 1213.0, 0.0, 2336.0, 0.0, 0.0, 0.0, 0.0, 3440.0, 2275.0, 1644.0, 0.0, 0.0, 0.0, 0.0, 1167.0, 1591.0, 2200.0, 2250.0, 2859.0, 3796.0, 0.0, 3449.0, 0.0, 0.0, 4595.0, 2254.0, 0.0, 0.0, 0.0, 3066.0, 1875.0, 0.0, 0.0, 1774.0, 0.0, 4750.0, 3022.0, 4000.0, 2166.0, 0.0, 0.0, 1881.0, 2250.0, 0.0, 2531.0, 2000.0, 2118.0, 0.0, 4167.0, 2900.0, 5654.0, 1820.0, 0.0, 0.0, 0.0, 2302.0, 997.0, 0.0, 3541.0, 3263.0, 3806.0, 0.0, 3583.0, 754.0, 1030.0, 1126.0, 0.0, 3600.0, 754.0, 0.0, 2333.0, 4114.0, 0.0, 0.0, 0.0, 2283.0, 1398.0, 2142.0, 0.0, 2667.0, 0.0, 8980.0, 0.0, 2014.0, 0.0, 0.0, 1640.0, 3850.0, 2569.0, 0.0, 1929.0, 0.0, 0.0, 0.0, 7750.0, 0.0, 3500.0, 0.0, 1430.0, 2083.0, 0.0, 0.0, 2034.0, 0.0, 4486.0, 0.0, 1425.0, 1666.0, 830.0, 0.0, 3750.0, 0.0, 0.0, 0.0, 0.0, 0.0, 0.0, 2083.0, 5625.0, 1041.0, 0.0, 1280.0, 1447.0, 0.0, 3166.0, 0.0, 3333.0, 0.0, 0.0, 1769.0, 0.0, 0.0, 5625.0, 736.0, 1964.0, 1619.0, 11300.0, 0.0, 1451.0, 7250.0, 5063.0, 0.0, 0.0, 0.0, 4750.0, 0.0, 2138.0, 5296.0, 0.0, 0.0, 0.0, 0.0, 0.0, 0.0, 2583.0, 3750.0, 2365.0, 2816.0, 0.0, 2500.0, 0.0, 0.0, 1083.0, 0.0, 0.0, 0.0, 2531.0, 0.0, 0.0, 0.0, 1250.0, 0.0, 0.0, 3021.0, 983.0, 1800.0, 1775.0, 0.0, 2383.0, 0.0, 1717.0, 2791.0, 1010.0, 0.0, 0.0, 0.0, 1695.0, 0.0, 0.0, 2054.0, 0.0, 2598.0, 0.0, 1779.0, 1260.0, 0.0, 0.0, 0.0, 0.0, 5000.0, 1983.0, 5701.0, 1300.0, 4417.0, 4333.0, 0.0, 0.0, 1843.0, 1868.0, 3890.0, 0.0, 2167.0, 7101.0, 0.0, 0.0, 0.0, 0.0, 2100.0, 0.0, 4250.0, 2209.0, 0.0, 0.0, 0.0, 3447.0, 1387.0, 1811.0, 0.0, 1560.0, 0.0, 0.0, 1857.0, 2223.0, 0.0, 1842.0, 3274.0, 1300.0, 0.0, 0.0, 2426.0, 800.0, 985.7999877999998, 1666.0, 0.0, 3053.0, 1717.0, 2000.0, 0.0, 0.0, 2416.0, 0.0, 1560.0, 0.0, 3334.0, 1250.0, 0.0, 0.0, 2541.0, 2925.0, 2934.0, 1750.0, 0.0, 1803.0, 2500.0, 0.0, 1666.0, 1863.0, 0.0, 0.0, 0.0, 2405.0, 0.0, 0.0, 1843.0, 1640.0, 0.0, 2134.0, 0.0, 0.0, 2167.0, 189.0, 1590.0, 2985.0, 0.0, 4983.0, 0.0, 2160.0, 2451.0, 0.0, 1793.0, 0.0, 0.0, 0.0, 1833.0, 4490.0, 688.0, 4600.0, 0.0, 0.0, 1587.0, 0.0, 1229.0, 0.0, 2330.0, 2458.0, 3230.0, 2168.0, 4583.0, 6250.0, 0.0, 4167.0, 2083.0, 0.0, 505.0, 0.0, 3167.0, 0.0, 1666.0, 3167.0, 0.0, 3667.0, 2333.0, 3033.0, 0.0, 0.0, 0.0, 0.0, 0.0, 5266.0, 0.0, 0.0, 7873.0, 1987.0, 1459.0, 923.0, 4996.0, 0.0, 0.0, 0.0, 2500.0, 4232.0, 0.0, 0.0, 0.0, 0.0, 1600.0, 3136.0, 2417.0, 0.0, 0.0, 0.0, 2115.0, 1625.0, 1400.0, 484.0, 0.0, 1459.0, 1666.0, 1800.0, 0.0, 0.0, 20000.0, 0.0, 0.0, 0.0, 2400.0, 0.0, 0.0, 0.0, 0.0, 0.0, 0.0, 2033.0, 3237.0, 0.0, 0.0, 20000.0, 2773.0, 1417.0, 0.0, 0.0, 1719.0, 1667.0, 0.0, 4300.0, 0.0, 0.0, 16.12000084, 0.0, 0.0, 0.0, 0.0, 2340.0, 0.0, 0.0, 1851.0, 1125.0, 0.0, 0.0, 5064.0, 1833.0, 1993.0, 0.0, 8333.0, 1210.0, 0.0, 1376.0, 1710.0, 1542.0, 1255.0, 1456.0, 1733.0, 2466.0, 0.0, 0.0, 0.0, 2569.0, 0.0, 0.0, 4083.0, 0.0, 2188.0, 0.0, 0.0, 0.0, 1664.0, 0.0, 2917.0, 2451.0, 2079.0, 1500.0, 0.0, 0.0, 4648.0, 1014.0, 1750.0, 1872.0, 2250.0, 1603.0, 0.0, 0.0, 3150.0, 0.0, 0.0, 2436.0, 0.0, 0.0, 2083.0, 0.0, 2785.0, 1131.0, 0.0, 0.0, 2157.0, 913.0, 1700.0, 2857.0, 0.0, 4416.0, 3683.0, 0.0, 5624.0, 5302.0, 1483.0, 4416.0, 6667.0, 0.0, 3013.0, 0.0, 1287.0, 2004.0, 2035.0, 6666.0, 3666.0, 3428.0, 1632.0, 1800.0, 1915.0, 0.0, 1742.0, 0.0, 1424.0, 7166.0, 2087.0, 0.0, 0.0, 1430.0, 1302.0, 0.0, 5500.0, 0.0, 0.0, 0.0, 0.0, 2042.0, 3906.0, 0.0, 536.0, 0.0, 2845.0, 0.0, 0.0, 2524.0, 663.0, 1950.0, 0.0, 1783.0, 0.0, 2016.0, 0.0, 2375.0, 3250.0, 2333.0, 4266.0, 1032.0, 1625.0, 0.0, 2669.0, 2306.0, 242.0, 0.0, 2054.0, 0.0, 0.0, 0.0, 0.0, 2500.0, 0.0, 2064.0, 1750.0, 1451.0, 0.0, 1625.0, 0.0, 461.0, 2210.0, 2739.0, 2232.0, 2917.0, 0.0, 33837.0, 0.0, 0.0, 1917.0, 3000.0, 1522.0, 0.0, 0.0, 0.0, 3416.0, 0.0, 0.0, 3300.0, 0.0, 0.0, 1000.0, 0.0, 0.0, 0.0, 41667.0, 2792.0, 0.0, 4301.0, 0.0, 3800.0, 2500.0, 1411.0, 1950.0, 0.0, 0.0, 240.0, 0.0, 0.0], \"xaxis\": \"x\", \"y\": [0.0, 1508.0, 0.0, 2358.0, 0.0, 4196.0, 1516.0, 2504.0, 1526.0, 10968.0, 700.0, 1840.0, 8106.0, 2840.0, 1086.0, 0.0, 0.0, 0.0, 0.0, 3500.0, 0.0, 5625.0, 1911.0, 1917.0, 2925.0, 0.0, 2253.0, 1040.0, 0.0, 2083.0, 3369.0, 0.0, 0.0, 1667.0, 3000.0, 2067.0, 1330.0, 1459.0, 7210.0, 1668.0, 0.0, 1213.0, 0.0, 2336.0, 0.0, 0.0, 0.0, 0.0, 3440.0, 2275.0, 1644.0, 0.0, 0.0, 0.0, 0.0, 1167.0, 1591.0, 2200.0, 2250.0, 2859.0, 3796.0, 0.0, 3449.0, 0.0, 0.0, 4595.0, 2254.0, 0.0, 0.0, 0.0, 3066.0, 1875.0, 0.0, 0.0, 1774.0, 0.0, 4750.0, 3022.0, 4000.0, 2166.0, 0.0, 0.0, 1881.0, 2250.0, 0.0, 2531.0, 2000.0, 2118.0, 0.0, 4167.0, 2900.0, 5654.0, 1820.0, 0.0, 0.0, 0.0, 2302.0, 997.0, 0.0, 3541.0, 3263.0, 3806.0, 0.0, 3583.0, 754.0, 1030.0, 1126.0, 0.0, 3600.0, 754.0, 0.0, 2333.0, 4114.0, 0.0, 0.0, 0.0, 2283.0, 1398.0, 2142.0, 0.0, 2667.0, 0.0, 8980.0, 0.0, 2014.0, 0.0, 0.0, 1640.0, 3850.0, 2569.0, 0.0, 1929.0, 0.0, 0.0, 0.0, 7750.0, 0.0, 3500.0, 0.0, 1430.0, 2083.0, 0.0, 0.0, 2034.0, 0.0, 4486.0, 0.0, 1425.0, 1666.0, 830.0, 0.0, 3750.0, 0.0, 0.0, 0.0, 0.0, 0.0, 0.0, 2083.0, 5625.0, 1041.0, 0.0, 1280.0, 1447.0, 0.0, 3166.0, 0.0, 3333.0, 0.0, 0.0, 1769.0, 0.0, 0.0, 5625.0, 736.0, 1964.0, 1619.0, 11300.0, 0.0, 1451.0, 7250.0, 5063.0, 0.0, 0.0, 0.0, 4750.0, 0.0, 2138.0, 5296.0, 0.0, 0.0, 0.0, 0.0, 0.0, 0.0, 2583.0, 3750.0, 2365.0, 2816.0, 0.0, 2500.0, 0.0, 0.0, 1083.0, 0.0, 0.0, 0.0, 2531.0, 0.0, 0.0, 0.0, 1250.0, 0.0, 0.0, 3021.0, 983.0, 1800.0, 1775.0, 0.0, 2383.0, 0.0, 1717.0, 2791.0, 1010.0, 0.0, 0.0, 0.0, 1695.0, 0.0, 0.0, 2054.0, 0.0, 2598.0, 0.0, 1779.0, 1260.0, 0.0, 0.0, 0.0, 0.0, 5000.0, 1983.0, 5701.0, 1300.0, 4417.0, 4333.0, 0.0, 0.0, 1843.0, 1868.0, 3890.0, 0.0, 2167.0, 7101.0, 0.0, 0.0, 0.0, 0.0, 2100.0, 0.0, 4250.0, 2209.0, 0.0, 0.0, 0.0, 3447.0, 1387.0, 1811.0, 0.0, 1560.0, 0.0, 0.0, 1857.0, 2223.0, 0.0, 1842.0, 3274.0, 1300.0, 0.0, 0.0, 2426.0, 800.0, 985.7999877999998, 1666.0, 0.0, 3053.0, 1717.0, 2000.0, 0.0, 0.0, 2416.0, 0.0, 1560.0, 0.0, 3334.0, 1250.0, 0.0, 0.0, 2541.0, 2925.0, 2934.0, 1750.0, 0.0, 1803.0, 2500.0, 0.0, 1666.0, 1863.0, 0.0, 0.0, 0.0, 2405.0, 0.0, 0.0, 1843.0, 1640.0, 0.0, 2134.0, 0.0, 0.0, 2167.0, 189.0, 1590.0, 2985.0, 0.0, 4983.0, 0.0, 2160.0, 2451.0, 0.0, 1793.0, 0.0, 0.0, 0.0, 1833.0, 4490.0, 688.0, 4600.0, 0.0, 0.0, 1587.0, 0.0, 1229.0, 0.0, 2330.0, 2458.0, 3230.0, 2168.0, 4583.0, 6250.0, 0.0, 4167.0, 2083.0, 0.0, 505.0, 0.0, 3167.0, 0.0, 1666.0, 3167.0, 0.0, 3667.0, 2333.0, 3033.0, 0.0, 0.0, 0.0, 0.0, 0.0, 5266.0, 0.0, 0.0, 7873.0, 1987.0, 1459.0, 923.0, 4996.0, 0.0, 0.0, 0.0, 2500.0, 4232.0, 0.0, 0.0, 0.0, 0.0, 1600.0, 3136.0, 2417.0, 0.0, 0.0, 0.0, 2115.0, 1625.0, 1400.0, 484.0, 0.0, 1459.0, 1666.0, 1800.0, 0.0, 0.0, 20000.0, 0.0, 0.0, 0.0, 2400.0, 0.0, 0.0, 0.0, 0.0, 0.0, 0.0, 2033.0, 3237.0, 0.0, 0.0, 20000.0, 2773.0, 1417.0, 0.0, 0.0, 1719.0, 1667.0, 0.0, 4300.0, 0.0, 0.0, 16.12000084, 0.0, 0.0, 0.0, 0.0, 2340.0, 0.0, 0.0, 1851.0, 1125.0, 0.0, 0.0, 5064.0, 1833.0, 1993.0, 0.0, 8333.0, 1210.0, 0.0, 1376.0, 1710.0, 1542.0, 1255.0, 1456.0, 1733.0, 2466.0, 0.0, 0.0, 0.0, 2569.0, 0.0, 0.0, 4083.0, 0.0, 2188.0, 0.0, 0.0, 0.0, 1664.0, 0.0, 2917.0, 2451.0, 2079.0, 1500.0, 0.0, 0.0, 4648.0, 1014.0, 1750.0, 1872.0, 2250.0, 1603.0, 0.0, 0.0, 3150.0, 0.0, 0.0, 2436.0, 0.0, 0.0, 2083.0, 0.0, 2785.0, 1131.0, 0.0, 0.0, 2157.0, 913.0, 1700.0, 2857.0, 0.0, 4416.0, 3683.0, 0.0, 5624.0, 5302.0, 1483.0, 4416.0, 6667.0, 0.0, 3013.0, 0.0, 1287.0, 2004.0, 2035.0, 6666.0, 3666.0, 3428.0, 1632.0, 1800.0, 1915.0, 0.0, 1742.0, 0.0, 1424.0, 7166.0, 2087.0, 0.0, 0.0, 1430.0, 1302.0, 0.0, 5500.0, 0.0, 0.0, 0.0, 0.0, 2042.0, 3906.0, 0.0, 536.0, 0.0, 2845.0, 0.0, 0.0, 2524.0, 663.0, 1950.0, 0.0, 1783.0, 0.0, 2016.0, 0.0, 2375.0, 3250.0, 2333.0, 4266.0, 1032.0, 1625.0, 0.0, 2669.0, 2306.0, 242.0, 0.0, 2054.0, 0.0, 0.0, 0.0, 0.0, 2500.0, 0.0, 2064.0, 1750.0, 1451.0, 0.0, 1625.0, 0.0, 461.0, 2210.0, 2739.0, 2232.0, 2917.0, 0.0, 33837.0, 0.0, 0.0, 1917.0, 3000.0, 1522.0, 0.0, 0.0, 0.0, 3416.0, 0.0, 0.0, 3300.0, 0.0, 0.0, 1000.0, 0.0, 0.0, 0.0, 41667.0, 2792.0, 0.0, 4301.0, 0.0, 3800.0, 2500.0, 1411.0, 1950.0, 0.0, 0.0, 240.0, 0.0, 0.0], \"yaxis\": \"y\"}],                        {\"barmode\": \"relative\", \"legend\": {\"tracegroupgap\": 0}, \"margin\": {\"t\": 60}, \"template\": {\"data\": {\"bar\": [{\"error_x\": {\"color\": \"#2a3f5f\"}, \"error_y\": {\"color\": \"#2a3f5f\"}, \"marker\": {\"line\": {\"color\": \"#E5ECF6\", \"width\": 0.5}}, \"type\": \"bar\"}], \"barpolar\": [{\"marker\": {\"line\": {\"color\": \"#E5ECF6\", \"width\": 0.5}}, \"type\": \"barpolar\"}], \"carpet\": [{\"aaxis\": {\"endlinecolor\": \"#2a3f5f\", \"gridcolor\": \"white\", \"linecolor\": \"white\", \"minorgridcolor\": \"white\", \"startlinecolor\": \"#2a3f5f\"}, \"baxis\": {\"endlinecolor\": \"#2a3f5f\", \"gridcolor\": \"white\", \"linecolor\": \"white\", \"minorgridcolor\": \"white\", \"startlinecolor\": \"#2a3f5f\"}, \"type\": \"carpet\"}], \"choropleth\": [{\"colorbar\": {\"outlinewidth\": 0, \"ticks\": \"\"}, \"type\": \"choropleth\"}], \"contour\": [{\"colorbar\": {\"outlinewidth\": 0, \"ticks\": \"\"}, \"colorscale\": [[0.0, \"#0d0887\"], [0.1111111111111111, \"#46039f\"], [0.2222222222222222, \"#7201a8\"], [0.3333333333333333, \"#9c179e\"], [0.4444444444444444, \"#bd3786\"], [0.5555555555555556, \"#d8576b\"], [0.6666666666666666, \"#ed7953\"], [0.7777777777777778, \"#fb9f3a\"], [0.8888888888888888, \"#fdca26\"], [1.0, \"#f0f921\"]], \"type\": \"contour\"}], \"contourcarpet\": [{\"colorbar\": {\"outlinewidth\": 0, \"ticks\": \"\"}, \"type\": \"contourcarpet\"}], \"heatmap\": [{\"colorbar\": {\"outlinewidth\": 0, \"ticks\": \"\"}, \"colorscale\": [[0.0, \"#0d0887\"], [0.1111111111111111, \"#46039f\"], [0.2222222222222222, \"#7201a8\"], [0.3333333333333333, \"#9c179e\"], [0.4444444444444444, \"#bd3786\"], [0.5555555555555556, \"#d8576b\"], [0.6666666666666666, \"#ed7953\"], [0.7777777777777778, \"#fb9f3a\"], [0.8888888888888888, \"#fdca26\"], [1.0, \"#f0f921\"]], \"type\": \"heatmap\"}], \"heatmapgl\": [{\"colorbar\": {\"outlinewidth\": 0, \"ticks\": \"\"}, \"colorscale\": [[0.0, \"#0d0887\"], [0.1111111111111111, \"#46039f\"], [0.2222222222222222, \"#7201a8\"], [0.3333333333333333, \"#9c179e\"], [0.4444444444444444, \"#bd3786\"], [0.5555555555555556, \"#d8576b\"], [0.6666666666666666, \"#ed7953\"], [0.7777777777777778, \"#fb9f3a\"], [0.8888888888888888, \"#fdca26\"], [1.0, \"#f0f921\"]], \"type\": \"heatmapgl\"}], \"histogram\": [{\"marker\": {\"colorbar\": {\"outlinewidth\": 0, \"ticks\": \"\"}}, \"type\": \"histogram\"}], \"histogram2d\": [{\"colorbar\": {\"outlinewidth\": 0, \"ticks\": \"\"}, \"colorscale\": [[0.0, \"#0d0887\"], [0.1111111111111111, \"#46039f\"], [0.2222222222222222, \"#7201a8\"], [0.3333333333333333, \"#9c179e\"], [0.4444444444444444, \"#bd3786\"], [0.5555555555555556, \"#d8576b\"], [0.6666666666666666, \"#ed7953\"], [0.7777777777777778, \"#fb9f3a\"], [0.8888888888888888, \"#fdca26\"], [1.0, \"#f0f921\"]], \"type\": \"histogram2d\"}], \"histogram2dcontour\": [{\"colorbar\": {\"outlinewidth\": 0, \"ticks\": \"\"}, \"colorscale\": [[0.0, \"#0d0887\"], [0.1111111111111111, \"#46039f\"], [0.2222222222222222, \"#7201a8\"], [0.3333333333333333, \"#9c179e\"], [0.4444444444444444, \"#bd3786\"], [0.5555555555555556, \"#d8576b\"], [0.6666666666666666, \"#ed7953\"], [0.7777777777777778, \"#fb9f3a\"], [0.8888888888888888, \"#fdca26\"], [1.0, \"#f0f921\"]], \"type\": \"histogram2dcontour\"}], \"mesh3d\": [{\"colorbar\": {\"outlinewidth\": 0, \"ticks\": \"\"}, \"type\": \"mesh3d\"}], \"parcoords\": [{\"line\": {\"colorbar\": {\"outlinewidth\": 0, \"ticks\": \"\"}}, \"type\": \"parcoords\"}], \"pie\": [{\"automargin\": true, \"type\": \"pie\"}], \"scatter\": [{\"marker\": {\"colorbar\": {\"outlinewidth\": 0, \"ticks\": \"\"}}, \"type\": \"scatter\"}], \"scatter3d\": [{\"line\": {\"colorbar\": {\"outlinewidth\": 0, \"ticks\": \"\"}}, \"marker\": {\"colorbar\": {\"outlinewidth\": 0, \"ticks\": \"\"}}, \"type\": \"scatter3d\"}], \"scattercarpet\": [{\"marker\": {\"colorbar\": {\"outlinewidth\": 0, \"ticks\": \"\"}}, \"type\": \"scattercarpet\"}], \"scattergeo\": [{\"marker\": {\"colorbar\": {\"outlinewidth\": 0, \"ticks\": \"\"}}, \"type\": \"scattergeo\"}], \"scattergl\": [{\"marker\": {\"colorbar\": {\"outlinewidth\": 0, \"ticks\": \"\"}}, \"type\": \"scattergl\"}], \"scattermapbox\": [{\"marker\": {\"colorbar\": {\"outlinewidth\": 0, \"ticks\": \"\"}}, \"type\": \"scattermapbox\"}], \"scatterpolar\": [{\"marker\": {\"colorbar\": {\"outlinewidth\": 0, \"ticks\": \"\"}}, \"type\": \"scatterpolar\"}], \"scatterpolargl\": [{\"marker\": {\"colorbar\": {\"outlinewidth\": 0, \"ticks\": \"\"}}, \"type\": \"scatterpolargl\"}], \"scatterternary\": [{\"marker\": {\"colorbar\": {\"outlinewidth\": 0, \"ticks\": \"\"}}, \"type\": \"scatterternary\"}], \"surface\": [{\"colorbar\": {\"outlinewidth\": 0, \"ticks\": \"\"}, \"colorscale\": [[0.0, \"#0d0887\"], [0.1111111111111111, \"#46039f\"], [0.2222222222222222, \"#7201a8\"], [0.3333333333333333, \"#9c179e\"], [0.4444444444444444, \"#bd3786\"], [0.5555555555555556, \"#d8576b\"], [0.6666666666666666, \"#ed7953\"], [0.7777777777777778, \"#fb9f3a\"], [0.8888888888888888, \"#fdca26\"], [1.0, \"#f0f921\"]], \"type\": \"surface\"}], \"table\": [{\"cells\": {\"fill\": {\"color\": \"#EBF0F8\"}, \"line\": {\"color\": \"white\"}}, \"header\": {\"fill\": {\"color\": \"#C8D4E3\"}, \"line\": {\"color\": \"white\"}}, \"type\": \"table\"}]}, \"layout\": {\"annotationdefaults\": {\"arrowcolor\": \"#2a3f5f\", \"arrowhead\": 0, \"arrowwidth\": 1}, \"coloraxis\": {\"colorbar\": {\"outlinewidth\": 0, \"ticks\": \"\"}}, \"colorscale\": {\"diverging\": [[0, \"#8e0152\"], [0.1, \"#c51b7d\"], [0.2, \"#de77ae\"], [0.3, \"#f1b6da\"], [0.4, \"#fde0ef\"], [0.5, \"#f7f7f7\"], [0.6, \"#e6f5d0\"], [0.7, \"#b8e186\"], [0.8, \"#7fbc41\"], [0.9, \"#4d9221\"], [1, \"#276419\"]], \"sequential\": [[0.0, \"#0d0887\"], [0.1111111111111111, \"#46039f\"], [0.2222222222222222, \"#7201a8\"], [0.3333333333333333, \"#9c179e\"], [0.4444444444444444, \"#bd3786\"], [0.5555555555555556, \"#d8576b\"], [0.6666666666666666, \"#ed7953\"], [0.7777777777777778, \"#fb9f3a\"], [0.8888888888888888, \"#fdca26\"], [1.0, \"#f0f921\"]], \"sequentialminus\": [[0.0, \"#0d0887\"], [0.1111111111111111, \"#46039f\"], [0.2222222222222222, \"#7201a8\"], [0.3333333333333333, \"#9c179e\"], [0.4444444444444444, \"#bd3786\"], [0.5555555555555556, \"#d8576b\"], [0.6666666666666666, \"#ed7953\"], [0.7777777777777778, \"#fb9f3a\"], [0.8888888888888888, \"#fdca26\"], [1.0, \"#f0f921\"]]}, \"colorway\": [\"#636efa\", \"#EF553B\", \"#00cc96\", \"#ab63fa\", \"#FFA15A\", \"#19d3f3\", \"#FF6692\", \"#B6E880\", \"#FF97FF\", \"#FECB52\"], \"font\": {\"color\": \"#2a3f5f\"}, \"geo\": {\"bgcolor\": \"white\", \"lakecolor\": \"white\", \"landcolor\": \"#E5ECF6\", \"showlakes\": true, \"showland\": true, \"subunitcolor\": \"white\"}, \"hoverlabel\": {\"align\": \"left\"}, \"hovermode\": \"closest\", \"mapbox\": {\"style\": \"light\"}, \"paper_bgcolor\": \"white\", \"plot_bgcolor\": \"#E5ECF6\", \"polar\": {\"angularaxis\": {\"gridcolor\": \"white\", \"linecolor\": \"white\", \"ticks\": \"\"}, \"bgcolor\": \"#E5ECF6\", \"radialaxis\": {\"gridcolor\": \"white\", \"linecolor\": \"white\", \"ticks\": \"\"}}, \"scene\": {\"xaxis\": {\"backgroundcolor\": \"#E5ECF6\", \"gridcolor\": \"white\", \"gridwidth\": 2, \"linecolor\": \"white\", \"showbackground\": true, \"ticks\": \"\", \"zerolinecolor\": \"white\"}, \"yaxis\": {\"backgroundcolor\": \"#E5ECF6\", \"gridcolor\": \"white\", \"gridwidth\": 2, \"linecolor\": \"white\", \"showbackground\": true, \"ticks\": \"\", \"zerolinecolor\": \"white\"}, \"zaxis\": {\"backgroundcolor\": \"#E5ECF6\", \"gridcolor\": \"white\", \"gridwidth\": 2, \"linecolor\": \"white\", \"showbackground\": true, \"ticks\": \"\", \"zerolinecolor\": \"white\"}}, \"shapedefaults\": {\"line\": {\"color\": \"#2a3f5f\"}}, \"ternary\": {\"aaxis\": {\"gridcolor\": \"white\", \"linecolor\": \"white\", \"ticks\": \"\"}, \"baxis\": {\"gridcolor\": \"white\", \"linecolor\": \"white\", \"ticks\": \"\"}, \"bgcolor\": \"#E5ECF6\", \"caxis\": {\"gridcolor\": \"white\", \"linecolor\": \"white\", \"ticks\": \"\"}}, \"title\": {\"x\": 0.05}, \"xaxis\": {\"automargin\": true, \"gridcolor\": \"white\", \"linecolor\": \"white\", \"ticks\": \"\", \"title\": {\"standoff\": 15}, \"zerolinecolor\": \"white\", \"zerolinewidth\": 2}, \"yaxis\": {\"automargin\": true, \"gridcolor\": \"white\", \"linecolor\": \"white\", \"ticks\": \"\", \"title\": {\"standoff\": 15}, \"zerolinecolor\": \"white\", \"zerolinewidth\": 2}}}, \"title\": {\"text\": \"CoapplicantIncome\"}, \"xaxis\": {\"anchor\": \"y\", \"domain\": [0.0, 1.0], \"title\": {\"text\": \"CoapplicantIncome\"}}, \"yaxis\": {\"anchor\": \"x\", \"domain\": [0.0, 1.0], \"title\": {\"text\": \"sum of CoapplicantIncome\"}}},                        {\"responsive\": true}                    ).then(function(){\n",
       "                            \n",
       "var gd = document.getElementById('8c214c5b-f83b-4452-aa04-d1e9ec478b68');\n",
       "var x = new MutationObserver(function (mutations, observer) {{\n",
       "        var display = window.getComputedStyle(gd).display;\n",
       "        if (!display || display === 'none') {{\n",
       "            console.log([gd, 'removed!']);\n",
       "            Plotly.purge(gd);\n",
       "            observer.disconnect();\n",
       "        }}\n",
       "}});\n",
       "\n",
       "// Listen for the removal of the full notebook cells\n",
       "var notebookContainer = gd.closest('#notebook-container');\n",
       "if (notebookContainer) {{\n",
       "    x.observe(notebookContainer, {childList: true});\n",
       "}}\n",
       "\n",
       "// Listen for the clearing of the current output cell\n",
       "var outputEl = gd.closest('.output');\n",
       "if (outputEl) {{\n",
       "    x.observe(outputEl, {childList: true});\n",
       "}}\n",
       "\n",
       "                        })                };                });            </script>        </div>"
      ]
     },
     "metadata": {},
     "output_type": "display_data"
    },
    {
     "data": {
      "text/html": [
       "<div>                            <div id=\"b7330850-3662-40db-b750-d46629844a7b\" class=\"plotly-graph-div\" style=\"height:525px; width:100%;\"></div>            <script type=\"text/javascript\">                require([\"plotly\"], function(Plotly) {                    window.PLOTLYENV=window.PLOTLYENV || {};                                    if (document.getElementById(\"b7330850-3662-40db-b750-d46629844a7b\")) {                    Plotly.newPlot(                        \"b7330850-3662-40db-b750-d46629844a7b\",                        [{\"alignmentgroup\": \"True\", \"bingroup\": \"x\", \"histfunc\": \"sum\", \"hovertemplate\": \"LoanAmount=%{x}<br>sum of LoanAmount=%{y}<extra></extra>\", \"legendgroup\": \"\", \"marker\": {\"color\": \"#636efa\"}, \"name\": \"\", \"offsetgroup\": \"\", \"orientation\": \"v\", \"showlegend\": false, \"type\": \"histogram\", \"x\": [null, 128.0, 66.0, 120.0, 141.0, 267.0, 95.0, 158.0, 168.0, 349.0, 70.0, 109.0, 200.0, 114.0, 17.0, 125.0, 100.0, 76.0, 133.0, 115.0, 104.0, 315.0, 116.0, 112.0, 151.0, 191.0, 122.0, 110.0, 35.0, 120.0, 201.0, 74.0, 106.0, 114.0, 320.0, null, 100.0, 144.0, 184.0, 110.0, 80.0, 47.0, 75.0, 134.0, 96.0, 88.0, 44.0, 144.0, 120.0, 144.0, 100.0, 120.0, 112.0, 134.0, 286.0, 97.0, 96.0, 135.0, 180.0, 144.0, 120.0, 99.0, 165.0, null, 116.0, 258.0, 126.0, 312.0, 125.0, 136.0, 172.0, 97.0, 81.0, 95.0, 187.0, 113.0, 176.0, 110.0, 180.0, 130.0, 111.0, null, 167.0, 265.0, 50.0, 136.0, 99.0, 104.0, 210.0, 175.0, 131.0, 188.0, 81.0, 122.0, 25.0, null, 137.0, 50.0, 115.0, 131.0, 133.0, 151.0, null, null, 160.0, 100.0, 225.0, 120.0, 216.0, 94.0, 136.0, 139.0, 152.0, null, 118.0, 185.0, 154.0, 85.0, 175.0, 259.0, 180.0, 44.0, 137.0, 81.0, 194.0, 93.0, 370.0, null, 160.0, 182.0, 650.0, 74.0, 70.0, 25.0, 102.0, 290.0, 84.0, 88.0, 242.0, 129.0, 185.0, 168.0, 175.0, 122.0, 187.0, 100.0, 70.0, 30.0, 225.0, 125.0, 118.0, 152.0, 244.0, 113.0, 50.0, 600.0, 160.0, 187.0, 120.0, 255.0, 98.0, 275.0, 121.0, 158.0, 75.0, 182.0, 112.0, 129.0, 63.0, 200.0, 95.0, 700.0, 81.0, 187.0, 87.0, 116.0, 101.0, 495.0, 116.0, 102.0, 180.0, 67.0, 73.0, 260.0, 108.0, 120.0, 66.0, 58.0, 168.0, 188.0, 48.0, 164.0, 160.0, 76.0, 120.0, 170.0, 187.0, 120.0, 113.0, 83.0, 90.0, 166.0, null, 135.0, 124.0, 120.0, 80.0, 55.0, 59.0, 127.0, 214.0, 128.0, 240.0, 130.0, 137.0, 100.0, 135.0, 131.0, 72.0, 127.0, 60.0, 116.0, 144.0, 175.0, 128.0, 170.0, 138.0, 210.0, 158.0, 200.0, 104.0, 42.0, 120.0, 280.0, 140.0, 170.0, 255.0, 122.0, 112.0, 96.0, 120.0, 140.0, 155.0, 108.0, 123.0, 120.0, 112.0, 137.0, 123.0, 90.0, 201.0, 138.0, 104.0, 279.0, 192.0, 255.0, 115.0, 94.0, 304.0, 128.0, 330.0, 134.0, 155.0, 120.0, 128.0, 151.0, 150.0, 160.0, 135.0, 90.0, 30.0, 136.0, 126.0, 150.0, 90.0, 115.0, 207.0, 80.0, 436.0, 124.0, 158.0, 112.0, 78.0, 54.0, null, 89.0, 99.0, 120.0, 115.0, 187.0, 139.0, 127.0, 134.0, 143.0, 172.0, 110.0, 200.0, 135.0, 151.0, 113.0, 93.0, 105.0, 132.0, 96.0, 140.0, null, 135.0, 104.0, 480.0, 185.0, 84.0, 111.0, 56.0, 144.0, 159.0, 111.0, 120.0, 88.0, 112.0, 155.0, 115.0, 124.0, null, 132.0, 300.0, 376.0, 130.0, 184.0, 110.0, 67.0, 117.0, 98.0, 71.0, 490.0, 182.0, 70.0, 160.0, 176.0, null, 71.0, 173.0, 46.0, 158.0, 74.0, 125.0, 160.0, 152.0, 126.0, 259.0, 187.0, 228.0, 308.0, 95.0, 105.0, 130.0, 116.0, 165.0, 67.0, 100.0, 200.0, 81.0, 236.0, 130.0, 95.0, 141.0, 133.0, 96.0, 124.0, 175.0, 570.0, 55.0, 155.0, 380.0, 111.0, 110.0, 120.0, 130.0, 130.0, 71.0, 130.0, 128.0, 296.0, 156.0, 128.0, 100.0, 113.0, 132.0, null, 136.0, 125.0, 185.0, 275.0, 120.0, 113.0, 113.0, 135.0, 71.0, 95.0, 109.0, 103.0, 45.0, 65.0, 103.0, 53.0, 194.0, 115.0, 115.0, 66.0, 152.0, 360.0, 62.0, 160.0, 218.0, 110.0, 178.0, 60.0, 160.0, 239.0, 112.0, 138.0, 138.0, 80.0, 100.0, 110.0, 96.0, 121.0, 81.0, 133.0, 87.0, 60.0, 150.0, 105.0, 405.0, 143.0, 100.0, null, 50.0, null, 187.0, 138.0, 187.0, 180.0, 148.0, 152.0, 175.0, 130.0, 110.0, 55.0, 150.0, 190.0, 125.0, 60.0, 149.0, 90.0, 84.0, 96.0, 118.0, 173.0, 136.0, 160.0, 160.0, 128.0, 153.0, 132.0, 98.0, 140.0, 70.0, 110.0, 98.0, 110.0, 162.0, 113.0, 100.0, 93.0, 162.0, 150.0, 230.0, 132.0, 86.0, null, 154.0, 113.0, 128.0, 234.0, 246.0, 131.0, 80.0, 500.0, 160.0, 75.0, 96.0, 186.0, 110.0, 225.0, 119.0, 105.0, 107.0, 111.0, 95.0, 209.0, 113.0, 100.0, 208.0, 138.0, 124.0, 243.0, 480.0, 96.0, 188.0, 40.0, 100.0, 250.0, 148.0, 70.0, 311.0, 150.0, 113.0, 123.0, 185.0, 95.0, 45.0, 55.0, 100.0, 480.0, null, 400.0, 110.0, 161.0, 94.0, 130.0, 216.0, 100.0, 110.0, 196.0, 125.0, 126.0, 324.0, 107.0, 66.0, 157.0, 140.0, 99.0, 95.0, 128.0, 102.0, 155.0, 80.0, 145.0, 103.0, 110.0, null, null, 158.0, 181.0, 132.0, 26.0, 84.0, 260.0, 162.0, 182.0, 108.0, 600.0, 211.0, 132.0, 258.0, 120.0, 70.0, 123.0, 9.0, 104.0, 186.0, 165.0, 275.0, 187.0, 150.0, 108.0, 136.0, 110.0, 107.0, 161.0, 205.0, 90.0, 36.0, 61.0, 146.0, 172.0, 104.0, 70.0, 94.0, 106.0, 56.0, 205.0, 292.0, 142.0, 260.0, 110.0, 187.0, 88.0, 180.0, 192.0, 350.0, 155.0, 128.0, 172.0, 496.0, null, 173.0, 157.0, 108.0, 71.0, 40.0, 253.0, 187.0, 133.0], \"xaxis\": \"x\", \"y\": [null, 128.0, 66.0, 120.0, 141.0, 267.0, 95.0, 158.0, 168.0, 349.0, 70.0, 109.0, 200.0, 114.0, 17.0, 125.0, 100.0, 76.0, 133.0, 115.0, 104.0, 315.0, 116.0, 112.0, 151.0, 191.0, 122.0, 110.0, 35.0, 120.0, 201.0, 74.0, 106.0, 114.0, 320.0, null, 100.0, 144.0, 184.0, 110.0, 80.0, 47.0, 75.0, 134.0, 96.0, 88.0, 44.0, 144.0, 120.0, 144.0, 100.0, 120.0, 112.0, 134.0, 286.0, 97.0, 96.0, 135.0, 180.0, 144.0, 120.0, 99.0, 165.0, null, 116.0, 258.0, 126.0, 312.0, 125.0, 136.0, 172.0, 97.0, 81.0, 95.0, 187.0, 113.0, 176.0, 110.0, 180.0, 130.0, 111.0, null, 167.0, 265.0, 50.0, 136.0, 99.0, 104.0, 210.0, 175.0, 131.0, 188.0, 81.0, 122.0, 25.0, null, 137.0, 50.0, 115.0, 131.0, 133.0, 151.0, null, null, 160.0, 100.0, 225.0, 120.0, 216.0, 94.0, 136.0, 139.0, 152.0, null, 118.0, 185.0, 154.0, 85.0, 175.0, 259.0, 180.0, 44.0, 137.0, 81.0, 194.0, 93.0, 370.0, null, 160.0, 182.0, 650.0, 74.0, 70.0, 25.0, 102.0, 290.0, 84.0, 88.0, 242.0, 129.0, 185.0, 168.0, 175.0, 122.0, 187.0, 100.0, 70.0, 30.0, 225.0, 125.0, 118.0, 152.0, 244.0, 113.0, 50.0, 600.0, 160.0, 187.0, 120.0, 255.0, 98.0, 275.0, 121.0, 158.0, 75.0, 182.0, 112.0, 129.0, 63.0, 200.0, 95.0, 700.0, 81.0, 187.0, 87.0, 116.0, 101.0, 495.0, 116.0, 102.0, 180.0, 67.0, 73.0, 260.0, 108.0, 120.0, 66.0, 58.0, 168.0, 188.0, 48.0, 164.0, 160.0, 76.0, 120.0, 170.0, 187.0, 120.0, 113.0, 83.0, 90.0, 166.0, null, 135.0, 124.0, 120.0, 80.0, 55.0, 59.0, 127.0, 214.0, 128.0, 240.0, 130.0, 137.0, 100.0, 135.0, 131.0, 72.0, 127.0, 60.0, 116.0, 144.0, 175.0, 128.0, 170.0, 138.0, 210.0, 158.0, 200.0, 104.0, 42.0, 120.0, 280.0, 140.0, 170.0, 255.0, 122.0, 112.0, 96.0, 120.0, 140.0, 155.0, 108.0, 123.0, 120.0, 112.0, 137.0, 123.0, 90.0, 201.0, 138.0, 104.0, 279.0, 192.0, 255.0, 115.0, 94.0, 304.0, 128.0, 330.0, 134.0, 155.0, 120.0, 128.0, 151.0, 150.0, 160.0, 135.0, 90.0, 30.0, 136.0, 126.0, 150.0, 90.0, 115.0, 207.0, 80.0, 436.0, 124.0, 158.0, 112.0, 78.0, 54.0, null, 89.0, 99.0, 120.0, 115.0, 187.0, 139.0, 127.0, 134.0, 143.0, 172.0, 110.0, 200.0, 135.0, 151.0, 113.0, 93.0, 105.0, 132.0, 96.0, 140.0, null, 135.0, 104.0, 480.0, 185.0, 84.0, 111.0, 56.0, 144.0, 159.0, 111.0, 120.0, 88.0, 112.0, 155.0, 115.0, 124.0, null, 132.0, 300.0, 376.0, 130.0, 184.0, 110.0, 67.0, 117.0, 98.0, 71.0, 490.0, 182.0, 70.0, 160.0, 176.0, null, 71.0, 173.0, 46.0, 158.0, 74.0, 125.0, 160.0, 152.0, 126.0, 259.0, 187.0, 228.0, 308.0, 95.0, 105.0, 130.0, 116.0, 165.0, 67.0, 100.0, 200.0, 81.0, 236.0, 130.0, 95.0, 141.0, 133.0, 96.0, 124.0, 175.0, 570.0, 55.0, 155.0, 380.0, 111.0, 110.0, 120.0, 130.0, 130.0, 71.0, 130.0, 128.0, 296.0, 156.0, 128.0, 100.0, 113.0, 132.0, null, 136.0, 125.0, 185.0, 275.0, 120.0, 113.0, 113.0, 135.0, 71.0, 95.0, 109.0, 103.0, 45.0, 65.0, 103.0, 53.0, 194.0, 115.0, 115.0, 66.0, 152.0, 360.0, 62.0, 160.0, 218.0, 110.0, 178.0, 60.0, 160.0, 239.0, 112.0, 138.0, 138.0, 80.0, 100.0, 110.0, 96.0, 121.0, 81.0, 133.0, 87.0, 60.0, 150.0, 105.0, 405.0, 143.0, 100.0, null, 50.0, null, 187.0, 138.0, 187.0, 180.0, 148.0, 152.0, 175.0, 130.0, 110.0, 55.0, 150.0, 190.0, 125.0, 60.0, 149.0, 90.0, 84.0, 96.0, 118.0, 173.0, 136.0, 160.0, 160.0, 128.0, 153.0, 132.0, 98.0, 140.0, 70.0, 110.0, 98.0, 110.0, 162.0, 113.0, 100.0, 93.0, 162.0, 150.0, 230.0, 132.0, 86.0, null, 154.0, 113.0, 128.0, 234.0, 246.0, 131.0, 80.0, 500.0, 160.0, 75.0, 96.0, 186.0, 110.0, 225.0, 119.0, 105.0, 107.0, 111.0, 95.0, 209.0, 113.0, 100.0, 208.0, 138.0, 124.0, 243.0, 480.0, 96.0, 188.0, 40.0, 100.0, 250.0, 148.0, 70.0, 311.0, 150.0, 113.0, 123.0, 185.0, 95.0, 45.0, 55.0, 100.0, 480.0, null, 400.0, 110.0, 161.0, 94.0, 130.0, 216.0, 100.0, 110.0, 196.0, 125.0, 126.0, 324.0, 107.0, 66.0, 157.0, 140.0, 99.0, 95.0, 128.0, 102.0, 155.0, 80.0, 145.0, 103.0, 110.0, null, null, 158.0, 181.0, 132.0, 26.0, 84.0, 260.0, 162.0, 182.0, 108.0, 600.0, 211.0, 132.0, 258.0, 120.0, 70.0, 123.0, 9.0, 104.0, 186.0, 165.0, 275.0, 187.0, 150.0, 108.0, 136.0, 110.0, 107.0, 161.0, 205.0, 90.0, 36.0, 61.0, 146.0, 172.0, 104.0, 70.0, 94.0, 106.0, 56.0, 205.0, 292.0, 142.0, 260.0, 110.0, 187.0, 88.0, 180.0, 192.0, 350.0, 155.0, 128.0, 172.0, 496.0, null, 173.0, 157.0, 108.0, 71.0, 40.0, 253.0, 187.0, 133.0], \"yaxis\": \"y\"}],                        {\"barmode\": \"relative\", \"legend\": {\"tracegroupgap\": 0}, \"margin\": {\"t\": 60}, \"template\": {\"data\": {\"bar\": [{\"error_x\": {\"color\": \"#2a3f5f\"}, \"error_y\": {\"color\": \"#2a3f5f\"}, \"marker\": {\"line\": {\"color\": \"#E5ECF6\", \"width\": 0.5}}, \"type\": \"bar\"}], \"barpolar\": [{\"marker\": {\"line\": {\"color\": \"#E5ECF6\", \"width\": 0.5}}, \"type\": \"barpolar\"}], \"carpet\": [{\"aaxis\": {\"endlinecolor\": \"#2a3f5f\", \"gridcolor\": \"white\", \"linecolor\": \"white\", \"minorgridcolor\": \"white\", \"startlinecolor\": \"#2a3f5f\"}, \"baxis\": {\"endlinecolor\": \"#2a3f5f\", \"gridcolor\": \"white\", \"linecolor\": \"white\", \"minorgridcolor\": \"white\", \"startlinecolor\": \"#2a3f5f\"}, \"type\": \"carpet\"}], \"choropleth\": [{\"colorbar\": {\"outlinewidth\": 0, \"ticks\": \"\"}, \"type\": \"choropleth\"}], \"contour\": [{\"colorbar\": {\"outlinewidth\": 0, \"ticks\": \"\"}, \"colorscale\": [[0.0, \"#0d0887\"], [0.1111111111111111, \"#46039f\"], [0.2222222222222222, \"#7201a8\"], [0.3333333333333333, \"#9c179e\"], [0.4444444444444444, \"#bd3786\"], [0.5555555555555556, \"#d8576b\"], [0.6666666666666666, \"#ed7953\"], [0.7777777777777778, \"#fb9f3a\"], [0.8888888888888888, \"#fdca26\"], [1.0, \"#f0f921\"]], \"type\": \"contour\"}], \"contourcarpet\": [{\"colorbar\": {\"outlinewidth\": 0, \"ticks\": \"\"}, \"type\": \"contourcarpet\"}], \"heatmap\": [{\"colorbar\": {\"outlinewidth\": 0, \"ticks\": \"\"}, \"colorscale\": [[0.0, \"#0d0887\"], [0.1111111111111111, \"#46039f\"], [0.2222222222222222, \"#7201a8\"], [0.3333333333333333, \"#9c179e\"], [0.4444444444444444, \"#bd3786\"], [0.5555555555555556, \"#d8576b\"], [0.6666666666666666, \"#ed7953\"], [0.7777777777777778, \"#fb9f3a\"], [0.8888888888888888, \"#fdca26\"], [1.0, \"#f0f921\"]], \"type\": \"heatmap\"}], \"heatmapgl\": [{\"colorbar\": {\"outlinewidth\": 0, \"ticks\": \"\"}, \"colorscale\": [[0.0, \"#0d0887\"], [0.1111111111111111, \"#46039f\"], [0.2222222222222222, \"#7201a8\"], [0.3333333333333333, \"#9c179e\"], [0.4444444444444444, \"#bd3786\"], [0.5555555555555556, \"#d8576b\"], [0.6666666666666666, \"#ed7953\"], [0.7777777777777778, \"#fb9f3a\"], [0.8888888888888888, \"#fdca26\"], [1.0, \"#f0f921\"]], \"type\": \"heatmapgl\"}], \"histogram\": [{\"marker\": {\"colorbar\": {\"outlinewidth\": 0, \"ticks\": \"\"}}, \"type\": \"histogram\"}], \"histogram2d\": [{\"colorbar\": {\"outlinewidth\": 0, \"ticks\": \"\"}, \"colorscale\": [[0.0, \"#0d0887\"], [0.1111111111111111, \"#46039f\"], [0.2222222222222222, \"#7201a8\"], [0.3333333333333333, \"#9c179e\"], [0.4444444444444444, \"#bd3786\"], [0.5555555555555556, \"#d8576b\"], [0.6666666666666666, \"#ed7953\"], [0.7777777777777778, \"#fb9f3a\"], [0.8888888888888888, \"#fdca26\"], [1.0, \"#f0f921\"]], \"type\": \"histogram2d\"}], \"histogram2dcontour\": [{\"colorbar\": {\"outlinewidth\": 0, \"ticks\": \"\"}, \"colorscale\": [[0.0, \"#0d0887\"], [0.1111111111111111, \"#46039f\"], [0.2222222222222222, \"#7201a8\"], [0.3333333333333333, \"#9c179e\"], [0.4444444444444444, \"#bd3786\"], [0.5555555555555556, \"#d8576b\"], [0.6666666666666666, \"#ed7953\"], [0.7777777777777778, \"#fb9f3a\"], [0.8888888888888888, \"#fdca26\"], [1.0, \"#f0f921\"]], \"type\": \"histogram2dcontour\"}], \"mesh3d\": [{\"colorbar\": {\"outlinewidth\": 0, \"ticks\": \"\"}, \"type\": \"mesh3d\"}], \"parcoords\": [{\"line\": {\"colorbar\": {\"outlinewidth\": 0, \"ticks\": \"\"}}, \"type\": \"parcoords\"}], \"pie\": [{\"automargin\": true, \"type\": \"pie\"}], \"scatter\": [{\"marker\": {\"colorbar\": {\"outlinewidth\": 0, \"ticks\": \"\"}}, \"type\": \"scatter\"}], \"scatter3d\": [{\"line\": {\"colorbar\": {\"outlinewidth\": 0, \"ticks\": \"\"}}, \"marker\": {\"colorbar\": {\"outlinewidth\": 0, \"ticks\": \"\"}}, \"type\": \"scatter3d\"}], \"scattercarpet\": [{\"marker\": {\"colorbar\": {\"outlinewidth\": 0, \"ticks\": \"\"}}, \"type\": \"scattercarpet\"}], \"scattergeo\": [{\"marker\": {\"colorbar\": {\"outlinewidth\": 0, \"ticks\": \"\"}}, \"type\": \"scattergeo\"}], \"scattergl\": [{\"marker\": {\"colorbar\": {\"outlinewidth\": 0, \"ticks\": \"\"}}, \"type\": \"scattergl\"}], \"scattermapbox\": [{\"marker\": {\"colorbar\": {\"outlinewidth\": 0, \"ticks\": \"\"}}, \"type\": \"scattermapbox\"}], \"scatterpolar\": [{\"marker\": {\"colorbar\": {\"outlinewidth\": 0, \"ticks\": \"\"}}, \"type\": \"scatterpolar\"}], \"scatterpolargl\": [{\"marker\": {\"colorbar\": {\"outlinewidth\": 0, \"ticks\": \"\"}}, \"type\": \"scatterpolargl\"}], \"scatterternary\": [{\"marker\": {\"colorbar\": {\"outlinewidth\": 0, \"ticks\": \"\"}}, \"type\": \"scatterternary\"}], \"surface\": [{\"colorbar\": {\"outlinewidth\": 0, \"ticks\": \"\"}, \"colorscale\": [[0.0, \"#0d0887\"], [0.1111111111111111, \"#46039f\"], [0.2222222222222222, \"#7201a8\"], [0.3333333333333333, \"#9c179e\"], [0.4444444444444444, \"#bd3786\"], [0.5555555555555556, \"#d8576b\"], [0.6666666666666666, \"#ed7953\"], [0.7777777777777778, \"#fb9f3a\"], [0.8888888888888888, \"#fdca26\"], [1.0, \"#f0f921\"]], \"type\": \"surface\"}], \"table\": [{\"cells\": {\"fill\": {\"color\": \"#EBF0F8\"}, \"line\": {\"color\": \"white\"}}, \"header\": {\"fill\": {\"color\": \"#C8D4E3\"}, \"line\": {\"color\": \"white\"}}, \"type\": \"table\"}]}, \"layout\": {\"annotationdefaults\": {\"arrowcolor\": \"#2a3f5f\", \"arrowhead\": 0, \"arrowwidth\": 1}, \"coloraxis\": {\"colorbar\": {\"outlinewidth\": 0, \"ticks\": \"\"}}, \"colorscale\": {\"diverging\": [[0, \"#8e0152\"], [0.1, \"#c51b7d\"], [0.2, \"#de77ae\"], [0.3, \"#f1b6da\"], [0.4, \"#fde0ef\"], [0.5, \"#f7f7f7\"], [0.6, \"#e6f5d0\"], [0.7, \"#b8e186\"], [0.8, \"#7fbc41\"], [0.9, \"#4d9221\"], [1, \"#276419\"]], \"sequential\": [[0.0, \"#0d0887\"], [0.1111111111111111, \"#46039f\"], [0.2222222222222222, \"#7201a8\"], [0.3333333333333333, \"#9c179e\"], [0.4444444444444444, \"#bd3786\"], [0.5555555555555556, \"#d8576b\"], [0.6666666666666666, \"#ed7953\"], [0.7777777777777778, \"#fb9f3a\"], [0.8888888888888888, \"#fdca26\"], [1.0, \"#f0f921\"]], \"sequentialminus\": [[0.0, \"#0d0887\"], [0.1111111111111111, \"#46039f\"], [0.2222222222222222, \"#7201a8\"], [0.3333333333333333, \"#9c179e\"], [0.4444444444444444, \"#bd3786\"], [0.5555555555555556, \"#d8576b\"], [0.6666666666666666, \"#ed7953\"], [0.7777777777777778, \"#fb9f3a\"], [0.8888888888888888, \"#fdca26\"], [1.0, \"#f0f921\"]]}, \"colorway\": [\"#636efa\", \"#EF553B\", \"#00cc96\", \"#ab63fa\", \"#FFA15A\", \"#19d3f3\", \"#FF6692\", \"#B6E880\", \"#FF97FF\", \"#FECB52\"], \"font\": {\"color\": \"#2a3f5f\"}, \"geo\": {\"bgcolor\": \"white\", \"lakecolor\": \"white\", \"landcolor\": \"#E5ECF6\", \"showlakes\": true, \"showland\": true, \"subunitcolor\": \"white\"}, \"hoverlabel\": {\"align\": \"left\"}, \"hovermode\": \"closest\", \"mapbox\": {\"style\": \"light\"}, \"paper_bgcolor\": \"white\", \"plot_bgcolor\": \"#E5ECF6\", \"polar\": {\"angularaxis\": {\"gridcolor\": \"white\", \"linecolor\": \"white\", \"ticks\": \"\"}, \"bgcolor\": \"#E5ECF6\", \"radialaxis\": {\"gridcolor\": \"white\", \"linecolor\": \"white\", \"ticks\": \"\"}}, \"scene\": {\"xaxis\": {\"backgroundcolor\": \"#E5ECF6\", \"gridcolor\": \"white\", \"gridwidth\": 2, \"linecolor\": \"white\", \"showbackground\": true, \"ticks\": \"\", \"zerolinecolor\": \"white\"}, \"yaxis\": {\"backgroundcolor\": \"#E5ECF6\", \"gridcolor\": \"white\", \"gridwidth\": 2, \"linecolor\": \"white\", \"showbackground\": true, \"ticks\": \"\", \"zerolinecolor\": \"white\"}, \"zaxis\": {\"backgroundcolor\": \"#E5ECF6\", \"gridcolor\": \"white\", \"gridwidth\": 2, \"linecolor\": \"white\", \"showbackground\": true, \"ticks\": \"\", \"zerolinecolor\": \"white\"}}, \"shapedefaults\": {\"line\": {\"color\": \"#2a3f5f\"}}, \"ternary\": {\"aaxis\": {\"gridcolor\": \"white\", \"linecolor\": \"white\", \"ticks\": \"\"}, \"baxis\": {\"gridcolor\": \"white\", \"linecolor\": \"white\", \"ticks\": \"\"}, \"bgcolor\": \"#E5ECF6\", \"caxis\": {\"gridcolor\": \"white\", \"linecolor\": \"white\", \"ticks\": \"\"}}, \"title\": {\"x\": 0.05}, \"xaxis\": {\"automargin\": true, \"gridcolor\": \"white\", \"linecolor\": \"white\", \"ticks\": \"\", \"title\": {\"standoff\": 15}, \"zerolinecolor\": \"white\", \"zerolinewidth\": 2}, \"yaxis\": {\"automargin\": true, \"gridcolor\": \"white\", \"linecolor\": \"white\", \"ticks\": \"\", \"title\": {\"standoff\": 15}, \"zerolinecolor\": \"white\", \"zerolinewidth\": 2}}}, \"title\": {\"text\": \"LoanAmount\"}, \"xaxis\": {\"anchor\": \"y\", \"domain\": [0.0, 1.0], \"title\": {\"text\": \"LoanAmount\"}}, \"yaxis\": {\"anchor\": \"x\", \"domain\": [0.0, 1.0], \"title\": {\"text\": \"sum of LoanAmount\"}}},                        {\"responsive\": true}                    ).then(function(){\n",
       "                            \n",
       "var gd = document.getElementById('b7330850-3662-40db-b750-d46629844a7b');\n",
       "var x = new MutationObserver(function (mutations, observer) {{\n",
       "        var display = window.getComputedStyle(gd).display;\n",
       "        if (!display || display === 'none') {{\n",
       "            console.log([gd, 'removed!']);\n",
       "            Plotly.purge(gd);\n",
       "            observer.disconnect();\n",
       "        }}\n",
       "}});\n",
       "\n",
       "// Listen for the removal of the full notebook cells\n",
       "var notebookContainer = gd.closest('#notebook-container');\n",
       "if (notebookContainer) {{\n",
       "    x.observe(notebookContainer, {childList: true});\n",
       "}}\n",
       "\n",
       "// Listen for the clearing of the current output cell\n",
       "var outputEl = gd.closest('.output');\n",
       "if (outputEl) {{\n",
       "    x.observe(outputEl, {childList: true});\n",
       "}}\n",
       "\n",
       "                        })                };                });            </script>        </div>"
      ]
     },
     "metadata": {},
     "output_type": "display_data"
    }
   ],
   "source": [
    "#Checking if the non-categorical variables are Normally Distributed or Not. i.e. Checking outliers...\n",
    "\n",
    "print(\"Data distribution analysis:->---------------------------------------\\n\")\n",
    "print(\"\\nMean:->\\n\")\n",
    "print(\"ApplicantIncome: \",np.mean(data[\"ApplicantIncome\"]))\n",
    "print(\"CoapplicantIncome: \",np.mean(data[\"CoapplicantIncome\"]))\n",
    "print(\"LoanAmount: \",np.mean(data[\"LoanAmount\"]))\n",
    "\n",
    "print(\"\\nMode:->\\n\")\n",
    "print(\"ApplicantIncome: \",stats.mode(data[\"ApplicantIncome\"])[0])\n",
    "print(\"CoapplicantIncome: \",stats.mode(data[\"CoapplicantIncome\"])[0])\n",
    "print(\"LoanAmount: \",stats.mode(data[\"LoanAmount\"])[0])\n",
    "\n",
    "print(\"\\nMedian:->\\n\")\n",
    "print(\"ApplicantIncome: \",np.median(data[\"ApplicantIncome\"]))\n",
    "print(\"CoapplicantIncome: \",np.median(data[\"CoapplicantIncome\"]))\n",
    "print(\"LoanAmount: \",np.median(data[\"LoanAmount\"]))\n",
    "\n",
    "print(\"\\nStandard Deviation:->\\n\")\n",
    "print(\"ApplicantIncome: \",np.std(data[\"ApplicantIncome\"]))\n",
    "print(\"CoapplicantIncome: \",np.std(data[\"CoapplicantIncome\"]))\n",
    "print(\"LoanAmount: \",np.std(data[\"LoanAmount\"]))\n",
    "\n",
    "fig = px.histogram(data[\"ApplicantIncome\"],x =\"ApplicantIncome\" ,y = \"ApplicantIncome\" )\n",
    "fig.update_layout(title=\"ApplicantIncome\")\n",
    "fig.show()\n",
    "\n",
    "fig = px.histogram(data[\"CoapplicantIncome\"],x =\"CoapplicantIncome\" ,y = \"CoapplicantIncome\" )\n",
    "fig.update_layout(title=\"CoapplicantIncome\")\n",
    "fig.show()\n",
    "\n",
    "fig = px.histogram(data[\"LoanAmount\"],x =\"LoanAmount\" ,y = \"LoanAmount\" )\n",
    "fig.update_layout(title=\"LoanAmount\")\n",
    "fig.show()"
   ]
  },
  {
   "cell_type": "code",
   "execution_count": 9,
   "metadata": {
    "execution": {
     "iopub.execute_input": "2020-11-28T21:16:09.736997Z",
     "iopub.status.busy": "2020-11-28T21:16:09.736184Z",
     "iopub.status.idle": "2020-11-28T21:16:10.197733Z",
     "shell.execute_reply": "2020-11-28T21:16:10.196925Z"
    },
    "papermill": {
     "duration": 0.495597,
     "end_time": "2020-11-28T21:16:10.197861",
     "exception": false,
     "start_time": "2020-11-28T21:16:09.702264",
     "status": "completed"
    },
    "tags": []
   },
   "outputs": [
    {
     "data": {
      "text/html": [
       "<div>                            <div id=\"c5cfc547-c77e-47fe-aa62-6ede40df44fd\" class=\"plotly-graph-div\" style=\"height:525px; width:100%;\"></div>            <script type=\"text/javascript\">                require([\"plotly\"], function(Plotly) {                    window.PLOTLYENV=window.PLOTLYENV || {};                                    if (document.getElementById(\"c5cfc547-c77e-47fe-aa62-6ede40df44fd\")) {                    Plotly.newPlot(                        \"c5cfc547-c77e-47fe-aa62-6ede40df44fd\",                        [{\"alignmentgroup\": \"True\", \"hovertemplate\": \"Gender=%{x}<br>count=%{y}<extra></extra>\", \"legendgroup\": \"\", \"marker\": {\"color\": \"#636efa\"}, \"name\": \"\", \"offsetgroup\": \"\", \"orientation\": \"v\", \"showlegend\": false, \"textposition\": \"auto\", \"type\": \"bar\", \"x\": [\"Male\", \"Male\", \"Male\", \"Male\", \"Male\", \"Male\", \"Male\", \"Male\", \"Male\", \"Male\", \"Male\", \"Male\", \"Male\", \"Male\", \"Male\", \"Male\", \"Male\", \"Female\", \"Male\", \"Male\", \"Male\", \"Male\", \"Male\", null, \"Male\", \"Male\", \"Male\", \"Male\", \"Male\", \"Female\", \"Male\", \"Male\", \"Male\", \"Male\", \"Male\", \"Male\", \"Male\", \"Female\", \"Male\", \"Male\", \"Male\", \"Male\", \"Male\", \"Male\", \"Male\", \"Female\", \"Male\", \"Male\", \"Female\", \"Female\", \"Female\", \"Female\", \"Female\", \"Male\", \"Female\", \"Male\", \"Male\", \"Male\", \"Male\", \"Male\", \"Male\", \"Male\", \"Male\", \"Male\", \"Female\", \"Male\", \"Male\", \"Male\", \"Male\", \"Female\", \"Male\", \"Male\", \"Male\", \"Male\", \"Male\", \"Male\", \"Male\", \"Male\", \"Male\", \"Male\", \"Female\", \"Male\", \"Female\", \"Male\", \"Male\", \"Male\", \"Male\", \"Male\", \"Male\", \"Male\", \"Male\", \"Male\", \"Male\", \"Male\", \"Male\", \"Male\", \"Female\", \"Male\", \"Male\", \"Male\", \"Male\", \"Male\", \"Male\", \"Male\", \"Male\", \"Male\", \"Male\", \"Male\", \"Male\", \"Male\", \"Male\", \"Female\", \"Male\", \"Female\", \"Male\", \"Male\", \"Female\", \"Male\", \"Male\", \"Female\", \"Male\", \"Female\", \"Female\", \"Male\", \"Male\", \"Female\", null, \"Male\", \"Male\", \"Male\", \"Male\", \"Male\", \"Male\", \"Male\", \"Male\", \"Male\", \"Female\", \"Male\", \"Male\", \"Male\", \"Male\", \"Male\", \"Male\", \"Male\", \"Male\", \"Female\", \"Female\", \"Male\", \"Female\", \"Male\", \"Male\", \"Male\", \"Male\", \"Male\", \"Male\", \"Male\", \"Male\", \"Male\", \"Male\", \"Male\", \"Male\", \"Male\", \"Male\", \"Male\", \"Male\", \"Male\", \"Female\", \"Male\", \"Male\", \"Male\", \"Male\", null, \"Male\", \"Male\", \"Male\", \"Male\", \"Male\", \"Male\", \"Male\", \"Male\", \"Male\", \"Male\", \"Male\", \"Male\", \"Female\", \"Male\", \"Male\", \"Male\", null, \"Male\", \"Male\", \"Male\", \"Male\", \"Male\", \"Male\", \"Male\", \"Male\", \"Female\", \"Female\", \"Male\", \"Male\", \"Male\", \"Male\", \"Male\", \"Male\", \"Female\", \"Female\", \"Male\", \"Male\", \"Male\", \"Female\", \"Male\", \"Male\", \"Male\", \"Male\", \"Male\", \"Male\", \"Male\", \"Male\", \"Female\", \"Male\", \"Male\", \"Male\", \"Male\", \"Male\", \"Male\", \"Male\", \"Male\", \"Male\", \"Male\", \"Male\", \"Male\", \"Male\", \"Female\", \"Male\", \"Male\", \"Male\", \"Female\", \"Female\", \"Male\", \"Male\", \"Male\", \"Male\", \"Male\", \"Male\", \"Male\", \"Male\", \"Male\", \"Male\", \"Male\", \"Male\", \"Female\", \"Male\", \"Male\", \"Male\", \"Female\", \"Male\", \"Male\", \"Male\", \"Male\", \"Male\", \"Male\", \"Female\", \"Female\", \"Male\", \"Male\", \"Male\", \"Male\", \"Female\", \"Female\", \"Female\", \"Male\", \"Male\", \"Male\", \"Male\", \"Male\", \"Male\", \"Male\", \"Male\", \"Female\", \"Male\", \"Male\", \"Male\", \"Female\", \"Male\", \"Male\", \"Female\", \"Male\", \"Female\", \"Male\", \"Male\", \"Male\", \"Male\", \"Female\", \"Male\", \"Male\", \"Male\", \"Female\", \"Female\", \"Male\", \"Male\", \"Male\", \"Female\", \"Male\", \"Male\", \"Male\", \"Female\", \"Female\", \"Male\", \"Male\", \"Female\", \"Male\", \"Female\", \"Male\", null, \"Male\", \"Male\", \"Male\", \"Female\", \"Male\", \"Male\", \"Male\", \"Male\", \"Female\", \"Male\", \"Male\", \"Male\", \"Male\", \"Female\", \"Female\", \"Male\", \"Male\", \"Male\", \"Male\", null, \"Male\", \"Male\", \"Male\", \"Female\", \"Female\", \"Male\", \"Female\", \"Male\", \"Male\", \"Male\", \"Male\", \"Male\", \"Male\", \"Male\", \"Male\", \"Male\", \"Male\", \"Male\", \"Female\", \"Female\", \"Female\", \"Male\", \"Male\", \"Male\", \"Male\", \"Female\", \"Male\", \"Male\", \"Male\", \"Male\", \"Male\", \"Male\", \"Male\", \"Male\", \"Male\", \"Female\", \"Male\", \"Male\", \"Male\", \"Female\", \"Male\", \"Male\", \"Male\", \"Male\", \"Male\", \"Male\", \"Male\", \"Female\", \"Male\", \"Male\", \"Male\", \"Male\", \"Male\", \"Male\", \"Male\", \"Male\", \"Male\", \"Male\", \"Male\", \"Male\", \"Male\", \"Female\", \"Male\", \"Male\", \"Female\", \"Male\", \"Male\", \"Male\", \"Female\", \"Female\", \"Female\", \"Male\", \"Female\", \"Male\", \"Male\", \"Female\", \"Male\", \"Male\", \"Male\", \"Female\", \"Female\", \"Female\", \"Male\", \"Male\", \"Male\", \"Male\", \"Female\", \"Male\", \"Male\", \"Male\", \"Male\", \"Female\", \"Male\", \"Male\", \"Male\", \"Female\", \"Male\", \"Male\", \"Male\", \"Male\", \"Female\", \"Male\", \"Male\", \"Male\", \"Female\", \"Male\", \"Male\", \"Male\", \"Male\", \"Male\", \"Male\", \"Male\", \"Male\", \"Male\", \"Male\", \"Male\", \"Male\", \"Male\", \"Male\", \"Male\", \"Male\", \"Male\", \"Male\", \"Male\", \"Male\", null, \"Male\", \"Male\", \"Female\", \"Male\", \"Male\", \"Male\", null, \"Female\", \"Male\", \"Male\", \"Male\", \"Male\", \"Female\", \"Male\", \"Male\", \"Male\", null, \"Male\", \"Male\", \"Female\", \"Male\", \"Male\", \"Male\", \"Male\", \"Male\", \"Male\", \"Male\", \"Male\", \"Male\", \"Male\", \"Male\", \"Male\", \"Female\", \"Male\", \"Female\", \"Male\", \"Male\", \"Male\", \"Male\", \"Female\", \"Female\", \"Male\", \"Male\", \"Male\", \"Male\", \"Male\", null, \"Male\", \"Female\", \"Male\", \"Male\", \"Male\", \"Male\", \"Male\", \"Male\", \"Female\", \"Male\", \"Male\", \"Female\", \"Male\", \"Male\", \"Male\", \"Male\", \"Male\", \"Male\", \"Male\", \"Male\", \"Male\", \"Male\", \"Male\", \"Male\", \"Male\", \"Male\", \"Female\", \"Male\", \"Male\", \"Male\", \"Male\", \"Male\", \"Female\", \"Female\", \"Female\", \"Male\", \"Female\", \"Male\", \"Male\", \"Male\", \"Female\", \"Male\", \"Male\", \"Male\", \"Male\", \"Male\", \"Male\", \"Male\", \"Female\", \"Male\", \"Male\", \"Female\", \"Male\", \"Female\", \"Male\", \"Male\", \"Male\", \"Male\", \"Male\", \"Male\", \"Female\", \"Male\", \"Male\", \"Male\", \"Male\", \"Male\", \"Male\", \"Male\", null, \"Male\", \"Male\", \"Male\", \"Male\", \"Male\", \"Female\", \"Male\", \"Male\", \"Male\", \"Male\", \"Female\", null, \"Male\", \"Male\", \"Male\", null, \"Male\", \"Male\", \"Male\", \"Male\", \"Male\", \"Male\", \"Male\", \"Female\", \"Male\", \"Male\", \"Male\", \"Female\", \"Male\", \"Male\", \"Male\", \"Male\", \"Female\", \"Male\", \"Male\", \"Male\", \"Female\"], \"xaxis\": \"x\", \"y\": [1, 1, 1, 1, 1, 1, 1, 1, 1, 1, 1, 1, 1, 1, 1, 1, 1, 1, 1, 1, 1, 1, 1, 1, 1, 1, 1, 1, 1, 1, 1, 1, 1, 1, 1, 1, 1, 1, 1, 1, 1, 1, 1, 1, 1, 1, 1, 1, 1, 1, 1, 1, 1, 1, 1, 1, 1, 1, 1, 1, 1, 1, 1, 1, 1, 1, 1, 1, 1, 1, 1, 1, 1, 1, 1, 1, 1, 1, 1, 1, 1, 1, 1, 1, 1, 1, 1, 1, 1, 1, 1, 1, 1, 1, 1, 1, 1, 1, 1, 1, 1, 1, 1, 1, 1, 1, 1, 1, 1, 1, 1, 1, 1, 1, 1, 1, 1, 1, 1, 1, 1, 1, 1, 1, 1, 1, 1, 1, 1, 1, 1, 1, 1, 1, 1, 1, 1, 1, 1, 1, 1, 1, 1, 1, 1, 1, 1, 1, 1, 1, 1, 1, 1, 1, 1, 1, 1, 1, 1, 1, 1, 1, 1, 1, 1, 1, 1, 1, 1, 1, 1, 1, 1, 1, 1, 1, 1, 1, 1, 1, 1, 1, 1, 1, 1, 1, 1, 1, 1, 1, 1, 1, 1, 1, 1, 1, 1, 1, 1, 1, 1, 1, 1, 1, 1, 1, 1, 1, 1, 1, 1, 1, 1, 1, 1, 1, 1, 1, 1, 1, 1, 1, 1, 1, 1, 1, 1, 1, 1, 1, 1, 1, 1, 1, 1, 1, 1, 1, 1, 1, 1, 1, 1, 1, 1, 1, 1, 1, 1, 1, 1, 1, 1, 1, 1, 1, 1, 1, 1, 1, 1, 1, 1, 1, 1, 1, 1, 1, 1, 1, 1, 1, 1, 1, 1, 1, 1, 1, 1, 1, 1, 1, 1, 1, 1, 1, 1, 1, 1, 1, 1, 1, 1, 1, 1, 1, 1, 1, 1, 1, 1, 1, 1, 1, 1, 1, 1, 1, 1, 1, 1, 1, 1, 1, 1, 1, 1, 1, 1, 1, 1, 1, 1, 1, 1, 1, 1, 1, 1, 1, 1, 1, 1, 1, 1, 1, 1, 1, 1, 1, 1, 1, 1, 1, 1, 1, 1, 1, 1, 1, 1, 1, 1, 1, 1, 1, 1, 1, 1, 1, 1, 1, 1, 1, 1, 1, 1, 1, 1, 1, 1, 1, 1, 1, 1, 1, 1, 1, 1, 1, 1, 1, 1, 1, 1, 1, 1, 1, 1, 1, 1, 1, 1, 1, 1, 1, 1, 1, 1, 1, 1, 1, 1, 1, 1, 1, 1, 1, 1, 1, 1, 1, 1, 1, 1, 1, 1, 1, 1, 1, 1, 1, 1, 1, 1, 1, 1, 1, 1, 1, 1, 1, 1, 1, 1, 1, 1, 1, 1, 1, 1, 1, 1, 1, 1, 1, 1, 1, 1, 1, 1, 1, 1, 1, 1, 1, 1, 1, 1, 1, 1, 1, 1, 1, 1, 1, 1, 1, 1, 1, 1, 1, 1, 1, 1, 1, 1, 1, 1, 1, 1, 1, 1, 1, 1, 1, 1, 1, 1, 1, 1, 1, 1, 1, 1, 1, 1, 1, 1, 1, 1, 1, 1, 1, 1, 1, 1, 1, 1, 1, 1, 1, 1, 1, 1, 1, 1, 1, 1, 1, 1, 1, 1, 1, 1, 1, 1, 1, 1, 1, 1, 1, 1, 1, 1, 1, 1, 1, 1, 1, 1, 1, 1, 1, 1, 1, 1, 1, 1, 1, 1, 1, 1, 1, 1, 1, 1, 1, 1, 1, 1, 1, 1, 1, 1, 1, 1, 1, 1, 1, 1, 1, 1, 1, 1, 1, 1, 1, 1, 1, 1, 1, 1, 1, 1, 1, 1, 1, 1, 1, 1, 1, 1, 1, 1, 1, 1, 1, 1, 1, 1, 1, 1, 1, 1, 1, 1, 1, 1, 1, 1, 1, 1, 1], \"yaxis\": \"y\"}],                        {\"barmode\": \"relative\", \"legend\": {\"tracegroupgap\": 0}, \"margin\": {\"t\": 60}, \"template\": {\"data\": {\"bar\": [{\"error_x\": {\"color\": \"#2a3f5f\"}, \"error_y\": {\"color\": \"#2a3f5f\"}, \"marker\": {\"line\": {\"color\": \"#E5ECF6\", \"width\": 0.5}}, \"type\": \"bar\"}], \"barpolar\": [{\"marker\": {\"line\": {\"color\": \"#E5ECF6\", \"width\": 0.5}}, \"type\": \"barpolar\"}], \"carpet\": [{\"aaxis\": {\"endlinecolor\": \"#2a3f5f\", \"gridcolor\": \"white\", \"linecolor\": \"white\", \"minorgridcolor\": \"white\", \"startlinecolor\": \"#2a3f5f\"}, \"baxis\": {\"endlinecolor\": \"#2a3f5f\", \"gridcolor\": \"white\", \"linecolor\": \"white\", \"minorgridcolor\": \"white\", \"startlinecolor\": \"#2a3f5f\"}, \"type\": \"carpet\"}], \"choropleth\": [{\"colorbar\": {\"outlinewidth\": 0, \"ticks\": \"\"}, \"type\": \"choropleth\"}], \"contour\": [{\"colorbar\": {\"outlinewidth\": 0, \"ticks\": \"\"}, \"colorscale\": [[0.0, \"#0d0887\"], [0.1111111111111111, \"#46039f\"], [0.2222222222222222, \"#7201a8\"], [0.3333333333333333, \"#9c179e\"], [0.4444444444444444, \"#bd3786\"], [0.5555555555555556, \"#d8576b\"], [0.6666666666666666, \"#ed7953\"], [0.7777777777777778, \"#fb9f3a\"], [0.8888888888888888, \"#fdca26\"], [1.0, \"#f0f921\"]], \"type\": \"contour\"}], \"contourcarpet\": [{\"colorbar\": {\"outlinewidth\": 0, \"ticks\": \"\"}, \"type\": \"contourcarpet\"}], \"heatmap\": [{\"colorbar\": {\"outlinewidth\": 0, \"ticks\": \"\"}, \"colorscale\": [[0.0, \"#0d0887\"], [0.1111111111111111, \"#46039f\"], [0.2222222222222222, \"#7201a8\"], [0.3333333333333333, \"#9c179e\"], [0.4444444444444444, \"#bd3786\"], [0.5555555555555556, \"#d8576b\"], [0.6666666666666666, \"#ed7953\"], [0.7777777777777778, \"#fb9f3a\"], [0.8888888888888888, \"#fdca26\"], [1.0, \"#f0f921\"]], \"type\": \"heatmap\"}], \"heatmapgl\": [{\"colorbar\": {\"outlinewidth\": 0, \"ticks\": \"\"}, \"colorscale\": [[0.0, \"#0d0887\"], [0.1111111111111111, \"#46039f\"], [0.2222222222222222, \"#7201a8\"], [0.3333333333333333, \"#9c179e\"], [0.4444444444444444, \"#bd3786\"], [0.5555555555555556, \"#d8576b\"], [0.6666666666666666, \"#ed7953\"], [0.7777777777777778, \"#fb9f3a\"], [0.8888888888888888, \"#fdca26\"], [1.0, \"#f0f921\"]], \"type\": \"heatmapgl\"}], \"histogram\": [{\"marker\": {\"colorbar\": {\"outlinewidth\": 0, \"ticks\": \"\"}}, \"type\": \"histogram\"}], \"histogram2d\": [{\"colorbar\": {\"outlinewidth\": 0, \"ticks\": \"\"}, \"colorscale\": [[0.0, \"#0d0887\"], [0.1111111111111111, \"#46039f\"], [0.2222222222222222, \"#7201a8\"], [0.3333333333333333, \"#9c179e\"], [0.4444444444444444, \"#bd3786\"], [0.5555555555555556, \"#d8576b\"], [0.6666666666666666, \"#ed7953\"], [0.7777777777777778, \"#fb9f3a\"], [0.8888888888888888, \"#fdca26\"], [1.0, \"#f0f921\"]], \"type\": \"histogram2d\"}], \"histogram2dcontour\": [{\"colorbar\": {\"outlinewidth\": 0, \"ticks\": \"\"}, \"colorscale\": [[0.0, \"#0d0887\"], [0.1111111111111111, \"#46039f\"], [0.2222222222222222, \"#7201a8\"], [0.3333333333333333, \"#9c179e\"], [0.4444444444444444, \"#bd3786\"], [0.5555555555555556, \"#d8576b\"], [0.6666666666666666, \"#ed7953\"], [0.7777777777777778, \"#fb9f3a\"], [0.8888888888888888, \"#fdca26\"], [1.0, \"#f0f921\"]], \"type\": \"histogram2dcontour\"}], \"mesh3d\": [{\"colorbar\": {\"outlinewidth\": 0, \"ticks\": \"\"}, \"type\": \"mesh3d\"}], \"parcoords\": [{\"line\": {\"colorbar\": {\"outlinewidth\": 0, \"ticks\": \"\"}}, \"type\": \"parcoords\"}], \"pie\": [{\"automargin\": true, \"type\": \"pie\"}], \"scatter\": [{\"marker\": {\"colorbar\": {\"outlinewidth\": 0, \"ticks\": \"\"}}, \"type\": \"scatter\"}], \"scatter3d\": [{\"line\": {\"colorbar\": {\"outlinewidth\": 0, \"ticks\": \"\"}}, \"marker\": {\"colorbar\": {\"outlinewidth\": 0, \"ticks\": \"\"}}, \"type\": \"scatter3d\"}], \"scattercarpet\": [{\"marker\": {\"colorbar\": {\"outlinewidth\": 0, \"ticks\": \"\"}}, \"type\": \"scattercarpet\"}], \"scattergeo\": [{\"marker\": {\"colorbar\": {\"outlinewidth\": 0, \"ticks\": \"\"}}, \"type\": \"scattergeo\"}], \"scattergl\": [{\"marker\": {\"colorbar\": {\"outlinewidth\": 0, \"ticks\": \"\"}}, \"type\": \"scattergl\"}], \"scattermapbox\": [{\"marker\": {\"colorbar\": {\"outlinewidth\": 0, \"ticks\": \"\"}}, \"type\": \"scattermapbox\"}], \"scatterpolar\": [{\"marker\": {\"colorbar\": {\"outlinewidth\": 0, \"ticks\": \"\"}}, \"type\": \"scatterpolar\"}], \"scatterpolargl\": [{\"marker\": {\"colorbar\": {\"outlinewidth\": 0, \"ticks\": \"\"}}, \"type\": \"scatterpolargl\"}], \"scatterternary\": [{\"marker\": {\"colorbar\": {\"outlinewidth\": 0, \"ticks\": \"\"}}, \"type\": \"scatterternary\"}], \"surface\": [{\"colorbar\": {\"outlinewidth\": 0, \"ticks\": \"\"}, \"colorscale\": [[0.0, \"#0d0887\"], [0.1111111111111111, \"#46039f\"], [0.2222222222222222, \"#7201a8\"], [0.3333333333333333, \"#9c179e\"], [0.4444444444444444, \"#bd3786\"], [0.5555555555555556, \"#d8576b\"], [0.6666666666666666, \"#ed7953\"], [0.7777777777777778, \"#fb9f3a\"], [0.8888888888888888, \"#fdca26\"], [1.0, \"#f0f921\"]], \"type\": \"surface\"}], \"table\": [{\"cells\": {\"fill\": {\"color\": \"#EBF0F8\"}, \"line\": {\"color\": \"white\"}}, \"header\": {\"fill\": {\"color\": \"#C8D4E3\"}, \"line\": {\"color\": \"white\"}}, \"type\": \"table\"}]}, \"layout\": {\"annotationdefaults\": {\"arrowcolor\": \"#2a3f5f\", \"arrowhead\": 0, \"arrowwidth\": 1}, \"coloraxis\": {\"colorbar\": {\"outlinewidth\": 0, \"ticks\": \"\"}}, \"colorscale\": {\"diverging\": [[0, \"#8e0152\"], [0.1, \"#c51b7d\"], [0.2, \"#de77ae\"], [0.3, \"#f1b6da\"], [0.4, \"#fde0ef\"], [0.5, \"#f7f7f7\"], [0.6, \"#e6f5d0\"], [0.7, \"#b8e186\"], [0.8, \"#7fbc41\"], [0.9, \"#4d9221\"], [1, \"#276419\"]], \"sequential\": [[0.0, \"#0d0887\"], [0.1111111111111111, \"#46039f\"], [0.2222222222222222, \"#7201a8\"], [0.3333333333333333, \"#9c179e\"], [0.4444444444444444, \"#bd3786\"], [0.5555555555555556, \"#d8576b\"], [0.6666666666666666, \"#ed7953\"], [0.7777777777777778, \"#fb9f3a\"], [0.8888888888888888, \"#fdca26\"], [1.0, \"#f0f921\"]], \"sequentialminus\": [[0.0, \"#0d0887\"], [0.1111111111111111, \"#46039f\"], [0.2222222222222222, \"#7201a8\"], [0.3333333333333333, \"#9c179e\"], [0.4444444444444444, \"#bd3786\"], [0.5555555555555556, \"#d8576b\"], [0.6666666666666666, \"#ed7953\"], [0.7777777777777778, \"#fb9f3a\"], [0.8888888888888888, \"#fdca26\"], [1.0, \"#f0f921\"]]}, \"colorway\": [\"#636efa\", \"#EF553B\", \"#00cc96\", \"#ab63fa\", \"#FFA15A\", \"#19d3f3\", \"#FF6692\", \"#B6E880\", \"#FF97FF\", \"#FECB52\"], \"font\": {\"color\": \"#2a3f5f\"}, \"geo\": {\"bgcolor\": \"white\", \"lakecolor\": \"white\", \"landcolor\": \"#E5ECF6\", \"showlakes\": true, \"showland\": true, \"subunitcolor\": \"white\"}, \"hoverlabel\": {\"align\": \"left\"}, \"hovermode\": \"closest\", \"mapbox\": {\"style\": \"light\"}, \"paper_bgcolor\": \"white\", \"plot_bgcolor\": \"#E5ECF6\", \"polar\": {\"angularaxis\": {\"gridcolor\": \"white\", \"linecolor\": \"white\", \"ticks\": \"\"}, \"bgcolor\": \"#E5ECF6\", \"radialaxis\": {\"gridcolor\": \"white\", \"linecolor\": \"white\", \"ticks\": \"\"}}, \"scene\": {\"xaxis\": {\"backgroundcolor\": \"#E5ECF6\", \"gridcolor\": \"white\", \"gridwidth\": 2, \"linecolor\": \"white\", \"showbackground\": true, \"ticks\": \"\", \"zerolinecolor\": \"white\"}, \"yaxis\": {\"backgroundcolor\": \"#E5ECF6\", \"gridcolor\": \"white\", \"gridwidth\": 2, \"linecolor\": \"white\", \"showbackground\": true, \"ticks\": \"\", \"zerolinecolor\": \"white\"}, \"zaxis\": {\"backgroundcolor\": \"#E5ECF6\", \"gridcolor\": \"white\", \"gridwidth\": 2, \"linecolor\": \"white\", \"showbackground\": true, \"ticks\": \"\", \"zerolinecolor\": \"white\"}}, \"shapedefaults\": {\"line\": {\"color\": \"#2a3f5f\"}}, \"ternary\": {\"aaxis\": {\"gridcolor\": \"white\", \"linecolor\": \"white\", \"ticks\": \"\"}, \"baxis\": {\"gridcolor\": \"white\", \"linecolor\": \"white\", \"ticks\": \"\"}, \"bgcolor\": \"#E5ECF6\", \"caxis\": {\"gridcolor\": \"white\", \"linecolor\": \"white\", \"ticks\": \"\"}}, \"title\": {\"x\": 0.05}, \"xaxis\": {\"automargin\": true, \"gridcolor\": \"white\", \"linecolor\": \"white\", \"ticks\": \"\", \"title\": {\"standoff\": 15}, \"zerolinecolor\": \"white\", \"zerolinewidth\": 2}, \"yaxis\": {\"automargin\": true, \"gridcolor\": \"white\", \"linecolor\": \"white\", \"ticks\": \"\", \"title\": {\"standoff\": 15}, \"zerolinecolor\": \"white\", \"zerolinewidth\": 2}}}, \"xaxis\": {\"anchor\": \"y\", \"domain\": [0.0, 1.0], \"title\": {\"text\": \"Gender\"}}, \"yaxis\": {\"anchor\": \"x\", \"domain\": [0.0, 1.0], \"title\": {\"text\": \"count\"}}},                        {\"responsive\": true}                    ).then(function(){\n",
       "                            \n",
       "var gd = document.getElementById('c5cfc547-c77e-47fe-aa62-6ede40df44fd');\n",
       "var x = new MutationObserver(function (mutations, observer) {{\n",
       "        var display = window.getComputedStyle(gd).display;\n",
       "        if (!display || display === 'none') {{\n",
       "            console.log([gd, 'removed!']);\n",
       "            Plotly.purge(gd);\n",
       "            observer.disconnect();\n",
       "        }}\n",
       "}});\n",
       "\n",
       "// Listen for the removal of the full notebook cells\n",
       "var notebookContainer = gd.closest('#notebook-container');\n",
       "if (notebookContainer) {{\n",
       "    x.observe(notebookContainer, {childList: true});\n",
       "}}\n",
       "\n",
       "// Listen for the clearing of the current output cell\n",
       "var outputEl = gd.closest('.output');\n",
       "if (outputEl) {{\n",
       "    x.observe(outputEl, {childList: true});\n",
       "}}\n",
       "\n",
       "                        })                };                });            </script>        </div>"
      ]
     },
     "metadata": {},
     "output_type": "display_data"
    },
    {
     "data": {
      "text/html": [
       "<div>                            <div id=\"d89dc69e-a456-43d6-a567-02f9c1b2c724\" class=\"plotly-graph-div\" style=\"height:525px; width:100%;\"></div>            <script type=\"text/javascript\">                require([\"plotly\"], function(Plotly) {                    window.PLOTLYENV=window.PLOTLYENV || {};                                    if (document.getElementById(\"d89dc69e-a456-43d6-a567-02f9c1b2c724\")) {                    Plotly.newPlot(                        \"d89dc69e-a456-43d6-a567-02f9c1b2c724\",                        [{\"alignmentgroup\": \"True\", \"hovertemplate\": \"Married=%{x}<br>count=%{y}<extra></extra>\", \"legendgroup\": \"\", \"marker\": {\"color\": \"#636efa\"}, \"name\": \"\", \"offsetgroup\": \"\", \"orientation\": \"v\", \"showlegend\": false, \"textposition\": \"auto\", \"type\": \"bar\", \"x\": [\"No\", \"Yes\", \"Yes\", \"Yes\", \"No\", \"Yes\", \"Yes\", \"Yes\", \"Yes\", \"Yes\", \"Yes\", \"Yes\", \"Yes\", \"No\", \"Yes\", \"No\", \"No\", \"No\", \"Yes\", \"Yes\", \"Yes\", \"Yes\", \"Yes\", \"Yes\", \"Yes\", \"Yes\", \"Yes\", \"Yes\", \"No\", \"No\", \"Yes\", \"No\", \"No\", \"Yes\", \"No\", \"Yes\", \"Yes\", \"Yes\", \"No\", \"No\", \"No\", \"No\", \"Yes\", \"Yes\", \"Yes\", \"No\", \"Yes\", \"Yes\", \"Yes\", \"No\", \"Yes\", \"No\", \"No\", \"Yes\", \"Yes\", \"Yes\", \"Yes\", \"Yes\", \"Yes\", \"Yes\", \"Yes\", \"Yes\", \"Yes\", \"Yes\", \"No\", \"Yes\", \"No\", \"Yes\", \"Yes\", \"No\", \"Yes\", \"Yes\", \"No\", \"Yes\", \"Yes\", \"No\", \"No\", \"Yes\", \"Yes\", \"Yes\", \"No\", \"Yes\", \"Yes\", \"Yes\", \"Yes\", \"No\", \"Yes\", \"Yes\", \"No\", \"Yes\", \"Yes\", \"Yes\", \"Yes\", \"No\", \"No\", \"No\", \"Yes\", \"Yes\", \"Yes\", \"Yes\", \"Yes\", \"No\", \"Yes\", \"Yes\", null, \"Yes\", \"Yes\", \"No\", \"Yes\", \"Yes\", \"No\", \"Yes\", \"Yes\", \"No\", \"No\", \"Yes\", \"Yes\", \"Yes\", \"Yes\", \"No\", \"Yes\", \"No\", \"No\", \"Yes\", \"Yes\", \"No\", \"Yes\", \"No\", \"Yes\", \"Yes\", \"No\", \"No\", \"No\", \"Yes\", \"No\", \"Yes\", \"Yes\", \"Yes\", \"No\", \"Yes\", \"Yes\", \"No\", \"No\", \"Yes\", \"Yes\", \"Yes\", \"Yes\", \"Yes\", \"No\", \"Yes\", \"No\", \"Yes\", \"No\", \"Yes\", \"No\", \"Yes\", \"Yes\", \"Yes\", \"No\", \"Yes\", \"Yes\", \"Yes\", \"Yes\", \"Yes\", \"Yes\", \"Yes\", \"Yes\", \"Yes\", \"No\", \"Yes\", \"Yes\", \"Yes\", \"Yes\", \"Yes\", \"Yes\", \"Yes\", \"Yes\", \"Yes\", \"Yes\", \"No\", \"Yes\", \"No\", \"Yes\", \"Yes\", \"Yes\", \"Yes\", \"Yes\", \"Yes\", \"Yes\", \"Yes\", \"No\", \"No\", \"Yes\", \"No\", \"No\", \"Yes\", \"No\", \"No\", \"Yes\", \"No\", \"Yes\", \"No\", \"Yes\", \"Yes\", \"Yes\", \"No\", \"No\", \"No\", \"No\", \"No\", \"No\", \"Yes\", \"Yes\", \"Yes\", \"Yes\", \"Yes\", \"Yes\", \"Yes\", \"Yes\", \"Yes\", \"Yes\", \"Yes\", \"No\", \"Yes\", \"Yes\", \"Yes\", \"Yes\", \"Yes\", null, \"No\", \"Yes\", \"Yes\", \"No\", \"No\", \"Yes\", \"Yes\", \"Yes\", \"No\", \"No\", \"Yes\", \"Yes\", \"Yes\", \"No\", \"Yes\", \"Yes\", \"No\", \"Yes\", \"Yes\", \"Yes\", \"Yes\", \"Yes\", \"No\", \"No\", \"Yes\", \"No\", \"No\", \"No\", \"Yes\", \"Yes\", \"Yes\", \"Yes\", \"No\", \"No\", \"No\", \"No\", \"No\", \"Yes\", \"Yes\", \"No\", \"No\", \"No\", \"Yes\", \"No\", \"Yes\", \"Yes\", \"Yes\", \"Yes\", \"Yes\", \"Yes\", \"Yes\", \"No\", \"Yes\", \"Yes\", \"No\", \"Yes\", \"No\", \"No\", \"Yes\", \"No\", \"No\", \"Yes\", \"Yes\", \"Yes\", \"No\", \"Yes\", \"Yes\", \"Yes\", \"Yes\", \"No\", \"Yes\", \"Yes\", \"Yes\", \"No\", \"Yes\", \"No\", \"No\", \"No\", \"No\", \"No\", \"Yes\", \"No\", \"No\", \"No\", \"Yes\", \"Yes\", \"Yes\", \"Yes\", \"Yes\", \"No\", \"Yes\", \"Yes\", \"Yes\", \"Yes\", \"No\", \"Yes\", \"Yes\", \"No\", \"Yes\", \"Yes\", \"No\", \"No\", \"No\", \"No\", \"Yes\", \"Yes\", \"Yes\", \"Yes\", \"Yes\", \"No\", \"No\", \"Yes\", \"No\", \"Yes\", \"Yes\", \"Yes\", \"Yes\", \"Yes\", \"Yes\", \"Yes\", \"Yes\", \"Yes\", \"No\", \"Yes\", \"Yes\", \"Yes\", \"No\", \"Yes\", \"Yes\", \"Yes\", \"Yes\", \"No\", \"Yes\", \"Yes\", \"Yes\", \"No\", \"No\", \"No\", \"No\", \"Yes\", \"Yes\", \"No\", \"Yes\", \"Yes\", \"No\", \"No\", \"Yes\", \"Yes\", \"Yes\", \"No\", \"Yes\", \"Yes\", \"No\", \"No\", \"No\", \"Yes\", \"No\", \"No\", \"Yes\", \"Yes\", \"Yes\", \"No\", \"Yes\", \"Yes\", \"Yes\", \"Yes\", \"Yes\", \"No\", \"Yes\", \"No\", \"No\", \"Yes\", \"No\", \"No\", \"No\", \"No\", \"No\", \"Yes\", \"No\", \"Yes\", \"Yes\", \"No\", \"Yes\", \"Yes\", \"Yes\", \"Yes\", \"No\", \"No\", \"Yes\", \"Yes\", \"Yes\", \"Yes\", \"No\", \"Yes\", \"Yes\", \"Yes\", \"Yes\", \"No\", \"Yes\", \"Yes\", \"No\", \"No\", \"No\", \"No\", \"Yes\", \"No\", null, \"No\", \"Yes\", \"No\", \"Yes\", \"No\", \"Yes\", \"No\", \"No\", \"Yes\", \"Yes\", \"Yes\", \"Yes\", \"Yes\", \"No\", \"Yes\", \"Yes\", \"Yes\", \"Yes\", \"No\", \"Yes\", \"Yes\", \"Yes\", \"No\", \"Yes\", \"Yes\", \"Yes\", \"Yes\", \"No\", \"No\", \"No\", \"Yes\", \"Yes\", \"Yes\", \"Yes\", \"Yes\", \"Yes\", \"Yes\", \"No\", \"No\", \"Yes\", \"Yes\", \"Yes\", \"Yes\", \"Yes\", \"No\", \"Yes\", \"Yes\", \"Yes\", \"Yes\", \"Yes\", \"No\", \"Yes\", \"Yes\", \"No\", \"No\", \"Yes\", \"No\", \"No\", \"Yes\", \"Yes\", \"Yes\", \"Yes\", \"Yes\", \"No\", \"No\", \"No\", \"Yes\", \"Yes\", \"Yes\", \"Yes\", \"Yes\", \"No\", \"Yes\", \"No\", \"No\", \"Yes\", \"Yes\", \"Yes\", \"No\", \"Yes\", \"Yes\", \"Yes\", \"No\", \"No\", \"Yes\", \"No\", \"Yes\", \"Yes\", \"No\", \"Yes\", \"Yes\", \"Yes\", \"No\", \"No\", \"Yes\", \"Yes\", \"No\", \"No\", \"No\", \"No\", \"Yes\", \"No\", \"Yes\", \"Yes\", \"Yes\", \"No\", \"No\", \"Yes\", \"Yes\", \"Yes\", \"No\", \"No\", \"No\", \"Yes\", \"Yes\", \"Yes\", \"Yes\", \"Yes\", \"Yes\", \"Yes\", \"No\", \"Yes\", \"Yes\", \"Yes\", \"Yes\", \"Yes\", \"Yes\", \"No\", \"Yes\", \"Yes\", \"No\", \"Yes\", \"No\", \"Yes\", \"Yes\", \"Yes\", \"Yes\", \"Yes\", \"Yes\", \"Yes\", \"Yes\", \"No\", \"Yes\", \"No\", \"Yes\", \"No\", \"Yes\", \"Yes\", \"Yes\", \"Yes\", \"Yes\", \"No\", \"No\", \"Yes\", \"Yes\", \"Yes\", \"No\", \"Yes\", \"Yes\", \"No\", \"Yes\", \"No\", \"Yes\", \"Yes\", \"No\", \"Yes\", \"Yes\", \"No\", \"Yes\", \"Yes\", \"Yes\", \"Yes\", \"Yes\", \"No\", \"Yes\", \"Yes\", \"Yes\", \"No\"], \"xaxis\": \"x\", \"y\": [1, 1, 1, 1, 1, 1, 1, 1, 1, 1, 1, 1, 1, 1, 1, 1, 1, 1, 1, 1, 1, 1, 1, 1, 1, 1, 1, 1, 1, 1, 1, 1, 1, 1, 1, 1, 1, 1, 1, 1, 1, 1, 1, 1, 1, 1, 1, 1, 1, 1, 1, 1, 1, 1, 1, 1, 1, 1, 1, 1, 1, 1, 1, 1, 1, 1, 1, 1, 1, 1, 1, 1, 1, 1, 1, 1, 1, 1, 1, 1, 1, 1, 1, 1, 1, 1, 1, 1, 1, 1, 1, 1, 1, 1, 1, 1, 1, 1, 1, 1, 1, 1, 1, 1, 1, 1, 1, 1, 1, 1, 1, 1, 1, 1, 1, 1, 1, 1, 1, 1, 1, 1, 1, 1, 1, 1, 1, 1, 1, 1, 1, 1, 1, 1, 1, 1, 1, 1, 1, 1, 1, 1, 1, 1, 1, 1, 1, 1, 1, 1, 1, 1, 1, 1, 1, 1, 1, 1, 1, 1, 1, 1, 1, 1, 1, 1, 1, 1, 1, 1, 1, 1, 1, 1, 1, 1, 1, 1, 1, 1, 1, 1, 1, 1, 1, 1, 1, 1, 1, 1, 1, 1, 1, 1, 1, 1, 1, 1, 1, 1, 1, 1, 1, 1, 1, 1, 1, 1, 1, 1, 1, 1, 1, 1, 1, 1, 1, 1, 1, 1, 1, 1, 1, 1, 1, 1, 1, 1, 1, 1, 1, 1, 1, 1, 1, 1, 1, 1, 1, 1, 1, 1, 1, 1, 1, 1, 1, 1, 1, 1, 1, 1, 1, 1, 1, 1, 1, 1, 1, 1, 1, 1, 1, 1, 1, 1, 1, 1, 1, 1, 1, 1, 1, 1, 1, 1, 1, 1, 1, 1, 1, 1, 1, 1, 1, 1, 1, 1, 1, 1, 1, 1, 1, 1, 1, 1, 1, 1, 1, 1, 1, 1, 1, 1, 1, 1, 1, 1, 1, 1, 1, 1, 1, 1, 1, 1, 1, 1, 1, 1, 1, 1, 1, 1, 1, 1, 1, 1, 1, 1, 1, 1, 1, 1, 1, 1, 1, 1, 1, 1, 1, 1, 1, 1, 1, 1, 1, 1, 1, 1, 1, 1, 1, 1, 1, 1, 1, 1, 1, 1, 1, 1, 1, 1, 1, 1, 1, 1, 1, 1, 1, 1, 1, 1, 1, 1, 1, 1, 1, 1, 1, 1, 1, 1, 1, 1, 1, 1, 1, 1, 1, 1, 1, 1, 1, 1, 1, 1, 1, 1, 1, 1, 1, 1, 1, 1, 1, 1, 1, 1, 1, 1, 1, 1, 1, 1, 1, 1, 1, 1, 1, 1, 1, 1, 1, 1, 1, 1, 1, 1, 1, 1, 1, 1, 1, 1, 1, 1, 1, 1, 1, 1, 1, 1, 1, 1, 1, 1, 1, 1, 1, 1, 1, 1, 1, 1, 1, 1, 1, 1, 1, 1, 1, 1, 1, 1, 1, 1, 1, 1, 1, 1, 1, 1, 1, 1, 1, 1, 1, 1, 1, 1, 1, 1, 1, 1, 1, 1, 1, 1, 1, 1, 1, 1, 1, 1, 1, 1, 1, 1, 1, 1, 1, 1, 1, 1, 1, 1, 1, 1, 1, 1, 1, 1, 1, 1, 1, 1, 1, 1, 1, 1, 1, 1, 1, 1, 1, 1, 1, 1, 1, 1, 1, 1, 1, 1, 1, 1, 1, 1, 1, 1, 1, 1, 1, 1, 1, 1, 1, 1, 1, 1, 1, 1, 1, 1, 1, 1, 1, 1, 1, 1, 1, 1, 1, 1, 1, 1, 1, 1, 1, 1, 1, 1, 1, 1, 1, 1, 1, 1, 1, 1, 1, 1, 1, 1, 1, 1, 1, 1, 1, 1, 1, 1, 1, 1, 1, 1, 1, 1, 1, 1, 1, 1, 1, 1, 1, 1, 1, 1, 1, 1, 1, 1], \"yaxis\": \"y\"}],                        {\"barmode\": \"relative\", \"legend\": {\"tracegroupgap\": 0}, \"margin\": {\"t\": 60}, \"template\": {\"data\": {\"bar\": [{\"error_x\": {\"color\": \"#2a3f5f\"}, \"error_y\": {\"color\": \"#2a3f5f\"}, \"marker\": {\"line\": {\"color\": \"#E5ECF6\", \"width\": 0.5}}, \"type\": \"bar\"}], \"barpolar\": [{\"marker\": {\"line\": {\"color\": \"#E5ECF6\", \"width\": 0.5}}, \"type\": \"barpolar\"}], \"carpet\": [{\"aaxis\": {\"endlinecolor\": \"#2a3f5f\", \"gridcolor\": \"white\", \"linecolor\": \"white\", \"minorgridcolor\": \"white\", \"startlinecolor\": \"#2a3f5f\"}, \"baxis\": {\"endlinecolor\": \"#2a3f5f\", \"gridcolor\": \"white\", \"linecolor\": \"white\", \"minorgridcolor\": \"white\", \"startlinecolor\": \"#2a3f5f\"}, \"type\": \"carpet\"}], \"choropleth\": [{\"colorbar\": {\"outlinewidth\": 0, \"ticks\": \"\"}, \"type\": \"choropleth\"}], \"contour\": [{\"colorbar\": {\"outlinewidth\": 0, \"ticks\": \"\"}, \"colorscale\": [[0.0, \"#0d0887\"], [0.1111111111111111, \"#46039f\"], [0.2222222222222222, \"#7201a8\"], [0.3333333333333333, \"#9c179e\"], [0.4444444444444444, \"#bd3786\"], [0.5555555555555556, \"#d8576b\"], [0.6666666666666666, \"#ed7953\"], [0.7777777777777778, \"#fb9f3a\"], [0.8888888888888888, \"#fdca26\"], [1.0, \"#f0f921\"]], \"type\": \"contour\"}], \"contourcarpet\": [{\"colorbar\": {\"outlinewidth\": 0, \"ticks\": \"\"}, \"type\": \"contourcarpet\"}], \"heatmap\": [{\"colorbar\": {\"outlinewidth\": 0, \"ticks\": \"\"}, \"colorscale\": [[0.0, \"#0d0887\"], [0.1111111111111111, \"#46039f\"], [0.2222222222222222, \"#7201a8\"], [0.3333333333333333, \"#9c179e\"], [0.4444444444444444, \"#bd3786\"], [0.5555555555555556, \"#d8576b\"], [0.6666666666666666, \"#ed7953\"], [0.7777777777777778, \"#fb9f3a\"], [0.8888888888888888, \"#fdca26\"], [1.0, \"#f0f921\"]], \"type\": \"heatmap\"}], \"heatmapgl\": [{\"colorbar\": {\"outlinewidth\": 0, \"ticks\": \"\"}, \"colorscale\": [[0.0, \"#0d0887\"], [0.1111111111111111, \"#46039f\"], [0.2222222222222222, \"#7201a8\"], [0.3333333333333333, \"#9c179e\"], [0.4444444444444444, \"#bd3786\"], [0.5555555555555556, \"#d8576b\"], [0.6666666666666666, \"#ed7953\"], [0.7777777777777778, \"#fb9f3a\"], [0.8888888888888888, \"#fdca26\"], [1.0, \"#f0f921\"]], \"type\": \"heatmapgl\"}], \"histogram\": [{\"marker\": {\"colorbar\": {\"outlinewidth\": 0, \"ticks\": \"\"}}, \"type\": \"histogram\"}], \"histogram2d\": [{\"colorbar\": {\"outlinewidth\": 0, \"ticks\": \"\"}, \"colorscale\": [[0.0, \"#0d0887\"], [0.1111111111111111, \"#46039f\"], [0.2222222222222222, \"#7201a8\"], [0.3333333333333333, \"#9c179e\"], [0.4444444444444444, \"#bd3786\"], [0.5555555555555556, \"#d8576b\"], [0.6666666666666666, \"#ed7953\"], [0.7777777777777778, \"#fb9f3a\"], [0.8888888888888888, \"#fdca26\"], [1.0, \"#f0f921\"]], \"type\": \"histogram2d\"}], \"histogram2dcontour\": [{\"colorbar\": {\"outlinewidth\": 0, \"ticks\": \"\"}, \"colorscale\": [[0.0, \"#0d0887\"], [0.1111111111111111, \"#46039f\"], [0.2222222222222222, \"#7201a8\"], [0.3333333333333333, \"#9c179e\"], [0.4444444444444444, \"#bd3786\"], [0.5555555555555556, \"#d8576b\"], [0.6666666666666666, \"#ed7953\"], [0.7777777777777778, \"#fb9f3a\"], [0.8888888888888888, \"#fdca26\"], [1.0, \"#f0f921\"]], \"type\": \"histogram2dcontour\"}], \"mesh3d\": [{\"colorbar\": {\"outlinewidth\": 0, \"ticks\": \"\"}, \"type\": \"mesh3d\"}], \"parcoords\": [{\"line\": {\"colorbar\": {\"outlinewidth\": 0, \"ticks\": \"\"}}, \"type\": \"parcoords\"}], \"pie\": [{\"automargin\": true, \"type\": \"pie\"}], \"scatter\": [{\"marker\": {\"colorbar\": {\"outlinewidth\": 0, \"ticks\": \"\"}}, \"type\": \"scatter\"}], \"scatter3d\": [{\"line\": {\"colorbar\": {\"outlinewidth\": 0, \"ticks\": \"\"}}, \"marker\": {\"colorbar\": {\"outlinewidth\": 0, \"ticks\": \"\"}}, \"type\": \"scatter3d\"}], \"scattercarpet\": [{\"marker\": {\"colorbar\": {\"outlinewidth\": 0, \"ticks\": \"\"}}, \"type\": \"scattercarpet\"}], \"scattergeo\": [{\"marker\": {\"colorbar\": {\"outlinewidth\": 0, \"ticks\": \"\"}}, \"type\": \"scattergeo\"}], \"scattergl\": [{\"marker\": {\"colorbar\": {\"outlinewidth\": 0, \"ticks\": \"\"}}, \"type\": \"scattergl\"}], \"scattermapbox\": [{\"marker\": {\"colorbar\": {\"outlinewidth\": 0, \"ticks\": \"\"}}, \"type\": \"scattermapbox\"}], \"scatterpolar\": [{\"marker\": {\"colorbar\": {\"outlinewidth\": 0, \"ticks\": \"\"}}, \"type\": \"scatterpolar\"}], \"scatterpolargl\": [{\"marker\": {\"colorbar\": {\"outlinewidth\": 0, \"ticks\": \"\"}}, \"type\": \"scatterpolargl\"}], \"scatterternary\": [{\"marker\": {\"colorbar\": {\"outlinewidth\": 0, \"ticks\": \"\"}}, \"type\": \"scatterternary\"}], \"surface\": [{\"colorbar\": {\"outlinewidth\": 0, \"ticks\": \"\"}, \"colorscale\": [[0.0, \"#0d0887\"], [0.1111111111111111, \"#46039f\"], [0.2222222222222222, \"#7201a8\"], [0.3333333333333333, \"#9c179e\"], [0.4444444444444444, \"#bd3786\"], [0.5555555555555556, \"#d8576b\"], [0.6666666666666666, \"#ed7953\"], [0.7777777777777778, \"#fb9f3a\"], [0.8888888888888888, \"#fdca26\"], [1.0, \"#f0f921\"]], \"type\": \"surface\"}], \"table\": [{\"cells\": {\"fill\": {\"color\": \"#EBF0F8\"}, \"line\": {\"color\": \"white\"}}, \"header\": {\"fill\": {\"color\": \"#C8D4E3\"}, \"line\": {\"color\": \"white\"}}, \"type\": \"table\"}]}, \"layout\": {\"annotationdefaults\": {\"arrowcolor\": \"#2a3f5f\", \"arrowhead\": 0, \"arrowwidth\": 1}, \"coloraxis\": {\"colorbar\": {\"outlinewidth\": 0, \"ticks\": \"\"}}, \"colorscale\": {\"diverging\": [[0, \"#8e0152\"], [0.1, \"#c51b7d\"], [0.2, \"#de77ae\"], [0.3, \"#f1b6da\"], [0.4, \"#fde0ef\"], [0.5, \"#f7f7f7\"], [0.6, \"#e6f5d0\"], [0.7, \"#b8e186\"], [0.8, \"#7fbc41\"], [0.9, \"#4d9221\"], [1, \"#276419\"]], \"sequential\": [[0.0, \"#0d0887\"], [0.1111111111111111, \"#46039f\"], [0.2222222222222222, \"#7201a8\"], [0.3333333333333333, \"#9c179e\"], [0.4444444444444444, \"#bd3786\"], [0.5555555555555556, \"#d8576b\"], [0.6666666666666666, \"#ed7953\"], [0.7777777777777778, \"#fb9f3a\"], [0.8888888888888888, \"#fdca26\"], [1.0, \"#f0f921\"]], \"sequentialminus\": [[0.0, \"#0d0887\"], [0.1111111111111111, \"#46039f\"], [0.2222222222222222, \"#7201a8\"], [0.3333333333333333, \"#9c179e\"], [0.4444444444444444, \"#bd3786\"], [0.5555555555555556, \"#d8576b\"], [0.6666666666666666, \"#ed7953\"], [0.7777777777777778, \"#fb9f3a\"], [0.8888888888888888, \"#fdca26\"], [1.0, \"#f0f921\"]]}, \"colorway\": [\"#636efa\", \"#EF553B\", \"#00cc96\", \"#ab63fa\", \"#FFA15A\", \"#19d3f3\", \"#FF6692\", \"#B6E880\", \"#FF97FF\", \"#FECB52\"], \"font\": {\"color\": \"#2a3f5f\"}, \"geo\": {\"bgcolor\": \"white\", \"lakecolor\": \"white\", \"landcolor\": \"#E5ECF6\", \"showlakes\": true, \"showland\": true, \"subunitcolor\": \"white\"}, \"hoverlabel\": {\"align\": \"left\"}, \"hovermode\": \"closest\", \"mapbox\": {\"style\": \"light\"}, \"paper_bgcolor\": \"white\", \"plot_bgcolor\": \"#E5ECF6\", \"polar\": {\"angularaxis\": {\"gridcolor\": \"white\", \"linecolor\": \"white\", \"ticks\": \"\"}, \"bgcolor\": \"#E5ECF6\", \"radialaxis\": {\"gridcolor\": \"white\", \"linecolor\": \"white\", \"ticks\": \"\"}}, \"scene\": {\"xaxis\": {\"backgroundcolor\": \"#E5ECF6\", \"gridcolor\": \"white\", \"gridwidth\": 2, \"linecolor\": \"white\", \"showbackground\": true, \"ticks\": \"\", \"zerolinecolor\": \"white\"}, \"yaxis\": {\"backgroundcolor\": \"#E5ECF6\", \"gridcolor\": \"white\", \"gridwidth\": 2, \"linecolor\": \"white\", \"showbackground\": true, \"ticks\": \"\", \"zerolinecolor\": \"white\"}, \"zaxis\": {\"backgroundcolor\": \"#E5ECF6\", \"gridcolor\": \"white\", \"gridwidth\": 2, \"linecolor\": \"white\", \"showbackground\": true, \"ticks\": \"\", \"zerolinecolor\": \"white\"}}, \"shapedefaults\": {\"line\": {\"color\": \"#2a3f5f\"}}, \"ternary\": {\"aaxis\": {\"gridcolor\": \"white\", \"linecolor\": \"white\", \"ticks\": \"\"}, \"baxis\": {\"gridcolor\": \"white\", \"linecolor\": \"white\", \"ticks\": \"\"}, \"bgcolor\": \"#E5ECF6\", \"caxis\": {\"gridcolor\": \"white\", \"linecolor\": \"white\", \"ticks\": \"\"}}, \"title\": {\"x\": 0.05}, \"xaxis\": {\"automargin\": true, \"gridcolor\": \"white\", \"linecolor\": \"white\", \"ticks\": \"\", \"title\": {\"standoff\": 15}, \"zerolinecolor\": \"white\", \"zerolinewidth\": 2}, \"yaxis\": {\"automargin\": true, \"gridcolor\": \"white\", \"linecolor\": \"white\", \"ticks\": \"\", \"title\": {\"standoff\": 15}, \"zerolinecolor\": \"white\", \"zerolinewidth\": 2}}}, \"xaxis\": {\"anchor\": \"y\", \"domain\": [0.0, 1.0], \"title\": {\"text\": \"Married\"}}, \"yaxis\": {\"anchor\": \"x\", \"domain\": [0.0, 1.0], \"title\": {\"text\": \"count\"}}},                        {\"responsive\": true}                    ).then(function(){\n",
       "                            \n",
       "var gd = document.getElementById('d89dc69e-a456-43d6-a567-02f9c1b2c724');\n",
       "var x = new MutationObserver(function (mutations, observer) {{\n",
       "        var display = window.getComputedStyle(gd).display;\n",
       "        if (!display || display === 'none') {{\n",
       "            console.log([gd, 'removed!']);\n",
       "            Plotly.purge(gd);\n",
       "            observer.disconnect();\n",
       "        }}\n",
       "}});\n",
       "\n",
       "// Listen for the removal of the full notebook cells\n",
       "var notebookContainer = gd.closest('#notebook-container');\n",
       "if (notebookContainer) {{\n",
       "    x.observe(notebookContainer, {childList: true});\n",
       "}}\n",
       "\n",
       "// Listen for the clearing of the current output cell\n",
       "var outputEl = gd.closest('.output');\n",
       "if (outputEl) {{\n",
       "    x.observe(outputEl, {childList: true});\n",
       "}}\n",
       "\n",
       "                        })                };                });            </script>        </div>"
      ]
     },
     "metadata": {},
     "output_type": "display_data"
    },
    {
     "data": {
      "text/html": [
       "<div>                            <div id=\"0adbdbc1-87e2-43eb-b7a8-96501796f16e\" class=\"plotly-graph-div\" style=\"height:525px; width:100%;\"></div>            <script type=\"text/javascript\">                require([\"plotly\"], function(Plotly) {                    window.PLOTLYENV=window.PLOTLYENV || {};                                    if (document.getElementById(\"0adbdbc1-87e2-43eb-b7a8-96501796f16e\")) {                    Plotly.newPlot(                        \"0adbdbc1-87e2-43eb-b7a8-96501796f16e\",                        [{\"alignmentgroup\": \"True\", \"hovertemplate\": \"Education=%{x}<br>count=%{y}<extra></extra>\", \"legendgroup\": \"Graduate\", \"marker\": {\"color\": \"#636efa\"}, \"name\": \"Graduate\", \"offsetgroup\": \"Graduate\", \"orientation\": \"v\", \"showlegend\": true, \"textposition\": \"auto\", \"type\": \"bar\", \"x\": [\"Graduate\", \"Graduate\", \"Graduate\", \"Graduate\", \"Graduate\", \"Graduate\", \"Graduate\", \"Graduate\", \"Graduate\", \"Graduate\", \"Graduate\", \"Graduate\", \"Graduate\", \"Graduate\", \"Graduate\", \"Graduate\", \"Graduate\", \"Graduate\", \"Graduate\", \"Graduate\", \"Graduate\", \"Graduate\", \"Graduate\", \"Graduate\", \"Graduate\", \"Graduate\", \"Graduate\", \"Graduate\", \"Graduate\", \"Graduate\", \"Graduate\", \"Graduate\", \"Graduate\", \"Graduate\", \"Graduate\", \"Graduate\", \"Graduate\", \"Graduate\", \"Graduate\", \"Graduate\", \"Graduate\", \"Graduate\", \"Graduate\", \"Graduate\", \"Graduate\", \"Graduate\", \"Graduate\", \"Graduate\", \"Graduate\", \"Graduate\", \"Graduate\", \"Graduate\", \"Graduate\", \"Graduate\", \"Graduate\", \"Graduate\", \"Graduate\", \"Graduate\", \"Graduate\", \"Graduate\", \"Graduate\", \"Graduate\", \"Graduate\", \"Graduate\", \"Graduate\", \"Graduate\", \"Graduate\", \"Graduate\", \"Graduate\", \"Graduate\", \"Graduate\", \"Graduate\", \"Graduate\", \"Graduate\", \"Graduate\", \"Graduate\", \"Graduate\", \"Graduate\", \"Graduate\", \"Graduate\", \"Graduate\", \"Graduate\", \"Graduate\", \"Graduate\", \"Graduate\", \"Graduate\", \"Graduate\", \"Graduate\", \"Graduate\", \"Graduate\", \"Graduate\", \"Graduate\", \"Graduate\", \"Graduate\", \"Graduate\", \"Graduate\", \"Graduate\", \"Graduate\", \"Graduate\", \"Graduate\", \"Graduate\", \"Graduate\", \"Graduate\", \"Graduate\", \"Graduate\", \"Graduate\", \"Graduate\", \"Graduate\", \"Graduate\", \"Graduate\", \"Graduate\", \"Graduate\", \"Graduate\", \"Graduate\", \"Graduate\", \"Graduate\", \"Graduate\", \"Graduate\", \"Graduate\", \"Graduate\", \"Graduate\", \"Graduate\", \"Graduate\", \"Graduate\", \"Graduate\", \"Graduate\", \"Graduate\", \"Graduate\", \"Graduate\", \"Graduate\", \"Graduate\", \"Graduate\", \"Graduate\", \"Graduate\", \"Graduate\", \"Graduate\", \"Graduate\", \"Graduate\", \"Graduate\", \"Graduate\", \"Graduate\", \"Graduate\", \"Graduate\", \"Graduate\", \"Graduate\", \"Graduate\", \"Graduate\", \"Graduate\", \"Graduate\", \"Graduate\", \"Graduate\", \"Graduate\", \"Graduate\", \"Graduate\", \"Graduate\", \"Graduate\", \"Graduate\", \"Graduate\", \"Graduate\", \"Graduate\", \"Graduate\", \"Graduate\", \"Graduate\", \"Graduate\", \"Graduate\", \"Graduate\", \"Graduate\", \"Graduate\", \"Graduate\", \"Graduate\", \"Graduate\", \"Graduate\", \"Graduate\", \"Graduate\", \"Graduate\", \"Graduate\", \"Graduate\", \"Graduate\", \"Graduate\", \"Graduate\", \"Graduate\", \"Graduate\", \"Graduate\", \"Graduate\", \"Graduate\", \"Graduate\", \"Graduate\", \"Graduate\", \"Graduate\", \"Graduate\", \"Graduate\", \"Graduate\", \"Graduate\", \"Graduate\", \"Graduate\", \"Graduate\", \"Graduate\", \"Graduate\", \"Graduate\", \"Graduate\", \"Graduate\", \"Graduate\", \"Graduate\", \"Graduate\", \"Graduate\", \"Graduate\", \"Graduate\", \"Graduate\", \"Graduate\", \"Graduate\", \"Graduate\", \"Graduate\", \"Graduate\", \"Graduate\", \"Graduate\", \"Graduate\", \"Graduate\", \"Graduate\", \"Graduate\", \"Graduate\", \"Graduate\", \"Graduate\", \"Graduate\", \"Graduate\", \"Graduate\", \"Graduate\", \"Graduate\", \"Graduate\", \"Graduate\", \"Graduate\", \"Graduate\", \"Graduate\", \"Graduate\", \"Graduate\", \"Graduate\", \"Graduate\", \"Graduate\", \"Graduate\", \"Graduate\", \"Graduate\", \"Graduate\", \"Graduate\", \"Graduate\", \"Graduate\", \"Graduate\", \"Graduate\", \"Graduate\", \"Graduate\", \"Graduate\", \"Graduate\", \"Graduate\", \"Graduate\", \"Graduate\", \"Graduate\", \"Graduate\", \"Graduate\", \"Graduate\", \"Graduate\", \"Graduate\", \"Graduate\", \"Graduate\", \"Graduate\", \"Graduate\", \"Graduate\", \"Graduate\", \"Graduate\", \"Graduate\", \"Graduate\", \"Graduate\", \"Graduate\", \"Graduate\", \"Graduate\", \"Graduate\", \"Graduate\", \"Graduate\", \"Graduate\", \"Graduate\", \"Graduate\", \"Graduate\", \"Graduate\", \"Graduate\", \"Graduate\", \"Graduate\", \"Graduate\", \"Graduate\", \"Graduate\", \"Graduate\", \"Graduate\", \"Graduate\", \"Graduate\", \"Graduate\", \"Graduate\", \"Graduate\", \"Graduate\", \"Graduate\", \"Graduate\", \"Graduate\", \"Graduate\", \"Graduate\", \"Graduate\", \"Graduate\", \"Graduate\", \"Graduate\", \"Graduate\", \"Graduate\", \"Graduate\", \"Graduate\", \"Graduate\", \"Graduate\", \"Graduate\", \"Graduate\", \"Graduate\", \"Graduate\", \"Graduate\", \"Graduate\", \"Graduate\", \"Graduate\", \"Graduate\", \"Graduate\", \"Graduate\", \"Graduate\", \"Graduate\", \"Graduate\", \"Graduate\", \"Graduate\", \"Graduate\", \"Graduate\", \"Graduate\", \"Graduate\", \"Graduate\", \"Graduate\", \"Graduate\", \"Graduate\", \"Graduate\", \"Graduate\", \"Graduate\", \"Graduate\", \"Graduate\", \"Graduate\", \"Graduate\", \"Graduate\", \"Graduate\", \"Graduate\", \"Graduate\", \"Graduate\", \"Graduate\", \"Graduate\", \"Graduate\", \"Graduate\", \"Graduate\", \"Graduate\", \"Graduate\", \"Graduate\", \"Graduate\", \"Graduate\", \"Graduate\", \"Graduate\", \"Graduate\", \"Graduate\", \"Graduate\", \"Graduate\", \"Graduate\", \"Graduate\", \"Graduate\", \"Graduate\", \"Graduate\", \"Graduate\", \"Graduate\", \"Graduate\", \"Graduate\", \"Graduate\", \"Graduate\", \"Graduate\", \"Graduate\", \"Graduate\", \"Graduate\", \"Graduate\", \"Graduate\", \"Graduate\", \"Graduate\", \"Graduate\", \"Graduate\", \"Graduate\", \"Graduate\", \"Graduate\", \"Graduate\", \"Graduate\", \"Graduate\", \"Graduate\", \"Graduate\", \"Graduate\", \"Graduate\", \"Graduate\", \"Graduate\", \"Graduate\", \"Graduate\", \"Graduate\", \"Graduate\", \"Graduate\", \"Graduate\", \"Graduate\", \"Graduate\", \"Graduate\", \"Graduate\", \"Graduate\", \"Graduate\", \"Graduate\", \"Graduate\", \"Graduate\", \"Graduate\", \"Graduate\", \"Graduate\", \"Graduate\", \"Graduate\", \"Graduate\", \"Graduate\", \"Graduate\", \"Graduate\", \"Graduate\", \"Graduate\", \"Graduate\", \"Graduate\", \"Graduate\", \"Graduate\", \"Graduate\", \"Graduate\", \"Graduate\", \"Graduate\", \"Graduate\", \"Graduate\", \"Graduate\", \"Graduate\", \"Graduate\", \"Graduate\", \"Graduate\", \"Graduate\", \"Graduate\", \"Graduate\", \"Graduate\", \"Graduate\", \"Graduate\", \"Graduate\", \"Graduate\", \"Graduate\", \"Graduate\", \"Graduate\", \"Graduate\", \"Graduate\", \"Graduate\", \"Graduate\", \"Graduate\", \"Graduate\", \"Graduate\", \"Graduate\", \"Graduate\", \"Graduate\", \"Graduate\", \"Graduate\", \"Graduate\", \"Graduate\", \"Graduate\", \"Graduate\", \"Graduate\", \"Graduate\", \"Graduate\", \"Graduate\", \"Graduate\", \"Graduate\", \"Graduate\", \"Graduate\", \"Graduate\", \"Graduate\", \"Graduate\", \"Graduate\", \"Graduate\", \"Graduate\", \"Graduate\", \"Graduate\", \"Graduate\", \"Graduate\"], \"xaxis\": \"x\", \"y\": [1, 1, 1, 1, 1, 1, 1, 1, 1, 1, 1, 1, 1, 1, 1, 1, 1, 1, 1, 1, 1, 1, 1, 1, 1, 1, 1, 1, 1, 1, 1, 1, 1, 1, 1, 1, 1, 1, 1, 1, 1, 1, 1, 1, 1, 1, 1, 1, 1, 1, 1, 1, 1, 1, 1, 1, 1, 1, 1, 1, 1, 1, 1, 1, 1, 1, 1, 1, 1, 1, 1, 1, 1, 1, 1, 1, 1, 1, 1, 1, 1, 1, 1, 1, 1, 1, 1, 1, 1, 1, 1, 1, 1, 1, 1, 1, 1, 1, 1, 1, 1, 1, 1, 1, 1, 1, 1, 1, 1, 1, 1, 1, 1, 1, 1, 1, 1, 1, 1, 1, 1, 1, 1, 1, 1, 1, 1, 1, 1, 1, 1, 1, 1, 1, 1, 1, 1, 1, 1, 1, 1, 1, 1, 1, 1, 1, 1, 1, 1, 1, 1, 1, 1, 1, 1, 1, 1, 1, 1, 1, 1, 1, 1, 1, 1, 1, 1, 1, 1, 1, 1, 1, 1, 1, 1, 1, 1, 1, 1, 1, 1, 1, 1, 1, 1, 1, 1, 1, 1, 1, 1, 1, 1, 1, 1, 1, 1, 1, 1, 1, 1, 1, 1, 1, 1, 1, 1, 1, 1, 1, 1, 1, 1, 1, 1, 1, 1, 1, 1, 1, 1, 1, 1, 1, 1, 1, 1, 1, 1, 1, 1, 1, 1, 1, 1, 1, 1, 1, 1, 1, 1, 1, 1, 1, 1, 1, 1, 1, 1, 1, 1, 1, 1, 1, 1, 1, 1, 1, 1, 1, 1, 1, 1, 1, 1, 1, 1, 1, 1, 1, 1, 1, 1, 1, 1, 1, 1, 1, 1, 1, 1, 1, 1, 1, 1, 1, 1, 1, 1, 1, 1, 1, 1, 1, 1, 1, 1, 1, 1, 1, 1, 1, 1, 1, 1, 1, 1, 1, 1, 1, 1, 1, 1, 1, 1, 1, 1, 1, 1, 1, 1, 1, 1, 1, 1, 1, 1, 1, 1, 1, 1, 1, 1, 1, 1, 1, 1, 1, 1, 1, 1, 1, 1, 1, 1, 1, 1, 1, 1, 1, 1, 1, 1, 1, 1, 1, 1, 1, 1, 1, 1, 1, 1, 1, 1, 1, 1, 1, 1, 1, 1, 1, 1, 1, 1, 1, 1, 1, 1, 1, 1, 1, 1, 1, 1, 1, 1, 1, 1, 1, 1, 1, 1, 1, 1, 1, 1, 1, 1, 1, 1, 1, 1, 1, 1, 1, 1, 1, 1, 1, 1, 1, 1, 1, 1, 1, 1, 1, 1, 1, 1, 1, 1, 1, 1, 1, 1, 1, 1, 1, 1, 1, 1, 1, 1, 1, 1, 1, 1, 1, 1, 1, 1, 1, 1, 1, 1, 1, 1, 1, 1, 1, 1, 1, 1, 1, 1, 1, 1, 1, 1, 1, 1, 1, 1, 1, 1, 1, 1, 1, 1, 1, 1, 1, 1, 1, 1, 1, 1, 1], \"yaxis\": \"y\"}, {\"alignmentgroup\": \"True\", \"hovertemplate\": \"Education=%{x}<br>count=%{y}<extra></extra>\", \"legendgroup\": \"Not Graduate\", \"marker\": {\"color\": \"#EF553B\"}, \"name\": \"Not Graduate\", \"offsetgroup\": \"Not Graduate\", \"orientation\": \"v\", \"showlegend\": true, \"textposition\": \"auto\", \"type\": \"bar\", \"x\": [\"Not Graduate\", \"Not Graduate\", \"Not Graduate\", \"Not Graduate\", \"Not Graduate\", \"Not Graduate\", \"Not Graduate\", \"Not Graduate\", \"Not Graduate\", \"Not Graduate\", \"Not Graduate\", \"Not Graduate\", \"Not Graduate\", \"Not Graduate\", \"Not Graduate\", \"Not Graduate\", \"Not Graduate\", \"Not Graduate\", \"Not Graduate\", \"Not Graduate\", \"Not Graduate\", \"Not Graduate\", \"Not Graduate\", \"Not Graduate\", \"Not Graduate\", \"Not Graduate\", \"Not Graduate\", \"Not Graduate\", \"Not Graduate\", \"Not Graduate\", \"Not Graduate\", \"Not Graduate\", \"Not Graduate\", \"Not Graduate\", \"Not Graduate\", \"Not Graduate\", \"Not Graduate\", \"Not Graduate\", \"Not Graduate\", \"Not Graduate\", \"Not Graduate\", \"Not Graduate\", \"Not Graduate\", \"Not Graduate\", \"Not Graduate\", \"Not Graduate\", \"Not Graduate\", \"Not Graduate\", \"Not Graduate\", \"Not Graduate\", \"Not Graduate\", \"Not Graduate\", \"Not Graduate\", \"Not Graduate\", \"Not Graduate\", \"Not Graduate\", \"Not Graduate\", \"Not Graduate\", \"Not Graduate\", \"Not Graduate\", \"Not Graduate\", \"Not Graduate\", \"Not Graduate\", \"Not Graduate\", \"Not Graduate\", \"Not Graduate\", \"Not Graduate\", \"Not Graduate\", \"Not Graduate\", \"Not Graduate\", \"Not Graduate\", \"Not Graduate\", \"Not Graduate\", \"Not Graduate\", \"Not Graduate\", \"Not Graduate\", \"Not Graduate\", \"Not Graduate\", \"Not Graduate\", \"Not Graduate\", \"Not Graduate\", \"Not Graduate\", \"Not Graduate\", \"Not Graduate\", \"Not Graduate\", \"Not Graduate\", \"Not Graduate\", \"Not Graduate\", \"Not Graduate\", \"Not Graduate\", \"Not Graduate\", \"Not Graduate\", \"Not Graduate\", \"Not Graduate\", \"Not Graduate\", \"Not Graduate\", \"Not Graduate\", \"Not Graduate\", \"Not Graduate\", \"Not Graduate\", \"Not Graduate\", \"Not Graduate\", \"Not Graduate\", \"Not Graduate\", \"Not Graduate\", \"Not Graduate\", \"Not Graduate\", \"Not Graduate\", \"Not Graduate\", \"Not Graduate\", \"Not Graduate\", \"Not Graduate\", \"Not Graduate\", \"Not Graduate\", \"Not Graduate\", \"Not Graduate\", \"Not Graduate\", \"Not Graduate\", \"Not Graduate\", \"Not Graduate\", \"Not Graduate\", \"Not Graduate\", \"Not Graduate\", \"Not Graduate\", \"Not Graduate\", \"Not Graduate\", \"Not Graduate\", \"Not Graduate\", \"Not Graduate\", \"Not Graduate\", \"Not Graduate\", \"Not Graduate\", \"Not Graduate\", \"Not Graduate\"], \"xaxis\": \"x\", \"y\": [1, 1, 1, 1, 1, 1, 1, 1, 1, 1, 1, 1, 1, 1, 1, 1, 1, 1, 1, 1, 1, 1, 1, 1, 1, 1, 1, 1, 1, 1, 1, 1, 1, 1, 1, 1, 1, 1, 1, 1, 1, 1, 1, 1, 1, 1, 1, 1, 1, 1, 1, 1, 1, 1, 1, 1, 1, 1, 1, 1, 1, 1, 1, 1, 1, 1, 1, 1, 1, 1, 1, 1, 1, 1, 1, 1, 1, 1, 1, 1, 1, 1, 1, 1, 1, 1, 1, 1, 1, 1, 1, 1, 1, 1, 1, 1, 1, 1, 1, 1, 1, 1, 1, 1, 1, 1, 1, 1, 1, 1, 1, 1, 1, 1, 1, 1, 1, 1, 1, 1, 1, 1, 1, 1, 1, 1, 1, 1, 1, 1, 1, 1, 1, 1], \"yaxis\": \"y\"}],                        {\"barmode\": \"relative\", \"legend\": {\"title\": {\"text\": \"Education\"}, \"tracegroupgap\": 0}, \"margin\": {\"t\": 60}, \"template\": {\"data\": {\"bar\": [{\"error_x\": {\"color\": \"#2a3f5f\"}, \"error_y\": {\"color\": \"#2a3f5f\"}, \"marker\": {\"line\": {\"color\": \"#E5ECF6\", \"width\": 0.5}}, \"type\": \"bar\"}], \"barpolar\": [{\"marker\": {\"line\": {\"color\": \"#E5ECF6\", \"width\": 0.5}}, \"type\": \"barpolar\"}], \"carpet\": [{\"aaxis\": {\"endlinecolor\": \"#2a3f5f\", \"gridcolor\": \"white\", \"linecolor\": \"white\", \"minorgridcolor\": \"white\", \"startlinecolor\": \"#2a3f5f\"}, \"baxis\": {\"endlinecolor\": \"#2a3f5f\", \"gridcolor\": \"white\", \"linecolor\": \"white\", \"minorgridcolor\": \"white\", \"startlinecolor\": \"#2a3f5f\"}, \"type\": \"carpet\"}], \"choropleth\": [{\"colorbar\": {\"outlinewidth\": 0, \"ticks\": \"\"}, \"type\": \"choropleth\"}], \"contour\": [{\"colorbar\": {\"outlinewidth\": 0, \"ticks\": \"\"}, \"colorscale\": [[0.0, \"#0d0887\"], [0.1111111111111111, \"#46039f\"], [0.2222222222222222, \"#7201a8\"], [0.3333333333333333, \"#9c179e\"], [0.4444444444444444, \"#bd3786\"], [0.5555555555555556, \"#d8576b\"], [0.6666666666666666, \"#ed7953\"], [0.7777777777777778, \"#fb9f3a\"], [0.8888888888888888, \"#fdca26\"], [1.0, \"#f0f921\"]], \"type\": \"contour\"}], \"contourcarpet\": [{\"colorbar\": {\"outlinewidth\": 0, \"ticks\": \"\"}, \"type\": \"contourcarpet\"}], \"heatmap\": [{\"colorbar\": {\"outlinewidth\": 0, \"ticks\": \"\"}, \"colorscale\": [[0.0, \"#0d0887\"], [0.1111111111111111, \"#46039f\"], [0.2222222222222222, \"#7201a8\"], [0.3333333333333333, \"#9c179e\"], [0.4444444444444444, \"#bd3786\"], [0.5555555555555556, \"#d8576b\"], [0.6666666666666666, \"#ed7953\"], [0.7777777777777778, \"#fb9f3a\"], [0.8888888888888888, \"#fdca26\"], [1.0, \"#f0f921\"]], \"type\": \"heatmap\"}], \"heatmapgl\": [{\"colorbar\": {\"outlinewidth\": 0, \"ticks\": \"\"}, \"colorscale\": [[0.0, \"#0d0887\"], [0.1111111111111111, \"#46039f\"], [0.2222222222222222, \"#7201a8\"], [0.3333333333333333, \"#9c179e\"], [0.4444444444444444, \"#bd3786\"], [0.5555555555555556, \"#d8576b\"], [0.6666666666666666, \"#ed7953\"], [0.7777777777777778, \"#fb9f3a\"], [0.8888888888888888, \"#fdca26\"], [1.0, \"#f0f921\"]], \"type\": \"heatmapgl\"}], \"histogram\": [{\"marker\": {\"colorbar\": {\"outlinewidth\": 0, \"ticks\": \"\"}}, \"type\": \"histogram\"}], \"histogram2d\": [{\"colorbar\": {\"outlinewidth\": 0, \"ticks\": \"\"}, \"colorscale\": [[0.0, \"#0d0887\"], [0.1111111111111111, \"#46039f\"], [0.2222222222222222, \"#7201a8\"], [0.3333333333333333, \"#9c179e\"], [0.4444444444444444, \"#bd3786\"], [0.5555555555555556, \"#d8576b\"], [0.6666666666666666, \"#ed7953\"], [0.7777777777777778, \"#fb9f3a\"], [0.8888888888888888, \"#fdca26\"], [1.0, \"#f0f921\"]], \"type\": \"histogram2d\"}], \"histogram2dcontour\": [{\"colorbar\": {\"outlinewidth\": 0, \"ticks\": \"\"}, \"colorscale\": [[0.0, \"#0d0887\"], [0.1111111111111111, \"#46039f\"], [0.2222222222222222, \"#7201a8\"], [0.3333333333333333, \"#9c179e\"], [0.4444444444444444, \"#bd3786\"], [0.5555555555555556, \"#d8576b\"], [0.6666666666666666, \"#ed7953\"], [0.7777777777777778, \"#fb9f3a\"], [0.8888888888888888, \"#fdca26\"], [1.0, \"#f0f921\"]], \"type\": \"histogram2dcontour\"}], \"mesh3d\": [{\"colorbar\": {\"outlinewidth\": 0, \"ticks\": \"\"}, \"type\": \"mesh3d\"}], \"parcoords\": [{\"line\": {\"colorbar\": {\"outlinewidth\": 0, \"ticks\": \"\"}}, \"type\": \"parcoords\"}], \"pie\": [{\"automargin\": true, \"type\": \"pie\"}], \"scatter\": [{\"marker\": {\"colorbar\": {\"outlinewidth\": 0, \"ticks\": \"\"}}, \"type\": \"scatter\"}], \"scatter3d\": [{\"line\": {\"colorbar\": {\"outlinewidth\": 0, \"ticks\": \"\"}}, \"marker\": {\"colorbar\": {\"outlinewidth\": 0, \"ticks\": \"\"}}, \"type\": \"scatter3d\"}], \"scattercarpet\": [{\"marker\": {\"colorbar\": {\"outlinewidth\": 0, \"ticks\": \"\"}}, \"type\": \"scattercarpet\"}], \"scattergeo\": [{\"marker\": {\"colorbar\": {\"outlinewidth\": 0, \"ticks\": \"\"}}, \"type\": \"scattergeo\"}], \"scattergl\": [{\"marker\": {\"colorbar\": {\"outlinewidth\": 0, \"ticks\": \"\"}}, \"type\": \"scattergl\"}], \"scattermapbox\": [{\"marker\": {\"colorbar\": {\"outlinewidth\": 0, \"ticks\": \"\"}}, \"type\": \"scattermapbox\"}], \"scatterpolar\": [{\"marker\": {\"colorbar\": {\"outlinewidth\": 0, \"ticks\": \"\"}}, \"type\": \"scatterpolar\"}], \"scatterpolargl\": [{\"marker\": {\"colorbar\": {\"outlinewidth\": 0, \"ticks\": \"\"}}, \"type\": \"scatterpolargl\"}], \"scatterternary\": [{\"marker\": {\"colorbar\": {\"outlinewidth\": 0, \"ticks\": \"\"}}, \"type\": \"scatterternary\"}], \"surface\": [{\"colorbar\": {\"outlinewidth\": 0, \"ticks\": \"\"}, \"colorscale\": [[0.0, \"#0d0887\"], [0.1111111111111111, \"#46039f\"], [0.2222222222222222, \"#7201a8\"], [0.3333333333333333, \"#9c179e\"], [0.4444444444444444, \"#bd3786\"], [0.5555555555555556, \"#d8576b\"], [0.6666666666666666, \"#ed7953\"], [0.7777777777777778, \"#fb9f3a\"], [0.8888888888888888, \"#fdca26\"], [1.0, \"#f0f921\"]], \"type\": \"surface\"}], \"table\": [{\"cells\": {\"fill\": {\"color\": \"#EBF0F8\"}, \"line\": {\"color\": \"white\"}}, \"header\": {\"fill\": {\"color\": \"#C8D4E3\"}, \"line\": {\"color\": \"white\"}}, \"type\": \"table\"}]}, \"layout\": {\"annotationdefaults\": {\"arrowcolor\": \"#2a3f5f\", \"arrowhead\": 0, \"arrowwidth\": 1}, \"coloraxis\": {\"colorbar\": {\"outlinewidth\": 0, \"ticks\": \"\"}}, \"colorscale\": {\"diverging\": [[0, \"#8e0152\"], [0.1, \"#c51b7d\"], [0.2, \"#de77ae\"], [0.3, \"#f1b6da\"], [0.4, \"#fde0ef\"], [0.5, \"#f7f7f7\"], [0.6, \"#e6f5d0\"], [0.7, \"#b8e186\"], [0.8, \"#7fbc41\"], [0.9, \"#4d9221\"], [1, \"#276419\"]], \"sequential\": [[0.0, \"#0d0887\"], [0.1111111111111111, \"#46039f\"], [0.2222222222222222, \"#7201a8\"], [0.3333333333333333, \"#9c179e\"], [0.4444444444444444, \"#bd3786\"], [0.5555555555555556, \"#d8576b\"], [0.6666666666666666, \"#ed7953\"], [0.7777777777777778, \"#fb9f3a\"], [0.8888888888888888, \"#fdca26\"], [1.0, \"#f0f921\"]], \"sequentialminus\": [[0.0, \"#0d0887\"], [0.1111111111111111, \"#46039f\"], [0.2222222222222222, \"#7201a8\"], [0.3333333333333333, \"#9c179e\"], [0.4444444444444444, \"#bd3786\"], [0.5555555555555556, \"#d8576b\"], [0.6666666666666666, \"#ed7953\"], [0.7777777777777778, \"#fb9f3a\"], [0.8888888888888888, \"#fdca26\"], [1.0, \"#f0f921\"]]}, \"colorway\": [\"#636efa\", \"#EF553B\", \"#00cc96\", \"#ab63fa\", \"#FFA15A\", \"#19d3f3\", \"#FF6692\", \"#B6E880\", \"#FF97FF\", \"#FECB52\"], \"font\": {\"color\": \"#2a3f5f\"}, \"geo\": {\"bgcolor\": \"white\", \"lakecolor\": \"white\", \"landcolor\": \"#E5ECF6\", \"showlakes\": true, \"showland\": true, \"subunitcolor\": \"white\"}, \"hoverlabel\": {\"align\": \"left\"}, \"hovermode\": \"closest\", \"mapbox\": {\"style\": \"light\"}, \"paper_bgcolor\": \"white\", \"plot_bgcolor\": \"#E5ECF6\", \"polar\": {\"angularaxis\": {\"gridcolor\": \"white\", \"linecolor\": \"white\", \"ticks\": \"\"}, \"bgcolor\": \"#E5ECF6\", \"radialaxis\": {\"gridcolor\": \"white\", \"linecolor\": \"white\", \"ticks\": \"\"}}, \"scene\": {\"xaxis\": {\"backgroundcolor\": \"#E5ECF6\", \"gridcolor\": \"white\", \"gridwidth\": 2, \"linecolor\": \"white\", \"showbackground\": true, \"ticks\": \"\", \"zerolinecolor\": \"white\"}, \"yaxis\": {\"backgroundcolor\": \"#E5ECF6\", \"gridcolor\": \"white\", \"gridwidth\": 2, \"linecolor\": \"white\", \"showbackground\": true, \"ticks\": \"\", \"zerolinecolor\": \"white\"}, \"zaxis\": {\"backgroundcolor\": \"#E5ECF6\", \"gridcolor\": \"white\", \"gridwidth\": 2, \"linecolor\": \"white\", \"showbackground\": true, \"ticks\": \"\", \"zerolinecolor\": \"white\"}}, \"shapedefaults\": {\"line\": {\"color\": \"#2a3f5f\"}}, \"ternary\": {\"aaxis\": {\"gridcolor\": \"white\", \"linecolor\": \"white\", \"ticks\": \"\"}, \"baxis\": {\"gridcolor\": \"white\", \"linecolor\": \"white\", \"ticks\": \"\"}, \"bgcolor\": \"#E5ECF6\", \"caxis\": {\"gridcolor\": \"white\", \"linecolor\": \"white\", \"ticks\": \"\"}}, \"title\": {\"x\": 0.05}, \"xaxis\": {\"automargin\": true, \"gridcolor\": \"white\", \"linecolor\": \"white\", \"ticks\": \"\", \"title\": {\"standoff\": 15}, \"zerolinecolor\": \"white\", \"zerolinewidth\": 2}, \"yaxis\": {\"automargin\": true, \"gridcolor\": \"white\", \"linecolor\": \"white\", \"ticks\": \"\", \"title\": {\"standoff\": 15}, \"zerolinecolor\": \"white\", \"zerolinewidth\": 2}}}, \"xaxis\": {\"anchor\": \"y\", \"categoryarray\": [\"Graduate\", \"Not Graduate\"], \"categoryorder\": \"array\", \"domain\": [0.0, 1.0], \"title\": {\"text\": \"Education\"}}, \"yaxis\": {\"anchor\": \"x\", \"domain\": [0.0, 1.0], \"title\": {\"text\": \"count\"}}},                        {\"responsive\": true}                    ).then(function(){\n",
       "                            \n",
       "var gd = document.getElementById('0adbdbc1-87e2-43eb-b7a8-96501796f16e');\n",
       "var x = new MutationObserver(function (mutations, observer) {{\n",
       "        var display = window.getComputedStyle(gd).display;\n",
       "        if (!display || display === 'none') {{\n",
       "            console.log([gd, 'removed!']);\n",
       "            Plotly.purge(gd);\n",
       "            observer.disconnect();\n",
       "        }}\n",
       "}});\n",
       "\n",
       "// Listen for the removal of the full notebook cells\n",
       "var notebookContainer = gd.closest('#notebook-container');\n",
       "if (notebookContainer) {{\n",
       "    x.observe(notebookContainer, {childList: true});\n",
       "}}\n",
       "\n",
       "// Listen for the clearing of the current output cell\n",
       "var outputEl = gd.closest('.output');\n",
       "if (outputEl) {{\n",
       "    x.observe(outputEl, {childList: true});\n",
       "}}\n",
       "\n",
       "                        })                };                });            </script>        </div>"
      ]
     },
     "metadata": {},
     "output_type": "display_data"
    },
    {
     "data": {
      "text/html": [
       "<div>                            <div id=\"b9cb5dbe-7a6e-4307-9dc5-25ab9fbaff87\" class=\"plotly-graph-div\" style=\"height:525px; width:100%;\"></div>            <script type=\"text/javascript\">                require([\"plotly\"], function(Plotly) {                    window.PLOTLYENV=window.PLOTLYENV || {};                                    if (document.getElementById(\"b9cb5dbe-7a6e-4307-9dc5-25ab9fbaff87\")) {                    Plotly.newPlot(                        \"b9cb5dbe-7a6e-4307-9dc5-25ab9fbaff87\",                        [{\"alignmentgroup\": \"True\", \"hovertemplate\": \"Self_Employed=%{x}<br>count=%{y}<extra></extra>\", \"legendgroup\": \"\", \"marker\": {\"color\": \"#636efa\"}, \"name\": \"\", \"offsetgroup\": \"\", \"orientation\": \"v\", \"showlegend\": false, \"textposition\": \"auto\", \"type\": \"bar\", \"x\": [\"No\", \"No\", \"Yes\", \"No\", \"No\", \"Yes\", \"No\", \"No\", \"No\", \"No\", \"No\", null, \"No\", \"No\", \"No\", \"No\", \"No\", \"No\", \"No\", null, \"No\", \"No\", \"No\", \"No\", null, \"Yes\", \"No\", \"No\", \"No\", null, null, \"No\", \"Yes\", \"No\", \"No\", \"No\", \"No\", \"No\", \"No\", \"No\", \"No\", \"No\", \"No\", \"No\", \"Yes\", \"No\", \"No\", \"No\", \"No\", \"No\", \"No\", \"No\", \"No\", \"No\", \"Yes\", \"No\", \"No\", \"No\", \"No\", \"No\", \"No\", \"No\", \"Yes\", \"No\", \"No\", \"No\", \"No\", \"No\", \"Yes\", \"No\", \"No\", \"Yes\", \"No\", \"No\", \"Yes\", \"No\", \"No\", \"Yes\", \"No\", \"Yes\", \"No\", \"Yes\", \"No\", \"No\", \"No\", \"No\", \"No\", \"No\", \"No\", \"No\", \"No\", \"No\", \"No\", \"No\", \"No\", null, \"No\", \"No\", \"No\", \"No\", \"No\", \"No\", \"No\", \"No\", \"No\", \"No\", \"No\", null, \"No\", \"No\", \"No\", null, \"No\", \"Yes\", null, \"No\", \"No\", \"No\", \"No\", \"No\", \"No\", \"No\", \"No\", \"No\", \"No\", \"No\", \"No\", \"No\", \"Yes\", \"No\", \"Yes\", \"No\", \"No\", \"Yes\", \"No\", \"No\", \"No\", \"Yes\", \"No\", \"No\", \"No\", \"No\", \"Yes\", \"No\", \"No\", \"No\", \"No\", \"No\", \"No\", \"No\", \"No\", \"Yes\", \"No\", \"No\", \"No\", \"No\", \"No\", \"No\", null, \"No\", \"No\", \"No\", \"No\", \"No\", \"No\", \"No\", \"No\", \"No\", \"No\", \"No\", null, \"No\", \"No\", \"No\", \"Yes\", \"No\", \"No\", \"No\", \"No\", \"No\", \"No\", \"No\", \"No\", \"No\", \"No\", \"Yes\", \"Yes\", \"No\", \"Yes\", \"No\", \"No\", \"No\", \"No\", \"No\", \"No\", \"No\", \"No\", \"No\", \"No\", \"Yes\", \"No\", \"No\", \"No\", \"No\", \"No\", \"No\", \"No\", \"No\", \"No\", \"No\", \"No\", \"No\", \"Yes\", \"Yes\", \"No\", \"No\", \"No\", \"No\", null, \"No\", \"No\", \"No\", \"No\", \"No\", \"No\", \"No\", \"Yes\", \"No\", \"No\", \"Yes\", \"No\", null, \"No\", \"No\", \"No\", \"No\", null, \"Yes\", \"No\", \"No\", \"No\", \"No\", \"No\", \"Yes\", \"No\", \"Yes\", \"No\", \"No\", \"No\", \"No\", \"No\", \"No\", \"Yes\", \"No\", \"Yes\", \"No\", \"No\", \"No\", \"No\", \"No\", \"No\", \"No\", \"No\", \"No\", \"Yes\", \"No\", \"No\", \"No\", null, \"No\", \"No\", \"No\", \"No\", \"No\", \"No\", \"No\", \"No\", \"No\", \"No\", \"No\", \"Yes\", \"No\", \"No\", \"No\", \"No\", \"No\", \"Yes\", \"No\", \"No\", \"No\", \"No\", \"No\", \"No\", \"No\", \"No\", null, \"No\", \"No\", \"No\", \"No\", \"No\", \"No\", \"No\", \"No\", \"No\", \"No\", \"No\", \"No\", \"No\", \"No\", \"No\", \"No\", \"No\", \"Yes\", \"No\", \"No\", \"No\", \"No\", \"No\", \"Yes\", \"No\", \"No\", \"No\", \"No\", \"No\", \"Yes\", \"No\", \"Yes\", \"No\", \"No\", \"No\", \"No\", \"No\", null, \"Yes\", \"Yes\", null, \"Yes\", \"No\", \"No\", \"No\", \"No\", \"No\", \"No\", null, \"No\", \"No\", \"No\", \"No\", \"No\", \"No\", \"No\", \"No\", \"Yes\", \"No\", \"No\", \"No\", \"No\", \"No\", \"No\", \"No\", \"No\", \"No\", \"No\", \"Yes\", \"No\", \"No\", \"No\", \"No\", \"No\", \"Yes\", \"No\", \"Yes\", \"No\", null, \"No\", \"No\", \"No\", \"No\", \"No\", null, \"No\", \"No\", \"Yes\", \"No\", null, \"No\", \"No\", \"No\", \"No\", \"No\", \"No\", \"No\", \"No\", \"No\", \"No\", \"No\", \"No\", \"No\", \"No\", \"No\", \"No\", \"No\", \"No\", \"Yes\", \"No\", \"No\", \"No\", \"No\", \"No\", \"Yes\", null, \"No\", \"No\", \"No\", \"No\", \"No\", \"Yes\", \"No\", \"No\", \"No\", \"No\", \"No\", \"No\", \"No\", \"No\", \"No\", \"No\", \"No\", \"No\", \"Yes\", \"No\", null, \"No\", \"No\", \"No\", \"No\", \"No\", \"Yes\", \"Yes\", \"No\", \"No\", \"No\", \"No\", \"No\", \"Yes\", \"No\", null, \"No\", \"Yes\", \"No\", \"No\", \"No\", \"No\", \"Yes\", \"No\", \"No\", \"No\", \"No\", \"No\", \"Yes\", \"No\", \"No\", null, \"No\", \"No\", \"No\", \"No\", null, \"No\", \"Yes\", \"No\", \"No\", \"Yes\", \"No\", \"Yes\", \"No\", \"No\", \"Yes\", \"No\", \"No\", \"No\", \"No\", \"No\", \"No\", \"No\", \"No\", \"No\", \"Yes\", \"No\", \"No\", \"No\", \"No\", \"Yes\", \"No\", \"No\", \"No\", \"No\", \"Yes\", \"No\", \"No\", \"No\", \"No\", \"No\", \"No\", \"No\", \"No\", \"No\", \"Yes\", \"No\", \"No\", \"No\", \"No\", \"No\", \"No\", \"No\", \"No\", \"No\", \"No\", \"No\", \"No\", \"No\", \"Yes\", \"Yes\", \"No\", \"Yes\", \"No\", \"No\", \"No\", \"No\", \"No\", \"No\", \"No\", \"No\", \"Yes\", null, \"No\", \"No\", \"No\", \"No\", \"No\", \"No\", null, \"No\", \"No\", \"No\", \"No\", \"No\", \"No\", \"No\", \"Yes\", \"No\", \"No\", \"No\", \"No\", \"No\", \"No\", \"Yes\", \"No\", \"No\", \"No\", \"Yes\", \"No\", \"Yes\", \"No\", \"No\", \"No\", \"No\", \"No\", \"No\", \"No\", \"No\", \"No\", \"No\", \"No\", \"No\", \"No\", \"No\", \"No\", null, \"No\", \"No\", \"No\", \"No\", \"No\", \"No\", \"No\", \"No\", \"No\", \"Yes\", \"No\", \"Yes\", \"Yes\", \"No\", \"Yes\", \"No\", \"Yes\", \"No\", \"Yes\", \"No\", null, null, \"No\", \"No\", \"No\", \"No\", \"No\", \"No\", \"No\", \"No\", \"No\", \"No\", \"No\", \"Yes\"], \"xaxis\": \"x\", \"y\": [1, 1, 1, 1, 1, 1, 1, 1, 1, 1, 1, 1, 1, 1, 1, 1, 1, 1, 1, 1, 1, 1, 1, 1, 1, 1, 1, 1, 1, 1, 1, 1, 1, 1, 1, 1, 1, 1, 1, 1, 1, 1, 1, 1, 1, 1, 1, 1, 1, 1, 1, 1, 1, 1, 1, 1, 1, 1, 1, 1, 1, 1, 1, 1, 1, 1, 1, 1, 1, 1, 1, 1, 1, 1, 1, 1, 1, 1, 1, 1, 1, 1, 1, 1, 1, 1, 1, 1, 1, 1, 1, 1, 1, 1, 1, 1, 1, 1, 1, 1, 1, 1, 1, 1, 1, 1, 1, 1, 1, 1, 1, 1, 1, 1, 1, 1, 1, 1, 1, 1, 1, 1, 1, 1, 1, 1, 1, 1, 1, 1, 1, 1, 1, 1, 1, 1, 1, 1, 1, 1, 1, 1, 1, 1, 1, 1, 1, 1, 1, 1, 1, 1, 1, 1, 1, 1, 1, 1, 1, 1, 1, 1, 1, 1, 1, 1, 1, 1, 1, 1, 1, 1, 1, 1, 1, 1, 1, 1, 1, 1, 1, 1, 1, 1, 1, 1, 1, 1, 1, 1, 1, 1, 1, 1, 1, 1, 1, 1, 1, 1, 1, 1, 1, 1, 1, 1, 1, 1, 1, 1, 1, 1, 1, 1, 1, 1, 1, 1, 1, 1, 1, 1, 1, 1, 1, 1, 1, 1, 1, 1, 1, 1, 1, 1, 1, 1, 1, 1, 1, 1, 1, 1, 1, 1, 1, 1, 1, 1, 1, 1, 1, 1, 1, 1, 1, 1, 1, 1, 1, 1, 1, 1, 1, 1, 1, 1, 1, 1, 1, 1, 1, 1, 1, 1, 1, 1, 1, 1, 1, 1, 1, 1, 1, 1, 1, 1, 1, 1, 1, 1, 1, 1, 1, 1, 1, 1, 1, 1, 1, 1, 1, 1, 1, 1, 1, 1, 1, 1, 1, 1, 1, 1, 1, 1, 1, 1, 1, 1, 1, 1, 1, 1, 1, 1, 1, 1, 1, 1, 1, 1, 1, 1, 1, 1, 1, 1, 1, 1, 1, 1, 1, 1, 1, 1, 1, 1, 1, 1, 1, 1, 1, 1, 1, 1, 1, 1, 1, 1, 1, 1, 1, 1, 1, 1, 1, 1, 1, 1, 1, 1, 1, 1, 1, 1, 1, 1, 1, 1, 1, 1, 1, 1, 1, 1, 1, 1, 1, 1, 1, 1, 1, 1, 1, 1, 1, 1, 1, 1, 1, 1, 1, 1, 1, 1, 1, 1, 1, 1, 1, 1, 1, 1, 1, 1, 1, 1, 1, 1, 1, 1, 1, 1, 1, 1, 1, 1, 1, 1, 1, 1, 1, 1, 1, 1, 1, 1, 1, 1, 1, 1, 1, 1, 1, 1, 1, 1, 1, 1, 1, 1, 1, 1, 1, 1, 1, 1, 1, 1, 1, 1, 1, 1, 1, 1, 1, 1, 1, 1, 1, 1, 1, 1, 1, 1, 1, 1, 1, 1, 1, 1, 1, 1, 1, 1, 1, 1, 1, 1, 1, 1, 1, 1, 1, 1, 1, 1, 1, 1, 1, 1, 1, 1, 1, 1, 1, 1, 1, 1, 1, 1, 1, 1, 1, 1, 1, 1, 1, 1, 1, 1, 1, 1, 1, 1, 1, 1, 1, 1, 1, 1, 1, 1, 1, 1, 1, 1, 1, 1, 1, 1, 1, 1, 1, 1, 1, 1, 1, 1, 1, 1, 1, 1, 1, 1, 1, 1, 1, 1, 1, 1, 1, 1, 1, 1, 1, 1, 1, 1, 1, 1, 1, 1, 1, 1, 1, 1, 1, 1, 1, 1, 1, 1, 1, 1, 1, 1, 1, 1, 1, 1, 1, 1, 1, 1, 1, 1, 1, 1, 1, 1, 1, 1, 1, 1, 1, 1, 1, 1, 1, 1, 1, 1, 1, 1], \"yaxis\": \"y\"}],                        {\"barmode\": \"relative\", \"legend\": {\"tracegroupgap\": 0}, \"margin\": {\"t\": 60}, \"template\": {\"data\": {\"bar\": [{\"error_x\": {\"color\": \"#2a3f5f\"}, \"error_y\": {\"color\": \"#2a3f5f\"}, \"marker\": {\"line\": {\"color\": \"#E5ECF6\", \"width\": 0.5}}, \"type\": \"bar\"}], \"barpolar\": [{\"marker\": {\"line\": {\"color\": \"#E5ECF6\", \"width\": 0.5}}, \"type\": \"barpolar\"}], \"carpet\": [{\"aaxis\": {\"endlinecolor\": \"#2a3f5f\", \"gridcolor\": \"white\", \"linecolor\": \"white\", \"minorgridcolor\": \"white\", \"startlinecolor\": \"#2a3f5f\"}, \"baxis\": {\"endlinecolor\": \"#2a3f5f\", \"gridcolor\": \"white\", \"linecolor\": \"white\", \"minorgridcolor\": \"white\", \"startlinecolor\": \"#2a3f5f\"}, \"type\": \"carpet\"}], \"choropleth\": [{\"colorbar\": {\"outlinewidth\": 0, \"ticks\": \"\"}, \"type\": \"choropleth\"}], \"contour\": [{\"colorbar\": {\"outlinewidth\": 0, \"ticks\": \"\"}, \"colorscale\": [[0.0, \"#0d0887\"], [0.1111111111111111, \"#46039f\"], [0.2222222222222222, \"#7201a8\"], [0.3333333333333333, \"#9c179e\"], [0.4444444444444444, \"#bd3786\"], [0.5555555555555556, \"#d8576b\"], [0.6666666666666666, \"#ed7953\"], [0.7777777777777778, \"#fb9f3a\"], [0.8888888888888888, \"#fdca26\"], [1.0, \"#f0f921\"]], \"type\": \"contour\"}], \"contourcarpet\": [{\"colorbar\": {\"outlinewidth\": 0, \"ticks\": \"\"}, \"type\": \"contourcarpet\"}], \"heatmap\": [{\"colorbar\": {\"outlinewidth\": 0, \"ticks\": \"\"}, \"colorscale\": [[0.0, \"#0d0887\"], [0.1111111111111111, \"#46039f\"], [0.2222222222222222, \"#7201a8\"], [0.3333333333333333, \"#9c179e\"], [0.4444444444444444, \"#bd3786\"], [0.5555555555555556, \"#d8576b\"], [0.6666666666666666, \"#ed7953\"], [0.7777777777777778, \"#fb9f3a\"], [0.8888888888888888, \"#fdca26\"], [1.0, \"#f0f921\"]], \"type\": \"heatmap\"}], \"heatmapgl\": [{\"colorbar\": {\"outlinewidth\": 0, \"ticks\": \"\"}, \"colorscale\": [[0.0, \"#0d0887\"], [0.1111111111111111, \"#46039f\"], [0.2222222222222222, \"#7201a8\"], [0.3333333333333333, \"#9c179e\"], [0.4444444444444444, \"#bd3786\"], [0.5555555555555556, \"#d8576b\"], [0.6666666666666666, \"#ed7953\"], [0.7777777777777778, \"#fb9f3a\"], [0.8888888888888888, \"#fdca26\"], [1.0, \"#f0f921\"]], \"type\": \"heatmapgl\"}], \"histogram\": [{\"marker\": {\"colorbar\": {\"outlinewidth\": 0, \"ticks\": \"\"}}, \"type\": \"histogram\"}], \"histogram2d\": [{\"colorbar\": {\"outlinewidth\": 0, \"ticks\": \"\"}, \"colorscale\": [[0.0, \"#0d0887\"], [0.1111111111111111, \"#46039f\"], [0.2222222222222222, \"#7201a8\"], [0.3333333333333333, \"#9c179e\"], [0.4444444444444444, \"#bd3786\"], [0.5555555555555556, \"#d8576b\"], [0.6666666666666666, \"#ed7953\"], [0.7777777777777778, \"#fb9f3a\"], [0.8888888888888888, \"#fdca26\"], [1.0, \"#f0f921\"]], \"type\": \"histogram2d\"}], \"histogram2dcontour\": [{\"colorbar\": {\"outlinewidth\": 0, \"ticks\": \"\"}, \"colorscale\": [[0.0, \"#0d0887\"], [0.1111111111111111, \"#46039f\"], [0.2222222222222222, \"#7201a8\"], [0.3333333333333333, \"#9c179e\"], [0.4444444444444444, \"#bd3786\"], [0.5555555555555556, \"#d8576b\"], [0.6666666666666666, \"#ed7953\"], [0.7777777777777778, \"#fb9f3a\"], [0.8888888888888888, \"#fdca26\"], [1.0, \"#f0f921\"]], \"type\": \"histogram2dcontour\"}], \"mesh3d\": [{\"colorbar\": {\"outlinewidth\": 0, \"ticks\": \"\"}, \"type\": \"mesh3d\"}], \"parcoords\": [{\"line\": {\"colorbar\": {\"outlinewidth\": 0, \"ticks\": \"\"}}, \"type\": \"parcoords\"}], \"pie\": [{\"automargin\": true, \"type\": \"pie\"}], \"scatter\": [{\"marker\": {\"colorbar\": {\"outlinewidth\": 0, \"ticks\": \"\"}}, \"type\": \"scatter\"}], \"scatter3d\": [{\"line\": {\"colorbar\": {\"outlinewidth\": 0, \"ticks\": \"\"}}, \"marker\": {\"colorbar\": {\"outlinewidth\": 0, \"ticks\": \"\"}}, \"type\": \"scatter3d\"}], \"scattercarpet\": [{\"marker\": {\"colorbar\": {\"outlinewidth\": 0, \"ticks\": \"\"}}, \"type\": \"scattercarpet\"}], \"scattergeo\": [{\"marker\": {\"colorbar\": {\"outlinewidth\": 0, \"ticks\": \"\"}}, \"type\": \"scattergeo\"}], \"scattergl\": [{\"marker\": {\"colorbar\": {\"outlinewidth\": 0, \"ticks\": \"\"}}, \"type\": \"scattergl\"}], \"scattermapbox\": [{\"marker\": {\"colorbar\": {\"outlinewidth\": 0, \"ticks\": \"\"}}, \"type\": \"scattermapbox\"}], \"scatterpolar\": [{\"marker\": {\"colorbar\": {\"outlinewidth\": 0, \"ticks\": \"\"}}, \"type\": \"scatterpolar\"}], \"scatterpolargl\": [{\"marker\": {\"colorbar\": {\"outlinewidth\": 0, \"ticks\": \"\"}}, \"type\": \"scatterpolargl\"}], \"scatterternary\": [{\"marker\": {\"colorbar\": {\"outlinewidth\": 0, \"ticks\": \"\"}}, \"type\": \"scatterternary\"}], \"surface\": [{\"colorbar\": {\"outlinewidth\": 0, \"ticks\": \"\"}, \"colorscale\": [[0.0, \"#0d0887\"], [0.1111111111111111, \"#46039f\"], [0.2222222222222222, \"#7201a8\"], [0.3333333333333333, \"#9c179e\"], [0.4444444444444444, \"#bd3786\"], [0.5555555555555556, \"#d8576b\"], [0.6666666666666666, \"#ed7953\"], [0.7777777777777778, \"#fb9f3a\"], [0.8888888888888888, \"#fdca26\"], [1.0, \"#f0f921\"]], \"type\": \"surface\"}], \"table\": [{\"cells\": {\"fill\": {\"color\": \"#EBF0F8\"}, \"line\": {\"color\": \"white\"}}, \"header\": {\"fill\": {\"color\": \"#C8D4E3\"}, \"line\": {\"color\": \"white\"}}, \"type\": \"table\"}]}, \"layout\": {\"annotationdefaults\": {\"arrowcolor\": \"#2a3f5f\", \"arrowhead\": 0, \"arrowwidth\": 1}, \"coloraxis\": {\"colorbar\": {\"outlinewidth\": 0, \"ticks\": \"\"}}, \"colorscale\": {\"diverging\": [[0, \"#8e0152\"], [0.1, \"#c51b7d\"], [0.2, \"#de77ae\"], [0.3, \"#f1b6da\"], [0.4, \"#fde0ef\"], [0.5, \"#f7f7f7\"], [0.6, \"#e6f5d0\"], [0.7, \"#b8e186\"], [0.8, \"#7fbc41\"], [0.9, \"#4d9221\"], [1, \"#276419\"]], \"sequential\": [[0.0, \"#0d0887\"], [0.1111111111111111, \"#46039f\"], [0.2222222222222222, \"#7201a8\"], [0.3333333333333333, \"#9c179e\"], [0.4444444444444444, \"#bd3786\"], [0.5555555555555556, \"#d8576b\"], [0.6666666666666666, \"#ed7953\"], [0.7777777777777778, \"#fb9f3a\"], [0.8888888888888888, \"#fdca26\"], [1.0, \"#f0f921\"]], \"sequentialminus\": [[0.0, \"#0d0887\"], [0.1111111111111111, \"#46039f\"], [0.2222222222222222, \"#7201a8\"], [0.3333333333333333, \"#9c179e\"], [0.4444444444444444, \"#bd3786\"], [0.5555555555555556, \"#d8576b\"], [0.6666666666666666, \"#ed7953\"], [0.7777777777777778, \"#fb9f3a\"], [0.8888888888888888, \"#fdca26\"], [1.0, \"#f0f921\"]]}, \"colorway\": [\"#636efa\", \"#EF553B\", \"#00cc96\", \"#ab63fa\", \"#FFA15A\", \"#19d3f3\", \"#FF6692\", \"#B6E880\", \"#FF97FF\", \"#FECB52\"], \"font\": {\"color\": \"#2a3f5f\"}, \"geo\": {\"bgcolor\": \"white\", \"lakecolor\": \"white\", \"landcolor\": \"#E5ECF6\", \"showlakes\": true, \"showland\": true, \"subunitcolor\": \"white\"}, \"hoverlabel\": {\"align\": \"left\"}, \"hovermode\": \"closest\", \"mapbox\": {\"style\": \"light\"}, \"paper_bgcolor\": \"white\", \"plot_bgcolor\": \"#E5ECF6\", \"polar\": {\"angularaxis\": {\"gridcolor\": \"white\", \"linecolor\": \"white\", \"ticks\": \"\"}, \"bgcolor\": \"#E5ECF6\", \"radialaxis\": {\"gridcolor\": \"white\", \"linecolor\": \"white\", \"ticks\": \"\"}}, \"scene\": {\"xaxis\": {\"backgroundcolor\": \"#E5ECF6\", \"gridcolor\": \"white\", \"gridwidth\": 2, \"linecolor\": \"white\", \"showbackground\": true, \"ticks\": \"\", \"zerolinecolor\": \"white\"}, \"yaxis\": {\"backgroundcolor\": \"#E5ECF6\", \"gridcolor\": \"white\", \"gridwidth\": 2, \"linecolor\": \"white\", \"showbackground\": true, \"ticks\": \"\", \"zerolinecolor\": \"white\"}, \"zaxis\": {\"backgroundcolor\": \"#E5ECF6\", \"gridcolor\": \"white\", \"gridwidth\": 2, \"linecolor\": \"white\", \"showbackground\": true, \"ticks\": \"\", \"zerolinecolor\": \"white\"}}, \"shapedefaults\": {\"line\": {\"color\": \"#2a3f5f\"}}, \"ternary\": {\"aaxis\": {\"gridcolor\": \"white\", \"linecolor\": \"white\", \"ticks\": \"\"}, \"baxis\": {\"gridcolor\": \"white\", \"linecolor\": \"white\", \"ticks\": \"\"}, \"bgcolor\": \"#E5ECF6\", \"caxis\": {\"gridcolor\": \"white\", \"linecolor\": \"white\", \"ticks\": \"\"}}, \"title\": {\"x\": 0.05}, \"xaxis\": {\"automargin\": true, \"gridcolor\": \"white\", \"linecolor\": \"white\", \"ticks\": \"\", \"title\": {\"standoff\": 15}, \"zerolinecolor\": \"white\", \"zerolinewidth\": 2}, \"yaxis\": {\"automargin\": true, \"gridcolor\": \"white\", \"linecolor\": \"white\", \"ticks\": \"\", \"title\": {\"standoff\": 15}, \"zerolinecolor\": \"white\", \"zerolinewidth\": 2}}}, \"xaxis\": {\"anchor\": \"y\", \"domain\": [0.0, 1.0], \"title\": {\"text\": \"Self_Employed\"}}, \"yaxis\": {\"anchor\": \"x\", \"domain\": [0.0, 1.0], \"title\": {\"text\": \"count\"}}},                        {\"responsive\": true}                    ).then(function(){\n",
       "                            \n",
       "var gd = document.getElementById('b9cb5dbe-7a6e-4307-9dc5-25ab9fbaff87');\n",
       "var x = new MutationObserver(function (mutations, observer) {{\n",
       "        var display = window.getComputedStyle(gd).display;\n",
       "        if (!display || display === 'none') {{\n",
       "            console.log([gd, 'removed!']);\n",
       "            Plotly.purge(gd);\n",
       "            observer.disconnect();\n",
       "        }}\n",
       "}});\n",
       "\n",
       "// Listen for the removal of the full notebook cells\n",
       "var notebookContainer = gd.closest('#notebook-container');\n",
       "if (notebookContainer) {{\n",
       "    x.observe(notebookContainer, {childList: true});\n",
       "}}\n",
       "\n",
       "// Listen for the clearing of the current output cell\n",
       "var outputEl = gd.closest('.output');\n",
       "if (outputEl) {{\n",
       "    x.observe(outputEl, {childList: true});\n",
       "}}\n",
       "\n",
       "                        })                };                });            </script>        </div>"
      ]
     },
     "metadata": {},
     "output_type": "display_data"
    },
    {
     "data": {
      "text/html": [
       "<div>                            <div id=\"816dfb85-de3a-43ef-94a2-4737f4ed0d71\" class=\"plotly-graph-div\" style=\"height:525px; width:100%;\"></div>            <script type=\"text/javascript\">                require([\"plotly\"], function(Plotly) {                    window.PLOTLYENV=window.PLOTLYENV || {};                                    if (document.getElementById(\"816dfb85-de3a-43ef-94a2-4737f4ed0d71\")) {                    Plotly.newPlot(                        \"816dfb85-de3a-43ef-94a2-4737f4ed0d71\",                        [{\"alignmentgroup\": \"True\", \"hovertemplate\": \"Dependents=%{x}<br>count=%{y}<extra></extra>\", \"legendgroup\": \"\", \"marker\": {\"color\": \"#636efa\"}, \"name\": \"\", \"offsetgroup\": \"\", \"orientation\": \"v\", \"showlegend\": false, \"textposition\": \"auto\", \"type\": \"bar\", \"x\": [\"0\", \"1\", \"0\", \"0\", \"0\", \"2\", \"0\", \"3+\", \"2\", \"1\", \"2\", \"2\", \"2\", \"0\", \"2\", \"0\", \"1\", \"0\", \"0\", \"0\", \"0\", \"1\", \"0\", \"2\", \"1\", \"0\", \"0\", \"2\", \"0\", \"2\", \"1\", \"0\", \"1\", \"0\", \"3+\", \"0\", \"0\", \"0\", \"0\", \"0\", \"0\", \"0\", \"0\", \"0\", \"0\", \"0\", \"1\", \"0\", \"0\", \"0\", \"0\", \"0\", \"0\", \"2\", \"1\", \"2\", \"0\", \"0\", \"1\", \"2\", \"0\", \"3+\", \"0\", \"1\", \"0\", \"0\", \"0\", \"1\", \"3+\", \"0\", \"0\", \"2\", \"0\", \"3+\", \"3+\", \"0\", \"0\", \"1\", \"3+\", \"3+\", \"0\", \"1\", \"2\", \"0\", \"1\", \"0\", \"2\", \"0\", \"0\", \"0\", \"0\", \"2\", \"2\", \"0\", \"0\", \"0\", \"0\", \"0\", \"0\", \"0\", \"2\", \"0\", null, \"0\", null, \"1\", \"2\", \"0\", \"2\", \"3+\", \"0\", \"0\", \"0\", \"1\", \"0\", \"1\", \"0\", \"1\", \"0\", \"0\", null, \"0\", \"0\", \"2\", \"0\", \"0\", \"3+\", \"0\", \"1\", \"0\", \"0\", \"0\", \"0\", \"0\", \"0\", \"3+\", \"0\", \"2\", \"0\", \"2\", \"2\", \"0\", \"0\", \"0\", \"2\", \"0\", \"2\", \"1\", \"0\", \"0\", \"0\", \"0\", \"0\", \"2\", \"0\", \"3+\", \"1\", \"1\", \"0\", \"0\", \"0\", \"0\", \"1\", \"2\", \"0\", \"0\", \"0\", \"0\", \"0\", \"2\", \"0\", \"3+\", \"3+\", \"0\", \"0\", \"0\", \"2\", \"3+\", \"1\", \"0\", \"1\", \"0\", \"0\", \"1\", \"0\", \"0\", \"1\", \"0\", \"0\", \"0\", \"0\", \"0\", \"0\", \"0\", \"0\", \"1\", \"0\", \"0\", \"0\", \"0\", \"1\", \"2\", \"3+\", \"1\", \"2\", \"0\", \"0\", \"0\", \"0\", \"0\", \"0\", \"3+\", \"1\", \"3+\", \"0\", \"3+\", \"0\", \"0\", \"2\", \"2\", \"0\", \"2\", \"0\", \"0\", \"0\", \"0\", null, \"2\", null, \"0\", \"1\", \"0\", \"0\", \"0\", \"1\", \"1\", \"0\", \"0\", \"1\", \"1\", \"2\", \"1\", \"0\", \"2\", \"0\", \"0\", \"2\", \"1\", \"1\", \"0\", \"0\", \"2\", \"0\", \"1\", \"0\", \"3+\", \"0\", \"3+\", \"0\", \"3+\", \"1\", \"0\", \"1\", \"0\", \"0\", \"0\", \"2\", \"3+\", \"0\", \"1\", \"0\", \"0\", \"0\", \"0\", \"2\", \"1\", \"0\", \"0\", \"0\", \"0\", \"1\", \"0\", \"2\", \"0\", \"0\", \"0\", \"0\", \"0\", \"0\", \"0\", \"0\", \"2\", \"2\", null, \"0\", \"3+\", \"1\", \"1\", \"0\", \"1\", \"0\", null, \"0\", \"1\", \"0\", \"0\", \"0\", \"0\", \"0\", \"2\", \"0\", \"0\", \"0\", \"2\", \"0\", \"1\", \"2\", \"0\", \"1\", \"1\", \"0\", \"3+\", \"2\", \"0\", \"3+\", \"1\", \"0\", \"0\", \"0\", \"0\", \"1\", \"0\", null, \"0\", \"1\", null, \"1\", \"2\", \"3+\", \"0\", \"3+\", \"0\", \"1\", \"3+\", \"2\", \"0\", null, \"2\", \"0\", \"0\", \"0\", \"0\", \"3+\", \"0\", \"0\", null, \"2\", \"1\", \"0\", \"3+\", \"1\", \"2\", \"0\", \"0\", \"0\", \"0\", \"0\", \"0\", \"1\", \"0\", \"0\", \"2\", \"2\", \"1\", \"0\", \"0\", \"3+\", \"0\", \"0\", \"2\", \"0\", \"0\", \"0\", \"0\", \"2\", \"1\", \"0\", \"0\", \"0\", \"0\", \"3+\", \"3+\", \"0\", \"2\", \"2\", \"2\", \"0\", \"0\", \"0\", \"0\", \"2\", \"0\", \"0\", \"0\", \"0\", \"0\", \"0\", \"0\", \"1\", \"3+\", \"1\", \"0\", \"0\", \"0\", \"0\", \"0\", \"1\", \"2\", \"0\", \"0\", \"0\", \"0\", \"0\", \"1\", \"0\", \"0\", \"1\", \"2\", \"0\", \"0\", \"1\", \"0\", \"0\", \"0\", \"0\", null, \"0\", \"0\", \"0\", \"0\", \"0\", \"0\", \"3+\", \"1\", \"0\", \"1\", \"2\", \"0\", \"2\", \"1\", \"2\", \"2\", \"0\", \"0\", \"0\", \"2\", \"0\", \"0\", \"2\", \"0\", \"0\", \"3+\", \"0\", \"1\", \"0\", \"0\", \"3+\", \"0\", \"2\", \"0\", \"1\", \"1\", \"3+\", \"0\", \"2\", \"2\", \"2\", \"2\", \"1\", \"2\", \"0\", \"3+\", \"0\", \"0\", \"2\", \"1\", \"2\", \"1\", \"2\", \"0\", \"0\", \"1\", \"0\", \"0\", \"0\", \"1\", \"0\", \"0\", \"1\", \"0\", \"0\", \"0\", \"2\", \"1\", \"0\", \"2\", \"0\", \"0\", \"0\", \"1\", \"0\", \"1\", \"2\", \"0\", \"0\", \"3+\", \"2\", null, \"0\", \"0\", \"2\", \"0\", \"3+\", \"2\", \"0\", \"2\", \"0\", \"1\", \"1\", \"0\", \"0\", \"3+\", \"2\", \"1\", \"0\", \"0\", \"0\", \"2\", \"0\", \"3+\", \"1\", \"0\", \"1\", \"1\", \"0\", \"0\", \"0\", \"0\", \"0\", \"0\", \"2\", \"1\", \"1\", \"0\", \"0\", \"1\", \"0\", \"3+\", \"0\", \"0\", \"2\", \"1\", \"0\", \"0\", \"2\", \"0\", \"0\", \"3+\", \"0\", \"0\", \"1\", null, \"2\", \"2\", \"3+\", \"2\", \"0\", \"0\", \"1\", \"0\", \"2\", \"0\", \"0\", \"1\", \"1\", \"1\", \"0\", \"0\", \"0\", \"2\", \"0\", \"2\", \"3+\", \"0\", \"0\", \"0\", \"2\", null, \"0\", \"2\", \"3+\", \"0\", \"3+\", \"0\", \"1\", \"0\", \"1\", \"2\", \"0\", \"0\", \"3+\", \"1\", \"2\", \"0\"], \"xaxis\": \"x\", \"y\": [1, 1, 1, 1, 1, 1, 1, 1, 1, 1, 1, 1, 1, 1, 1, 1, 1, 1, 1, 1, 1, 1, 1, 1, 1, 1, 1, 1, 1, 1, 1, 1, 1, 1, 1, 1, 1, 1, 1, 1, 1, 1, 1, 1, 1, 1, 1, 1, 1, 1, 1, 1, 1, 1, 1, 1, 1, 1, 1, 1, 1, 1, 1, 1, 1, 1, 1, 1, 1, 1, 1, 1, 1, 1, 1, 1, 1, 1, 1, 1, 1, 1, 1, 1, 1, 1, 1, 1, 1, 1, 1, 1, 1, 1, 1, 1, 1, 1, 1, 1, 1, 1, 1, 1, 1, 1, 1, 1, 1, 1, 1, 1, 1, 1, 1, 1, 1, 1, 1, 1, 1, 1, 1, 1, 1, 1, 1, 1, 1, 1, 1, 1, 1, 1, 1, 1, 1, 1, 1, 1, 1, 1, 1, 1, 1, 1, 1, 1, 1, 1, 1, 1, 1, 1, 1, 1, 1, 1, 1, 1, 1, 1, 1, 1, 1, 1, 1, 1, 1, 1, 1, 1, 1, 1, 1, 1, 1, 1, 1, 1, 1, 1, 1, 1, 1, 1, 1, 1, 1, 1, 1, 1, 1, 1, 1, 1, 1, 1, 1, 1, 1, 1, 1, 1, 1, 1, 1, 1, 1, 1, 1, 1, 1, 1, 1, 1, 1, 1, 1, 1, 1, 1, 1, 1, 1, 1, 1, 1, 1, 1, 1, 1, 1, 1, 1, 1, 1, 1, 1, 1, 1, 1, 1, 1, 1, 1, 1, 1, 1, 1, 1, 1, 1, 1, 1, 1, 1, 1, 1, 1, 1, 1, 1, 1, 1, 1, 1, 1, 1, 1, 1, 1, 1, 1, 1, 1, 1, 1, 1, 1, 1, 1, 1, 1, 1, 1, 1, 1, 1, 1, 1, 1, 1, 1, 1, 1, 1, 1, 1, 1, 1, 1, 1, 1, 1, 1, 1, 1, 1, 1, 1, 1, 1, 1, 1, 1, 1, 1, 1, 1, 1, 1, 1, 1, 1, 1, 1, 1, 1, 1, 1, 1, 1, 1, 1, 1, 1, 1, 1, 1, 1, 1, 1, 1, 1, 1, 1, 1, 1, 1, 1, 1, 1, 1, 1, 1, 1, 1, 1, 1, 1, 1, 1, 1, 1, 1, 1, 1, 1, 1, 1, 1, 1, 1, 1, 1, 1, 1, 1, 1, 1, 1, 1, 1, 1, 1, 1, 1, 1, 1, 1, 1, 1, 1, 1, 1, 1, 1, 1, 1, 1, 1, 1, 1, 1, 1, 1, 1, 1, 1, 1, 1, 1, 1, 1, 1, 1, 1, 1, 1, 1, 1, 1, 1, 1, 1, 1, 1, 1, 1, 1, 1, 1, 1, 1, 1, 1, 1, 1, 1, 1, 1, 1, 1, 1, 1, 1, 1, 1, 1, 1, 1, 1, 1, 1, 1, 1, 1, 1, 1, 1, 1, 1, 1, 1, 1, 1, 1, 1, 1, 1, 1, 1, 1, 1, 1, 1, 1, 1, 1, 1, 1, 1, 1, 1, 1, 1, 1, 1, 1, 1, 1, 1, 1, 1, 1, 1, 1, 1, 1, 1, 1, 1, 1, 1, 1, 1, 1, 1, 1, 1, 1, 1, 1, 1, 1, 1, 1, 1, 1, 1, 1, 1, 1, 1, 1, 1, 1, 1, 1, 1, 1, 1, 1, 1, 1, 1, 1, 1, 1, 1, 1, 1, 1, 1, 1, 1, 1, 1, 1, 1, 1, 1, 1, 1, 1, 1, 1, 1, 1, 1, 1, 1, 1, 1, 1, 1, 1, 1, 1, 1, 1, 1, 1, 1, 1, 1, 1, 1, 1, 1, 1, 1, 1, 1, 1, 1, 1, 1, 1, 1, 1, 1, 1, 1, 1, 1, 1, 1, 1, 1, 1, 1, 1, 1, 1, 1, 1, 1, 1, 1, 1, 1, 1], \"yaxis\": \"y\"}],                        {\"barmode\": \"relative\", \"legend\": {\"tracegroupgap\": 0}, \"margin\": {\"t\": 60}, \"template\": {\"data\": {\"bar\": [{\"error_x\": {\"color\": \"#2a3f5f\"}, \"error_y\": {\"color\": \"#2a3f5f\"}, \"marker\": {\"line\": {\"color\": \"#E5ECF6\", \"width\": 0.5}}, \"type\": \"bar\"}], \"barpolar\": [{\"marker\": {\"line\": {\"color\": \"#E5ECF6\", \"width\": 0.5}}, \"type\": \"barpolar\"}], \"carpet\": [{\"aaxis\": {\"endlinecolor\": \"#2a3f5f\", \"gridcolor\": \"white\", \"linecolor\": \"white\", \"minorgridcolor\": \"white\", \"startlinecolor\": \"#2a3f5f\"}, \"baxis\": {\"endlinecolor\": \"#2a3f5f\", \"gridcolor\": \"white\", \"linecolor\": \"white\", \"minorgridcolor\": \"white\", \"startlinecolor\": \"#2a3f5f\"}, \"type\": \"carpet\"}], \"choropleth\": [{\"colorbar\": {\"outlinewidth\": 0, \"ticks\": \"\"}, \"type\": \"choropleth\"}], \"contour\": [{\"colorbar\": {\"outlinewidth\": 0, \"ticks\": \"\"}, \"colorscale\": [[0.0, \"#0d0887\"], [0.1111111111111111, \"#46039f\"], [0.2222222222222222, \"#7201a8\"], [0.3333333333333333, \"#9c179e\"], [0.4444444444444444, \"#bd3786\"], [0.5555555555555556, \"#d8576b\"], [0.6666666666666666, \"#ed7953\"], [0.7777777777777778, \"#fb9f3a\"], [0.8888888888888888, \"#fdca26\"], [1.0, \"#f0f921\"]], \"type\": \"contour\"}], \"contourcarpet\": [{\"colorbar\": {\"outlinewidth\": 0, \"ticks\": \"\"}, \"type\": \"contourcarpet\"}], \"heatmap\": [{\"colorbar\": {\"outlinewidth\": 0, \"ticks\": \"\"}, \"colorscale\": [[0.0, \"#0d0887\"], [0.1111111111111111, \"#46039f\"], [0.2222222222222222, \"#7201a8\"], [0.3333333333333333, \"#9c179e\"], [0.4444444444444444, \"#bd3786\"], [0.5555555555555556, \"#d8576b\"], [0.6666666666666666, \"#ed7953\"], [0.7777777777777778, \"#fb9f3a\"], [0.8888888888888888, \"#fdca26\"], [1.0, \"#f0f921\"]], \"type\": \"heatmap\"}], \"heatmapgl\": [{\"colorbar\": {\"outlinewidth\": 0, \"ticks\": \"\"}, \"colorscale\": [[0.0, \"#0d0887\"], [0.1111111111111111, \"#46039f\"], [0.2222222222222222, \"#7201a8\"], [0.3333333333333333, \"#9c179e\"], [0.4444444444444444, \"#bd3786\"], [0.5555555555555556, \"#d8576b\"], [0.6666666666666666, \"#ed7953\"], [0.7777777777777778, \"#fb9f3a\"], [0.8888888888888888, \"#fdca26\"], [1.0, \"#f0f921\"]], \"type\": \"heatmapgl\"}], \"histogram\": [{\"marker\": {\"colorbar\": {\"outlinewidth\": 0, \"ticks\": \"\"}}, \"type\": \"histogram\"}], \"histogram2d\": [{\"colorbar\": {\"outlinewidth\": 0, \"ticks\": \"\"}, \"colorscale\": [[0.0, \"#0d0887\"], [0.1111111111111111, \"#46039f\"], [0.2222222222222222, \"#7201a8\"], [0.3333333333333333, \"#9c179e\"], [0.4444444444444444, \"#bd3786\"], [0.5555555555555556, \"#d8576b\"], [0.6666666666666666, \"#ed7953\"], [0.7777777777777778, \"#fb9f3a\"], [0.8888888888888888, \"#fdca26\"], [1.0, \"#f0f921\"]], \"type\": \"histogram2d\"}], \"histogram2dcontour\": [{\"colorbar\": {\"outlinewidth\": 0, \"ticks\": \"\"}, \"colorscale\": [[0.0, \"#0d0887\"], [0.1111111111111111, \"#46039f\"], [0.2222222222222222, \"#7201a8\"], [0.3333333333333333, \"#9c179e\"], [0.4444444444444444, \"#bd3786\"], [0.5555555555555556, \"#d8576b\"], [0.6666666666666666, \"#ed7953\"], [0.7777777777777778, \"#fb9f3a\"], [0.8888888888888888, \"#fdca26\"], [1.0, \"#f0f921\"]], \"type\": \"histogram2dcontour\"}], \"mesh3d\": [{\"colorbar\": {\"outlinewidth\": 0, \"ticks\": \"\"}, \"type\": \"mesh3d\"}], \"parcoords\": [{\"line\": {\"colorbar\": {\"outlinewidth\": 0, \"ticks\": \"\"}}, \"type\": \"parcoords\"}], \"pie\": [{\"automargin\": true, \"type\": \"pie\"}], \"scatter\": [{\"marker\": {\"colorbar\": {\"outlinewidth\": 0, \"ticks\": \"\"}}, \"type\": \"scatter\"}], \"scatter3d\": [{\"line\": {\"colorbar\": {\"outlinewidth\": 0, \"ticks\": \"\"}}, \"marker\": {\"colorbar\": {\"outlinewidth\": 0, \"ticks\": \"\"}}, \"type\": \"scatter3d\"}], \"scattercarpet\": [{\"marker\": {\"colorbar\": {\"outlinewidth\": 0, \"ticks\": \"\"}}, \"type\": \"scattercarpet\"}], \"scattergeo\": [{\"marker\": {\"colorbar\": {\"outlinewidth\": 0, \"ticks\": \"\"}}, \"type\": \"scattergeo\"}], \"scattergl\": [{\"marker\": {\"colorbar\": {\"outlinewidth\": 0, \"ticks\": \"\"}}, \"type\": \"scattergl\"}], \"scattermapbox\": [{\"marker\": {\"colorbar\": {\"outlinewidth\": 0, \"ticks\": \"\"}}, \"type\": \"scattermapbox\"}], \"scatterpolar\": [{\"marker\": {\"colorbar\": {\"outlinewidth\": 0, \"ticks\": \"\"}}, \"type\": \"scatterpolar\"}], \"scatterpolargl\": [{\"marker\": {\"colorbar\": {\"outlinewidth\": 0, \"ticks\": \"\"}}, \"type\": \"scatterpolargl\"}], \"scatterternary\": [{\"marker\": {\"colorbar\": {\"outlinewidth\": 0, \"ticks\": \"\"}}, \"type\": \"scatterternary\"}], \"surface\": [{\"colorbar\": {\"outlinewidth\": 0, \"ticks\": \"\"}, \"colorscale\": [[0.0, \"#0d0887\"], [0.1111111111111111, \"#46039f\"], [0.2222222222222222, \"#7201a8\"], [0.3333333333333333, \"#9c179e\"], [0.4444444444444444, \"#bd3786\"], [0.5555555555555556, \"#d8576b\"], [0.6666666666666666, \"#ed7953\"], [0.7777777777777778, \"#fb9f3a\"], [0.8888888888888888, \"#fdca26\"], [1.0, \"#f0f921\"]], \"type\": \"surface\"}], \"table\": [{\"cells\": {\"fill\": {\"color\": \"#EBF0F8\"}, \"line\": {\"color\": \"white\"}}, \"header\": {\"fill\": {\"color\": \"#C8D4E3\"}, \"line\": {\"color\": \"white\"}}, \"type\": \"table\"}]}, \"layout\": {\"annotationdefaults\": {\"arrowcolor\": \"#2a3f5f\", \"arrowhead\": 0, \"arrowwidth\": 1}, \"coloraxis\": {\"colorbar\": {\"outlinewidth\": 0, \"ticks\": \"\"}}, \"colorscale\": {\"diverging\": [[0, \"#8e0152\"], [0.1, \"#c51b7d\"], [0.2, \"#de77ae\"], [0.3, \"#f1b6da\"], [0.4, \"#fde0ef\"], [0.5, \"#f7f7f7\"], [0.6, \"#e6f5d0\"], [0.7, \"#b8e186\"], [0.8, \"#7fbc41\"], [0.9, \"#4d9221\"], [1, \"#276419\"]], \"sequential\": [[0.0, \"#0d0887\"], [0.1111111111111111, \"#46039f\"], [0.2222222222222222, \"#7201a8\"], [0.3333333333333333, \"#9c179e\"], [0.4444444444444444, \"#bd3786\"], [0.5555555555555556, \"#d8576b\"], [0.6666666666666666, \"#ed7953\"], [0.7777777777777778, \"#fb9f3a\"], [0.8888888888888888, \"#fdca26\"], [1.0, \"#f0f921\"]], \"sequentialminus\": [[0.0, \"#0d0887\"], [0.1111111111111111, \"#46039f\"], [0.2222222222222222, \"#7201a8\"], [0.3333333333333333, \"#9c179e\"], [0.4444444444444444, \"#bd3786\"], [0.5555555555555556, \"#d8576b\"], [0.6666666666666666, \"#ed7953\"], [0.7777777777777778, \"#fb9f3a\"], [0.8888888888888888, \"#fdca26\"], [1.0, \"#f0f921\"]]}, \"colorway\": [\"#636efa\", \"#EF553B\", \"#00cc96\", \"#ab63fa\", \"#FFA15A\", \"#19d3f3\", \"#FF6692\", \"#B6E880\", \"#FF97FF\", \"#FECB52\"], \"font\": {\"color\": \"#2a3f5f\"}, \"geo\": {\"bgcolor\": \"white\", \"lakecolor\": \"white\", \"landcolor\": \"#E5ECF6\", \"showlakes\": true, \"showland\": true, \"subunitcolor\": \"white\"}, \"hoverlabel\": {\"align\": \"left\"}, \"hovermode\": \"closest\", \"mapbox\": {\"style\": \"light\"}, \"paper_bgcolor\": \"white\", \"plot_bgcolor\": \"#E5ECF6\", \"polar\": {\"angularaxis\": {\"gridcolor\": \"white\", \"linecolor\": \"white\", \"ticks\": \"\"}, \"bgcolor\": \"#E5ECF6\", \"radialaxis\": {\"gridcolor\": \"white\", \"linecolor\": \"white\", \"ticks\": \"\"}}, \"scene\": {\"xaxis\": {\"backgroundcolor\": \"#E5ECF6\", \"gridcolor\": \"white\", \"gridwidth\": 2, \"linecolor\": \"white\", \"showbackground\": true, \"ticks\": \"\", \"zerolinecolor\": \"white\"}, \"yaxis\": {\"backgroundcolor\": \"#E5ECF6\", \"gridcolor\": \"white\", \"gridwidth\": 2, \"linecolor\": \"white\", \"showbackground\": true, \"ticks\": \"\", \"zerolinecolor\": \"white\"}, \"zaxis\": {\"backgroundcolor\": \"#E5ECF6\", \"gridcolor\": \"white\", \"gridwidth\": 2, \"linecolor\": \"white\", \"showbackground\": true, \"ticks\": \"\", \"zerolinecolor\": \"white\"}}, \"shapedefaults\": {\"line\": {\"color\": \"#2a3f5f\"}}, \"ternary\": {\"aaxis\": {\"gridcolor\": \"white\", \"linecolor\": \"white\", \"ticks\": \"\"}, \"baxis\": {\"gridcolor\": \"white\", \"linecolor\": \"white\", \"ticks\": \"\"}, \"bgcolor\": \"#E5ECF6\", \"caxis\": {\"gridcolor\": \"white\", \"linecolor\": \"white\", \"ticks\": \"\"}}, \"title\": {\"x\": 0.05}, \"xaxis\": {\"automargin\": true, \"gridcolor\": \"white\", \"linecolor\": \"white\", \"ticks\": \"\", \"title\": {\"standoff\": 15}, \"zerolinecolor\": \"white\", \"zerolinewidth\": 2}, \"yaxis\": {\"automargin\": true, \"gridcolor\": \"white\", \"linecolor\": \"white\", \"ticks\": \"\", \"title\": {\"standoff\": 15}, \"zerolinecolor\": \"white\", \"zerolinewidth\": 2}}}, \"xaxis\": {\"anchor\": \"y\", \"domain\": [0.0, 1.0], \"title\": {\"text\": \"Dependents\"}}, \"yaxis\": {\"anchor\": \"x\", \"domain\": [0.0, 1.0], \"title\": {\"text\": \"count\"}}},                        {\"responsive\": true}                    ).then(function(){\n",
       "                            \n",
       "var gd = document.getElementById('816dfb85-de3a-43ef-94a2-4737f4ed0d71');\n",
       "var x = new MutationObserver(function (mutations, observer) {{\n",
       "        var display = window.getComputedStyle(gd).display;\n",
       "        if (!display || display === 'none') {{\n",
       "            console.log([gd, 'removed!']);\n",
       "            Plotly.purge(gd);\n",
       "            observer.disconnect();\n",
       "        }}\n",
       "}});\n",
       "\n",
       "// Listen for the removal of the full notebook cells\n",
       "var notebookContainer = gd.closest('#notebook-container');\n",
       "if (notebookContainer) {{\n",
       "    x.observe(notebookContainer, {childList: true});\n",
       "}}\n",
       "\n",
       "// Listen for the clearing of the current output cell\n",
       "var outputEl = gd.closest('.output');\n",
       "if (outputEl) {{\n",
       "    x.observe(outputEl, {childList: true});\n",
       "}}\n",
       "\n",
       "                        })                };                });            </script>        </div>"
      ]
     },
     "metadata": {},
     "output_type": "display_data"
    },
    {
     "data": {
      "text/html": [
       "<div>                            <div id=\"300443b2-0fb7-4343-8964-dd60afc4e1b2\" class=\"plotly-graph-div\" style=\"height:525px; width:100%;\"></div>            <script type=\"text/javascript\">                require([\"plotly\"], function(Plotly) {                    window.PLOTLYENV=window.PLOTLYENV || {};                                    if (document.getElementById(\"300443b2-0fb7-4343-8964-dd60afc4e1b2\")) {                    Plotly.newPlot(                        \"300443b2-0fb7-4343-8964-dd60afc4e1b2\",                        [{\"alignmentgroup\": \"True\", \"hovertemplate\": \"Property_Area=%{x}<br>count=%{y}<extra></extra>\", \"legendgroup\": \"\", \"marker\": {\"color\": \"#636efa\"}, \"name\": \"\", \"offsetgroup\": \"\", \"orientation\": \"v\", \"showlegend\": false, \"textposition\": \"auto\", \"type\": \"bar\", \"x\": [\"Urban\", \"Rural\", \"Urban\", \"Urban\", \"Urban\", \"Urban\", \"Urban\", \"Semiurban\", \"Urban\", \"Semiurban\", \"Urban\", \"Urban\", \"Urban\", \"Rural\", \"Urban\", \"Urban\", \"Urban\", \"Urban\", \"Rural\", \"Urban\", \"Urban\", \"Urban\", \"Semiurban\", \"Rural\", \"Semiurban\", \"Semiurban\", \"Semiurban\", \"Urban\", \"Urban\", \"Semiurban\", \"Urban\", \"Urban\", \"Rural\", \"Semiurban\", \"Rural\", \"Urban\", \"Urban\", \"Semiurban\", \"Urban\", \"Semiurban\", \"Urban\", \"Urban\", \"Urban\", \"Semiurban\", \"Urban\", \"Urban\", \"Urban\", \"Urban\", \"Urban\", \"Semiurban\", \"Semiurban\", \"Semiurban\", \"Semiurban\", \"Urban\", \"Urban\", \"Semiurban\", \"Semiurban\", \"Rural\", \"Urban\", \"Urban\", \"Urban\", \"Urban\", \"Rural\", \"Rural\", \"Semiurban\", \"Semiurban\", \"Urban\", \"Urban\", \"Urban\", \"Semiurban\", \"Urban\", \"Semiurban\", \"Semiurban\", \"Semiurban\", \"Semiurban\", \"Urban\", \"Urban\", \"Urban\", \"Semiurban\", \"Semiurban\", \"Semiurban\", \"Semiurban\", \"Urban\", \"Semiurban\", \"Urban\", \"Semiurban\", \"Semiurban\", \"Semiurban\", \"Urban\", \"Semiurban\", \"Semiurban\", \"Semiurban\", \"Urban\", \"Semiurban\", \"Semiurban\", \"Urban\", \"Semiurban\", \"Semiurban\", \"Semiurban\", \"Semiurban\", \"Urban\", \"Semiurban\", \"Urban\", \"Semiurban\", \"Urban\", \"Urban\", \"Urban\", \"Rural\", \"Urban\", \"Semiurban\", \"Urban\", \"Semiurban\", \"Rural\", \"Semiurban\", \"Semiurban\", \"Rural\", \"Semiurban\", \"Urban\", \"Rural\", \"Urban\", \"Rural\", \"Semiurban\", \"Semiurban\", \"Semiurban\", \"Rural\", \"Rural\", \"Rural\", \"Rural\", \"Urban\", \"Rural\", \"Urban\", \"Urban\", \"Semiurban\", \"Semiurban\", \"Semiurban\", \"Semiurban\", \"Rural\", \"Urban\", \"Semiurban\", \"Rural\", \"Rural\", \"Urban\", \"Semiurban\", \"Semiurban\", \"Urban\", \"Semiurban\", \"Urban\", \"Urban\", \"Rural\", \"Semiurban\", \"Rural\", \"Rural\", \"Urban\", \"Rural\", \"Urban\", \"Semiurban\", \"Rural\", \"Urban\", \"Rural\", \"Semiurban\", \"Semiurban\", \"Urban\", \"Semiurban\", \"Rural\", \"Urban\", \"Rural\", \"Rural\", \"Rural\", \"Semiurban\", \"Semiurban\", \"Rural\", \"Urban\", \"Rural\", \"Semiurban\", \"Semiurban\", \"Rural\", \"Rural\", \"Semiurban\", \"Semiurban\", \"Urban\", \"Urban\", \"Rural\", \"Semiurban\", \"Semiurban\", \"Semiurban\", \"Semiurban\", \"Rural\", \"Rural\", \"Rural\", \"Rural\", \"Rural\", \"Semiurban\", \"Urban\", \"Semiurban\", \"Rural\", \"Semiurban\", \"Rural\", \"Urban\", \"Semiurban\", \"Urban\", \"Semiurban\", \"Semiurban\", \"Urban\", \"Urban\", \"Semiurban\", \"Semiurban\", \"Urban\", \"Rural\", \"Urban\", \"Semiurban\", \"Semiurban\", \"Semiurban\", \"Urban\", \"Rural\", \"Urban\", \"Semiurban\", \"Rural\", \"Semiurban\", \"Semiurban\", \"Semiurban\", \"Urban\", \"Semiurban\", \"Semiurban\", \"Semiurban\", \"Semiurban\", \"Rural\", \"Urban\", \"Semiurban\", \"Semiurban\", \"Rural\", \"Semiurban\", \"Rural\", \"Rural\", \"Semiurban\", \"Semiurban\", \"Rural\", \"Urban\", \"Urban\", \"Rural\", \"Semiurban\", \"Rural\", \"Urban\", \"Urban\", \"Rural\", \"Semiurban\", \"Urban\", \"Urban\", \"Urban\", \"Semiurban\", \"Urban\", \"Semiurban\", \"Urban\", \"Rural\", \"Semiurban\", \"Urban\", \"Rural\", \"Rural\", \"Urban\", \"Rural\", \"Semiurban\", \"Urban\", \"Semiurban\", \"Semiurban\", \"Rural\", \"Semiurban\", \"Rural\", \"Semiurban\", \"Urban\", \"Rural\", \"Urban\", \"Urban\", \"Urban\", \"Rural\", \"Semiurban\", \"Semiurban\", \"Semiurban\", \"Semiurban\", \"Urban\", \"Semiurban\", \"Rural\", \"Urban\", \"Semiurban\", \"Urban\", \"Urban\", \"Rural\", \"Rural\", \"Semiurban\", \"Rural\", \"Semiurban\", \"Rural\", \"Rural\", \"Semiurban\", \"Urban\", \"Urban\", \"Semiurban\", \"Urban\", \"Semiurban\", \"Urban\", \"Rural\", \"Urban\", \"Urban\", \"Semiurban\", \"Rural\", \"Urban\", \"Rural\", \"Urban\", \"Rural\", \"Urban\", \"Rural\", \"Rural\", \"Semiurban\", \"Semiurban\", \"Rural\", \"Rural\", \"Rural\", \"Urban\", \"Semiurban\", \"Urban\", \"Semiurban\", \"Rural\", \"Semiurban\", \"Semiurban\", \"Rural\", \"Rural\", \"Rural\", \"Rural\", \"Rural\", \"Semiurban\", \"Urban\", \"Urban\", \"Urban\", \"Semiurban\", \"Urban\", \"Urban\", \"Urban\", \"Semiurban\", \"Rural\", \"Rural\", \"Urban\", \"Semiurban\", \"Rural\", \"Rural\", \"Urban\", \"Semiurban\", \"Rural\", \"Semiurban\", \"Rural\", \"Urban\", \"Semiurban\", \"Rural\", \"Semiurban\", \"Rural\", \"Rural\", \"Rural\", \"Semiurban\", \"Urban\", \"Rural\", \"Urban\", \"Urban\", \"Semiurban\", \"Semiurban\", \"Semiurban\", \"Urban\", \"Urban\", \"Rural\", \"Rural\", \"Semiurban\", \"Rural\", \"Semiurban\", \"Rural\", \"Semiurban\", \"Semiurban\", \"Rural\", \"Urban\", \"Urban\", \"Urban\", \"Rural\", \"Semiurban\", \"Urban\", \"Urban\", \"Semiurban\", \"Semiurban\", \"Urban\", \"Urban\", \"Urban\", \"Urban\", \"Semiurban\", \"Urban\", \"Urban\", \"Rural\", \"Rural\", \"Rural\", \"Urban\", \"Semiurban\", \"Urban\", \"Semiurban\", \"Urban\", \"Urban\", \"Rural\", \"Semiurban\", \"Urban\", \"Rural\", \"Semiurban\", \"Semiurban\", \"Rural\", \"Semiurban\", \"Urban\", \"Rural\", \"Semiurban\", \"Rural\", \"Semiurban\", \"Urban\", \"Rural\", \"Rural\", \"Semiurban\", \"Urban\", \"Urban\", \"Urban\", \"Rural\", \"Semiurban\", \"Rural\", \"Urban\", \"Urban\", \"Urban\", \"Semiurban\", \"Rural\", \"Rural\", \"Semiurban\", \"Rural\", \"Urban\", \"Semiurban\", \"Rural\", \"Semiurban\", \"Semiurban\", \"Urban\", \"Semiurban\", \"Semiurban\", \"Urban\", \"Urban\", \"Rural\", \"Semiurban\", \"Rural\", \"Semiurban\", \"Semiurban\", \"Rural\", \"Rural\", \"Rural\", \"Rural\", \"Rural\", \"Semiurban\", \"Rural\", \"Urban\", \"Rural\", \"Rural\", \"Semiurban\", \"Semiurban\", \"Urban\", \"Urban\", \"Rural\", \"Semiurban\", \"Semiurban\", \"Urban\", \"Rural\", \"Semiurban\", \"Semiurban\", \"Rural\", \"Urban\", \"Semiurban\", \"Semiurban\", \"Urban\", \"Semiurban\", \"Rural\", \"Semiurban\", \"Urban\", \"Rural\", \"Rural\", \"Semiurban\", \"Semiurban\", \"Semiurban\", \"Urban\", \"Rural\", \"Rural\", \"Semiurban\", \"Semiurban\", \"Semiurban\", \"Rural\", \"Rural\", \"Urban\", \"Semiurban\", \"Urban\", \"Semiurban\", \"Urban\", \"Rural\", \"Semiurban\", \"Rural\", \"Semiurban\", \"Rural\", \"Urban\", \"Semiurban\", \"Rural\", \"Rural\", \"Semiurban\", \"Semiurban\", \"Rural\", \"Semiurban\", \"Rural\", \"Urban\", \"Urban\", \"Urban\", \"Urban\", \"Rural\", \"Semiurban\", \"Urban\", \"Semiurban\", \"Rural\", \"Rural\", \"Semiurban\", \"Semiurban\", \"Semiurban\", \"Rural\", \"Semiurban\", \"Semiurban\", \"Rural\", \"Rural\", \"Semiurban\", \"Rural\", \"Semiurban\", \"Semiurban\", \"Semiurban\", \"Semiurban\", \"Rural\", \"Urban\", \"Rural\", \"Semiurban\", \"Urban\", \"Rural\", \"Urban\", \"Semiurban\", \"Rural\", \"Rural\", \"Semiurban\", \"Semiurban\", \"Semiurban\", \"Urban\", \"Semiurban\", \"Rural\", \"Semiurban\", \"Rural\", \"Semiurban\", \"Rural\", \"Rural\", \"Rural\", \"Urban\", \"Urban\", \"Rural\", \"Semiurban\", \"Urban\", \"Semiurban\", \"Semiurban\", \"Semiurban\", \"Semiurban\", \"Semiurban\", \"Rural\", \"Semiurban\", \"Urban\", \"Rural\", \"Urban\", \"Rural\", \"Urban\", \"Urban\", \"Urban\", \"Urban\", \"Urban\", \"Semiurban\", \"Semiurban\", \"Urban\", \"Semiurban\", \"Urban\", \"Rural\", \"Urban\", \"Semiurban\", \"Urban\", \"Semiurban\", \"Rural\", \"Rural\", \"Rural\", \"Urban\", \"Semiurban\", \"Semiurban\", \"Semiurban\", \"Semiurban\", \"Semiurban\", \"Semiurban\", \"Rural\", \"Urban\", \"Rural\", \"Rural\", \"Semiurban\", \"Rural\", \"Urban\", \"Urban\", \"Rural\", \"Urban\", \"Rural\", \"Semiurban\", \"Urban\", \"Semiurban\", \"Rural\", \"Rural\", \"Rural\", \"Rural\", \"Urban\", \"Urban\", \"Semiurban\"], \"xaxis\": \"x\", \"y\": [1, 1, 1, 1, 1, 1, 1, 1, 1, 1, 1, 1, 1, 1, 1, 1, 1, 1, 1, 1, 1, 1, 1, 1, 1, 1, 1, 1, 1, 1, 1, 1, 1, 1, 1, 1, 1, 1, 1, 1, 1, 1, 1, 1, 1, 1, 1, 1, 1, 1, 1, 1, 1, 1, 1, 1, 1, 1, 1, 1, 1, 1, 1, 1, 1, 1, 1, 1, 1, 1, 1, 1, 1, 1, 1, 1, 1, 1, 1, 1, 1, 1, 1, 1, 1, 1, 1, 1, 1, 1, 1, 1, 1, 1, 1, 1, 1, 1, 1, 1, 1, 1, 1, 1, 1, 1, 1, 1, 1, 1, 1, 1, 1, 1, 1, 1, 1, 1, 1, 1, 1, 1, 1, 1, 1, 1, 1, 1, 1, 1, 1, 1, 1, 1, 1, 1, 1, 1, 1, 1, 1, 1, 1, 1, 1, 1, 1, 1, 1, 1, 1, 1, 1, 1, 1, 1, 1, 1, 1, 1, 1, 1, 1, 1, 1, 1, 1, 1, 1, 1, 1, 1, 1, 1, 1, 1, 1, 1, 1, 1, 1, 1, 1, 1, 1, 1, 1, 1, 1, 1, 1, 1, 1, 1, 1, 1, 1, 1, 1, 1, 1, 1, 1, 1, 1, 1, 1, 1, 1, 1, 1, 1, 1, 1, 1, 1, 1, 1, 1, 1, 1, 1, 1, 1, 1, 1, 1, 1, 1, 1, 1, 1, 1, 1, 1, 1, 1, 1, 1, 1, 1, 1, 1, 1, 1, 1, 1, 1, 1, 1, 1, 1, 1, 1, 1, 1, 1, 1, 1, 1, 1, 1, 1, 1, 1, 1, 1, 1, 1, 1, 1, 1, 1, 1, 1, 1, 1, 1, 1, 1, 1, 1, 1, 1, 1, 1, 1, 1, 1, 1, 1, 1, 1, 1, 1, 1, 1, 1, 1, 1, 1, 1, 1, 1, 1, 1, 1, 1, 1, 1, 1, 1, 1, 1, 1, 1, 1, 1, 1, 1, 1, 1, 1, 1, 1, 1, 1, 1, 1, 1, 1, 1, 1, 1, 1, 1, 1, 1, 1, 1, 1, 1, 1, 1, 1, 1, 1, 1, 1, 1, 1, 1, 1, 1, 1, 1, 1, 1, 1, 1, 1, 1, 1, 1, 1, 1, 1, 1, 1, 1, 1, 1, 1, 1, 1, 1, 1, 1, 1, 1, 1, 1, 1, 1, 1, 1, 1, 1, 1, 1, 1, 1, 1, 1, 1, 1, 1, 1, 1, 1, 1, 1, 1, 1, 1, 1, 1, 1, 1, 1, 1, 1, 1, 1, 1, 1, 1, 1, 1, 1, 1, 1, 1, 1, 1, 1, 1, 1, 1, 1, 1, 1, 1, 1, 1, 1, 1, 1, 1, 1, 1, 1, 1, 1, 1, 1, 1, 1, 1, 1, 1, 1, 1, 1, 1, 1, 1, 1, 1, 1, 1, 1, 1, 1, 1, 1, 1, 1, 1, 1, 1, 1, 1, 1, 1, 1, 1, 1, 1, 1, 1, 1, 1, 1, 1, 1, 1, 1, 1, 1, 1, 1, 1, 1, 1, 1, 1, 1, 1, 1, 1, 1, 1, 1, 1, 1, 1, 1, 1, 1, 1, 1, 1, 1, 1, 1, 1, 1, 1, 1, 1, 1, 1, 1, 1, 1, 1, 1, 1, 1, 1, 1, 1, 1, 1, 1, 1, 1, 1, 1, 1, 1, 1, 1, 1, 1, 1, 1, 1, 1, 1, 1, 1, 1, 1, 1, 1, 1, 1, 1, 1, 1, 1, 1, 1, 1, 1, 1, 1, 1, 1, 1, 1, 1, 1, 1, 1, 1, 1, 1, 1, 1, 1, 1, 1, 1, 1, 1, 1, 1, 1, 1, 1, 1, 1, 1, 1, 1, 1, 1, 1, 1, 1, 1, 1, 1, 1, 1, 1, 1, 1, 1, 1, 1], \"yaxis\": \"y\"}],                        {\"barmode\": \"relative\", \"legend\": {\"tracegroupgap\": 0}, \"margin\": {\"t\": 60}, \"template\": {\"data\": {\"bar\": [{\"error_x\": {\"color\": \"#2a3f5f\"}, \"error_y\": {\"color\": \"#2a3f5f\"}, \"marker\": {\"line\": {\"color\": \"#E5ECF6\", \"width\": 0.5}}, \"type\": \"bar\"}], \"barpolar\": [{\"marker\": {\"line\": {\"color\": \"#E5ECF6\", \"width\": 0.5}}, \"type\": \"barpolar\"}], \"carpet\": [{\"aaxis\": {\"endlinecolor\": \"#2a3f5f\", \"gridcolor\": \"white\", \"linecolor\": \"white\", \"minorgridcolor\": \"white\", \"startlinecolor\": \"#2a3f5f\"}, \"baxis\": {\"endlinecolor\": \"#2a3f5f\", \"gridcolor\": \"white\", \"linecolor\": \"white\", \"minorgridcolor\": \"white\", \"startlinecolor\": \"#2a3f5f\"}, \"type\": \"carpet\"}], \"choropleth\": [{\"colorbar\": {\"outlinewidth\": 0, \"ticks\": \"\"}, \"type\": \"choropleth\"}], \"contour\": [{\"colorbar\": {\"outlinewidth\": 0, \"ticks\": \"\"}, \"colorscale\": [[0.0, \"#0d0887\"], [0.1111111111111111, \"#46039f\"], [0.2222222222222222, \"#7201a8\"], [0.3333333333333333, \"#9c179e\"], [0.4444444444444444, \"#bd3786\"], [0.5555555555555556, \"#d8576b\"], [0.6666666666666666, \"#ed7953\"], [0.7777777777777778, \"#fb9f3a\"], [0.8888888888888888, \"#fdca26\"], [1.0, \"#f0f921\"]], \"type\": \"contour\"}], \"contourcarpet\": [{\"colorbar\": {\"outlinewidth\": 0, \"ticks\": \"\"}, \"type\": \"contourcarpet\"}], \"heatmap\": [{\"colorbar\": {\"outlinewidth\": 0, \"ticks\": \"\"}, \"colorscale\": [[0.0, \"#0d0887\"], [0.1111111111111111, \"#46039f\"], [0.2222222222222222, \"#7201a8\"], [0.3333333333333333, \"#9c179e\"], [0.4444444444444444, \"#bd3786\"], [0.5555555555555556, \"#d8576b\"], [0.6666666666666666, \"#ed7953\"], [0.7777777777777778, \"#fb9f3a\"], [0.8888888888888888, \"#fdca26\"], [1.0, \"#f0f921\"]], \"type\": \"heatmap\"}], \"heatmapgl\": [{\"colorbar\": {\"outlinewidth\": 0, \"ticks\": \"\"}, \"colorscale\": [[0.0, \"#0d0887\"], [0.1111111111111111, \"#46039f\"], [0.2222222222222222, \"#7201a8\"], [0.3333333333333333, \"#9c179e\"], [0.4444444444444444, \"#bd3786\"], [0.5555555555555556, \"#d8576b\"], [0.6666666666666666, \"#ed7953\"], [0.7777777777777778, \"#fb9f3a\"], [0.8888888888888888, \"#fdca26\"], [1.0, \"#f0f921\"]], \"type\": \"heatmapgl\"}], \"histogram\": [{\"marker\": {\"colorbar\": {\"outlinewidth\": 0, \"ticks\": \"\"}}, \"type\": \"histogram\"}], \"histogram2d\": [{\"colorbar\": {\"outlinewidth\": 0, \"ticks\": \"\"}, \"colorscale\": [[0.0, \"#0d0887\"], [0.1111111111111111, \"#46039f\"], [0.2222222222222222, \"#7201a8\"], [0.3333333333333333, \"#9c179e\"], [0.4444444444444444, \"#bd3786\"], [0.5555555555555556, \"#d8576b\"], [0.6666666666666666, \"#ed7953\"], [0.7777777777777778, \"#fb9f3a\"], [0.8888888888888888, \"#fdca26\"], [1.0, \"#f0f921\"]], \"type\": \"histogram2d\"}], \"histogram2dcontour\": [{\"colorbar\": {\"outlinewidth\": 0, \"ticks\": \"\"}, \"colorscale\": [[0.0, \"#0d0887\"], [0.1111111111111111, \"#46039f\"], [0.2222222222222222, \"#7201a8\"], [0.3333333333333333, \"#9c179e\"], [0.4444444444444444, \"#bd3786\"], [0.5555555555555556, \"#d8576b\"], [0.6666666666666666, \"#ed7953\"], [0.7777777777777778, \"#fb9f3a\"], [0.8888888888888888, \"#fdca26\"], [1.0, \"#f0f921\"]], \"type\": \"histogram2dcontour\"}], \"mesh3d\": [{\"colorbar\": {\"outlinewidth\": 0, \"ticks\": \"\"}, \"type\": \"mesh3d\"}], \"parcoords\": [{\"line\": {\"colorbar\": {\"outlinewidth\": 0, \"ticks\": \"\"}}, \"type\": \"parcoords\"}], \"pie\": [{\"automargin\": true, \"type\": \"pie\"}], \"scatter\": [{\"marker\": {\"colorbar\": {\"outlinewidth\": 0, \"ticks\": \"\"}}, \"type\": \"scatter\"}], \"scatter3d\": [{\"line\": {\"colorbar\": {\"outlinewidth\": 0, \"ticks\": \"\"}}, \"marker\": {\"colorbar\": {\"outlinewidth\": 0, \"ticks\": \"\"}}, \"type\": \"scatter3d\"}], \"scattercarpet\": [{\"marker\": {\"colorbar\": {\"outlinewidth\": 0, \"ticks\": \"\"}}, \"type\": \"scattercarpet\"}], \"scattergeo\": [{\"marker\": {\"colorbar\": {\"outlinewidth\": 0, \"ticks\": \"\"}}, \"type\": \"scattergeo\"}], \"scattergl\": [{\"marker\": {\"colorbar\": {\"outlinewidth\": 0, \"ticks\": \"\"}}, \"type\": \"scattergl\"}], \"scattermapbox\": [{\"marker\": {\"colorbar\": {\"outlinewidth\": 0, \"ticks\": \"\"}}, \"type\": \"scattermapbox\"}], \"scatterpolar\": [{\"marker\": {\"colorbar\": {\"outlinewidth\": 0, \"ticks\": \"\"}}, \"type\": \"scatterpolar\"}], \"scatterpolargl\": [{\"marker\": {\"colorbar\": {\"outlinewidth\": 0, \"ticks\": \"\"}}, \"type\": \"scatterpolargl\"}], \"scatterternary\": [{\"marker\": {\"colorbar\": {\"outlinewidth\": 0, \"ticks\": \"\"}}, \"type\": \"scatterternary\"}], \"surface\": [{\"colorbar\": {\"outlinewidth\": 0, \"ticks\": \"\"}, \"colorscale\": [[0.0, \"#0d0887\"], [0.1111111111111111, \"#46039f\"], [0.2222222222222222, \"#7201a8\"], [0.3333333333333333, \"#9c179e\"], [0.4444444444444444, \"#bd3786\"], [0.5555555555555556, \"#d8576b\"], [0.6666666666666666, \"#ed7953\"], [0.7777777777777778, \"#fb9f3a\"], [0.8888888888888888, \"#fdca26\"], [1.0, \"#f0f921\"]], \"type\": \"surface\"}], \"table\": [{\"cells\": {\"fill\": {\"color\": \"#EBF0F8\"}, \"line\": {\"color\": \"white\"}}, \"header\": {\"fill\": {\"color\": \"#C8D4E3\"}, \"line\": {\"color\": \"white\"}}, \"type\": \"table\"}]}, \"layout\": {\"annotationdefaults\": {\"arrowcolor\": \"#2a3f5f\", \"arrowhead\": 0, \"arrowwidth\": 1}, \"coloraxis\": {\"colorbar\": {\"outlinewidth\": 0, \"ticks\": \"\"}}, \"colorscale\": {\"diverging\": [[0, \"#8e0152\"], [0.1, \"#c51b7d\"], [0.2, \"#de77ae\"], [0.3, \"#f1b6da\"], [0.4, \"#fde0ef\"], [0.5, \"#f7f7f7\"], [0.6, \"#e6f5d0\"], [0.7, \"#b8e186\"], [0.8, \"#7fbc41\"], [0.9, \"#4d9221\"], [1, \"#276419\"]], \"sequential\": [[0.0, \"#0d0887\"], [0.1111111111111111, \"#46039f\"], [0.2222222222222222, \"#7201a8\"], [0.3333333333333333, \"#9c179e\"], [0.4444444444444444, \"#bd3786\"], [0.5555555555555556, \"#d8576b\"], [0.6666666666666666, \"#ed7953\"], [0.7777777777777778, \"#fb9f3a\"], [0.8888888888888888, \"#fdca26\"], [1.0, \"#f0f921\"]], \"sequentialminus\": [[0.0, \"#0d0887\"], [0.1111111111111111, \"#46039f\"], [0.2222222222222222, \"#7201a8\"], [0.3333333333333333, \"#9c179e\"], [0.4444444444444444, \"#bd3786\"], [0.5555555555555556, \"#d8576b\"], [0.6666666666666666, \"#ed7953\"], [0.7777777777777778, \"#fb9f3a\"], [0.8888888888888888, \"#fdca26\"], [1.0, \"#f0f921\"]]}, \"colorway\": [\"#636efa\", \"#EF553B\", \"#00cc96\", \"#ab63fa\", \"#FFA15A\", \"#19d3f3\", \"#FF6692\", \"#B6E880\", \"#FF97FF\", \"#FECB52\"], \"font\": {\"color\": \"#2a3f5f\"}, \"geo\": {\"bgcolor\": \"white\", \"lakecolor\": \"white\", \"landcolor\": \"#E5ECF6\", \"showlakes\": true, \"showland\": true, \"subunitcolor\": \"white\"}, \"hoverlabel\": {\"align\": \"left\"}, \"hovermode\": \"closest\", \"mapbox\": {\"style\": \"light\"}, \"paper_bgcolor\": \"white\", \"plot_bgcolor\": \"#E5ECF6\", \"polar\": {\"angularaxis\": {\"gridcolor\": \"white\", \"linecolor\": \"white\", \"ticks\": \"\"}, \"bgcolor\": \"#E5ECF6\", \"radialaxis\": {\"gridcolor\": \"white\", \"linecolor\": \"white\", \"ticks\": \"\"}}, \"scene\": {\"xaxis\": {\"backgroundcolor\": \"#E5ECF6\", \"gridcolor\": \"white\", \"gridwidth\": 2, \"linecolor\": \"white\", \"showbackground\": true, \"ticks\": \"\", \"zerolinecolor\": \"white\"}, \"yaxis\": {\"backgroundcolor\": \"#E5ECF6\", \"gridcolor\": \"white\", \"gridwidth\": 2, \"linecolor\": \"white\", \"showbackground\": true, \"ticks\": \"\", \"zerolinecolor\": \"white\"}, \"zaxis\": {\"backgroundcolor\": \"#E5ECF6\", \"gridcolor\": \"white\", \"gridwidth\": 2, \"linecolor\": \"white\", \"showbackground\": true, \"ticks\": \"\", \"zerolinecolor\": \"white\"}}, \"shapedefaults\": {\"line\": {\"color\": \"#2a3f5f\"}}, \"ternary\": {\"aaxis\": {\"gridcolor\": \"white\", \"linecolor\": \"white\", \"ticks\": \"\"}, \"baxis\": {\"gridcolor\": \"white\", \"linecolor\": \"white\", \"ticks\": \"\"}, \"bgcolor\": \"#E5ECF6\", \"caxis\": {\"gridcolor\": \"white\", \"linecolor\": \"white\", \"ticks\": \"\"}}, \"title\": {\"x\": 0.05}, \"xaxis\": {\"automargin\": true, \"gridcolor\": \"white\", \"linecolor\": \"white\", \"ticks\": \"\", \"title\": {\"standoff\": 15}, \"zerolinecolor\": \"white\", \"zerolinewidth\": 2}, \"yaxis\": {\"automargin\": true, \"gridcolor\": \"white\", \"linecolor\": \"white\", \"ticks\": \"\", \"title\": {\"standoff\": 15}, \"zerolinecolor\": \"white\", \"zerolinewidth\": 2}}}, \"xaxis\": {\"anchor\": \"y\", \"domain\": [0.0, 1.0], \"title\": {\"text\": \"Property_Area\"}}, \"yaxis\": {\"anchor\": \"x\", \"domain\": [0.0, 1.0], \"title\": {\"text\": \"count\"}}},                        {\"responsive\": true}                    ).then(function(){\n",
       "                            \n",
       "var gd = document.getElementById('300443b2-0fb7-4343-8964-dd60afc4e1b2');\n",
       "var x = new MutationObserver(function (mutations, observer) {{\n",
       "        var display = window.getComputedStyle(gd).display;\n",
       "        if (!display || display === 'none') {{\n",
       "            console.log([gd, 'removed!']);\n",
       "            Plotly.purge(gd);\n",
       "            observer.disconnect();\n",
       "        }}\n",
       "}});\n",
       "\n",
       "// Listen for the removal of the full notebook cells\n",
       "var notebookContainer = gd.closest('#notebook-container');\n",
       "if (notebookContainer) {{\n",
       "    x.observe(notebookContainer, {childList: true});\n",
       "}}\n",
       "\n",
       "// Listen for the clearing of the current output cell\n",
       "var outputEl = gd.closest('.output');\n",
       "if (outputEl) {{\n",
       "    x.observe(outputEl, {childList: true});\n",
       "}}\n",
       "\n",
       "                        })                };                });            </script>        </div>"
      ]
     },
     "metadata": {},
     "output_type": "display_data"
    },
    {
     "data": {
      "text/html": [
       "<div>                            <div id=\"25dd4e29-852a-4a88-87ab-89628ff3709c\" class=\"plotly-graph-div\" style=\"height:525px; width:100%;\"></div>            <script type=\"text/javascript\">                require([\"plotly\"], function(Plotly) {                    window.PLOTLYENV=window.PLOTLYENV || {};                                    if (document.getElementById(\"25dd4e29-852a-4a88-87ab-89628ff3709c\")) {                    Plotly.newPlot(                        \"25dd4e29-852a-4a88-87ab-89628ff3709c\",                        [{\"alignmentgroup\": \"True\", \"hovertemplate\": \"Loan_Status=%{x}<br>count=%{y}<extra></extra>\", \"legendgroup\": \"Y\", \"marker\": {\"color\": \"#636efa\"}, \"name\": \"Y\", \"offsetgroup\": \"Y\", \"orientation\": \"v\", \"showlegend\": true, \"textposition\": \"auto\", \"type\": \"bar\", \"x\": [\"Y\", \"Y\", \"Y\", \"Y\", \"Y\", \"Y\", \"Y\", \"Y\", \"Y\", \"Y\", \"Y\", \"Y\", \"Y\", \"Y\", \"Y\", \"Y\", \"Y\", \"Y\", \"Y\", \"Y\", \"Y\", \"Y\", \"Y\", \"Y\", \"Y\", \"Y\", \"Y\", \"Y\", \"Y\", \"Y\", \"Y\", \"Y\", \"Y\", \"Y\", \"Y\", \"Y\", \"Y\", \"Y\", \"Y\", \"Y\", \"Y\", \"Y\", \"Y\", \"Y\", \"Y\", \"Y\", \"Y\", \"Y\", \"Y\", \"Y\", \"Y\", \"Y\", \"Y\", \"Y\", \"Y\", \"Y\", \"Y\", \"Y\", \"Y\", \"Y\", \"Y\", \"Y\", \"Y\", \"Y\", \"Y\", \"Y\", \"Y\", \"Y\", \"Y\", \"Y\", \"Y\", \"Y\", \"Y\", \"Y\", \"Y\", \"Y\", \"Y\", \"Y\", \"Y\", \"Y\", \"Y\", \"Y\", \"Y\", \"Y\", \"Y\", \"Y\", \"Y\", \"Y\", \"Y\", \"Y\", \"Y\", \"Y\", \"Y\", \"Y\", \"Y\", \"Y\", \"Y\", \"Y\", \"Y\", \"Y\", \"Y\", \"Y\", \"Y\", \"Y\", \"Y\", \"Y\", \"Y\", \"Y\", \"Y\", \"Y\", \"Y\", \"Y\", \"Y\", \"Y\", \"Y\", \"Y\", \"Y\", \"Y\", \"Y\", \"Y\", \"Y\", \"Y\", \"Y\", \"Y\", \"Y\", \"Y\", \"Y\", \"Y\", \"Y\", \"Y\", \"Y\", \"Y\", \"Y\", \"Y\", \"Y\", \"Y\", \"Y\", \"Y\", \"Y\", \"Y\", \"Y\", \"Y\", \"Y\", \"Y\", \"Y\", \"Y\", \"Y\", \"Y\", \"Y\", \"Y\", \"Y\", \"Y\", \"Y\", \"Y\", \"Y\", \"Y\", \"Y\", \"Y\", \"Y\", \"Y\", \"Y\", \"Y\", \"Y\", \"Y\", \"Y\", \"Y\", \"Y\", \"Y\", \"Y\", \"Y\", \"Y\", \"Y\", \"Y\", \"Y\", \"Y\", \"Y\", \"Y\", \"Y\", \"Y\", \"Y\", \"Y\", \"Y\", \"Y\", \"Y\", \"Y\", \"Y\", \"Y\", \"Y\", \"Y\", \"Y\", \"Y\", \"Y\", \"Y\", \"Y\", \"Y\", \"Y\", \"Y\", \"Y\", \"Y\", \"Y\", \"Y\", \"Y\", \"Y\", \"Y\", \"Y\", \"Y\", \"Y\", \"Y\", \"Y\", \"Y\", \"Y\", \"Y\", \"Y\", \"Y\", \"Y\", \"Y\", \"Y\", \"Y\", \"Y\", \"Y\", \"Y\", \"Y\", \"Y\", \"Y\", \"Y\", \"Y\", \"Y\", \"Y\", \"Y\", \"Y\", \"Y\", \"Y\", \"Y\", \"Y\", \"Y\", \"Y\", \"Y\", \"Y\", \"Y\", \"Y\", \"Y\", \"Y\", \"Y\", \"Y\", \"Y\", \"Y\", \"Y\", \"Y\", \"Y\", \"Y\", \"Y\", \"Y\", \"Y\", \"Y\", \"Y\", \"Y\", \"Y\", \"Y\", \"Y\", \"Y\", \"Y\", \"Y\", \"Y\", \"Y\", \"Y\", \"Y\", \"Y\", \"Y\", \"Y\", \"Y\", \"Y\", \"Y\", \"Y\", \"Y\", \"Y\", \"Y\", \"Y\", \"Y\", \"Y\", \"Y\", \"Y\", \"Y\", \"Y\", \"Y\", \"Y\", \"Y\", \"Y\", \"Y\", \"Y\", \"Y\", \"Y\", \"Y\", \"Y\", \"Y\", \"Y\", \"Y\", \"Y\", \"Y\", \"Y\", \"Y\", \"Y\", \"Y\", \"Y\", \"Y\", \"Y\", \"Y\", \"Y\", \"Y\", \"Y\", \"Y\", \"Y\", \"Y\", \"Y\", \"Y\", \"Y\", \"Y\", \"Y\", \"Y\", \"Y\", \"Y\", \"Y\", \"Y\", \"Y\", \"Y\", \"Y\", \"Y\", \"Y\", \"Y\", \"Y\", \"Y\", \"Y\", \"Y\", \"Y\", \"Y\", \"Y\", \"Y\", \"Y\", \"Y\", \"Y\", \"Y\", \"Y\", \"Y\", \"Y\", \"Y\", \"Y\", \"Y\", \"Y\", \"Y\", \"Y\", \"Y\", \"Y\", \"Y\", \"Y\", \"Y\", \"Y\", \"Y\", \"Y\", \"Y\", \"Y\", \"Y\", \"Y\", \"Y\", \"Y\", \"Y\", \"Y\", \"Y\", \"Y\", \"Y\", \"Y\", \"Y\", \"Y\", \"Y\", \"Y\", \"Y\", \"Y\", \"Y\", \"Y\", \"Y\", \"Y\", \"Y\", \"Y\", \"Y\", \"Y\", \"Y\", \"Y\", \"Y\", \"Y\", \"Y\", \"Y\", \"Y\", \"Y\", \"Y\", \"Y\", \"Y\", \"Y\", \"Y\", \"Y\", \"Y\", \"Y\", \"Y\", \"Y\", \"Y\", \"Y\", \"Y\", \"Y\", \"Y\", \"Y\", \"Y\", \"Y\", \"Y\", \"Y\", \"Y\", \"Y\", \"Y\", \"Y\", \"Y\", \"Y\", \"Y\", \"Y\", \"Y\", \"Y\", \"Y\"], \"xaxis\": \"x\", \"y\": [1, 1, 1, 1, 1, 1, 1, 1, 1, 1, 1, 1, 1, 1, 1, 1, 1, 1, 1, 1, 1, 1, 1, 1, 1, 1, 1, 1, 1, 1, 1, 1, 1, 1, 1, 1, 1, 1, 1, 1, 1, 1, 1, 1, 1, 1, 1, 1, 1, 1, 1, 1, 1, 1, 1, 1, 1, 1, 1, 1, 1, 1, 1, 1, 1, 1, 1, 1, 1, 1, 1, 1, 1, 1, 1, 1, 1, 1, 1, 1, 1, 1, 1, 1, 1, 1, 1, 1, 1, 1, 1, 1, 1, 1, 1, 1, 1, 1, 1, 1, 1, 1, 1, 1, 1, 1, 1, 1, 1, 1, 1, 1, 1, 1, 1, 1, 1, 1, 1, 1, 1, 1, 1, 1, 1, 1, 1, 1, 1, 1, 1, 1, 1, 1, 1, 1, 1, 1, 1, 1, 1, 1, 1, 1, 1, 1, 1, 1, 1, 1, 1, 1, 1, 1, 1, 1, 1, 1, 1, 1, 1, 1, 1, 1, 1, 1, 1, 1, 1, 1, 1, 1, 1, 1, 1, 1, 1, 1, 1, 1, 1, 1, 1, 1, 1, 1, 1, 1, 1, 1, 1, 1, 1, 1, 1, 1, 1, 1, 1, 1, 1, 1, 1, 1, 1, 1, 1, 1, 1, 1, 1, 1, 1, 1, 1, 1, 1, 1, 1, 1, 1, 1, 1, 1, 1, 1, 1, 1, 1, 1, 1, 1, 1, 1, 1, 1, 1, 1, 1, 1, 1, 1, 1, 1, 1, 1, 1, 1, 1, 1, 1, 1, 1, 1, 1, 1, 1, 1, 1, 1, 1, 1, 1, 1, 1, 1, 1, 1, 1, 1, 1, 1, 1, 1, 1, 1, 1, 1, 1, 1, 1, 1, 1, 1, 1, 1, 1, 1, 1, 1, 1, 1, 1, 1, 1, 1, 1, 1, 1, 1, 1, 1, 1, 1, 1, 1, 1, 1, 1, 1, 1, 1, 1, 1, 1, 1, 1, 1, 1, 1, 1, 1, 1, 1, 1, 1, 1, 1, 1, 1, 1, 1, 1, 1, 1, 1, 1, 1, 1, 1, 1, 1, 1, 1, 1, 1, 1, 1, 1, 1, 1, 1, 1, 1, 1, 1, 1, 1, 1, 1, 1, 1, 1, 1, 1, 1, 1, 1, 1, 1, 1, 1, 1, 1, 1, 1, 1, 1, 1, 1, 1, 1, 1, 1, 1, 1, 1, 1, 1, 1, 1, 1, 1, 1, 1, 1, 1, 1, 1, 1, 1, 1, 1, 1, 1, 1, 1, 1, 1, 1, 1, 1, 1, 1, 1, 1, 1, 1, 1, 1, 1, 1], \"yaxis\": \"y\"}, {\"alignmentgroup\": \"True\", \"hovertemplate\": \"Loan_Status=%{x}<br>count=%{y}<extra></extra>\", \"legendgroup\": \"N\", \"marker\": {\"color\": \"#EF553B\"}, \"name\": \"N\", \"offsetgroup\": \"N\", \"orientation\": \"v\", \"showlegend\": true, \"textposition\": \"auto\", \"type\": \"bar\", \"x\": [\"N\", \"N\", \"N\", \"N\", \"N\", \"N\", \"N\", \"N\", \"N\", \"N\", \"N\", \"N\", \"N\", \"N\", \"N\", \"N\", \"N\", \"N\", \"N\", \"N\", \"N\", \"N\", \"N\", \"N\", \"N\", \"N\", \"N\", \"N\", \"N\", \"N\", \"N\", \"N\", \"N\", \"N\", \"N\", \"N\", \"N\", \"N\", \"N\", \"N\", \"N\", \"N\", \"N\", \"N\", \"N\", \"N\", \"N\", \"N\", \"N\", \"N\", \"N\", \"N\", \"N\", \"N\", \"N\", \"N\", \"N\", \"N\", \"N\", \"N\", \"N\", \"N\", \"N\", \"N\", \"N\", \"N\", \"N\", \"N\", \"N\", \"N\", \"N\", \"N\", \"N\", \"N\", \"N\", \"N\", \"N\", \"N\", \"N\", \"N\", \"N\", \"N\", \"N\", \"N\", \"N\", \"N\", \"N\", \"N\", \"N\", \"N\", \"N\", \"N\", \"N\", \"N\", \"N\", \"N\", \"N\", \"N\", \"N\", \"N\", \"N\", \"N\", \"N\", \"N\", \"N\", \"N\", \"N\", \"N\", \"N\", \"N\", \"N\", \"N\", \"N\", \"N\", \"N\", \"N\", \"N\", \"N\", \"N\", \"N\", \"N\", \"N\", \"N\", \"N\", \"N\", \"N\", \"N\", \"N\", \"N\", \"N\", \"N\", \"N\", \"N\", \"N\", \"N\", \"N\", \"N\", \"N\", \"N\", \"N\", \"N\", \"N\", \"N\", \"N\", \"N\", \"N\", \"N\", \"N\", \"N\", \"N\", \"N\", \"N\", \"N\", \"N\", \"N\", \"N\", \"N\", \"N\", \"N\", \"N\", \"N\", \"N\", \"N\", \"N\", \"N\", \"N\", \"N\", \"N\", \"N\", \"N\", \"N\", \"N\", \"N\", \"N\", \"N\", \"N\", \"N\", \"N\", \"N\", \"N\", \"N\", \"N\", \"N\", \"N\", \"N\", \"N\", \"N\", \"N\", \"N\", \"N\", \"N\", \"N\"], \"xaxis\": \"x\", \"y\": [1, 1, 1, 1, 1, 1, 1, 1, 1, 1, 1, 1, 1, 1, 1, 1, 1, 1, 1, 1, 1, 1, 1, 1, 1, 1, 1, 1, 1, 1, 1, 1, 1, 1, 1, 1, 1, 1, 1, 1, 1, 1, 1, 1, 1, 1, 1, 1, 1, 1, 1, 1, 1, 1, 1, 1, 1, 1, 1, 1, 1, 1, 1, 1, 1, 1, 1, 1, 1, 1, 1, 1, 1, 1, 1, 1, 1, 1, 1, 1, 1, 1, 1, 1, 1, 1, 1, 1, 1, 1, 1, 1, 1, 1, 1, 1, 1, 1, 1, 1, 1, 1, 1, 1, 1, 1, 1, 1, 1, 1, 1, 1, 1, 1, 1, 1, 1, 1, 1, 1, 1, 1, 1, 1, 1, 1, 1, 1, 1, 1, 1, 1, 1, 1, 1, 1, 1, 1, 1, 1, 1, 1, 1, 1, 1, 1, 1, 1, 1, 1, 1, 1, 1, 1, 1, 1, 1, 1, 1, 1, 1, 1, 1, 1, 1, 1, 1, 1, 1, 1, 1, 1, 1, 1, 1, 1, 1, 1, 1, 1, 1, 1, 1, 1, 1, 1, 1, 1, 1, 1, 1, 1], \"yaxis\": \"y\"}],                        {\"barmode\": \"relative\", \"legend\": {\"title\": {\"text\": \"Loan_Status\"}, \"tracegroupgap\": 0}, \"margin\": {\"t\": 60}, \"template\": {\"data\": {\"bar\": [{\"error_x\": {\"color\": \"#2a3f5f\"}, \"error_y\": {\"color\": \"#2a3f5f\"}, \"marker\": {\"line\": {\"color\": \"#E5ECF6\", \"width\": 0.5}}, \"type\": \"bar\"}], \"barpolar\": [{\"marker\": {\"line\": {\"color\": \"#E5ECF6\", \"width\": 0.5}}, \"type\": \"barpolar\"}], \"carpet\": [{\"aaxis\": {\"endlinecolor\": \"#2a3f5f\", \"gridcolor\": \"white\", \"linecolor\": \"white\", \"minorgridcolor\": \"white\", \"startlinecolor\": \"#2a3f5f\"}, \"baxis\": {\"endlinecolor\": \"#2a3f5f\", \"gridcolor\": \"white\", \"linecolor\": \"white\", \"minorgridcolor\": \"white\", \"startlinecolor\": \"#2a3f5f\"}, \"type\": \"carpet\"}], \"choropleth\": [{\"colorbar\": {\"outlinewidth\": 0, \"ticks\": \"\"}, \"type\": \"choropleth\"}], \"contour\": [{\"colorbar\": {\"outlinewidth\": 0, \"ticks\": \"\"}, \"colorscale\": [[0.0, \"#0d0887\"], [0.1111111111111111, \"#46039f\"], [0.2222222222222222, \"#7201a8\"], [0.3333333333333333, \"#9c179e\"], [0.4444444444444444, \"#bd3786\"], [0.5555555555555556, \"#d8576b\"], [0.6666666666666666, \"#ed7953\"], [0.7777777777777778, \"#fb9f3a\"], [0.8888888888888888, \"#fdca26\"], [1.0, \"#f0f921\"]], \"type\": \"contour\"}], \"contourcarpet\": [{\"colorbar\": {\"outlinewidth\": 0, \"ticks\": \"\"}, \"type\": \"contourcarpet\"}], \"heatmap\": [{\"colorbar\": {\"outlinewidth\": 0, \"ticks\": \"\"}, \"colorscale\": [[0.0, \"#0d0887\"], [0.1111111111111111, \"#46039f\"], [0.2222222222222222, \"#7201a8\"], [0.3333333333333333, \"#9c179e\"], [0.4444444444444444, \"#bd3786\"], [0.5555555555555556, \"#d8576b\"], [0.6666666666666666, \"#ed7953\"], [0.7777777777777778, \"#fb9f3a\"], [0.8888888888888888, \"#fdca26\"], [1.0, \"#f0f921\"]], \"type\": \"heatmap\"}], \"heatmapgl\": [{\"colorbar\": {\"outlinewidth\": 0, \"ticks\": \"\"}, \"colorscale\": [[0.0, \"#0d0887\"], [0.1111111111111111, \"#46039f\"], [0.2222222222222222, \"#7201a8\"], [0.3333333333333333, \"#9c179e\"], [0.4444444444444444, \"#bd3786\"], [0.5555555555555556, \"#d8576b\"], [0.6666666666666666, \"#ed7953\"], [0.7777777777777778, \"#fb9f3a\"], [0.8888888888888888, \"#fdca26\"], [1.0, \"#f0f921\"]], \"type\": \"heatmapgl\"}], \"histogram\": [{\"marker\": {\"colorbar\": {\"outlinewidth\": 0, \"ticks\": \"\"}}, \"type\": \"histogram\"}], \"histogram2d\": [{\"colorbar\": {\"outlinewidth\": 0, \"ticks\": \"\"}, \"colorscale\": [[0.0, \"#0d0887\"], [0.1111111111111111, \"#46039f\"], [0.2222222222222222, \"#7201a8\"], [0.3333333333333333, \"#9c179e\"], [0.4444444444444444, \"#bd3786\"], [0.5555555555555556, \"#d8576b\"], [0.6666666666666666, \"#ed7953\"], [0.7777777777777778, \"#fb9f3a\"], [0.8888888888888888, \"#fdca26\"], [1.0, \"#f0f921\"]], \"type\": \"histogram2d\"}], \"histogram2dcontour\": [{\"colorbar\": {\"outlinewidth\": 0, \"ticks\": \"\"}, \"colorscale\": [[0.0, \"#0d0887\"], [0.1111111111111111, \"#46039f\"], [0.2222222222222222, \"#7201a8\"], [0.3333333333333333, \"#9c179e\"], [0.4444444444444444, \"#bd3786\"], [0.5555555555555556, \"#d8576b\"], [0.6666666666666666, \"#ed7953\"], [0.7777777777777778, \"#fb9f3a\"], [0.8888888888888888, \"#fdca26\"], [1.0, \"#f0f921\"]], \"type\": \"histogram2dcontour\"}], \"mesh3d\": [{\"colorbar\": {\"outlinewidth\": 0, \"ticks\": \"\"}, \"type\": \"mesh3d\"}], \"parcoords\": [{\"line\": {\"colorbar\": {\"outlinewidth\": 0, \"ticks\": \"\"}}, \"type\": \"parcoords\"}], \"pie\": [{\"automargin\": true, \"type\": \"pie\"}], \"scatter\": [{\"marker\": {\"colorbar\": {\"outlinewidth\": 0, \"ticks\": \"\"}}, \"type\": \"scatter\"}], \"scatter3d\": [{\"line\": {\"colorbar\": {\"outlinewidth\": 0, \"ticks\": \"\"}}, \"marker\": {\"colorbar\": {\"outlinewidth\": 0, \"ticks\": \"\"}}, \"type\": \"scatter3d\"}], \"scattercarpet\": [{\"marker\": {\"colorbar\": {\"outlinewidth\": 0, \"ticks\": \"\"}}, \"type\": \"scattercarpet\"}], \"scattergeo\": [{\"marker\": {\"colorbar\": {\"outlinewidth\": 0, \"ticks\": \"\"}}, \"type\": \"scattergeo\"}], \"scattergl\": [{\"marker\": {\"colorbar\": {\"outlinewidth\": 0, \"ticks\": \"\"}}, \"type\": \"scattergl\"}], \"scattermapbox\": [{\"marker\": {\"colorbar\": {\"outlinewidth\": 0, \"ticks\": \"\"}}, \"type\": \"scattermapbox\"}], \"scatterpolar\": [{\"marker\": {\"colorbar\": {\"outlinewidth\": 0, \"ticks\": \"\"}}, \"type\": \"scatterpolar\"}], \"scatterpolargl\": [{\"marker\": {\"colorbar\": {\"outlinewidth\": 0, \"ticks\": \"\"}}, \"type\": \"scatterpolargl\"}], \"scatterternary\": [{\"marker\": {\"colorbar\": {\"outlinewidth\": 0, \"ticks\": \"\"}}, \"type\": \"scatterternary\"}], \"surface\": [{\"colorbar\": {\"outlinewidth\": 0, \"ticks\": \"\"}, \"colorscale\": [[0.0, \"#0d0887\"], [0.1111111111111111, \"#46039f\"], [0.2222222222222222, \"#7201a8\"], [0.3333333333333333, \"#9c179e\"], [0.4444444444444444, \"#bd3786\"], [0.5555555555555556, \"#d8576b\"], [0.6666666666666666, \"#ed7953\"], [0.7777777777777778, \"#fb9f3a\"], [0.8888888888888888, \"#fdca26\"], [1.0, \"#f0f921\"]], \"type\": \"surface\"}], \"table\": [{\"cells\": {\"fill\": {\"color\": \"#EBF0F8\"}, \"line\": {\"color\": \"white\"}}, \"header\": {\"fill\": {\"color\": \"#C8D4E3\"}, \"line\": {\"color\": \"white\"}}, \"type\": \"table\"}]}, \"layout\": {\"annotationdefaults\": {\"arrowcolor\": \"#2a3f5f\", \"arrowhead\": 0, \"arrowwidth\": 1}, \"coloraxis\": {\"colorbar\": {\"outlinewidth\": 0, \"ticks\": \"\"}}, \"colorscale\": {\"diverging\": [[0, \"#8e0152\"], [0.1, \"#c51b7d\"], [0.2, \"#de77ae\"], [0.3, \"#f1b6da\"], [0.4, \"#fde0ef\"], [0.5, \"#f7f7f7\"], [0.6, \"#e6f5d0\"], [0.7, \"#b8e186\"], [0.8, \"#7fbc41\"], [0.9, \"#4d9221\"], [1, \"#276419\"]], \"sequential\": [[0.0, \"#0d0887\"], [0.1111111111111111, \"#46039f\"], [0.2222222222222222, \"#7201a8\"], [0.3333333333333333, \"#9c179e\"], [0.4444444444444444, \"#bd3786\"], [0.5555555555555556, \"#d8576b\"], [0.6666666666666666, \"#ed7953\"], [0.7777777777777778, \"#fb9f3a\"], [0.8888888888888888, \"#fdca26\"], [1.0, \"#f0f921\"]], \"sequentialminus\": [[0.0, \"#0d0887\"], [0.1111111111111111, \"#46039f\"], [0.2222222222222222, \"#7201a8\"], [0.3333333333333333, \"#9c179e\"], [0.4444444444444444, \"#bd3786\"], [0.5555555555555556, \"#d8576b\"], [0.6666666666666666, \"#ed7953\"], [0.7777777777777778, \"#fb9f3a\"], [0.8888888888888888, \"#fdca26\"], [1.0, \"#f0f921\"]]}, \"colorway\": [\"#636efa\", \"#EF553B\", \"#00cc96\", \"#ab63fa\", \"#FFA15A\", \"#19d3f3\", \"#FF6692\", \"#B6E880\", \"#FF97FF\", \"#FECB52\"], \"font\": {\"color\": \"#2a3f5f\"}, \"geo\": {\"bgcolor\": \"white\", \"lakecolor\": \"white\", \"landcolor\": \"#E5ECF6\", \"showlakes\": true, \"showland\": true, \"subunitcolor\": \"white\"}, \"hoverlabel\": {\"align\": \"left\"}, \"hovermode\": \"closest\", \"mapbox\": {\"style\": \"light\"}, \"paper_bgcolor\": \"white\", \"plot_bgcolor\": \"#E5ECF6\", \"polar\": {\"angularaxis\": {\"gridcolor\": \"white\", \"linecolor\": \"white\", \"ticks\": \"\"}, \"bgcolor\": \"#E5ECF6\", \"radialaxis\": {\"gridcolor\": \"white\", \"linecolor\": \"white\", \"ticks\": \"\"}}, \"scene\": {\"xaxis\": {\"backgroundcolor\": \"#E5ECF6\", \"gridcolor\": \"white\", \"gridwidth\": 2, \"linecolor\": \"white\", \"showbackground\": true, \"ticks\": \"\", \"zerolinecolor\": \"white\"}, \"yaxis\": {\"backgroundcolor\": \"#E5ECF6\", \"gridcolor\": \"white\", \"gridwidth\": 2, \"linecolor\": \"white\", \"showbackground\": true, \"ticks\": \"\", \"zerolinecolor\": \"white\"}, \"zaxis\": {\"backgroundcolor\": \"#E5ECF6\", \"gridcolor\": \"white\", \"gridwidth\": 2, \"linecolor\": \"white\", \"showbackground\": true, \"ticks\": \"\", \"zerolinecolor\": \"white\"}}, \"shapedefaults\": {\"line\": {\"color\": \"#2a3f5f\"}}, \"ternary\": {\"aaxis\": {\"gridcolor\": \"white\", \"linecolor\": \"white\", \"ticks\": \"\"}, \"baxis\": {\"gridcolor\": \"white\", \"linecolor\": \"white\", \"ticks\": \"\"}, \"bgcolor\": \"#E5ECF6\", \"caxis\": {\"gridcolor\": \"white\", \"linecolor\": \"white\", \"ticks\": \"\"}}, \"title\": {\"x\": 0.05}, \"xaxis\": {\"automargin\": true, \"gridcolor\": \"white\", \"linecolor\": \"white\", \"ticks\": \"\", \"title\": {\"standoff\": 15}, \"zerolinecolor\": \"white\", \"zerolinewidth\": 2}, \"yaxis\": {\"automargin\": true, \"gridcolor\": \"white\", \"linecolor\": \"white\", \"ticks\": \"\", \"title\": {\"standoff\": 15}, \"zerolinecolor\": \"white\", \"zerolinewidth\": 2}}}, \"xaxis\": {\"anchor\": \"y\", \"categoryarray\": [\"Y\", \"N\"], \"categoryorder\": \"array\", \"domain\": [0.0, 1.0], \"title\": {\"text\": \"Loan_Status\"}}, \"yaxis\": {\"anchor\": \"x\", \"domain\": [0.0, 1.0], \"title\": {\"text\": \"count\"}}},                        {\"responsive\": true}                    ).then(function(){\n",
       "                            \n",
       "var gd = document.getElementById('25dd4e29-852a-4a88-87ab-89628ff3709c');\n",
       "var x = new MutationObserver(function (mutations, observer) {{\n",
       "        var display = window.getComputedStyle(gd).display;\n",
       "        if (!display || display === 'none') {{\n",
       "            console.log([gd, 'removed!']);\n",
       "            Plotly.purge(gd);\n",
       "            observer.disconnect();\n",
       "        }}\n",
       "}});\n",
       "\n",
       "// Listen for the removal of the full notebook cells\n",
       "var notebookContainer = gd.closest('#notebook-container');\n",
       "if (notebookContainer) {{\n",
       "    x.observe(notebookContainer, {childList: true});\n",
       "}}\n",
       "\n",
       "// Listen for the clearing of the current output cell\n",
       "var outputEl = gd.closest('.output');\n",
       "if (outputEl) {{\n",
       "    x.observe(outputEl, {childList: true});\n",
       "}}\n",
       "\n",
       "                        })                };                });            </script>        </div>"
      ]
     },
     "metadata": {},
     "output_type": "display_data"
    },
    {
     "data": {
      "text/plain": [
       "<Figure size 720x360 with 0 Axes>"
      ]
     },
     "metadata": {},
     "output_type": "display_data"
    }
   ],
   "source": [
    "plt.figure(figsize=(10,5))\n",
    "fig = px.bar(data,x=data[\"Gender\"])\n",
    "fig.show()\n",
    "\n",
    "fig = px.bar(data,x=data[\"Married\"])\n",
    "fig.show()\n",
    "\n",
    "fig = px.bar(data,x=data[\"Education\"],color=\"Education\")\n",
    "fig.show()\n",
    "\n",
    "fig = px.bar(data,x=data[\"Self_Employed\"])\n",
    "fig.show()\n",
    "\n",
    "fig = px.bar(data,x=data[\"Dependents\"])\n",
    "fig.show()\n",
    "\n",
    "fig = px.bar(data,x=data[\"Property_Area\"])\n",
    "fig.show()\n",
    "\n",
    "fig = px.bar(data,x=data[\"Loan_Status\"],color=\"Loan_Status\")\n",
    "fig.show()"
   ]
  },
  {
   "cell_type": "code",
   "execution_count": 10,
   "metadata": {
    "execution": {
     "iopub.execute_input": "2020-11-28T21:16:10.296333Z",
     "iopub.status.busy": "2020-11-28T21:16:10.295152Z",
     "iopub.status.idle": "2020-11-28T21:16:10.300836Z",
     "shell.execute_reply": "2020-11-28T21:16:10.300255Z"
    },
    "papermill": {
     "duration": 0.062047,
     "end_time": "2020-11-28T21:16:10.300945",
     "exception": false,
     "start_time": "2020-11-28T21:16:10.238898",
     "status": "completed"
    },
    "tags": []
   },
   "outputs": [
    {
     "name": "stdout",
     "output_type": "stream",
     "text": [
      "Male      489\n",
      "Female    112\n",
      "Name: Gender, dtype: int64\n",
      "Yes    398\n",
      "No     213\n",
      "Name: Married, dtype: int64\n",
      "No     500\n",
      "Yes     82\n",
      "Name: Self_Employed, dtype: int64\n",
      "0     345\n",
      "1     102\n",
      "2     101\n",
      "3+     51\n",
      "Name: Dependents, dtype: int64\n",
      "1.0    475\n",
      "0.0     89\n",
      "Name: Credit_History, dtype: int64\n",
      "360.0    512\n",
      "180.0     44\n",
      "480.0     15\n",
      "300.0     13\n",
      "84.0       4\n",
      "240.0      4\n",
      "120.0      3\n",
      "36.0       2\n",
      "60.0       2\n",
      "12.0       1\n",
      "Name: Loan_Amount_Term, dtype: int64\n"
     ]
    }
   ],
   "source": [
    "print(data[\"Gender\"].value_counts())\n",
    "print(data[\"Married\"].value_counts())\n",
    "print(data[\"Self_Employed\"].value_counts())\n",
    "print(data[\"Dependents\"].value_counts())\n",
    "print(data[\"Credit_History\"].value_counts())\n",
    "print(data[\"Loan_Amount_Term\"].value_counts())"
   ]
  },
  {
   "cell_type": "code",
   "execution_count": 11,
   "metadata": {
    "execution": {
     "iopub.execute_input": "2020-11-28T21:16:10.380082Z",
     "iopub.status.busy": "2020-11-28T21:16:10.378801Z",
     "iopub.status.idle": "2020-11-28T21:16:10.861294Z",
     "shell.execute_reply": "2020-11-28T21:16:10.860756Z"
    },
    "papermill": {
     "duration": 0.532408,
     "end_time": "2020-11-28T21:16:10.861418",
     "exception": false,
     "start_time": "2020-11-28T21:16:10.329010",
     "status": "completed"
    },
    "tags": []
   },
   "outputs": [
    {
     "name": "stdout",
     "output_type": "stream",
     "text": [
      "Loan_ID              0\n",
      "Gender               0\n",
      "Married              0\n",
      "Dependents           0\n",
      "Education            0\n",
      "Self_Employed        0\n",
      "ApplicantIncome      0\n",
      "CoapplicantIncome    0\n",
      "LoanAmount           0\n",
      "Loan_Amount_Term     0\n",
      "Credit_History       0\n",
      "Property_Area        0\n",
      "Loan_Status          0\n",
      "dtype: int64\n"
     ]
    },
    {
     "data": {
      "text/plain": [
       "<matplotlib.axes._subplots.AxesSubplot at 0x7f8d42e33b90>"
      ]
     },
     "execution_count": 11,
     "metadata": {},
     "output_type": "execute_result"
    },
    {
     "data": {
      "image/png": "[encoded data removed]",
      "text/plain": [
       "<Figure size 720x432 with 2 Axes>"
      ]
     },
     "metadata": {
      "needs_background": "light"
     },
     "output_type": "display_data"
    }
   ],
   "source": [
    "#Filling all Nan values with mode of respective variable\n",
    "data[\"Gender\"].fillna(data[\"Gender\"].mode()[0],inplace=True)\n",
    "data[\"Married\"].fillna(data[\"Married\"].mode()[0],inplace=True)\n",
    "data[\"Self_Employed\"].fillna(data[\"Self_Employed\"].mode()[0],inplace=True)\n",
    "data[\"Loan_Amount_Term\"].fillna(data[\"Loan_Amount_Term\"].mode()[0],inplace=True)\n",
    "data[\"Dependents\"].fillna(data[\"Dependents\"].mode()[0],inplace=True)\n",
    "data[\"Credit_History\"].fillna(data[\"Credit_History\"].mode()[0],inplace=True)\n",
    "\n",
    "#All values of \"Dependents\" columns were of \"str\" form now converting to \"int\" form.\n",
    "data[\"Dependents\"] = data[\"Dependents\"].replace('3+',int(3))\n",
    "data[\"Dependents\"] = data[\"Dependents\"].replace('1',int(1))\n",
    "data[\"Dependents\"] = data[\"Dependents\"].replace('2',int(2))\n",
    "data[\"Dependents\"] = data[\"Dependents\"].replace('0',int(0))\n",
    "\n",
    "data[\"LoanAmount\"].fillna(data[\"LoanAmount\"].median(),inplace=True)\n",
    "\n",
    "print(data.isnull().sum())\n",
    "\n",
    "#Heat map for null values\n",
    "plt.figure(figsize=(10,6))\n",
    "sns.heatmap(data.isnull())"
   ]
  },
  {
   "cell_type": "code",
   "execution_count": 12,
   "metadata": {
    "execution": {
     "iopub.execute_input": "2020-11-28T21:16:10.942359Z",
     "iopub.status.busy": "2020-11-28T21:16:10.931889Z",
     "iopub.status.idle": "2020-11-28T21:16:11.287510Z",
     "shell.execute_reply": "2020-11-28T21:16:11.286973Z"
    },
    "papermill": {
     "duration": 0.395152,
     "end_time": "2020-11-28T21:16:11.287617",
     "exception": false,
     "start_time": "2020-11-28T21:16:10.892465",
     "status": "completed"
    },
    "tags": []
   },
   "outputs": [
    {
     "name": "stdout",
     "output_type": "stream",
     "text": [
      "\n",
      "Mean:->\n",
      "\n",
      "ApplicantIncome:  5403.459283387622\n",
      "CoapplicantIncome:  1621.245798027101\n",
      "LoanAmount:  145.75244299674267\n",
      "\n",
      "Mode:->\n",
      "\n",
      "ApplicantIncome:  [2500]\n",
      "CoapplicantIncome:  [0.]\n",
      "LoanAmount:  [128.]\n",
      "\n",
      "Median:->\n",
      "\n",
      "ApplicantIncome:  3812.5\n",
      "CoapplicantIncome:  1188.5\n",
      "LoanAmount:  128.0\n",
      "\n",
      "Standard Deviation:->\n",
      "\n",
      "ApplicantIncome:  6104.064856533888\n",
      "CoapplicantIncome:  2923.8644597700627\n",
      "LoanAmount:  84.03871423798938\n"
     ]
    },
    {
     "data": {
      "text/html": [
       "<div>                            <div id=\"e73765c1-b78e-4aa5-80ee-e6cd288edb0c\" class=\"plotly-graph-div\" style=\"height:525px; width:100%;\"></div>            <script type=\"text/javascript\">                require([\"plotly\"], function(Plotly) {                    window.PLOTLYENV=window.PLOTLYENV || {};                                    if (document.getElementById(\"e73765c1-b78e-4aa5-80ee-e6cd288edb0c\")) {                    Plotly.newPlot(                        \"e73765c1-b78e-4aa5-80ee-e6cd288edb0c\",                        [{\"alignmentgroup\": \"True\", \"bingroup\": \"x\", \"histfunc\": \"sum\", \"hovertemplate\": \"ApplicantIncome=%{x}<br>sum of ApplicantIncome=%{y}<extra></extra>\", \"legendgroup\": \"\", \"marker\": {\"color\": \"#636efa\"}, \"name\": \"\", \"offsetgroup\": \"\", \"orientation\": \"v\", \"showlegend\": false, \"type\": \"histogram\", \"x\": [5849, 4583, 3000, 2583, 6000, 5417, 2333, 3036, 4006, 12841, 3200, 2500, 3073, 1853, 1299, 4950, 3596, 3510, 4887, 2600, 7660, 5955, 2600, 3365, 3717, 9560, 2799, 4226, 1442, 3750, 4166, 3167, 4692, 3500, 12500, 2275, 1828, 3667, 4166, 3748, 3600, 1800, 2400, 3941, 4695, 3410, 5649, 5821, 2645, 4000, 1928, 3086, 4230, 4616, 11500, 2708, 2132, 3366, 8080, 3357, 2500, 3029, 2609, 4945, 4166, 5726, 3200, 10750, 7100, 4300, 3208, 1875, 3500, 4755, 5266, 3750, 3750, 1000, 3167, 3333, 3846, 2395, 1378, 6000, 3988, 2366, 3333, 2500, 8566, 5695, 2958, 6250, 3273, 4133, 3620, 6782, 2484, 1977, 4188, 1759, 4288, 4843, 13650, 4652, 3816, 3052, 11417, 7333, 3800, 2071, 5316, 2929, 3572, 7451, 5050, 14583, 3167, 2214, 5568, 10408, 5667, 4166, 2137, 2957, 4300, 3692, 23803, 3865, 10513, 6080, 20166, 2014, 2718, 3459, 4895, 4000, 4583, 3316, 14999, 4200, 5042, 5417, 6950, 2698, 11757, 2330, 14866, 1538, 10000, 4860, 6277, 2577, 9166, 2281, 3254, 39999, 6000, 9538, 2980, 4583, 1863, 7933, 3089, 4167, 9323, 3707, 4583, 2439, 2237, 8000, 1820, 51763, 3522, 5708, 4344, 3497, 2045, 5516, 3750, 2333, 6400, 1916, 4600, 33846, 3625, 39147, 2178, 2383, 674, 9328, 4885, 12000, 6033, 3858, 4191, 3125, 8333, 1907, 3416, 11000, 2600, 4923, 3992, 3500, 3917, 4408, 3244, 3975, 2479, 3418, 10000, 3430, 7787, 5703, 3173, 3850, 150, 3727, 5000, 4283, 2221, 4009, 2971, 7578, 6250, 3250, 4735, 6250, 4758, 6400, 2491, 3716, 3189, 8333, 3155, 5500, 5746, 3463, 3812, 3315, 5819, 2510, 2965, 6250, 3406, 6050, 9703, 6608, 2882, 1809, 1668, 3427, 2583, 2661, 16250, 3083, 6045, 5250, 14683, 4931, 6083, 2060, 3481, 7200, 5166, 4095, 4708, 4333, 3418, 2876, 3237, 11146, 2833, 2620, 3900, 2750, 3993, 3103, 14583, 4100, 4053, 3927, 2301, 1811, 20667, 3158, 2600, 3704, 4124, 9508, 3075, 4400, 3153, 5417, 2383, 4416, 6875, 4666, 5000, 2014, 1800, 2875, 5000, 1625, 4000, 2000, 3762, 2400, 20233, 7667, 2917, 2927, 2507, 5746, 2473, 3399, 3717, 2058, 3541, 10000, 2400, 4342, 3601, 3166, 15000, 8666, 4917, 5818, 4333, 2500, 4384, 2935, 2833, 63337, 9833, 5503, 5250, 2500, 1830, 4160, 2647, 2378, 4554, 3173, 2583, 2499, 3523, 3083, 6333, 2625, 9083, 8750, 2666, 5500, 2423, 3813, 8333, 3875, 3000, 5167, 4723, 5000, 4750, 3013, 6822, 6216, 2500, 5124, 6325, 19730, 15759, 5185, 9323, 3062, 2764, 4817, 8750, 4310, 3069, 5391, 3333, 5941, 6000, 7167, 4566, 3667, 2346, 3010, 2333, 5488, 9167, 9504, 2583, 1993, 3100, 3276, 3180, 3033, 3902, 1500, 2889, 2755, 2500, 1963, 7441, 4547, 2167, 2213, 8300, 81000, 3867, 6256, 6096, 2253, 2149, 2995, 2600, 1600, 1025, 3246, 5829, 2720, 1820, 7250, 14880, 2666, 4606, 5935, 2920, 2717, 8624, 6500, 12876, 2425, 3750, 10047, 1926, 2213, 10416, 7142, 3660, 7901, 4707, 37719, 7333, 3466, 4652, 3539, 3340, 2769, 2309, 1958, 3948, 2483, 7085, 3859, 4301, 3708, 4354, 8334, 2083, 7740, 3015, 5191, 4166, 6000, 2947, 16692, 210, 4333, 3450, 2653, 4691, 2500, 5532, 16525, 6700, 2873, 16667, 2947, 4350, 3095, 2083, 10833, 8333, 1958, 3547, 18333, 4583, 2435, 2699, 5333, 3691, 17263, 3597, 3326, 2600, 4625, 2895, 6283, 645, 3159, 4865, 4050, 3814, 3510, 20833, 3583, 2479, 13262, 3598, 6065, 3283, 2130, 5815, 3466, 2031, 3074, 4683, 3400, 2192, 2500, 5677, 7948, 4680, 17500, 3775, 5285, 2679, 6783, 1025, 4281, 3588, 11250, 18165, 2550, 6133, 3617, 2917, 6417, 4608, 2138, 3652, 2239, 3017, 2768, 3358, 2526, 5000, 2785, 6633, 2492, 3333, 2454, 3593, 5468, 2667, 10139, 3887, 4180, 3675, 19484, 5923, 5800, 8799, 4467, 3333, 3400, 2378, 3166, 3417, 5116, 16666, 6125, 6406, 3159, 3087, 3229, 1782, 3182, 6540, 1836, 3166, 1880, 2787, 4283, 2297, 2165, 4750, 2726, 3000, 6000, 9357, 3859, 16120, 3833, 6383, 2987, 9963, 5780, 416, 2894, 5703, 3676, 12000, 2400, 3400, 3987, 3232, 2900, 4106, 8072, 7583, 4583], \"xaxis\": \"x\", \"y\": [5849, 4583, 3000, 2583, 6000, 5417, 2333, 3036, 4006, 12841, 3200, 2500, 3073, 1853, 1299, 4950, 3596, 3510, 4887, 2600, 7660, 5955, 2600, 3365, 3717, 9560, 2799, 4226, 1442, 3750, 4166, 3167, 4692, 3500, 12500, 2275, 1828, 3667, 4166, 3748, 3600, 1800, 2400, 3941, 4695, 3410, 5649, 5821, 2645, 4000, 1928, 3086, 4230, 4616, 11500, 2708, 2132, 3366, 8080, 3357, 2500, 3029, 2609, 4945, 4166, 5726, 3200, 10750, 7100, 4300, 3208, 1875, 3500, 4755, 5266, 3750, 3750, 1000, 3167, 3333, 3846, 2395, 1378, 6000, 3988, 2366, 3333, 2500, 8566, 5695, 2958, 6250, 3273, 4133, 3620, 6782, 2484, 1977, 4188, 1759, 4288, 4843, 13650, 4652, 3816, 3052, 11417, 7333, 3800, 2071, 5316, 2929, 3572, 7451, 5050, 14583, 3167, 2214, 5568, 10408, 5667, 4166, 2137, 2957, 4300, 3692, 23803, 3865, 10513, 6080, 20166, 2014, 2718, 3459, 4895, 4000, 4583, 3316, 14999, 4200, 5042, 5417, 6950, 2698, 11757, 2330, 14866, 1538, 10000, 4860, 6277, 2577, 9166, 2281, 3254, 39999, 6000, 9538, 2980, 4583, 1863, 7933, 3089, 4167, 9323, 3707, 4583, 2439, 2237, 8000, 1820, 51763, 3522, 5708, 4344, 3497, 2045, 5516, 3750, 2333, 6400, 1916, 4600, 33846, 3625, 39147, 2178, 2383, 674, 9328, 4885, 12000, 6033, 3858, 4191, 3125, 8333, 1907, 3416, 11000, 2600, 4923, 3992, 3500, 3917, 4408, 3244, 3975, 2479, 3418, 10000, 3430, 7787, 5703, 3173, 3850, 150, 3727, 5000, 4283, 2221, 4009, 2971, 7578, 6250, 3250, 4735, 6250, 4758, 6400, 2491, 3716, 3189, 8333, 3155, 5500, 5746, 3463, 3812, 3315, 5819, 2510, 2965, 6250, 3406, 6050, 9703, 6608, 2882, 1809, 1668, 3427, 2583, 2661, 16250, 3083, 6045, 5250, 14683, 4931, 6083, 2060, 3481, 7200, 5166, 4095, 4708, 4333, 3418, 2876, 3237, 11146, 2833, 2620, 3900, 2750, 3993, 3103, 14583, 4100, 4053, 3927, 2301, 1811, 20667, 3158, 2600, 3704, 4124, 9508, 3075, 4400, 3153, 5417, 2383, 4416, 6875, 4666, 5000, 2014, 1800, 2875, 5000, 1625, 4000, 2000, 3762, 2400, 20233, 7667, 2917, 2927, 2507, 5746, 2473, 3399, 3717, 2058, 3541, 10000, 2400, 4342, 3601, 3166, 15000, 8666, 4917, 5818, 4333, 2500, 4384, 2935, 2833, 63337, 9833, 5503, 5250, 2500, 1830, 4160, 2647, 2378, 4554, 3173, 2583, 2499, 3523, 3083, 6333, 2625, 9083, 8750, 2666, 5500, 2423, 3813, 8333, 3875, 3000, 5167, 4723, 5000, 4750, 3013, 6822, 6216, 2500, 5124, 6325, 19730, 15759, 5185, 9323, 3062, 2764, 4817, 8750, 4310, 3069, 5391, 3333, 5941, 6000, 7167, 4566, 3667, 2346, 3010, 2333, 5488, 9167, 9504, 2583, 1993, 3100, 3276, 3180, 3033, 3902, 1500, 2889, 2755, 2500, 1963, 7441, 4547, 2167, 2213, 8300, 81000, 3867, 6256, 6096, 2253, 2149, 2995, 2600, 1600, 1025, 3246, 5829, 2720, 1820, 7250, 14880, 2666, 4606, 5935, 2920, 2717, 8624, 6500, 12876, 2425, 3750, 10047, 1926, 2213, 10416, 7142, 3660, 7901, 4707, 37719, 7333, 3466, 4652, 3539, 3340, 2769, 2309, 1958, 3948, 2483, 7085, 3859, 4301, 3708, 4354, 8334, 2083, 7740, 3015, 5191, 4166, 6000, 2947, 16692, 210, 4333, 3450, 2653, 4691, 2500, 5532, 16525, 6700, 2873, 16667, 2947, 4350, 3095, 2083, 10833, 8333, 1958, 3547, 18333, 4583, 2435, 2699, 5333, 3691, 17263, 3597, 3326, 2600, 4625, 2895, 6283, 645, 3159, 4865, 4050, 3814, 3510, 20833, 3583, 2479, 13262, 3598, 6065, 3283, 2130, 5815, 3466, 2031, 3074, 4683, 3400, 2192, 2500, 5677, 7948, 4680, 17500, 3775, 5285, 2679, 6783, 1025, 4281, 3588, 11250, 18165, 2550, 6133, 3617, 2917, 6417, 4608, 2138, 3652, 2239, 3017, 2768, 3358, 2526, 5000, 2785, 6633, 2492, 3333, 2454, 3593, 5468, 2667, 10139, 3887, 4180, 3675, 19484, 5923, 5800, 8799, 4467, 3333, 3400, 2378, 3166, 3417, 5116, 16666, 6125, 6406, 3159, 3087, 3229, 1782, 3182, 6540, 1836, 3166, 1880, 2787, 4283, 2297, 2165, 4750, 2726, 3000, 6000, 9357, 3859, 16120, 3833, 6383, 2987, 9963, 5780, 416, 2894, 5703, 3676, 12000, 2400, 3400, 3987, 3232, 2900, 4106, 8072, 7583, 4583], \"yaxis\": \"y\"}],                        {\"barmode\": \"relative\", \"legend\": {\"tracegroupgap\": 0}, \"margin\": {\"t\": 60}, \"template\": {\"data\": {\"bar\": [{\"error_x\": {\"color\": \"#2a3f5f\"}, \"error_y\": {\"color\": \"#2a3f5f\"}, \"marker\": {\"line\": {\"color\": \"#E5ECF6\", \"width\": 0.5}}, \"type\": \"bar\"}], \"barpolar\": [{\"marker\": {\"line\": {\"color\": \"#E5ECF6\", \"width\": 0.5}}, \"type\": \"barpolar\"}], \"carpet\": [{\"aaxis\": {\"endlinecolor\": \"#2a3f5f\", \"gridcolor\": \"white\", \"linecolor\": \"white\", \"minorgridcolor\": \"white\", \"startlinecolor\": \"#2a3f5f\"}, \"baxis\": {\"endlinecolor\": \"#2a3f5f\", \"gridcolor\": \"white\", \"linecolor\": \"white\", \"minorgridcolor\": \"white\", \"startlinecolor\": \"#2a3f5f\"}, \"type\": \"carpet\"}], \"choropleth\": [{\"colorbar\": {\"outlinewidth\": 0, \"ticks\": \"\"}, \"type\": \"choropleth\"}], \"contour\": [{\"colorbar\": {\"outlinewidth\": 0, \"ticks\": \"\"}, \"colorscale\": [[0.0, \"#0d0887\"], [0.1111111111111111, \"#46039f\"], [0.2222222222222222, \"#7201a8\"], [0.3333333333333333, \"#9c179e\"], [0.4444444444444444, \"#bd3786\"], [0.5555555555555556, \"#d8576b\"], [0.6666666666666666, \"#ed7953\"], [0.7777777777777778, \"#fb9f3a\"], [0.8888888888888888, \"#fdca26\"], [1.0, \"#f0f921\"]], \"type\": \"contour\"}], \"contourcarpet\": [{\"colorbar\": {\"outlinewidth\": 0, \"ticks\": \"\"}, \"type\": \"contourcarpet\"}], \"heatmap\": [{\"colorbar\": {\"outlinewidth\": 0, \"ticks\": \"\"}, \"colorscale\": [[0.0, \"#0d0887\"], [0.1111111111111111, \"#46039f\"], [0.2222222222222222, \"#7201a8\"], [0.3333333333333333, \"#9c179e\"], [0.4444444444444444, \"#bd3786\"], [0.5555555555555556, \"#d8576b\"], [0.6666666666666666, \"#ed7953\"], [0.7777777777777778, \"#fb9f3a\"], [0.8888888888888888, \"#fdca26\"], [1.0, \"#f0f921\"]], \"type\": \"heatmap\"}], \"heatmapgl\": [{\"colorbar\": {\"outlinewidth\": 0, \"ticks\": \"\"}, \"colorscale\": [[0.0, \"#0d0887\"], [0.1111111111111111, \"#46039f\"], [0.2222222222222222, \"#7201a8\"], [0.3333333333333333, \"#9c179e\"], [0.4444444444444444, \"#bd3786\"], [0.5555555555555556, \"#d8576b\"], [0.6666666666666666, \"#ed7953\"], [0.7777777777777778, \"#fb9f3a\"], [0.8888888888888888, \"#fdca26\"], [1.0, \"#f0f921\"]], \"type\": \"heatmapgl\"}], \"histogram\": [{\"marker\": {\"colorbar\": {\"outlinewidth\": 0, \"ticks\": \"\"}}, \"type\": \"histogram\"}], \"histogram2d\": [{\"colorbar\": {\"outlinewidth\": 0, \"ticks\": \"\"}, \"colorscale\": [[0.0, \"#0d0887\"], [0.1111111111111111, \"#46039f\"], [0.2222222222222222, \"#7201a8\"], [0.3333333333333333, \"#9c179e\"], [0.4444444444444444, \"#bd3786\"], [0.5555555555555556, \"#d8576b\"], [0.6666666666666666, \"#ed7953\"], [0.7777777777777778, \"#fb9f3a\"], [0.8888888888888888, \"#fdca26\"], [1.0, \"#f0f921\"]], \"type\": \"histogram2d\"}], \"histogram2dcontour\": [{\"colorbar\": {\"outlinewidth\": 0, \"ticks\": \"\"}, \"colorscale\": [[0.0, \"#0d0887\"], [0.1111111111111111, \"#46039f\"], [0.2222222222222222, \"#7201a8\"], [0.3333333333333333, \"#9c179e\"], [0.4444444444444444, \"#bd3786\"], [0.5555555555555556, \"#d8576b\"], [0.6666666666666666, \"#ed7953\"], [0.7777777777777778, \"#fb9f3a\"], [0.8888888888888888, \"#fdca26\"], [1.0, \"#f0f921\"]], \"type\": \"histogram2dcontour\"}], \"mesh3d\": [{\"colorbar\": {\"outlinewidth\": 0, \"ticks\": \"\"}, \"type\": \"mesh3d\"}], \"parcoords\": [{\"line\": {\"colorbar\": {\"outlinewidth\": 0, \"ticks\": \"\"}}, \"type\": \"parcoords\"}], \"pie\": [{\"automargin\": true, \"type\": \"pie\"}], \"scatter\": [{\"marker\": {\"colorbar\": {\"outlinewidth\": 0, \"ticks\": \"\"}}, \"type\": \"scatter\"}], \"scatter3d\": [{\"line\": {\"colorbar\": {\"outlinewidth\": 0, \"ticks\": \"\"}}, \"marker\": {\"colorbar\": {\"outlinewidth\": 0, \"ticks\": \"\"}}, \"type\": \"scatter3d\"}], \"scattercarpet\": [{\"marker\": {\"colorbar\": {\"outlinewidth\": 0, \"ticks\": \"\"}}, \"type\": \"scattercarpet\"}], \"scattergeo\": [{\"marker\": {\"colorbar\": {\"outlinewidth\": 0, \"ticks\": \"\"}}, \"type\": \"scattergeo\"}], \"scattergl\": [{\"marker\": {\"colorbar\": {\"outlinewidth\": 0, \"ticks\": \"\"}}, \"type\": \"scattergl\"}], \"scattermapbox\": [{\"marker\": {\"colorbar\": {\"outlinewidth\": 0, \"ticks\": \"\"}}, \"type\": \"scattermapbox\"}], \"scatterpolar\": [{\"marker\": {\"colorbar\": {\"outlinewidth\": 0, \"ticks\": \"\"}}, \"type\": \"scatterpolar\"}], \"scatterpolargl\": [{\"marker\": {\"colorbar\": {\"outlinewidth\": 0, \"ticks\": \"\"}}, \"type\": \"scatterpolargl\"}], \"scatterternary\": [{\"marker\": {\"colorbar\": {\"outlinewidth\": 0, \"ticks\": \"\"}}, \"type\": \"scatterternary\"}], \"surface\": [{\"colorbar\": {\"outlinewidth\": 0, \"ticks\": \"\"}, \"colorscale\": [[0.0, \"#0d0887\"], [0.1111111111111111, \"#46039f\"], [0.2222222222222222, \"#7201a8\"], [0.3333333333333333, \"#9c179e\"], [0.4444444444444444, \"#bd3786\"], [0.5555555555555556, \"#d8576b\"], [0.6666666666666666, \"#ed7953\"], [0.7777777777777778, \"#fb9f3a\"], [0.8888888888888888, \"#fdca26\"], [1.0, \"#f0f921\"]], \"type\": \"surface\"}], \"table\": [{\"cells\": {\"fill\": {\"color\": \"#EBF0F8\"}, \"line\": {\"color\": \"white\"}}, \"header\": {\"fill\": {\"color\": \"#C8D4E3\"}, \"line\": {\"color\": \"white\"}}, \"type\": \"table\"}]}, \"layout\": {\"annotationdefaults\": {\"arrowcolor\": \"#2a3f5f\", \"arrowhead\": 0, \"arrowwidth\": 1}, \"coloraxis\": {\"colorbar\": {\"outlinewidth\": 0, \"ticks\": \"\"}}, \"colorscale\": {\"diverging\": [[0, \"#8e0152\"], [0.1, \"#c51b7d\"], [0.2, \"#de77ae\"], [0.3, \"#f1b6da\"], [0.4, \"#fde0ef\"], [0.5, \"#f7f7f7\"], [0.6, \"#e6f5d0\"], [0.7, \"#b8e186\"], [0.8, \"#7fbc41\"], [0.9, \"#4d9221\"], [1, \"#276419\"]], \"sequential\": [[0.0, \"#0d0887\"], [0.1111111111111111, \"#46039f\"], [0.2222222222222222, \"#7201a8\"], [0.3333333333333333, \"#9c179e\"], [0.4444444444444444, \"#bd3786\"], [0.5555555555555556, \"#d8576b\"], [0.6666666666666666, \"#ed7953\"], [0.7777777777777778, \"#fb9f3a\"], [0.8888888888888888, \"#fdca26\"], [1.0, \"#f0f921\"]], \"sequentialminus\": [[0.0, \"#0d0887\"], [0.1111111111111111, \"#46039f\"], [0.2222222222222222, \"#7201a8\"], [0.3333333333333333, \"#9c179e\"], [0.4444444444444444, \"#bd3786\"], [0.5555555555555556, \"#d8576b\"], [0.6666666666666666, \"#ed7953\"], [0.7777777777777778, \"#fb9f3a\"], [0.8888888888888888, \"#fdca26\"], [1.0, \"#f0f921\"]]}, \"colorway\": [\"#636efa\", \"#EF553B\", \"#00cc96\", \"#ab63fa\", \"#FFA15A\", \"#19d3f3\", \"#FF6692\", \"#B6E880\", \"#FF97FF\", \"#FECB52\"], \"font\": {\"color\": \"#2a3f5f\"}, \"geo\": {\"bgcolor\": \"white\", \"lakecolor\": \"white\", \"landcolor\": \"#E5ECF6\", \"showlakes\": true, \"showland\": true, \"subunitcolor\": \"white\"}, \"hoverlabel\": {\"align\": \"left\"}, \"hovermode\": \"closest\", \"mapbox\": {\"style\": \"light\"}, \"paper_bgcolor\": \"white\", \"plot_bgcolor\": \"#E5ECF6\", \"polar\": {\"angularaxis\": {\"gridcolor\": \"white\", \"linecolor\": \"white\", \"ticks\": \"\"}, \"bgcolor\": \"#E5ECF6\", \"radialaxis\": {\"gridcolor\": \"white\", \"linecolor\": \"white\", \"ticks\": \"\"}}, \"scene\": {\"xaxis\": {\"backgroundcolor\": \"#E5ECF6\", \"gridcolor\": \"white\", \"gridwidth\": 2, \"linecolor\": \"white\", \"showbackground\": true, \"ticks\": \"\", \"zerolinecolor\": \"white\"}, \"yaxis\": {\"backgroundcolor\": \"#E5ECF6\", \"gridcolor\": \"white\", \"gridwidth\": 2, \"linecolor\": \"white\", \"showbackground\": true, \"ticks\": \"\", \"zerolinecolor\": \"white\"}, \"zaxis\": {\"backgroundcolor\": \"#E5ECF6\", \"gridcolor\": \"white\", \"gridwidth\": 2, \"linecolor\": \"white\", \"showbackground\": true, \"ticks\": \"\", \"zerolinecolor\": \"white\"}}, \"shapedefaults\": {\"line\": {\"color\": \"#2a3f5f\"}}, \"ternary\": {\"aaxis\": {\"gridcolor\": \"white\", \"linecolor\": \"white\", \"ticks\": \"\"}, \"baxis\": {\"gridcolor\": \"white\", \"linecolor\": \"white\", \"ticks\": \"\"}, \"bgcolor\": \"#E5ECF6\", \"caxis\": {\"gridcolor\": \"white\", \"linecolor\": \"white\", \"ticks\": \"\"}}, \"title\": {\"x\": 0.05}, \"xaxis\": {\"automargin\": true, \"gridcolor\": \"white\", \"linecolor\": \"white\", \"ticks\": \"\", \"title\": {\"standoff\": 15}, \"zerolinecolor\": \"white\", \"zerolinewidth\": 2}, \"yaxis\": {\"automargin\": true, \"gridcolor\": \"white\", \"linecolor\": \"white\", \"ticks\": \"\", \"title\": {\"standoff\": 15}, \"zerolinecolor\": \"white\", \"zerolinewidth\": 2}}}, \"title\": {\"text\": \"ApplicantIncome\"}, \"xaxis\": {\"anchor\": \"y\", \"domain\": [0.0, 1.0], \"title\": {\"text\": \"ApplicantIncome\"}}, \"yaxis\": {\"anchor\": \"x\", \"domain\": [0.0, 1.0], \"title\": {\"text\": \"sum of ApplicantIncome\"}}},                        {\"responsive\": true}                    ).then(function(){\n",
       "                            \n",
       "var gd = document.getElementById('e73765c1-b78e-4aa5-80ee-e6cd288edb0c');\n",
       "var x = new MutationObserver(function (mutations, observer) {{\n",
       "        var display = window.getComputedStyle(gd).display;\n",
       "        if (!display || display === 'none') {{\n",
       "            console.log([gd, 'removed!']);\n",
       "            Plotly.purge(gd);\n",
       "            observer.disconnect();\n",
       "        }}\n",
       "}});\n",
       "\n",
       "// Listen for the removal of the full notebook cells\n",
       "var notebookContainer = gd.closest('#notebook-container');\n",
       "if (notebookContainer) {{\n",
       "    x.observe(notebookContainer, {childList: true});\n",
       "}}\n",
       "\n",
       "// Listen for the clearing of the current output cell\n",
       "var outputEl = gd.closest('.output');\n",
       "if (outputEl) {{\n",
       "    x.observe(outputEl, {childList: true});\n",
       "}}\n",
       "\n",
       "                        })                };                });            </script>        </div>"
      ]
     },
     "metadata": {},
     "output_type": "display_data"
    },
    {
     "data": {
      "text/html": [
       "<div>                            <div id=\"c4668489-7148-4f87-bd19-782abeea581b\" class=\"plotly-graph-div\" style=\"height:525px; width:100%;\"></div>            <script type=\"text/javascript\">                require([\"plotly\"], function(Plotly) {                    window.PLOTLYENV=window.PLOTLYENV || {};                                    if (document.getElementById(\"c4668489-7148-4f87-bd19-782abeea581b\")) {                    Plotly.newPlot(                        \"c4668489-7148-4f87-bd19-782abeea581b\",                        [{\"alignmentgroup\": \"True\", \"bingroup\": \"x\", \"histfunc\": \"sum\", \"hovertemplate\": \"CoapplicantIncome=%{x}<br>sum of CoapplicantIncome=%{y}<extra></extra>\", \"legendgroup\": \"\", \"marker\": {\"color\": \"#636efa\"}, \"name\": \"\", \"offsetgroup\": \"\", \"orientation\": \"v\", \"showlegend\": false, \"type\": \"histogram\", \"x\": [0.0, 1508.0, 0.0, 2358.0, 0.0, 4196.0, 1516.0, 2504.0, 1526.0, 10968.0, 700.0, 1840.0, 8106.0, 2840.0, 1086.0, 0.0, 0.0, 0.0, 0.0, 3500.0, 0.0, 5625.0, 1911.0, 1917.0, 2925.0, 0.0, 2253.0, 1040.0, 0.0, 2083.0, 3369.0, 0.0, 0.0, 1667.0, 3000.0, 2067.0, 1330.0, 1459.0, 7210.0, 1668.0, 0.0, 1213.0, 0.0, 2336.0, 0.0, 0.0, 0.0, 0.0, 3440.0, 2275.0, 1644.0, 0.0, 0.0, 0.0, 0.0, 1167.0, 1591.0, 2200.0, 2250.0, 2859.0, 3796.0, 0.0, 3449.0, 0.0, 0.0, 4595.0, 2254.0, 0.0, 0.0, 0.0, 3066.0, 1875.0, 0.0, 0.0, 1774.0, 0.0, 4750.0, 3022.0, 4000.0, 2166.0, 0.0, 0.0, 1881.0, 2250.0, 0.0, 2531.0, 2000.0, 2118.0, 0.0, 4167.0, 2900.0, 5654.0, 1820.0, 0.0, 0.0, 0.0, 2302.0, 997.0, 0.0, 3541.0, 3263.0, 3806.0, 0.0, 3583.0, 754.0, 1030.0, 1126.0, 0.0, 3600.0, 754.0, 0.0, 2333.0, 4114.0, 0.0, 0.0, 0.0, 2283.0, 1398.0, 2142.0, 0.0, 2667.0, 0.0, 8980.0, 0.0, 2014.0, 0.0, 0.0, 1640.0, 3850.0, 2569.0, 0.0, 1929.0, 0.0, 0.0, 0.0, 7750.0, 0.0, 3500.0, 0.0, 1430.0, 2083.0, 0.0, 0.0, 2034.0, 0.0, 4486.0, 0.0, 1425.0, 1666.0, 830.0, 0.0, 3750.0, 0.0, 0.0, 0.0, 0.0, 0.0, 0.0, 2083.0, 5625.0, 1041.0, 0.0, 1280.0, 1447.0, 0.0, 3166.0, 0.0, 3333.0, 0.0, 0.0, 1769.0, 0.0, 0.0, 5625.0, 736.0, 1964.0, 1619.0, 11300.0, 0.0, 1451.0, 7250.0, 5063.0, 0.0, 0.0, 0.0, 4750.0, 0.0, 2138.0, 5296.0, 0.0, 0.0, 0.0, 0.0, 0.0, 0.0, 2583.0, 3750.0, 2365.0, 2816.0, 0.0, 2500.0, 0.0, 0.0, 1083.0, 0.0, 0.0, 0.0, 2531.0, 0.0, 0.0, 0.0, 1250.0, 0.0, 0.0, 3021.0, 983.0, 1800.0, 1775.0, 0.0, 2383.0, 0.0, 1717.0, 2791.0, 1010.0, 0.0, 0.0, 0.0, 1695.0, 0.0, 0.0, 2054.0, 0.0, 2598.0, 0.0, 1779.0, 1260.0, 0.0, 0.0, 0.0, 0.0, 5000.0, 1983.0, 5701.0, 1300.0, 4417.0, 4333.0, 0.0, 0.0, 1843.0, 1868.0, 3890.0, 0.0, 2167.0, 7101.0, 0.0, 0.0, 0.0, 0.0, 2100.0, 0.0, 4250.0, 2209.0, 0.0, 0.0, 0.0, 3447.0, 1387.0, 1811.0, 0.0, 1560.0, 0.0, 0.0, 1857.0, 2223.0, 0.0, 1842.0, 3274.0, 1300.0, 0.0, 0.0, 2426.0, 800.0, 985.7999877999998, 1666.0, 0.0, 3053.0, 1717.0, 2000.0, 0.0, 0.0, 2416.0, 0.0, 1560.0, 0.0, 3334.0, 1250.0, 0.0, 0.0, 2541.0, 2925.0, 2934.0, 1750.0, 0.0, 1803.0, 2500.0, 0.0, 1666.0, 1863.0, 0.0, 0.0, 0.0, 2405.0, 0.0, 0.0, 1843.0, 1640.0, 0.0, 2134.0, 0.0, 0.0, 2167.0, 189.0, 1590.0, 2985.0, 0.0, 4983.0, 0.0, 2160.0, 2451.0, 0.0, 1793.0, 0.0, 0.0, 0.0, 1833.0, 4490.0, 688.0, 4600.0, 0.0, 0.0, 1587.0, 0.0, 1229.0, 0.0, 2330.0, 2458.0, 3230.0, 2168.0, 4583.0, 6250.0, 0.0, 4167.0, 2083.0, 0.0, 505.0, 0.0, 3167.0, 0.0, 1666.0, 3167.0, 0.0, 3667.0, 2333.0, 3033.0, 0.0, 0.0, 0.0, 0.0, 0.0, 5266.0, 0.0, 0.0, 7873.0, 1987.0, 1459.0, 923.0, 4996.0, 0.0, 0.0, 0.0, 2500.0, 4232.0, 0.0, 0.0, 0.0, 0.0, 1600.0, 3136.0, 2417.0, 0.0, 0.0, 0.0, 2115.0, 1625.0, 1400.0, 484.0, 0.0, 1459.0, 1666.0, 1800.0, 0.0, 0.0, 20000.0, 0.0, 0.0, 0.0, 2400.0, 0.0, 0.0, 0.0, 0.0, 0.0, 0.0, 2033.0, 3237.0, 0.0, 0.0, 20000.0, 2773.0, 1417.0, 0.0, 0.0, 1719.0, 1667.0, 0.0, 4300.0, 0.0, 0.0, 16.12000084, 0.0, 0.0, 0.0, 0.0, 2340.0, 0.0, 0.0, 1851.0, 1125.0, 0.0, 0.0, 5064.0, 1833.0, 1993.0, 0.0, 8333.0, 1210.0, 0.0, 1376.0, 1710.0, 1542.0, 1255.0, 1456.0, 1733.0, 2466.0, 0.0, 0.0, 0.0, 2569.0, 0.0, 0.0, 4083.0, 0.0, 2188.0, 0.0, 0.0, 0.0, 1664.0, 0.0, 2917.0, 2451.0, 2079.0, 1500.0, 0.0, 0.0, 4648.0, 1014.0, 1750.0, 1872.0, 2250.0, 1603.0, 0.0, 0.0, 3150.0, 0.0, 0.0, 2436.0, 0.0, 0.0, 2083.0, 0.0, 2785.0, 1131.0, 0.0, 0.0, 2157.0, 913.0, 1700.0, 2857.0, 0.0, 4416.0, 3683.0, 0.0, 5624.0, 5302.0, 1483.0, 4416.0, 6667.0, 0.0, 3013.0, 0.0, 1287.0, 2004.0, 2035.0, 6666.0, 3666.0, 3428.0, 1632.0, 1800.0, 1915.0, 0.0, 1742.0, 0.0, 1424.0, 7166.0, 2087.0, 0.0, 0.0, 1430.0, 1302.0, 0.0, 5500.0, 0.0, 0.0, 0.0, 0.0, 2042.0, 3906.0, 0.0, 536.0, 0.0, 2845.0, 0.0, 0.0, 2524.0, 663.0, 1950.0, 0.0, 1783.0, 0.0, 2016.0, 0.0, 2375.0, 3250.0, 2333.0, 4266.0, 1032.0, 1625.0, 0.0, 2669.0, 2306.0, 242.0, 0.0, 2054.0, 0.0, 0.0, 0.0, 0.0, 2500.0, 0.0, 2064.0, 1750.0, 1451.0, 0.0, 1625.0, 0.0, 461.0, 2210.0, 2739.0, 2232.0, 2917.0, 0.0, 33837.0, 0.0, 0.0, 1917.0, 3000.0, 1522.0, 0.0, 0.0, 0.0, 3416.0, 0.0, 0.0, 3300.0, 0.0, 0.0, 1000.0, 0.0, 0.0, 0.0, 41667.0, 2792.0, 0.0, 4301.0, 0.0, 3800.0, 2500.0, 1411.0, 1950.0, 0.0, 0.0, 240.0, 0.0, 0.0], \"xaxis\": \"x\", \"y\": [0.0, 1508.0, 0.0, 2358.0, 0.0, 4196.0, 1516.0, 2504.0, 1526.0, 10968.0, 700.0, 1840.0, 8106.0, 2840.0, 1086.0, 0.0, 0.0, 0.0, 0.0, 3500.0, 0.0, 5625.0, 1911.0, 1917.0, 2925.0, 0.0, 2253.0, 1040.0, 0.0, 2083.0, 3369.0, 0.0, 0.0, 1667.0, 3000.0, 2067.0, 1330.0, 1459.0, 7210.0, 1668.0, 0.0, 1213.0, 0.0, 2336.0, 0.0, 0.0, 0.0, 0.0, 3440.0, 2275.0, 1644.0, 0.0, 0.0, 0.0, 0.0, 1167.0, 1591.0, 2200.0, 2250.0, 2859.0, 3796.0, 0.0, 3449.0, 0.0, 0.0, 4595.0, 2254.0, 0.0, 0.0, 0.0, 3066.0, 1875.0, 0.0, 0.0, 1774.0, 0.0, 4750.0, 3022.0, 4000.0, 2166.0, 0.0, 0.0, 1881.0, 2250.0, 0.0, 2531.0, 2000.0, 2118.0, 0.0, 4167.0, 2900.0, 5654.0, 1820.0, 0.0, 0.0, 0.0, 2302.0, 997.0, 0.0, 3541.0, 3263.0, 3806.0, 0.0, 3583.0, 754.0, 1030.0, 1126.0, 0.0, 3600.0, 754.0, 0.0, 2333.0, 4114.0, 0.0, 0.0, 0.0, 2283.0, 1398.0, 2142.0, 0.0, 2667.0, 0.0, 8980.0, 0.0, 2014.0, 0.0, 0.0, 1640.0, 3850.0, 2569.0, 0.0, 1929.0, 0.0, 0.0, 0.0, 7750.0, 0.0, 3500.0, 0.0, 1430.0, 2083.0, 0.0, 0.0, 2034.0, 0.0, 4486.0, 0.0, 1425.0, 1666.0, 830.0, 0.0, 3750.0, 0.0, 0.0, 0.0, 0.0, 0.0, 0.0, 2083.0, 5625.0, 1041.0, 0.0, 1280.0, 1447.0, 0.0, 3166.0, 0.0, 3333.0, 0.0, 0.0, 1769.0, 0.0, 0.0, 5625.0, 736.0, 1964.0, 1619.0, 11300.0, 0.0, 1451.0, 7250.0, 5063.0, 0.0, 0.0, 0.0, 4750.0, 0.0, 2138.0, 5296.0, 0.0, 0.0, 0.0, 0.0, 0.0, 0.0, 2583.0, 3750.0, 2365.0, 2816.0, 0.0, 2500.0, 0.0, 0.0, 1083.0, 0.0, 0.0, 0.0, 2531.0, 0.0, 0.0, 0.0, 1250.0, 0.0, 0.0, 3021.0, 983.0, 1800.0, 1775.0, 0.0, 2383.0, 0.0, 1717.0, 2791.0, 1010.0, 0.0, 0.0, 0.0, 1695.0, 0.0, 0.0, 2054.0, 0.0, 2598.0, 0.0, 1779.0, 1260.0, 0.0, 0.0, 0.0, 0.0, 5000.0, 1983.0, 5701.0, 1300.0, 4417.0, 4333.0, 0.0, 0.0, 1843.0, 1868.0, 3890.0, 0.0, 2167.0, 7101.0, 0.0, 0.0, 0.0, 0.0, 2100.0, 0.0, 4250.0, 2209.0, 0.0, 0.0, 0.0, 3447.0, 1387.0, 1811.0, 0.0, 1560.0, 0.0, 0.0, 1857.0, 2223.0, 0.0, 1842.0, 3274.0, 1300.0, 0.0, 0.0, 2426.0, 800.0, 985.7999877999998, 1666.0, 0.0, 3053.0, 1717.0, 2000.0, 0.0, 0.0, 2416.0, 0.0, 1560.0, 0.0, 3334.0, 1250.0, 0.0, 0.0, 2541.0, 2925.0, 2934.0, 1750.0, 0.0, 1803.0, 2500.0, 0.0, 1666.0, 1863.0, 0.0, 0.0, 0.0, 2405.0, 0.0, 0.0, 1843.0, 1640.0, 0.0, 2134.0, 0.0, 0.0, 2167.0, 189.0, 1590.0, 2985.0, 0.0, 4983.0, 0.0, 2160.0, 2451.0, 0.0, 1793.0, 0.0, 0.0, 0.0, 1833.0, 4490.0, 688.0, 4600.0, 0.0, 0.0, 1587.0, 0.0, 1229.0, 0.0, 2330.0, 2458.0, 3230.0, 2168.0, 4583.0, 6250.0, 0.0, 4167.0, 2083.0, 0.0, 505.0, 0.0, 3167.0, 0.0, 1666.0, 3167.0, 0.0, 3667.0, 2333.0, 3033.0, 0.0, 0.0, 0.0, 0.0, 0.0, 5266.0, 0.0, 0.0, 7873.0, 1987.0, 1459.0, 923.0, 4996.0, 0.0, 0.0, 0.0, 2500.0, 4232.0, 0.0, 0.0, 0.0, 0.0, 1600.0, 3136.0, 2417.0, 0.0, 0.0, 0.0, 2115.0, 1625.0, 1400.0, 484.0, 0.0, 1459.0, 1666.0, 1800.0, 0.0, 0.0, 20000.0, 0.0, 0.0, 0.0, 2400.0, 0.0, 0.0, 0.0, 0.0, 0.0, 0.0, 2033.0, 3237.0, 0.0, 0.0, 20000.0, 2773.0, 1417.0, 0.0, 0.0, 1719.0, 1667.0, 0.0, 4300.0, 0.0, 0.0, 16.12000084, 0.0, 0.0, 0.0, 0.0, 2340.0, 0.0, 0.0, 1851.0, 1125.0, 0.0, 0.0, 5064.0, 1833.0, 1993.0, 0.0, 8333.0, 1210.0, 0.0, 1376.0, 1710.0, 1542.0, 1255.0, 1456.0, 1733.0, 2466.0, 0.0, 0.0, 0.0, 2569.0, 0.0, 0.0, 4083.0, 0.0, 2188.0, 0.0, 0.0, 0.0, 1664.0, 0.0, 2917.0, 2451.0, 2079.0, 1500.0, 0.0, 0.0, 4648.0, 1014.0, 1750.0, 1872.0, 2250.0, 1603.0, 0.0, 0.0, 3150.0, 0.0, 0.0, 2436.0, 0.0, 0.0, 2083.0, 0.0, 2785.0, 1131.0, 0.0, 0.0, 2157.0, 913.0, 1700.0, 2857.0, 0.0, 4416.0, 3683.0, 0.0, 5624.0, 5302.0, 1483.0, 4416.0, 6667.0, 0.0, 3013.0, 0.0, 1287.0, 2004.0, 2035.0, 6666.0, 3666.0, 3428.0, 1632.0, 1800.0, 1915.0, 0.0, 1742.0, 0.0, 1424.0, 7166.0, 2087.0, 0.0, 0.0, 1430.0, 1302.0, 0.0, 5500.0, 0.0, 0.0, 0.0, 0.0, 2042.0, 3906.0, 0.0, 536.0, 0.0, 2845.0, 0.0, 0.0, 2524.0, 663.0, 1950.0, 0.0, 1783.0, 0.0, 2016.0, 0.0, 2375.0, 3250.0, 2333.0, 4266.0, 1032.0, 1625.0, 0.0, 2669.0, 2306.0, 242.0, 0.0, 2054.0, 0.0, 0.0, 0.0, 0.0, 2500.0, 0.0, 2064.0, 1750.0, 1451.0, 0.0, 1625.0, 0.0, 461.0, 2210.0, 2739.0, 2232.0, 2917.0, 0.0, 33837.0, 0.0, 0.0, 1917.0, 3000.0, 1522.0, 0.0, 0.0, 0.0, 3416.0, 0.0, 0.0, 3300.0, 0.0, 0.0, 1000.0, 0.0, 0.0, 0.0, 41667.0, 2792.0, 0.0, 4301.0, 0.0, 3800.0, 2500.0, 1411.0, 1950.0, 0.0, 0.0, 240.0, 0.0, 0.0], \"yaxis\": \"y\"}],                        {\"barmode\": \"relative\", \"legend\": {\"tracegroupgap\": 0}, \"margin\": {\"t\": 60}, \"template\": {\"data\": {\"bar\": [{\"error_x\": {\"color\": \"#2a3f5f\"}, \"error_y\": {\"color\": \"#2a3f5f\"}, \"marker\": {\"line\": {\"color\": \"#E5ECF6\", \"width\": 0.5}}, \"type\": \"bar\"}], \"barpolar\": [{\"marker\": {\"line\": {\"color\": \"#E5ECF6\", \"width\": 0.5}}, \"type\": \"barpolar\"}], \"carpet\": [{\"aaxis\": {\"endlinecolor\": \"#2a3f5f\", \"gridcolor\": \"white\", \"linecolor\": \"white\", \"minorgridcolor\": \"white\", \"startlinecolor\": \"#2a3f5f\"}, \"baxis\": {\"endlinecolor\": \"#2a3f5f\", \"gridcolor\": \"white\", \"linecolor\": \"white\", \"minorgridcolor\": \"white\", \"startlinecolor\": \"#2a3f5f\"}, \"type\": \"carpet\"}], \"choropleth\": [{\"colorbar\": {\"outlinewidth\": 0, \"ticks\": \"\"}, \"type\": \"choropleth\"}], \"contour\": [{\"colorbar\": {\"outlinewidth\": 0, \"ticks\": \"\"}, \"colorscale\": [[0.0, \"#0d0887\"], [0.1111111111111111, \"#46039f\"], [0.2222222222222222, \"#7201a8\"], [0.3333333333333333, \"#9c179e\"], [0.4444444444444444, \"#bd3786\"], [0.5555555555555556, \"#d8576b\"], [0.6666666666666666, \"#ed7953\"], [0.7777777777777778, \"#fb9f3a\"], [0.8888888888888888, \"#fdca26\"], [1.0, \"#f0f921\"]], \"type\": \"contour\"}], \"contourcarpet\": [{\"colorbar\": {\"outlinewidth\": 0, \"ticks\": \"\"}, \"type\": \"contourcarpet\"}], \"heatmap\": [{\"colorbar\": {\"outlinewidth\": 0, \"ticks\": \"\"}, \"colorscale\": [[0.0, \"#0d0887\"], [0.1111111111111111, \"#46039f\"], [0.2222222222222222, \"#7201a8\"], [0.3333333333333333, \"#9c179e\"], [0.4444444444444444, \"#bd3786\"], [0.5555555555555556, \"#d8576b\"], [0.6666666666666666, \"#ed7953\"], [0.7777777777777778, \"#fb9f3a\"], [0.8888888888888888, \"#fdca26\"], [1.0, \"#f0f921\"]], \"type\": \"heatmap\"}], \"heatmapgl\": [{\"colorbar\": {\"outlinewidth\": 0, \"ticks\": \"\"}, \"colorscale\": [[0.0, \"#0d0887\"], [0.1111111111111111, \"#46039f\"], [0.2222222222222222, \"#7201a8\"], [0.3333333333333333, \"#9c179e\"], [0.4444444444444444, \"#bd3786\"], [0.5555555555555556, \"#d8576b\"], [0.6666666666666666, \"#ed7953\"], [0.7777777777777778, \"#fb9f3a\"], [0.8888888888888888, \"#fdca26\"], [1.0, \"#f0f921\"]], \"type\": \"heatmapgl\"}], \"histogram\": [{\"marker\": {\"colorbar\": {\"outlinewidth\": 0, \"ticks\": \"\"}}, \"type\": \"histogram\"}], \"histogram2d\": [{\"colorbar\": {\"outlinewidth\": 0, \"ticks\": \"\"}, \"colorscale\": [[0.0, \"#0d0887\"], [0.1111111111111111, \"#46039f\"], [0.2222222222222222, \"#7201a8\"], [0.3333333333333333, \"#9c179e\"], [0.4444444444444444, \"#bd3786\"], [0.5555555555555556, \"#d8576b\"], [0.6666666666666666, \"#ed7953\"], [0.7777777777777778, \"#fb9f3a\"], [0.8888888888888888, \"#fdca26\"], [1.0, \"#f0f921\"]], \"type\": \"histogram2d\"}], \"histogram2dcontour\": [{\"colorbar\": {\"outlinewidth\": 0, \"ticks\": \"\"}, \"colorscale\": [[0.0, \"#0d0887\"], [0.1111111111111111, \"#46039f\"], [0.2222222222222222, \"#7201a8\"], [0.3333333333333333, \"#9c179e\"], [0.4444444444444444, \"#bd3786\"], [0.5555555555555556, \"#d8576b\"], [0.6666666666666666, \"#ed7953\"], [0.7777777777777778, \"#fb9f3a\"], [0.8888888888888888, \"#fdca26\"], [1.0, \"#f0f921\"]], \"type\": \"histogram2dcontour\"}], \"mesh3d\": [{\"colorbar\": {\"outlinewidth\": 0, \"ticks\": \"\"}, \"type\": \"mesh3d\"}], \"parcoords\": [{\"line\": {\"colorbar\": {\"outlinewidth\": 0, \"ticks\": \"\"}}, \"type\": \"parcoords\"}], \"pie\": [{\"automargin\": true, \"type\": \"pie\"}], \"scatter\": [{\"marker\": {\"colorbar\": {\"outlinewidth\": 0, \"ticks\": \"\"}}, \"type\": \"scatter\"}], \"scatter3d\": [{\"line\": {\"colorbar\": {\"outlinewidth\": 0, \"ticks\": \"\"}}, \"marker\": {\"colorbar\": {\"outlinewidth\": 0, \"ticks\": \"\"}}, \"type\": \"scatter3d\"}], \"scattercarpet\": [{\"marker\": {\"colorbar\": {\"outlinewidth\": 0, \"ticks\": \"\"}}, \"type\": \"scattercarpet\"}], \"scattergeo\": [{\"marker\": {\"colorbar\": {\"outlinewidth\": 0, \"ticks\": \"\"}}, \"type\": \"scattergeo\"}], \"scattergl\": [{\"marker\": {\"colorbar\": {\"outlinewidth\": 0, \"ticks\": \"\"}}, \"type\": \"scattergl\"}], \"scattermapbox\": [{\"marker\": {\"colorbar\": {\"outlinewidth\": 0, \"ticks\": \"\"}}, \"type\": \"scattermapbox\"}], \"scatterpolar\": [{\"marker\": {\"colorbar\": {\"outlinewidth\": 0, \"ticks\": \"\"}}, \"type\": \"scatterpolar\"}], \"scatterpolargl\": [{\"marker\": {\"colorbar\": {\"outlinewidth\": 0, \"ticks\": \"\"}}, \"type\": \"scatterpolargl\"}], \"scatterternary\": [{\"marker\": {\"colorbar\": {\"outlinewidth\": 0, \"ticks\": \"\"}}, \"type\": \"scatterternary\"}], \"surface\": [{\"colorbar\": {\"outlinewidth\": 0, \"ticks\": \"\"}, \"colorscale\": [[0.0, \"#0d0887\"], [0.1111111111111111, \"#46039f\"], [0.2222222222222222, \"#7201a8\"], [0.3333333333333333, \"#9c179e\"], [0.4444444444444444, \"#bd3786\"], [0.5555555555555556, \"#d8576b\"], [0.6666666666666666, \"#ed7953\"], [0.7777777777777778, \"#fb9f3a\"], [0.8888888888888888, \"#fdca26\"], [1.0, \"#f0f921\"]], \"type\": \"surface\"}], \"table\": [{\"cells\": {\"fill\": {\"color\": \"#EBF0F8\"}, \"line\": {\"color\": \"white\"}}, \"header\": {\"fill\": {\"color\": \"#C8D4E3\"}, \"line\": {\"color\": \"white\"}}, \"type\": \"table\"}]}, \"layout\": {\"annotationdefaults\": {\"arrowcolor\": \"#2a3f5f\", \"arrowhead\": 0, \"arrowwidth\": 1}, \"coloraxis\": {\"colorbar\": {\"outlinewidth\": 0, \"ticks\": \"\"}}, \"colorscale\": {\"diverging\": [[0, \"#8e0152\"], [0.1, \"#c51b7d\"], [0.2, \"#de77ae\"], [0.3, \"#f1b6da\"], [0.4, \"#fde0ef\"], [0.5, \"#f7f7f7\"], [0.6, \"#e6f5d0\"], [0.7, \"#b8e186\"], [0.8, \"#7fbc41\"], [0.9, \"#4d9221\"], [1, \"#276419\"]], \"sequential\": [[0.0, \"#0d0887\"], [0.1111111111111111, \"#46039f\"], [0.2222222222222222, \"#7201a8\"], [0.3333333333333333, \"#9c179e\"], [0.4444444444444444, \"#bd3786\"], [0.5555555555555556, \"#d8576b\"], [0.6666666666666666, \"#ed7953\"], [0.7777777777777778, \"#fb9f3a\"], [0.8888888888888888, \"#fdca26\"], [1.0, \"#f0f921\"]], \"sequentialminus\": [[0.0, \"#0d0887\"], [0.1111111111111111, \"#46039f\"], [0.2222222222222222, \"#7201a8\"], [0.3333333333333333, \"#9c179e\"], [0.4444444444444444, \"#bd3786\"], [0.5555555555555556, \"#d8576b\"], [0.6666666666666666, \"#ed7953\"], [0.7777777777777778, \"#fb9f3a\"], [0.8888888888888888, \"#fdca26\"], [1.0, \"#f0f921\"]]}, \"colorway\": [\"#636efa\", \"#EF553B\", \"#00cc96\", \"#ab63fa\", \"#FFA15A\", \"#19d3f3\", \"#FF6692\", \"#B6E880\", \"#FF97FF\", \"#FECB52\"], \"font\": {\"color\": \"#2a3f5f\"}, \"geo\": {\"bgcolor\": \"white\", \"lakecolor\": \"white\", \"landcolor\": \"#E5ECF6\", \"showlakes\": true, \"showland\": true, \"subunitcolor\": \"white\"}, \"hoverlabel\": {\"align\": \"left\"}, \"hovermode\": \"closest\", \"mapbox\": {\"style\": \"light\"}, \"paper_bgcolor\": \"white\", \"plot_bgcolor\": \"#E5ECF6\", \"polar\": {\"angularaxis\": {\"gridcolor\": \"white\", \"linecolor\": \"white\", \"ticks\": \"\"}, \"bgcolor\": \"#E5ECF6\", \"radialaxis\": {\"gridcolor\": \"white\", \"linecolor\": \"white\", \"ticks\": \"\"}}, \"scene\": {\"xaxis\": {\"backgroundcolor\": \"#E5ECF6\", \"gridcolor\": \"white\", \"gridwidth\": 2, \"linecolor\": \"white\", \"showbackground\": true, \"ticks\": \"\", \"zerolinecolor\": \"white\"}, \"yaxis\": {\"backgroundcolor\": \"#E5ECF6\", \"gridcolor\": \"white\", \"gridwidth\": 2, \"linecolor\": \"white\", \"showbackground\": true, \"ticks\": \"\", \"zerolinecolor\": \"white\"}, \"zaxis\": {\"backgroundcolor\": \"#E5ECF6\", \"gridcolor\": \"white\", \"gridwidth\": 2, \"linecolor\": \"white\", \"showbackground\": true, \"ticks\": \"\", \"zerolinecolor\": \"white\"}}, \"shapedefaults\": {\"line\": {\"color\": \"#2a3f5f\"}}, \"ternary\": {\"aaxis\": {\"gridcolor\": \"white\", \"linecolor\": \"white\", \"ticks\": \"\"}, \"baxis\": {\"gridcolor\": \"white\", \"linecolor\": \"white\", \"ticks\": \"\"}, \"bgcolor\": \"#E5ECF6\", \"caxis\": {\"gridcolor\": \"white\", \"linecolor\": \"white\", \"ticks\": \"\"}}, \"title\": {\"x\": 0.05}, \"xaxis\": {\"automargin\": true, \"gridcolor\": \"white\", \"linecolor\": \"white\", \"ticks\": \"\", \"title\": {\"standoff\": 15}, \"zerolinecolor\": \"white\", \"zerolinewidth\": 2}, \"yaxis\": {\"automargin\": true, \"gridcolor\": \"white\", \"linecolor\": \"white\", \"ticks\": \"\", \"title\": {\"standoff\": 15}, \"zerolinecolor\": \"white\", \"zerolinewidth\": 2}}}, \"title\": {\"text\": \"CoapplicantIncome\"}, \"xaxis\": {\"anchor\": \"y\", \"domain\": [0.0, 1.0], \"title\": {\"text\": \"CoapplicantIncome\"}}, \"yaxis\": {\"anchor\": \"x\", \"domain\": [0.0, 1.0], \"title\": {\"text\": \"sum of CoapplicantIncome\"}}},                        {\"responsive\": true}                    ).then(function(){\n",
       "                            \n",
       "var gd = document.getElementById('c4668489-7148-4f87-bd19-782abeea581b');\n",
       "var x = new MutationObserver(function (mutations, observer) {{\n",
       "        var display = window.getComputedStyle(gd).display;\n",
       "        if (!display || display === 'none') {{\n",
       "            console.log([gd, 'removed!']);\n",
       "            Plotly.purge(gd);\n",
       "            observer.disconnect();\n",
       "        }}\n",
       "}});\n",
       "\n",
       "// Listen for the removal of the full notebook cells\n",
       "var notebookContainer = gd.closest('#notebook-container');\n",
       "if (notebookContainer) {{\n",
       "    x.observe(notebookContainer, {childList: true});\n",
       "}}\n",
       "\n",
       "// Listen for the clearing of the current output cell\n",
       "var outputEl = gd.closest('.output');\n",
       "if (outputEl) {{\n",
       "    x.observe(outputEl, {childList: true});\n",
       "}}\n",
       "\n",
       "                        })                };                });            </script>        </div>"
      ]
     },
     "metadata": {},
     "output_type": "display_data"
    },
    {
     "data": {
      "text/html": [
       "<div>                            <div id=\"d273f47b-0156-40ae-9206-0a589404854b\" class=\"plotly-graph-div\" style=\"height:525px; width:100%;\"></div>            <script type=\"text/javascript\">                require([\"plotly\"], function(Plotly) {                    window.PLOTLYENV=window.PLOTLYENV || {};                                    if (document.getElementById(\"d273f47b-0156-40ae-9206-0a589404854b\")) {                    Plotly.newPlot(                        \"d273f47b-0156-40ae-9206-0a589404854b\",                        [{\"alignmentgroup\": \"True\", \"bingroup\": \"x\", \"histfunc\": \"sum\", \"hovertemplate\": \"LoanAmount=%{x}<br>sum of LoanAmount=%{y}<extra></extra>\", \"legendgroup\": \"\", \"marker\": {\"color\": \"#636efa\"}, \"name\": \"\", \"offsetgroup\": \"\", \"orientation\": \"v\", \"showlegend\": false, \"type\": \"histogram\", \"x\": [128.0, 128.0, 66.0, 120.0, 141.0, 267.0, 95.0, 158.0, 168.0, 349.0, 70.0, 109.0, 200.0, 114.0, 17.0, 125.0, 100.0, 76.0, 133.0, 115.0, 104.0, 315.0, 116.0, 112.0, 151.0, 191.0, 122.0, 110.0, 35.0, 120.0, 201.0, 74.0, 106.0, 114.0, 320.0, 128.0, 100.0, 144.0, 184.0, 110.0, 80.0, 47.0, 75.0, 134.0, 96.0, 88.0, 44.0, 144.0, 120.0, 144.0, 100.0, 120.0, 112.0, 134.0, 286.0, 97.0, 96.0, 135.0, 180.0, 144.0, 120.0, 99.0, 165.0, 128.0, 116.0, 258.0, 126.0, 312.0, 125.0, 136.0, 172.0, 97.0, 81.0, 95.0, 187.0, 113.0, 176.0, 110.0, 180.0, 130.0, 111.0, 128.0, 167.0, 265.0, 50.0, 136.0, 99.0, 104.0, 210.0, 175.0, 131.0, 188.0, 81.0, 122.0, 25.0, 128.0, 137.0, 50.0, 115.0, 131.0, 133.0, 151.0, 128.0, 128.0, 160.0, 100.0, 225.0, 120.0, 216.0, 94.0, 136.0, 139.0, 152.0, 128.0, 118.0, 185.0, 154.0, 85.0, 175.0, 259.0, 180.0, 44.0, 137.0, 81.0, 194.0, 93.0, 370.0, 128.0, 160.0, 182.0, 650.0, 74.0, 70.0, 25.0, 102.0, 290.0, 84.0, 88.0, 242.0, 129.0, 185.0, 168.0, 175.0, 122.0, 187.0, 100.0, 70.0, 30.0, 225.0, 125.0, 118.0, 152.0, 244.0, 113.0, 50.0, 600.0, 160.0, 187.0, 120.0, 255.0, 98.0, 275.0, 121.0, 158.0, 75.0, 182.0, 112.0, 129.0, 63.0, 200.0, 95.0, 700.0, 81.0, 187.0, 87.0, 116.0, 101.0, 495.0, 116.0, 102.0, 180.0, 67.0, 73.0, 260.0, 108.0, 120.0, 66.0, 58.0, 168.0, 188.0, 48.0, 164.0, 160.0, 76.0, 120.0, 170.0, 187.0, 120.0, 113.0, 83.0, 90.0, 166.0, 128.0, 135.0, 124.0, 120.0, 80.0, 55.0, 59.0, 127.0, 214.0, 128.0, 240.0, 130.0, 137.0, 100.0, 135.0, 131.0, 72.0, 127.0, 60.0, 116.0, 144.0, 175.0, 128.0, 170.0, 138.0, 210.0, 158.0, 200.0, 104.0, 42.0, 120.0, 280.0, 140.0, 170.0, 255.0, 122.0, 112.0, 96.0, 120.0, 140.0, 155.0, 108.0, 123.0, 120.0, 112.0, 137.0, 123.0, 90.0, 201.0, 138.0, 104.0, 279.0, 192.0, 255.0, 115.0, 94.0, 304.0, 128.0, 330.0, 134.0, 155.0, 120.0, 128.0, 151.0, 150.0, 160.0, 135.0, 90.0, 30.0, 136.0, 126.0, 150.0, 90.0, 115.0, 207.0, 80.0, 436.0, 124.0, 158.0, 112.0, 78.0, 54.0, 128.0, 89.0, 99.0, 120.0, 115.0, 187.0, 139.0, 127.0, 134.0, 143.0, 172.0, 110.0, 200.0, 135.0, 151.0, 113.0, 93.0, 105.0, 132.0, 96.0, 140.0, 128.0, 135.0, 104.0, 480.0, 185.0, 84.0, 111.0, 56.0, 144.0, 159.0, 111.0, 120.0, 88.0, 112.0, 155.0, 115.0, 124.0, 128.0, 132.0, 300.0, 376.0, 130.0, 184.0, 110.0, 67.0, 117.0, 98.0, 71.0, 490.0, 182.0, 70.0, 160.0, 176.0, 128.0, 71.0, 173.0, 46.0, 158.0, 74.0, 125.0, 160.0, 152.0, 126.0, 259.0, 187.0, 228.0, 308.0, 95.0, 105.0, 130.0, 116.0, 165.0, 67.0, 100.0, 200.0, 81.0, 236.0, 130.0, 95.0, 141.0, 133.0, 96.0, 124.0, 175.0, 570.0, 55.0, 155.0, 380.0, 111.0, 110.0, 120.0, 130.0, 130.0, 71.0, 130.0, 128.0, 296.0, 156.0, 128.0, 100.0, 113.0, 132.0, 128.0, 136.0, 125.0, 185.0, 275.0, 120.0, 113.0, 113.0, 135.0, 71.0, 95.0, 109.0, 103.0, 45.0, 65.0, 103.0, 53.0, 194.0, 115.0, 115.0, 66.0, 152.0, 360.0, 62.0, 160.0, 218.0, 110.0, 178.0, 60.0, 160.0, 239.0, 112.0, 138.0, 138.0, 80.0, 100.0, 110.0, 96.0, 121.0, 81.0, 133.0, 87.0, 60.0, 150.0, 105.0, 405.0, 143.0, 100.0, 128.0, 50.0, 128.0, 187.0, 138.0, 187.0, 180.0, 148.0, 152.0, 175.0, 130.0, 110.0, 55.0, 150.0, 190.0, 125.0, 60.0, 149.0, 90.0, 84.0, 96.0, 118.0, 173.0, 136.0, 160.0, 160.0, 128.0, 153.0, 132.0, 98.0, 140.0, 70.0, 110.0, 98.0, 110.0, 162.0, 113.0, 100.0, 93.0, 162.0, 150.0, 230.0, 132.0, 86.0, 128.0, 154.0, 113.0, 128.0, 234.0, 246.0, 131.0, 80.0, 500.0, 160.0, 75.0, 96.0, 186.0, 110.0, 225.0, 119.0, 105.0, 107.0, 111.0, 95.0, 209.0, 113.0, 100.0, 208.0, 138.0, 124.0, 243.0, 480.0, 96.0, 188.0, 40.0, 100.0, 250.0, 148.0, 70.0, 311.0, 150.0, 113.0, 123.0, 185.0, 95.0, 45.0, 55.0, 100.0, 480.0, 128.0, 400.0, 110.0, 161.0, 94.0, 130.0, 216.0, 100.0, 110.0, 196.0, 125.0, 126.0, 324.0, 107.0, 66.0, 157.0, 140.0, 99.0, 95.0, 128.0, 102.0, 155.0, 80.0, 145.0, 103.0, 110.0, 128.0, 128.0, 158.0, 181.0, 132.0, 26.0, 84.0, 260.0, 162.0, 182.0, 108.0, 600.0, 211.0, 132.0, 258.0, 120.0, 70.0, 123.0, 9.0, 104.0, 186.0, 165.0, 275.0, 187.0, 150.0, 108.0, 136.0, 110.0, 107.0, 161.0, 205.0, 90.0, 36.0, 61.0, 146.0, 172.0, 104.0, 70.0, 94.0, 106.0, 56.0, 205.0, 292.0, 142.0, 260.0, 110.0, 187.0, 88.0, 180.0, 192.0, 350.0, 155.0, 128.0, 172.0, 496.0, 128.0, 173.0, 157.0, 108.0, 71.0, 40.0, 253.0, 187.0, 133.0], \"xaxis\": \"x\", \"y\": [128.0, 128.0, 66.0, 120.0, 141.0, 267.0, 95.0, 158.0, 168.0, 349.0, 70.0, 109.0, 200.0, 114.0, 17.0, 125.0, 100.0, 76.0, 133.0, 115.0, 104.0, 315.0, 116.0, 112.0, 151.0, 191.0, 122.0, 110.0, 35.0, 120.0, 201.0, 74.0, 106.0, 114.0, 320.0, 128.0, 100.0, 144.0, 184.0, 110.0, 80.0, 47.0, 75.0, 134.0, 96.0, 88.0, 44.0, 144.0, 120.0, 144.0, 100.0, 120.0, 112.0, 134.0, 286.0, 97.0, 96.0, 135.0, 180.0, 144.0, 120.0, 99.0, 165.0, 128.0, 116.0, 258.0, 126.0, 312.0, 125.0, 136.0, 172.0, 97.0, 81.0, 95.0, 187.0, 113.0, 176.0, 110.0, 180.0, 130.0, 111.0, 128.0, 167.0, 265.0, 50.0, 136.0, 99.0, 104.0, 210.0, 175.0, 131.0, 188.0, 81.0, 122.0, 25.0, 128.0, 137.0, 50.0, 115.0, 131.0, 133.0, 151.0, 128.0, 128.0, 160.0, 100.0, 225.0, 120.0, 216.0, 94.0, 136.0, 139.0, 152.0, 128.0, 118.0, 185.0, 154.0, 85.0, 175.0, 259.0, 180.0, 44.0, 137.0, 81.0, 194.0, 93.0, 370.0, 128.0, 160.0, 182.0, 650.0, 74.0, 70.0, 25.0, 102.0, 290.0, 84.0, 88.0, 242.0, 129.0, 185.0, 168.0, 175.0, 122.0, 187.0, 100.0, 70.0, 30.0, 225.0, 125.0, 118.0, 152.0, 244.0, 113.0, 50.0, 600.0, 160.0, 187.0, 120.0, 255.0, 98.0, 275.0, 121.0, 158.0, 75.0, 182.0, 112.0, 129.0, 63.0, 200.0, 95.0, 700.0, 81.0, 187.0, 87.0, 116.0, 101.0, 495.0, 116.0, 102.0, 180.0, 67.0, 73.0, 260.0, 108.0, 120.0, 66.0, 58.0, 168.0, 188.0, 48.0, 164.0, 160.0, 76.0, 120.0, 170.0, 187.0, 120.0, 113.0, 83.0, 90.0, 166.0, 128.0, 135.0, 124.0, 120.0, 80.0, 55.0, 59.0, 127.0, 214.0, 128.0, 240.0, 130.0, 137.0, 100.0, 135.0, 131.0, 72.0, 127.0, 60.0, 116.0, 144.0, 175.0, 128.0, 170.0, 138.0, 210.0, 158.0, 200.0, 104.0, 42.0, 120.0, 280.0, 140.0, 170.0, 255.0, 122.0, 112.0, 96.0, 120.0, 140.0, 155.0, 108.0, 123.0, 120.0, 112.0, 137.0, 123.0, 90.0, 201.0, 138.0, 104.0, 279.0, 192.0, 255.0, 115.0, 94.0, 304.0, 128.0, 330.0, 134.0, 155.0, 120.0, 128.0, 151.0, 150.0, 160.0, 135.0, 90.0, 30.0, 136.0, 126.0, 150.0, 90.0, 115.0, 207.0, 80.0, 436.0, 124.0, 158.0, 112.0, 78.0, 54.0, 128.0, 89.0, 99.0, 120.0, 115.0, 187.0, 139.0, 127.0, 134.0, 143.0, 172.0, 110.0, 200.0, 135.0, 151.0, 113.0, 93.0, 105.0, 132.0, 96.0, 140.0, 128.0, 135.0, 104.0, 480.0, 185.0, 84.0, 111.0, 56.0, 144.0, 159.0, 111.0, 120.0, 88.0, 112.0, 155.0, 115.0, 124.0, 128.0, 132.0, 300.0, 376.0, 130.0, 184.0, 110.0, 67.0, 117.0, 98.0, 71.0, 490.0, 182.0, 70.0, 160.0, 176.0, 128.0, 71.0, 173.0, 46.0, 158.0, 74.0, 125.0, 160.0, 152.0, 126.0, 259.0, 187.0, 228.0, 308.0, 95.0, 105.0, 130.0, 116.0, 165.0, 67.0, 100.0, 200.0, 81.0, 236.0, 130.0, 95.0, 141.0, 133.0, 96.0, 124.0, 175.0, 570.0, 55.0, 155.0, 380.0, 111.0, 110.0, 120.0, 130.0, 130.0, 71.0, 130.0, 128.0, 296.0, 156.0, 128.0, 100.0, 113.0, 132.0, 128.0, 136.0, 125.0, 185.0, 275.0, 120.0, 113.0, 113.0, 135.0, 71.0, 95.0, 109.0, 103.0, 45.0, 65.0, 103.0, 53.0, 194.0, 115.0, 115.0, 66.0, 152.0, 360.0, 62.0, 160.0, 218.0, 110.0, 178.0, 60.0, 160.0, 239.0, 112.0, 138.0, 138.0, 80.0, 100.0, 110.0, 96.0, 121.0, 81.0, 133.0, 87.0, 60.0, 150.0, 105.0, 405.0, 143.0, 100.0, 128.0, 50.0, 128.0, 187.0, 138.0, 187.0, 180.0, 148.0, 152.0, 175.0, 130.0, 110.0, 55.0, 150.0, 190.0, 125.0, 60.0, 149.0, 90.0, 84.0, 96.0, 118.0, 173.0, 136.0, 160.0, 160.0, 128.0, 153.0, 132.0, 98.0, 140.0, 70.0, 110.0, 98.0, 110.0, 162.0, 113.0, 100.0, 93.0, 162.0, 150.0, 230.0, 132.0, 86.0, 128.0, 154.0, 113.0, 128.0, 234.0, 246.0, 131.0, 80.0, 500.0, 160.0, 75.0, 96.0, 186.0, 110.0, 225.0, 119.0, 105.0, 107.0, 111.0, 95.0, 209.0, 113.0, 100.0, 208.0, 138.0, 124.0, 243.0, 480.0, 96.0, 188.0, 40.0, 100.0, 250.0, 148.0, 70.0, 311.0, 150.0, 113.0, 123.0, 185.0, 95.0, 45.0, 55.0, 100.0, 480.0, 128.0, 400.0, 110.0, 161.0, 94.0, 130.0, 216.0, 100.0, 110.0, 196.0, 125.0, 126.0, 324.0, 107.0, 66.0, 157.0, 140.0, 99.0, 95.0, 128.0, 102.0, 155.0, 80.0, 145.0, 103.0, 110.0, 128.0, 128.0, 158.0, 181.0, 132.0, 26.0, 84.0, 260.0, 162.0, 182.0, 108.0, 600.0, 211.0, 132.0, 258.0, 120.0, 70.0, 123.0, 9.0, 104.0, 186.0, 165.0, 275.0, 187.0, 150.0, 108.0, 136.0, 110.0, 107.0, 161.0, 205.0, 90.0, 36.0, 61.0, 146.0, 172.0, 104.0, 70.0, 94.0, 106.0, 56.0, 205.0, 292.0, 142.0, 260.0, 110.0, 187.0, 88.0, 180.0, 192.0, 350.0, 155.0, 128.0, 172.0, 496.0, 128.0, 173.0, 157.0, 108.0, 71.0, 40.0, 253.0, 187.0, 133.0], \"yaxis\": \"y\"}],                        {\"barmode\": \"relative\", \"legend\": {\"tracegroupgap\": 0}, \"margin\": {\"t\": 60}, \"template\": {\"data\": {\"bar\": [{\"error_x\": {\"color\": \"#2a3f5f\"}, \"error_y\": {\"color\": \"#2a3f5f\"}, \"marker\": {\"line\": {\"color\": \"#E5ECF6\", \"width\": 0.5}}, \"type\": \"bar\"}], \"barpolar\": [{\"marker\": {\"line\": {\"color\": \"#E5ECF6\", \"width\": 0.5}}, \"type\": \"barpolar\"}], \"carpet\": [{\"aaxis\": {\"endlinecolor\": \"#2a3f5f\", \"gridcolor\": \"white\", \"linecolor\": \"white\", \"minorgridcolor\": \"white\", \"startlinecolor\": \"#2a3f5f\"}, \"baxis\": {\"endlinecolor\": \"#2a3f5f\", \"gridcolor\": \"white\", \"linecolor\": \"white\", \"minorgridcolor\": \"white\", \"startlinecolor\": \"#2a3f5f\"}, \"type\": \"carpet\"}], \"choropleth\": [{\"colorbar\": {\"outlinewidth\": 0, \"ticks\": \"\"}, \"type\": \"choropleth\"}], \"contour\": [{\"colorbar\": {\"outlinewidth\": 0, \"ticks\": \"\"}, \"colorscale\": [[0.0, \"#0d0887\"], [0.1111111111111111, \"#46039f\"], [0.2222222222222222, \"#7201a8\"], [0.3333333333333333, \"#9c179e\"], [0.4444444444444444, \"#bd3786\"], [0.5555555555555556, \"#d8576b\"], [0.6666666666666666, \"#ed7953\"], [0.7777777777777778, \"#fb9f3a\"], [0.8888888888888888, \"#fdca26\"], [1.0, \"#f0f921\"]], \"type\": \"contour\"}], \"contourcarpet\": [{\"colorbar\": {\"outlinewidth\": 0, \"ticks\": \"\"}, \"type\": \"contourcarpet\"}], \"heatmap\": [{\"colorbar\": {\"outlinewidth\": 0, \"ticks\": \"\"}, \"colorscale\": [[0.0, \"#0d0887\"], [0.1111111111111111, \"#46039f\"], [0.2222222222222222, \"#7201a8\"], [0.3333333333333333, \"#9c179e\"], [0.4444444444444444, \"#bd3786\"], [0.5555555555555556, \"#d8576b\"], [0.6666666666666666, \"#ed7953\"], [0.7777777777777778, \"#fb9f3a\"], [0.8888888888888888, \"#fdca26\"], [1.0, \"#f0f921\"]], \"type\": \"heatmap\"}], \"heatmapgl\": [{\"colorbar\": {\"outlinewidth\": 0, \"ticks\": \"\"}, \"colorscale\": [[0.0, \"#0d0887\"], [0.1111111111111111, \"#46039f\"], [0.2222222222222222, \"#7201a8\"], [0.3333333333333333, \"#9c179e\"], [0.4444444444444444, \"#bd3786\"], [0.5555555555555556, \"#d8576b\"], [0.6666666666666666, \"#ed7953\"], [0.7777777777777778, \"#fb9f3a\"], [0.8888888888888888, \"#fdca26\"], [1.0, \"#f0f921\"]], \"type\": \"heatmapgl\"}], \"histogram\": [{\"marker\": {\"colorbar\": {\"outlinewidth\": 0, \"ticks\": \"\"}}, \"type\": \"histogram\"}], \"histogram2d\": [{\"colorbar\": {\"outlinewidth\": 0, \"ticks\": \"\"}, \"colorscale\": [[0.0, \"#0d0887\"], [0.1111111111111111, \"#46039f\"], [0.2222222222222222, \"#7201a8\"], [0.3333333333333333, \"#9c179e\"], [0.4444444444444444, \"#bd3786\"], [0.5555555555555556, \"#d8576b\"], [0.6666666666666666, \"#ed7953\"], [0.7777777777777778, \"#fb9f3a\"], [0.8888888888888888, \"#fdca26\"], [1.0, \"#f0f921\"]], \"type\": \"histogram2d\"}], \"histogram2dcontour\": [{\"colorbar\": {\"outlinewidth\": 0, \"ticks\": \"\"}, \"colorscale\": [[0.0, \"#0d0887\"], [0.1111111111111111, \"#46039f\"], [0.2222222222222222, \"#7201a8\"], [0.3333333333333333, \"#9c179e\"], [0.4444444444444444, \"#bd3786\"], [0.5555555555555556, \"#d8576b\"], [0.6666666666666666, \"#ed7953\"], [0.7777777777777778, \"#fb9f3a\"], [0.8888888888888888, \"#fdca26\"], [1.0, \"#f0f921\"]], \"type\": \"histogram2dcontour\"}], \"mesh3d\": [{\"colorbar\": {\"outlinewidth\": 0, \"ticks\": \"\"}, \"type\": \"mesh3d\"}], \"parcoords\": [{\"line\": {\"colorbar\": {\"outlinewidth\": 0, \"ticks\": \"\"}}, \"type\": \"parcoords\"}], \"pie\": [{\"automargin\": true, \"type\": \"pie\"}], \"scatter\": [{\"marker\": {\"colorbar\": {\"outlinewidth\": 0, \"ticks\": \"\"}}, \"type\": \"scatter\"}], \"scatter3d\": [{\"line\": {\"colorbar\": {\"outlinewidth\": 0, \"ticks\": \"\"}}, \"marker\": {\"colorbar\": {\"outlinewidth\": 0, \"ticks\": \"\"}}, \"type\": \"scatter3d\"}], \"scattercarpet\": [{\"marker\": {\"colorbar\": {\"outlinewidth\": 0, \"ticks\": \"\"}}, \"type\": \"scattercarpet\"}], \"scattergeo\": [{\"marker\": {\"colorbar\": {\"outlinewidth\": 0, \"ticks\": \"\"}}, \"type\": \"scattergeo\"}], \"scattergl\": [{\"marker\": {\"colorbar\": {\"outlinewidth\": 0, \"ticks\": \"\"}}, \"type\": \"scattergl\"}], \"scattermapbox\": [{\"marker\": {\"colorbar\": {\"outlinewidth\": 0, \"ticks\": \"\"}}, \"type\": \"scattermapbox\"}], \"scatterpolar\": [{\"marker\": {\"colorbar\": {\"outlinewidth\": 0, \"ticks\": \"\"}}, \"type\": \"scatterpolar\"}], \"scatterpolargl\": [{\"marker\": {\"colorbar\": {\"outlinewidth\": 0, \"ticks\": \"\"}}, \"type\": \"scatterpolargl\"}], \"scatterternary\": [{\"marker\": {\"colorbar\": {\"outlinewidth\": 0, \"ticks\": \"\"}}, \"type\": \"scatterternary\"}], \"surface\": [{\"colorbar\": {\"outlinewidth\": 0, \"ticks\": \"\"}, \"colorscale\": [[0.0, \"#0d0887\"], [0.1111111111111111, \"#46039f\"], [0.2222222222222222, \"#7201a8\"], [0.3333333333333333, \"#9c179e\"], [0.4444444444444444, \"#bd3786\"], [0.5555555555555556, \"#d8576b\"], [0.6666666666666666, \"#ed7953\"], [0.7777777777777778, \"#fb9f3a\"], [0.8888888888888888, \"#fdca26\"], [1.0, \"#f0f921\"]], \"type\": \"surface\"}], \"table\": [{\"cells\": {\"fill\": {\"color\": \"#EBF0F8\"}, \"line\": {\"color\": \"white\"}}, \"header\": {\"fill\": {\"color\": \"#C8D4E3\"}, \"line\": {\"color\": \"white\"}}, \"type\": \"table\"}]}, \"layout\": {\"annotationdefaults\": {\"arrowcolor\": \"#2a3f5f\", \"arrowhead\": 0, \"arrowwidth\": 1}, \"coloraxis\": {\"colorbar\": {\"outlinewidth\": 0, \"ticks\": \"\"}}, \"colorscale\": {\"diverging\": [[0, \"#8e0152\"], [0.1, \"#c51b7d\"], [0.2, \"#de77ae\"], [0.3, \"#f1b6da\"], [0.4, \"#fde0ef\"], [0.5, \"#f7f7f7\"], [0.6, \"#e6f5d0\"], [0.7, \"#b8e186\"], [0.8, \"#7fbc41\"], [0.9, \"#4d9221\"], [1, \"#276419\"]], \"sequential\": [[0.0, \"#0d0887\"], [0.1111111111111111, \"#46039f\"], [0.2222222222222222, \"#7201a8\"], [0.3333333333333333, \"#9c179e\"], [0.4444444444444444, \"#bd3786\"], [0.5555555555555556, \"#d8576b\"], [0.6666666666666666, \"#ed7953\"], [0.7777777777777778, \"#fb9f3a\"], [0.8888888888888888, \"#fdca26\"], [1.0, \"#f0f921\"]], \"sequentialminus\": [[0.0, \"#0d0887\"], [0.1111111111111111, \"#46039f\"], [0.2222222222222222, \"#7201a8\"], [0.3333333333333333, \"#9c179e\"], [0.4444444444444444, \"#bd3786\"], [0.5555555555555556, \"#d8576b\"], [0.6666666666666666, \"#ed7953\"], [0.7777777777777778, \"#fb9f3a\"], [0.8888888888888888, \"#fdca26\"], [1.0, \"#f0f921\"]]}, \"colorway\": [\"#636efa\", \"#EF553B\", \"#00cc96\", \"#ab63fa\", \"#FFA15A\", \"#19d3f3\", \"#FF6692\", \"#B6E880\", \"#FF97FF\", \"#FECB52\"], \"font\": {\"color\": \"#2a3f5f\"}, \"geo\": {\"bgcolor\": \"white\", \"lakecolor\": \"white\", \"landcolor\": \"#E5ECF6\", \"showlakes\": true, \"showland\": true, \"subunitcolor\": \"white\"}, \"hoverlabel\": {\"align\": \"left\"}, \"hovermode\": \"closest\", \"mapbox\": {\"style\": \"light\"}, \"paper_bgcolor\": \"white\", \"plot_bgcolor\": \"#E5ECF6\", \"polar\": {\"angularaxis\": {\"gridcolor\": \"white\", \"linecolor\": \"white\", \"ticks\": \"\"}, \"bgcolor\": \"#E5ECF6\", \"radialaxis\": {\"gridcolor\": \"white\", \"linecolor\": \"white\", \"ticks\": \"\"}}, \"scene\": {\"xaxis\": {\"backgroundcolor\": \"#E5ECF6\", \"gridcolor\": \"white\", \"gridwidth\": 2, \"linecolor\": \"white\", \"showbackground\": true, \"ticks\": \"\", \"zerolinecolor\": \"white\"}, \"yaxis\": {\"backgroundcolor\": \"#E5ECF6\", \"gridcolor\": \"white\", \"gridwidth\": 2, \"linecolor\": \"white\", \"showbackground\": true, \"ticks\": \"\", \"zerolinecolor\": \"white\"}, \"zaxis\": {\"backgroundcolor\": \"#E5ECF6\", \"gridcolor\": \"white\", \"gridwidth\": 2, \"linecolor\": \"white\", \"showbackground\": true, \"ticks\": \"\", \"zerolinecolor\": \"white\"}}, \"shapedefaults\": {\"line\": {\"color\": \"#2a3f5f\"}}, \"ternary\": {\"aaxis\": {\"gridcolor\": \"white\", \"linecolor\": \"white\", \"ticks\": \"\"}, \"baxis\": {\"gridcolor\": \"white\", \"linecolor\": \"white\", \"ticks\": \"\"}, \"bgcolor\": \"#E5ECF6\", \"caxis\": {\"gridcolor\": \"white\", \"linecolor\": \"white\", \"ticks\": \"\"}}, \"title\": {\"x\": 0.05}, \"xaxis\": {\"automargin\": true, \"gridcolor\": \"white\", \"linecolor\": \"white\", \"ticks\": \"\", \"title\": {\"standoff\": 15}, \"zerolinecolor\": \"white\", \"zerolinewidth\": 2}, \"yaxis\": {\"automargin\": true, \"gridcolor\": \"white\", \"linecolor\": \"white\", \"ticks\": \"\", \"title\": {\"standoff\": 15}, \"zerolinecolor\": \"white\", \"zerolinewidth\": 2}}}, \"title\": {\"text\": \"LoanAmount\"}, \"xaxis\": {\"anchor\": \"y\", \"domain\": [0.0, 1.0], \"title\": {\"text\": \"LoanAmount\"}}, \"yaxis\": {\"anchor\": \"x\", \"domain\": [0.0, 1.0], \"title\": {\"text\": \"sum of LoanAmount\"}}},                        {\"responsive\": true}                    ).then(function(){\n",
       "                            \n",
       "var gd = document.getElementById('d273f47b-0156-40ae-9206-0a589404854b');\n",
       "var x = new MutationObserver(function (mutations, observer) {{\n",
       "        var display = window.getComputedStyle(gd).display;\n",
       "        if (!display || display === 'none') {{\n",
       "            console.log([gd, 'removed!']);\n",
       "            Plotly.purge(gd);\n",
       "            observer.disconnect();\n",
       "        }}\n",
       "}});\n",
       "\n",
       "// Listen for the removal of the full notebook cells\n",
       "var notebookContainer = gd.closest('#notebook-container');\n",
       "if (notebookContainer) {{\n",
       "    x.observe(notebookContainer, {childList: true});\n",
       "}}\n",
       "\n",
       "// Listen for the clearing of the current output cell\n",
       "var outputEl = gd.closest('.output');\n",
       "if (outputEl) {{\n",
       "    x.observe(outputEl, {childList: true});\n",
       "}}\n",
       "\n",
       "                        })                };                });            </script>        </div>"
      ]
     },
     "metadata": {},
     "output_type": "display_data"
    },
    {
     "name": "stdout",
     "output_type": "stream",
     "text": [
      "---------------------------After converting to Normal Distributed data----------------------\n",
      "\n",
      "Mean:->\n",
      "\n",
      "ApplicantIncome:  8.341213093227005\n",
      "CoapplicantIncome:  4.289733227820405\n",
      "LoanAmount:  4.8572501948110895\n",
      "\n",
      "Mode:->\n",
      "\n",
      "ApplicantIncome:  [7.82404601]\n",
      "CoapplicantIncome:  [0.]\n",
      "LoanAmount:  [4.85203026]\n",
      "\n",
      "Median:->\n",
      "\n",
      "ApplicantIncome:  8.246040412315828\n",
      "CoapplicantIncome:  7.080283635438671\n",
      "LoanAmount:  4.852030263919617\n",
      "\n",
      "Standard Deviation:->\n",
      "\n",
      "ApplicantIncome:  0.6447375297521025\n",
      "CoapplicantIncome:  3.8725225987499146\n",
      "LoanAmount:  0.49559166063018056\n"
     ]
    },
    {
     "data": {
      "text/html": [
       "<div>                            <div id=\"e8580a50-5c9e-4033-a527-27549e4338d0\" class=\"plotly-graph-div\" style=\"height:525px; width:100%;\"></div>            <script type=\"text/javascript\">                require([\"plotly\"], function(Plotly) {                    window.PLOTLYENV=window.PLOTLYENV || {};                                    if (document.getElementById(\"e8580a50-5c9e-4033-a527-27549e4338d0\")) {                    Plotly.newPlot(                        \"e8580a50-5c9e-4033-a527-27549e4338d0\",                        [{\"alignmentgroup\": \"True\", \"bingroup\": \"x\", \"histfunc\": \"sum\", \"hovertemplate\": \"ApplicantIncome=%{x}<br>sum of ApplicantIncome=%{y}<extra></extra>\", \"legendgroup\": \"\", \"marker\": {\"color\": \"#636efa\"}, \"name\": \"\", \"offsetgroup\": \"\", \"orientation\": \"v\", \"showlegend\": false, \"type\": \"histogram\", \"x\": [8.674025985443025, 8.430109084509125, 8.006367567650246, 7.8567067930958405, 8.699514748210191, 8.597297435657898, 7.75491027202143, 8.01829613851552, 8.295548516225763, 9.460398455831275, 8.070906088787819, 7.824046010856292, 8.030409562130485, 7.52456122628536, 7.1693500166706, 8.507142855562735, 8.18757739559151, 8.163371316459912, 8.494333897270154, 7.8632667240095735, 8.943767262734637, 8.691986481789401, 7.8632667240095735, 8.121183242078828, 8.220672170297252, 9.165343006045447, 7.937017489515454, 8.349011198176003, 7.273786317844895, 8.229511118964457, 8.334711621820917, 8.06054004653864, 8.453614209773367, 8.160518247477505, 9.433483923290392, 7.729735331385051, 7.510977752014095, 8.207129168071326, 8.334711621820917, 8.228977643358313, 8.1886891244442, 7.495541943884256, 7.783224016336037, 8.279189777195004, 8.454253391642363, 8.134467570277563, 8.639233817325263, 8.669227347271736, 7.8804263442924, 8.294049640102028, 7.564238475170491, 8.034631032923107, 8.349957272040324, 8.437283808187935, 9.350102314351341, 7.903965634032166, 7.664815785285735, 8.121480374750751, 8.997147151515142, 8.118802996980035, 7.824046010856292, 8.015987811027237, 7.866722285136729, 8.506132244056813, 8.334711621820917, 8.65277248565806, 8.070906088787819, 9.28266103355581, 8.867850063029406, 8.366370301681654, 8.073402968986406, 7.536363938404511, 8.160518247477505, 8.46695197497949, 8.569026340056254, 8.229511118964457, 8.229511118964457, 6.907755278982137, 8.06054004653864, 8.11162807830774, 8.254788926148725, 7.781138509845015, 7.228388451573604, 8.699514748210191, 8.291045131081729, 7.768956044538332, 8.11162807830774, 7.824046010856292, 9.055556158175316, 8.647343875881283, 7.992268643270745, 8.740336742730447, 8.09346227450118, 8.326758814511733, 8.194229304819817, 8.822027322685583, 7.81762544305337, 7.589335823170617, 8.339978571990427, 7.472500744737558, 8.363575702750637, 8.48528964240323, 9.521494800613105, 8.445052513638554, 8.246958032568177, 8.023552392404348, 9.342858751676328, 8.9001399880938, 8.242756345714477, 7.635786861395585, 8.578476419833136, 7.982416346827733, 8.18088094199639, 8.916103530553727, 8.527143522269405, 9.587611745713565, 8.06054004653864, 7.7025561132685825, 8.624791202014256, 9.250330020192342, 8.64241515616962, 8.334711621820917, 7.667158255319148, 7.9919305198524775, 8.366370301681654, 8.213923595622743, 10.077566902136047, 8.259716961021523, 9.26036786557583, 8.712759974960212, 9.91175329695316, 7.607878073278507, 7.907651594711089, 8.148734808937169, 8.49596955496461, 8.294049640102028, 8.430109084509125, 8.106514516255185, 9.61573881119536, 8.34283980427146, 8.525558107747866, 8.597297435657898, 8.846496938558838, 7.900266036767701, 9.372204086867741, 7.753623546559746, 9.60683200528524, 7.338238150065589, 9.210340371976184, 8.48879371689454, 8.744647438317532, 7.854381210652365, 9.123256265069069, 7.732369222284388, 8.087640287778983, 10.596609732783568, 8.699514748210191, 9.16303909885817, 7.9996785794994505, 8.430109084509125, 7.529943370601589, 8.978786553302003, 8.035602692918582, 8.334951631422454, 9.140239744296693, 8.217978203150732, 8.430109084509125, 7.79934339821592, 7.71289096149013, 8.987196820661973, 7.506591780070841, 10.854430887309706, 8.166784289056151, 8.649623978596727, 8.37655086161377, 8.159660737063376, 7.623153068476902, 8.615408238913192, 8.229511118964457, 7.75491027202143, 8.764053269347762, 7.557994958530806, 8.433811582477187, 10.429576102968031, 8.195609567288775, 10.575079070130357, 7.686162303492906, 7.776115477098742, 6.513230110912307, 9.140775908590273, 8.493924564476883, 9.392661928770137, 8.704999678440762, 8.257904193465674, 8.340694647925071, 8.047189562170502, 9.027978814382207, 7.553286605600419, 8.13622555490846, 9.305650551780507, 7.8632667240095735, 8.5016733797582, 8.292047637431354, 8.160518247477505, 8.27308133366583, 8.391176350832751, 8.084562415235304, 8.287780027088433, 7.8156105320351905, 8.136810863675537, 9.210340371976184, 8.140315540159985, 8.960210955576986, 8.648747631156539, 8.062432791583195, 8.25582842728183, 5.0106352940962555, 8.223358899479258, 8.517193191416238, 8.36240897761537, 7.7057128238944275, 8.296297112642508, 7.9966538754626075, 8.933004591578547, 8.740336742730447, 8.086410275323782, 8.462737005620179, 8.740336742730447, 8.467582690862903, 8.764053269347762, 7.820439515262181, 8.22040309993373, 8.067462667010057, 9.027978814382207, 8.056743774975313, 8.612503371220562, 8.656259239539235, 8.149890544402423, 8.245909264774093, 8.106212902619962, 8.66888370465667, 7.828038032125829, 7.994632311431825, 8.740336742730447, 8.133293861222633, 8.707813551024888, 9.1801903950253, 8.796036315200814, 7.966239776559467, 7.500529485395295, 7.419380582918692, 8.139440521874608, 7.8567067930958405, 7.886457270977689, 9.695848187757884, 8.03365842788615, 8.706986763048892, 8.565983355585669, 9.594445640962938, 8.503297086224126, 8.713253274320705, 7.630461261783627, 8.15507488781144, 8.881836305004146, 8.549853973655786, 8.31752199628717, 8.457018468380168, 8.374015421739909, 8.136810863675537, 7.964155718840937, 8.082402253926244, 9.318835968129482, 7.949091499830517, 7.8709295967551425, 8.268731832117737, 7.919356190660617, 8.292298107063221, 8.04012466444838, 9.587611745713565, 8.318742252692399, 8.307212626628308, 8.27563105457801, 7.741099090035366, 7.501634457883413, 9.936293504261306, 8.057694194815587, 7.8632667240095735, 8.21716859576607, 8.32457884513685, 9.159888828480085, 8.031060180240619, 8.389359819906353, 8.056109659545061, 8.597297435657898, 7.776115477098742, 8.392989587956931, 8.835646922534773, 8.448057452581375, 8.517193191416238, 7.607878073278507, 7.495541943884256, 7.963807953231451, 8.517193191416238, 7.393263094763838, 8.294049640102028, 7.600902459542082, 8.232706009860976, 7.783224016336037, 9.915070213779195, 8.944680683558895, 7.978310969867722, 7.9817332866918855, 7.826842098158293, 8.656259239539235, 7.813187267521416, 8.131236549696116, 8.220672170297252, 7.629489916393995, 8.172164452111904, 9.210340371976184, 7.783224016336037, 8.376090350438238, 8.188966863648876, 8.060224240440958, 9.615805480084347, 9.067162602299854, 8.50045386741194, 8.668711839055147, 8.374015421739909, 7.824046010856292, 8.385716828627851, 7.984462732262196, 7.949091499830517, 11.05622495553552, 9.193499354780156, 8.613048677059759, 8.565983355585669, 7.824046010856292, 7.512071245835466, 8.333270353255308, 7.881182202227102, 7.774015077250727, 8.423761246623686, 8.062432791583195, 7.8567067930958405, 7.823645930834952, 8.167068178341237, 8.03365842788615, 8.753529336516431, 7.872836175025724, 9.114159813502214, 9.07680897935166, 7.888334500738654, 8.612503371220562, 7.792761720816526, 8.246171559857563, 9.027978814382207, 8.262300941787448, 8.006367567650246, 8.550047528287184, 8.460199469896118, 8.517193191416238, 8.465899897028686, 8.0106915391303, 8.82790796297859, 8.734881892047483, 7.824046010856292, 8.541690663016626, 8.752265313595721, 9.889895599016661, 9.665166909622071, 8.553525120663627, 9.140239744296693, 8.026823576217629, 7.92443418488756, 8.479906606630221, 9.07680897935166, 8.368693183097793, 8.029107054619736, 8.592486175451668, 8.11162807830774, 8.689632748355741, 8.699514748210191, 8.877242435993919, 8.42639282708974, 8.207129168071326, 7.76046702921342, 8.009695357742922, 7.75491027202143, 8.610319169405722, 9.123365357961776, 9.159468041602427, 7.8567067930958405, 7.597396320212795, 8.039157390473237, 8.09437844497296, 8.064636475774222, 8.017307507688582, 8.269244521183056, 7.313220387090301, 7.968665700466235, 7.9211727215870145, 7.824046010856292, 7.5822291942764615, 8.914760527397261, 8.42222295382501, 7.681099001536359, 7.70210434005105, 9.02401079378469, 11.302204433654575, 8.260234291607297, 8.741296282225147, 8.715388097366482, 7.720017940432244, 7.67275789664251, 8.00469951054955, 7.8632667240095735, 7.3777589082278725, 6.932447891572509, 8.085178748074537, 8.67060073804555, 7.908387159290043, 7.506591780070841, 8.88875674784872, 9.607773308387083, 7.888334500738654, 8.43511508038063, 8.688622307043769, 7.979338895262328, 7.907283609426348, 9.06230429314878, 8.779557455883728, 9.463120392418698, 7.793586803371584, 8.229511118964457, 9.215029361462314, 7.563200592358071, 7.70210434005105, 9.251098364448351, 8.873748128154395, 8.205218426395412, 8.974744612722734, 8.456806041401142, 10.537919225261291, 8.9001399880938, 8.150756470275551, 8.445052513638554, 8.171599480345463, 8.113726085970747, 7.926241523170962, 7.744569809354496, 7.579678823090456, 8.280964400553373, 7.817222785508166, 8.865735152124781, 8.258163361537619, 8.366602832783736, 8.218247926685745, 8.378850241794492, 9.0280988119824, 7.641564441260972, 8.954156966583772, 8.011355109161286, 8.55468163582723, 8.334711621820917, 8.699514748210191, 7.988542982737695, 9.722684841711443, 5.3471075307174685, 8.374015421739909, 8.146129510025405, 7.88344635413774, 8.453401058328458, 7.824046010856292, 8.61830469278465, 9.712629664719888, 8.809862805379057, 7.96311205897929, 9.721185995542177, 7.988542982737695, 8.37793112408273, 8.037543185118697, 7.641564441260972, 9.290352309945568, 9.027978814382207, 7.579678823090456, 8.173857454773621, 9.816457993563025, 8.430109084509125, 7.79770203551669, 7.900636613018005, 8.581669210600602, 8.213652703029998, 9.756320761816548, 8.187855443695623, 8.109525659752872, 7.8632667240095735, 8.439231649946526, 7.970740390007095, 8.745602852402946, 6.4692503167957724, 8.058010800802085, 8.489821994620105, 8.306472160100585, 8.246433786160365, 8.163371316459912, 9.944293546928382, 8.183955717304954, 7.8156105320351905, 9.492658081928813, 8.188133414510478, 8.71028982137815, 8.096512917501594, 7.6638772587034705, 8.668196064952765, 8.150756470275551, 7.616283561580385, 8.03073492409854, 8.451694209183541, 8.131530710604252, 7.692569648067906, 7.824046010856292, 8.644178203170727, 8.980675603671708, 8.451053388911692, 9.769956159911606, 8.236155661683124, 8.572627898304338, 7.893198869544609, 8.82217476094608, 6.932447891572509, 8.361941906144946, 8.185350223178686, 9.328123407632566, 9.807251944655302, 7.843848638152472, 8.721439305625983, 8.193400231952097, 7.978310969867722, 8.766705997750515, 8.435549202375727, 7.6676260915849905, 8.20303024171486, 7.713784616598755, 8.012018239159062, 7.92588031673756, 8.119100837637486, 7.8343923029104365, 8.517193191416238, 7.932003152361385, 8.799812469525556, 7.820840879907344, 8.11162807830774, 7.805474625270857, 8.186742787113518, 8.60666819784384, 7.888709524182015, 9.22414465295258, 8.265392930852224, 8.338066525518801, 8.209308411646937, 9.877348894926433, 8.686598356276965, 8.66561319653451, 9.08239335764556, 8.404472321352118, 8.11162807830774, 8.131530710604252, 7.774015077250727, 8.060224240440958, 8.136518252115291, 8.540128162698734, 9.721125994942152, 8.720134035412928, 8.764990330169104, 8.058010800802085, 8.034955024502159, 8.079927770758275, 7.485491608030754, 8.065265208897733, 8.785692444451245, 7.515344571180436, 8.060224240440958, 7.539027055823995, 7.932721027481948, 8.36240897761537, 7.739359202689098, 7.68017564043659, 8.465899897028686, 7.9105906122564775, 8.006367567650246, 8.699514748210191, 9.143880005275912, 8.258163361537619, 9.68781601606062, 8.251403065380556, 8.761393485256058, 8.00202481821611, 9.206633510044856, 8.662158961666423, 6.030685260261263, 7.970394907191429, 8.648747631156539, 8.209580483475577, 9.392661928770137, 7.783224016336037, 8.131530710604252, 8.290794347381356, 8.080856419640986, 7.9724660159745655, 8.32020459757888, 8.996156562033445, 8.933664178700935, 8.430109084509125], \"xaxis\": \"x\", \"y\": [8.674025985443025, 8.430109084509125, 8.006367567650246, 7.8567067930958405, 8.699514748210191, 8.597297435657898, 7.75491027202143, 8.01829613851552, 8.295548516225763, 9.460398455831275, 8.070906088787819, 7.824046010856292, 8.030409562130485, 7.52456122628536, 7.1693500166706, 8.507142855562735, 8.18757739559151, 8.163371316459912, 8.494333897270154, 7.8632667240095735, 8.943767262734637, 8.691986481789401, 7.8632667240095735, 8.121183242078828, 8.220672170297252, 9.165343006045447, 7.937017489515454, 8.349011198176003, 7.273786317844895, 8.229511118964457, 8.334711621820917, 8.06054004653864, 8.453614209773367, 8.160518247477505, 9.433483923290392, 7.729735331385051, 7.510977752014095, 8.207129168071326, 8.334711621820917, 8.228977643358313, 8.1886891244442, 7.495541943884256, 7.783224016336037, 8.279189777195004, 8.454253391642363, 8.134467570277563, 8.639233817325263, 8.669227347271736, 7.8804263442924, 8.294049640102028, 7.564238475170491, 8.034631032923107, 8.349957272040324, 8.437283808187935, 9.350102314351341, 7.903965634032166, 7.664815785285735, 8.121480374750751, 8.997147151515142, 8.118802996980035, 7.824046010856292, 8.015987811027237, 7.866722285136729, 8.506132244056813, 8.334711621820917, 8.65277248565806, 8.070906088787819, 9.28266103355581, 8.867850063029406, 8.366370301681654, 8.073402968986406, 7.536363938404511, 8.160518247477505, 8.46695197497949, 8.569026340056254, 8.229511118964457, 8.229511118964457, 6.907755278982137, 8.06054004653864, 8.11162807830774, 8.254788926148725, 7.781138509845015, 7.228388451573604, 8.699514748210191, 8.291045131081729, 7.768956044538332, 8.11162807830774, 7.824046010856292, 9.055556158175316, 8.647343875881283, 7.992268643270745, 8.740336742730447, 8.09346227450118, 8.326758814511733, 8.194229304819817, 8.822027322685583, 7.81762544305337, 7.589335823170617, 8.339978571990427, 7.472500744737558, 8.363575702750637, 8.48528964240323, 9.521494800613105, 8.445052513638554, 8.246958032568177, 8.023552392404348, 9.342858751676328, 8.9001399880938, 8.242756345714477, 7.635786861395585, 8.578476419833136, 7.982416346827733, 8.18088094199639, 8.916103530553727, 8.527143522269405, 9.587611745713565, 8.06054004653864, 7.7025561132685825, 8.624791202014256, 9.250330020192342, 8.64241515616962, 8.334711621820917, 7.667158255319148, 7.9919305198524775, 8.366370301681654, 8.213923595622743, 10.077566902136047, 8.259716961021523, 9.26036786557583, 8.712759974960212, 9.91175329695316, 7.607878073278507, 7.907651594711089, 8.148734808937169, 8.49596955496461, 8.294049640102028, 8.430109084509125, 8.106514516255185, 9.61573881119536, 8.34283980427146, 8.525558107747866, 8.597297435657898, 8.846496938558838, 7.900266036767701, 9.372204086867741, 7.753623546559746, 9.60683200528524, 7.338238150065589, 9.210340371976184, 8.48879371689454, 8.744647438317532, 7.854381210652365, 9.123256265069069, 7.732369222284388, 8.087640287778983, 10.596609732783568, 8.699514748210191, 9.16303909885817, 7.9996785794994505, 8.430109084509125, 7.529943370601589, 8.978786553302003, 8.035602692918582, 8.334951631422454, 9.140239744296693, 8.217978203150732, 8.430109084509125, 7.79934339821592, 7.71289096149013, 8.987196820661973, 7.506591780070841, 10.854430887309706, 8.166784289056151, 8.649623978596727, 8.37655086161377, 8.159660737063376, 7.623153068476902, 8.615408238913192, 8.229511118964457, 7.75491027202143, 8.764053269347762, 7.557994958530806, 8.433811582477187, 10.429576102968031, 8.195609567288775, 10.575079070130357, 7.686162303492906, 7.776115477098742, 6.513230110912307, 9.140775908590273, 8.493924564476883, 9.392661928770137, 8.704999678440762, 8.257904193465674, 8.340694647925071, 8.047189562170502, 9.027978814382207, 7.553286605600419, 8.13622555490846, 9.305650551780507, 7.8632667240095735, 8.5016733797582, 8.292047637431354, 8.160518247477505, 8.27308133366583, 8.391176350832751, 8.084562415235304, 8.287780027088433, 7.8156105320351905, 8.136810863675537, 9.210340371976184, 8.140315540159985, 8.960210955576986, 8.648747631156539, 8.062432791583195, 8.25582842728183, 5.0106352940962555, 8.223358899479258, 8.517193191416238, 8.36240897761537, 7.7057128238944275, 8.296297112642508, 7.9966538754626075, 8.933004591578547, 8.740336742730447, 8.086410275323782, 8.462737005620179, 8.740336742730447, 8.467582690862903, 8.764053269347762, 7.820439515262181, 8.22040309993373, 8.067462667010057, 9.027978814382207, 8.056743774975313, 8.612503371220562, 8.656259239539235, 8.149890544402423, 8.245909264774093, 8.106212902619962, 8.66888370465667, 7.828038032125829, 7.994632311431825, 8.740336742730447, 8.133293861222633, 8.707813551024888, 9.1801903950253, 8.796036315200814, 7.966239776559467, 7.500529485395295, 7.419380582918692, 8.139440521874608, 7.8567067930958405, 7.886457270977689, 9.695848187757884, 8.03365842788615, 8.706986763048892, 8.565983355585669, 9.594445640962938, 8.503297086224126, 8.713253274320705, 7.630461261783627, 8.15507488781144, 8.881836305004146, 8.549853973655786, 8.31752199628717, 8.457018468380168, 8.374015421739909, 8.136810863675537, 7.964155718840937, 8.082402253926244, 9.318835968129482, 7.949091499830517, 7.8709295967551425, 8.268731832117737, 7.919356190660617, 8.292298107063221, 8.04012466444838, 9.587611745713565, 8.318742252692399, 8.307212626628308, 8.27563105457801, 7.741099090035366, 7.501634457883413, 9.936293504261306, 8.057694194815587, 7.8632667240095735, 8.21716859576607, 8.32457884513685, 9.159888828480085, 8.031060180240619, 8.389359819906353, 8.056109659545061, 8.597297435657898, 7.776115477098742, 8.392989587956931, 8.835646922534773, 8.448057452581375, 8.517193191416238, 7.607878073278507, 7.495541943884256, 7.963807953231451, 8.517193191416238, 7.393263094763838, 8.294049640102028, 7.600902459542082, 8.232706009860976, 7.783224016336037, 9.915070213779195, 8.944680683558895, 7.978310969867722, 7.9817332866918855, 7.826842098158293, 8.656259239539235, 7.813187267521416, 8.131236549696116, 8.220672170297252, 7.629489916393995, 8.172164452111904, 9.210340371976184, 7.783224016336037, 8.376090350438238, 8.188966863648876, 8.060224240440958, 9.615805480084347, 9.067162602299854, 8.50045386741194, 8.668711839055147, 8.374015421739909, 7.824046010856292, 8.385716828627851, 7.984462732262196, 7.949091499830517, 11.05622495553552, 9.193499354780156, 8.613048677059759, 8.565983355585669, 7.824046010856292, 7.512071245835466, 8.333270353255308, 7.881182202227102, 7.774015077250727, 8.423761246623686, 8.062432791583195, 7.8567067930958405, 7.823645930834952, 8.167068178341237, 8.03365842788615, 8.753529336516431, 7.872836175025724, 9.114159813502214, 9.07680897935166, 7.888334500738654, 8.612503371220562, 7.792761720816526, 8.246171559857563, 9.027978814382207, 8.262300941787448, 8.006367567650246, 8.550047528287184, 8.460199469896118, 8.517193191416238, 8.465899897028686, 8.0106915391303, 8.82790796297859, 8.734881892047483, 7.824046010856292, 8.541690663016626, 8.752265313595721, 9.889895599016661, 9.665166909622071, 8.553525120663627, 9.140239744296693, 8.026823576217629, 7.92443418488756, 8.479906606630221, 9.07680897935166, 8.368693183097793, 8.029107054619736, 8.592486175451668, 8.11162807830774, 8.689632748355741, 8.699514748210191, 8.877242435993919, 8.42639282708974, 8.207129168071326, 7.76046702921342, 8.009695357742922, 7.75491027202143, 8.610319169405722, 9.123365357961776, 9.159468041602427, 7.8567067930958405, 7.597396320212795, 8.039157390473237, 8.09437844497296, 8.064636475774222, 8.017307507688582, 8.269244521183056, 7.313220387090301, 7.968665700466235, 7.9211727215870145, 7.824046010856292, 7.5822291942764615, 8.914760527397261, 8.42222295382501, 7.681099001536359, 7.70210434005105, 9.02401079378469, 11.302204433654575, 8.260234291607297, 8.741296282225147, 8.715388097366482, 7.720017940432244, 7.67275789664251, 8.00469951054955, 7.8632667240095735, 7.3777589082278725, 6.932447891572509, 8.085178748074537, 8.67060073804555, 7.908387159290043, 7.506591780070841, 8.88875674784872, 9.607773308387083, 7.888334500738654, 8.43511508038063, 8.688622307043769, 7.979338895262328, 7.907283609426348, 9.06230429314878, 8.779557455883728, 9.463120392418698, 7.793586803371584, 8.229511118964457, 9.215029361462314, 7.563200592358071, 7.70210434005105, 9.251098364448351, 8.873748128154395, 8.205218426395412, 8.974744612722734, 8.456806041401142, 10.537919225261291, 8.9001399880938, 8.150756470275551, 8.445052513638554, 8.171599480345463, 8.113726085970747, 7.926241523170962, 7.744569809354496, 7.579678823090456, 8.280964400553373, 7.817222785508166, 8.865735152124781, 8.258163361537619, 8.366602832783736, 8.218247926685745, 8.378850241794492, 9.0280988119824, 7.641564441260972, 8.954156966583772, 8.011355109161286, 8.55468163582723, 8.334711621820917, 8.699514748210191, 7.988542982737695, 9.722684841711443, 5.3471075307174685, 8.374015421739909, 8.146129510025405, 7.88344635413774, 8.453401058328458, 7.824046010856292, 8.61830469278465, 9.712629664719888, 8.809862805379057, 7.96311205897929, 9.721185995542177, 7.988542982737695, 8.37793112408273, 8.037543185118697, 7.641564441260972, 9.290352309945568, 9.027978814382207, 7.579678823090456, 8.173857454773621, 9.816457993563025, 8.430109084509125, 7.79770203551669, 7.900636613018005, 8.581669210600602, 8.213652703029998, 9.756320761816548, 8.187855443695623, 8.109525659752872, 7.8632667240095735, 8.439231649946526, 7.970740390007095, 8.745602852402946, 6.4692503167957724, 8.058010800802085, 8.489821994620105, 8.306472160100585, 8.246433786160365, 8.163371316459912, 9.944293546928382, 8.183955717304954, 7.8156105320351905, 9.492658081928813, 8.188133414510478, 8.71028982137815, 8.096512917501594, 7.6638772587034705, 8.668196064952765, 8.150756470275551, 7.616283561580385, 8.03073492409854, 8.451694209183541, 8.131530710604252, 7.692569648067906, 7.824046010856292, 8.644178203170727, 8.980675603671708, 8.451053388911692, 9.769956159911606, 8.236155661683124, 8.572627898304338, 7.893198869544609, 8.82217476094608, 6.932447891572509, 8.361941906144946, 8.185350223178686, 9.328123407632566, 9.807251944655302, 7.843848638152472, 8.721439305625983, 8.193400231952097, 7.978310969867722, 8.766705997750515, 8.435549202375727, 7.6676260915849905, 8.20303024171486, 7.713784616598755, 8.012018239159062, 7.92588031673756, 8.119100837637486, 7.8343923029104365, 8.517193191416238, 7.932003152361385, 8.799812469525556, 7.820840879907344, 8.11162807830774, 7.805474625270857, 8.186742787113518, 8.60666819784384, 7.888709524182015, 9.22414465295258, 8.265392930852224, 8.338066525518801, 8.209308411646937, 9.877348894926433, 8.686598356276965, 8.66561319653451, 9.08239335764556, 8.404472321352118, 8.11162807830774, 8.131530710604252, 7.774015077250727, 8.060224240440958, 8.136518252115291, 8.540128162698734, 9.721125994942152, 8.720134035412928, 8.764990330169104, 8.058010800802085, 8.034955024502159, 8.079927770758275, 7.485491608030754, 8.065265208897733, 8.785692444451245, 7.515344571180436, 8.060224240440958, 7.539027055823995, 7.932721027481948, 8.36240897761537, 7.739359202689098, 7.68017564043659, 8.465899897028686, 7.9105906122564775, 8.006367567650246, 8.699514748210191, 9.143880005275912, 8.258163361537619, 9.68781601606062, 8.251403065380556, 8.761393485256058, 8.00202481821611, 9.206633510044856, 8.662158961666423, 6.030685260261263, 7.970394907191429, 8.648747631156539, 8.209580483475577, 9.392661928770137, 7.783224016336037, 8.131530710604252, 8.290794347381356, 8.080856419640986, 7.9724660159745655, 8.32020459757888, 8.996156562033445, 8.933664178700935, 8.430109084509125], \"yaxis\": \"y\"}],                        {\"barmode\": \"relative\", \"legend\": {\"tracegroupgap\": 0}, \"margin\": {\"t\": 60}, \"template\": {\"data\": {\"bar\": [{\"error_x\": {\"color\": \"#2a3f5f\"}, \"error_y\": {\"color\": \"#2a3f5f\"}, \"marker\": {\"line\": {\"color\": \"#E5ECF6\", \"width\": 0.5}}, \"type\": \"bar\"}], \"barpolar\": [{\"marker\": {\"line\": {\"color\": \"#E5ECF6\", \"width\": 0.5}}, \"type\": \"barpolar\"}], \"carpet\": [{\"aaxis\": {\"endlinecolor\": \"#2a3f5f\", \"gridcolor\": \"white\", \"linecolor\": \"white\", \"minorgridcolor\": \"white\", \"startlinecolor\": \"#2a3f5f\"}, \"baxis\": {\"endlinecolor\": \"#2a3f5f\", \"gridcolor\": \"white\", \"linecolor\": \"white\", \"minorgridcolor\": \"white\", \"startlinecolor\": \"#2a3f5f\"}, \"type\": \"carpet\"}], \"choropleth\": [{\"colorbar\": {\"outlinewidth\": 0, \"ticks\": \"\"}, \"type\": \"choropleth\"}], \"contour\": [{\"colorbar\": {\"outlinewidth\": 0, \"ticks\": \"\"}, \"colorscale\": [[0.0, \"#0d0887\"], [0.1111111111111111, \"#46039f\"], [0.2222222222222222, \"#7201a8\"], [0.3333333333333333, \"#9c179e\"], [0.4444444444444444, \"#bd3786\"], [0.5555555555555556, \"#d8576b\"], [0.6666666666666666, \"#ed7953\"], [0.7777777777777778, \"#fb9f3a\"], [0.8888888888888888, \"#fdca26\"], [1.0, \"#f0f921\"]], \"type\": \"contour\"}], \"contourcarpet\": [{\"colorbar\": {\"outlinewidth\": 0, \"ticks\": \"\"}, \"type\": \"contourcarpet\"}], \"heatmap\": [{\"colorbar\": {\"outlinewidth\": 0, \"ticks\": \"\"}, \"colorscale\": [[0.0, \"#0d0887\"], [0.1111111111111111, \"#46039f\"], [0.2222222222222222, \"#7201a8\"], [0.3333333333333333, \"#9c179e\"], [0.4444444444444444, \"#bd3786\"], [0.5555555555555556, \"#d8576b\"], [0.6666666666666666, \"#ed7953\"], [0.7777777777777778, \"#fb9f3a\"], [0.8888888888888888, \"#fdca26\"], [1.0, \"#f0f921\"]], \"type\": \"heatmap\"}], \"heatmapgl\": [{\"colorbar\": {\"outlinewidth\": 0, \"ticks\": \"\"}, \"colorscale\": [[0.0, \"#0d0887\"], [0.1111111111111111, \"#46039f\"], [0.2222222222222222, \"#7201a8\"], [0.3333333333333333, \"#9c179e\"], [0.4444444444444444, \"#bd3786\"], [0.5555555555555556, \"#d8576b\"], [0.6666666666666666, \"#ed7953\"], [0.7777777777777778, \"#fb9f3a\"], [0.8888888888888888, \"#fdca26\"], [1.0, \"#f0f921\"]], \"type\": \"heatmapgl\"}], \"histogram\": [{\"marker\": {\"colorbar\": {\"outlinewidth\": 0, \"ticks\": \"\"}}, \"type\": \"histogram\"}], \"histogram2d\": [{\"colorbar\": {\"outlinewidth\": 0, \"ticks\": \"\"}, \"colorscale\": [[0.0, \"#0d0887\"], [0.1111111111111111, \"#46039f\"], [0.2222222222222222, \"#7201a8\"], [0.3333333333333333, \"#9c179e\"], [0.4444444444444444, \"#bd3786\"], [0.5555555555555556, \"#d8576b\"], [0.6666666666666666, \"#ed7953\"], [0.7777777777777778, \"#fb9f3a\"], [0.8888888888888888, \"#fdca26\"], [1.0, \"#f0f921\"]], \"type\": \"histogram2d\"}], \"histogram2dcontour\": [{\"colorbar\": {\"outlinewidth\": 0, \"ticks\": \"\"}, \"colorscale\": [[0.0, \"#0d0887\"], [0.1111111111111111, \"#46039f\"], [0.2222222222222222, \"#7201a8\"], [0.3333333333333333, \"#9c179e\"], [0.4444444444444444, \"#bd3786\"], [0.5555555555555556, \"#d8576b\"], [0.6666666666666666, \"#ed7953\"], [0.7777777777777778, \"#fb9f3a\"], [0.8888888888888888, \"#fdca26\"], [1.0, \"#f0f921\"]], \"type\": \"histogram2dcontour\"}], \"mesh3d\": [{\"colorbar\": {\"outlinewidth\": 0, \"ticks\": \"\"}, \"type\": \"mesh3d\"}], \"parcoords\": [{\"line\": {\"colorbar\": {\"outlinewidth\": 0, \"ticks\": \"\"}}, \"type\": \"parcoords\"}], \"pie\": [{\"automargin\": true, \"type\": \"pie\"}], \"scatter\": [{\"marker\": {\"colorbar\": {\"outlinewidth\": 0, \"ticks\": \"\"}}, \"type\": \"scatter\"}], \"scatter3d\": [{\"line\": {\"colorbar\": {\"outlinewidth\": 0, \"ticks\": \"\"}}, \"marker\": {\"colorbar\": {\"outlinewidth\": 0, \"ticks\": \"\"}}, \"type\": \"scatter3d\"}], \"scattercarpet\": [{\"marker\": {\"colorbar\": {\"outlinewidth\": 0, \"ticks\": \"\"}}, \"type\": \"scattercarpet\"}], \"scattergeo\": [{\"marker\": {\"colorbar\": {\"outlinewidth\": 0, \"ticks\": \"\"}}, \"type\": \"scattergeo\"}], \"scattergl\": [{\"marker\": {\"colorbar\": {\"outlinewidth\": 0, \"ticks\": \"\"}}, \"type\": \"scattergl\"}], \"scattermapbox\": [{\"marker\": {\"colorbar\": {\"outlinewidth\": 0, \"ticks\": \"\"}}, \"type\": \"scattermapbox\"}], \"scatterpolar\": [{\"marker\": {\"colorbar\": {\"outlinewidth\": 0, \"ticks\": \"\"}}, \"type\": \"scatterpolar\"}], \"scatterpolargl\": [{\"marker\": {\"colorbar\": {\"outlinewidth\": 0, \"ticks\": \"\"}}, \"type\": \"scatterpolargl\"}], \"scatterternary\": [{\"marker\": {\"colorbar\": {\"outlinewidth\": 0, \"ticks\": \"\"}}, \"type\": \"scatterternary\"}], \"surface\": [{\"colorbar\": {\"outlinewidth\": 0, \"ticks\": \"\"}, \"colorscale\": [[0.0, \"#0d0887\"], [0.1111111111111111, \"#46039f\"], [0.2222222222222222, \"#7201a8\"], [0.3333333333333333, \"#9c179e\"], [0.4444444444444444, \"#bd3786\"], [0.5555555555555556, \"#d8576b\"], [0.6666666666666666, \"#ed7953\"], [0.7777777777777778, \"#fb9f3a\"], [0.8888888888888888, \"#fdca26\"], [1.0, \"#f0f921\"]], \"type\": \"surface\"}], \"table\": [{\"cells\": {\"fill\": {\"color\": \"#EBF0F8\"}, \"line\": {\"color\": \"white\"}}, \"header\": {\"fill\": {\"color\": \"#C8D4E3\"}, \"line\": {\"color\": \"white\"}}, \"type\": \"table\"}]}, \"layout\": {\"annotationdefaults\": {\"arrowcolor\": \"#2a3f5f\", \"arrowhead\": 0, \"arrowwidth\": 1}, \"coloraxis\": {\"colorbar\": {\"outlinewidth\": 0, \"ticks\": \"\"}}, \"colorscale\": {\"diverging\": [[0, \"#8e0152\"], [0.1, \"#c51b7d\"], [0.2, \"#de77ae\"], [0.3, \"#f1b6da\"], [0.4, \"#fde0ef\"], [0.5, \"#f7f7f7\"], [0.6, \"#e6f5d0\"], [0.7, \"#b8e186\"], [0.8, \"#7fbc41\"], [0.9, \"#4d9221\"], [1, \"#276419\"]], \"sequential\": [[0.0, \"#0d0887\"], [0.1111111111111111, \"#46039f\"], [0.2222222222222222, \"#7201a8\"], [0.3333333333333333, \"#9c179e\"], [0.4444444444444444, \"#bd3786\"], [0.5555555555555556, \"#d8576b\"], [0.6666666666666666, \"#ed7953\"], [0.7777777777777778, \"#fb9f3a\"], [0.8888888888888888, \"#fdca26\"], [1.0, \"#f0f921\"]], \"sequentialminus\": [[0.0, \"#0d0887\"], [0.1111111111111111, \"#46039f\"], [0.2222222222222222, \"#7201a8\"], [0.3333333333333333, \"#9c179e\"], [0.4444444444444444, \"#bd3786\"], [0.5555555555555556, \"#d8576b\"], [0.6666666666666666, \"#ed7953\"], [0.7777777777777778, \"#fb9f3a\"], [0.8888888888888888, \"#fdca26\"], [1.0, \"#f0f921\"]]}, \"colorway\": [\"#636efa\", \"#EF553B\", \"#00cc96\", \"#ab63fa\", \"#FFA15A\", \"#19d3f3\", \"#FF6692\", \"#B6E880\", \"#FF97FF\", \"#FECB52\"], \"font\": {\"color\": \"#2a3f5f\"}, \"geo\": {\"bgcolor\": \"white\", \"lakecolor\": \"white\", \"landcolor\": \"#E5ECF6\", \"showlakes\": true, \"showland\": true, \"subunitcolor\": \"white\"}, \"hoverlabel\": {\"align\": \"left\"}, \"hovermode\": \"closest\", \"mapbox\": {\"style\": \"light\"}, \"paper_bgcolor\": \"white\", \"plot_bgcolor\": \"#E5ECF6\", \"polar\": {\"angularaxis\": {\"gridcolor\": \"white\", \"linecolor\": \"white\", \"ticks\": \"\"}, \"bgcolor\": \"#E5ECF6\", \"radialaxis\": {\"gridcolor\": \"white\", \"linecolor\": \"white\", \"ticks\": \"\"}}, \"scene\": {\"xaxis\": {\"backgroundcolor\": \"#E5ECF6\", \"gridcolor\": \"white\", \"gridwidth\": 2, \"linecolor\": \"white\", \"showbackground\": true, \"ticks\": \"\", \"zerolinecolor\": \"white\"}, \"yaxis\": {\"backgroundcolor\": \"#E5ECF6\", \"gridcolor\": \"white\", \"gridwidth\": 2, \"linecolor\": \"white\", \"showbackground\": true, \"ticks\": \"\", \"zerolinecolor\": \"white\"}, \"zaxis\": {\"backgroundcolor\": \"#E5ECF6\", \"gridcolor\": \"white\", \"gridwidth\": 2, \"linecolor\": \"white\", \"showbackground\": true, \"ticks\": \"\", \"zerolinecolor\": \"white\"}}, \"shapedefaults\": {\"line\": {\"color\": \"#2a3f5f\"}}, \"ternary\": {\"aaxis\": {\"gridcolor\": \"white\", \"linecolor\": \"white\", \"ticks\": \"\"}, \"baxis\": {\"gridcolor\": \"white\", \"linecolor\": \"white\", \"ticks\": \"\"}, \"bgcolor\": \"#E5ECF6\", \"caxis\": {\"gridcolor\": \"white\", \"linecolor\": \"white\", \"ticks\": \"\"}}, \"title\": {\"x\": 0.05}, \"xaxis\": {\"automargin\": true, \"gridcolor\": \"white\", \"linecolor\": \"white\", \"ticks\": \"\", \"title\": {\"standoff\": 15}, \"zerolinecolor\": \"white\", \"zerolinewidth\": 2}, \"yaxis\": {\"automargin\": true, \"gridcolor\": \"white\", \"linecolor\": \"white\", \"ticks\": \"\", \"title\": {\"standoff\": 15}, \"zerolinecolor\": \"white\", \"zerolinewidth\": 2}}}, \"title\": {\"text\": \"ApplicantIncome\"}, \"xaxis\": {\"anchor\": \"y\", \"domain\": [0.0, 1.0], \"title\": {\"text\": \"ApplicantIncome\"}}, \"yaxis\": {\"anchor\": \"x\", \"domain\": [0.0, 1.0], \"title\": {\"text\": \"sum of ApplicantIncome\"}}},                        {\"responsive\": true}                    ).then(function(){\n",
       "                            \n",
       "var gd = document.getElementById('e8580a50-5c9e-4033-a527-27549e4338d0');\n",
       "var x = new MutationObserver(function (mutations, observer) {{\n",
       "        var display = window.getComputedStyle(gd).display;\n",
       "        if (!display || display === 'none') {{\n",
       "            console.log([gd, 'removed!']);\n",
       "            Plotly.purge(gd);\n",
       "            observer.disconnect();\n",
       "        }}\n",
       "}});\n",
       "\n",
       "// Listen for the removal of the full notebook cells\n",
       "var notebookContainer = gd.closest('#notebook-container');\n",
       "if (notebookContainer) {{\n",
       "    x.observe(notebookContainer, {childList: true});\n",
       "}}\n",
       "\n",
       "// Listen for the clearing of the current output cell\n",
       "var outputEl = gd.closest('.output');\n",
       "if (outputEl) {{\n",
       "    x.observe(outputEl, {childList: true});\n",
       "}}\n",
       "\n",
       "                        })                };                });            </script>        </div>"
      ]
     },
     "metadata": {},
     "output_type": "display_data"
    },
    {
     "data": {
      "text/html": [
       "<div>                            <div id=\"84da78c8-e059-45e6-938a-917e12d82f76\" class=\"plotly-graph-div\" style=\"height:525px; width:100%;\"></div>            <script type=\"text/javascript\">                require([\"plotly\"], function(Plotly) {                    window.PLOTLYENV=window.PLOTLYENV || {};                                    if (document.getElementById(\"84da78c8-e059-45e6-938a-917e12d82f76\")) {                    Plotly.newPlot(                        \"84da78c8-e059-45e6-938a-917e12d82f76\",                        [{\"alignmentgroup\": \"True\", \"bingroup\": \"x\", \"histfunc\": \"sum\", \"hovertemplate\": \"CoapplicantIncome=%{x}<br>sum of CoapplicantIncome=%{y}<extra></extra>\", \"legendgroup\": \"\", \"marker\": {\"color\": \"#636efa\"}, \"name\": \"\", \"offsetgroup\": \"\", \"orientation\": \"v\", \"showlegend\": false, \"type\": \"histogram\", \"x\": [0.0, 7.318539548567902, 0.0, 7.765569081097317, 0.0, 8.341886969516187, 7.323830566202317, 7.825644732219989, 7.330405211844402, 9.30273722124215, 6.551080335043404, 7.517520850603031, 9.000359807188254, 7.951559331155252, 6.990256500493881, 0.0, 0.0, 0.0, 0.0, 8.160518247477505, 0.0, 8.63497622707262, 7.555381944240273, 7.558516743045645, 7.981049759665957, 0.0, 7.720017940432244, 6.946975992135418, 0.0, 7.641564441260972, 8.122371243406553, 0.0, 0.0, 7.418780882750794, 8.006367567650246, 7.633853559681768, 7.1929342212158, 7.285506548522785, 8.883224230278994, 7.419380582918692, 0.0, 7.10085190894405, 0.0, 7.756195343948118, 0.0, 0.0, 0.0, 0.0, 8.143226750367445, 7.729735331385051, 7.404887575616125, 0.0, 0.0, 0.0, 0.0, 7.062191632286556, 7.372118028337787, 7.696212639346407, 7.718685495198466, 7.958227192322312, 8.241703159729818, 0.0, 8.145839612936841, 0.0, 0.0, 8.432724034789787, 7.720461694599722, 0.0, 0.0, 0.0, 8.028129059431759, 7.536363938404511, 0.0, 0.0, 7.480992162869525, 0.0, 8.465899897028686, 8.013674142832684, 8.294049640102028, 7.680637427560936, 0.0, 0.0, 7.53955882930103, 7.718685495198466, 0.0, 7.836369760545124, 7.600902459542082, 7.658227526161352, 0.0, 8.334951631422454, 7.9724660159745655, 8.640118538253535, 7.506591780070841, 0.0, 0.0, 0.0, 7.741533589281828, 6.904750769961838, 0.0, 8.172164452111904, 8.09040229659332, 8.244334047856094, 0.0, 8.183955717304954, 6.625392368007956, 6.937314081223682, 7.026426808699636, 0.0, 8.1886891244442, 6.625392368007956, 0.0, 7.75491027202143, 8.322151070212902, 0.0, 0.0, 0.0, 7.733245646529795, 7.242797922793756, 7.669495251007694, 0.0, 7.888709524182015, 0.0, 9.102755161296246, 0.0, 7.607878073278507, 0.0, 0.0, 7.402451520818244, 8.25582842728183, 7.851271997109883, 0.0, 7.564757012905729, 0.0, 0.0, 0.0, 8.955448122347393, 0.0, 8.160518247477505, 0.0, 7.265429723253953, 7.641564441260972, 0.0, 0.0, 7.617759576608505, 0.0, 8.408716715080153, 0.0, 7.261927092702751, 7.418180822726788, 6.721425700790643, 0.0, 8.229511118964457, 0.0, 0.0, 0.0, 0.0, 0.0, 0.0, 7.641564441260972, 8.63497622707262, 6.947937068614969, 0.0, 7.154615356913663, 7.277247726631484, 0.0, 8.060224240440958, 0.0, 8.11162807830774, 0.0, 0.0, 7.478169694159785, 0.0, 0.0, 8.63497622707262, 6.601230118728877, 7.582738488914411, 7.389563953677635, 9.332558004700433, 0.0, 7.280008252884188, 8.88875674784872, 8.529714471969909, 0.0, 0.0, 0.0, 8.465899897028686, 0.0, 7.6676260915849905, 8.574707097616844, 0.0, 0.0, 0.0, 0.0, 0.0, 0.0, 7.8567067930958405, 8.229511118964457, 7.768533300926033, 7.943072717277933, 0.0, 7.824046010856292, 0.0, 0.0, 6.9874902470009905, 0.0, 0.0, 0.0, 7.836369760545124, 0.0, 0.0, 0.0, 7.1308988302963465, 0.0, 0.0, 8.013343181386672, 6.890609120147166, 7.495541943884256, 7.4815557019095165, 0.0, 7.776115477098742, 0.0, 7.448333860897476, 7.934155233536322, 6.917705609835305, 0.0, 0.0, 0.0, 7.43543801981455, 0.0, 0.0, 7.627544390488503, 0.0, 7.862497197230545, 0.0, 7.483806687665835, 7.138866999945524, 0.0, 0.0, 0.0, 0.0, 8.517193191416238, 7.592366128519796, 8.648396877031582, 7.170119543449628, 8.393216011596527, 8.374015421739909, 0.0, 0.0, 7.519149957669823, 7.532623618788788, 8.266164436612492, 0.0, 7.681099001536359, 8.867990898182093, 0.0, 0.0, 0.0, 0.0, 7.649692623711514, 0.0, 8.354674261918463, 7.700295203420117, 0.0, 0.0, 0.0, 8.145259566516865, 7.234898420314831, 7.501634457883413, 0.0, 7.352441100243583, 0.0, 0.0, 7.526717561352706, 7.706612913964197, 0.0, 7.518607216815252, 8.09376775793108, 7.170119543449628, 0.0, 0.0, 7.793999089503996, 6.684611727667927, 6.893453481895541, 7.418180822726788, 0.0, 8.023879992734878, 7.448333860897476, 7.600902459542082, 0.0, 0.0, 7.789868559054706, 0.0, 7.352441100243583, 0.0, 8.111928063310739, 7.1308988302963465, 0.0, 0.0, 7.840312983320164, 7.981049759665957, 7.984121958702927, 7.4673710669175595, 0.0, 7.497207223203318, 7.824046010856292, 0.0, 7.418180822726788, 7.529943370601589, 0.0, 0.0, 0.0, 7.785305182539862, 0.0, 0.0, 7.519149957669823, 7.402451520818244, 0.0, 7.665753431861699, 0.0, 0.0, 7.681099001536359, 5.241747015059643, 7.371489295214277, 8.001355025826703, 0.0, 8.513787398281405, 0.0, 7.67786350067821, 7.804251383528112, 0.0, 7.491645473605133, 0.0, 0.0, 0.0, 7.513709247839705, 8.4096079807363, 6.5337888379333435, 8.433811582477187, 0.0, 0.0, 7.369600720526409, 0.0, 7.113956109566034, 0.0, 7.753623546559746, 7.80710329012598, 8.080237416216702, 7.681560362559537, 8.430109084509125, 8.740336742730447, 0.0, 8.334951631422454, 7.641564441260972, 0.0, 6.22455842927536, 0.0, 8.06054004653864, 0.0, 7.418180822726788, 8.06054004653864, 0.0, 8.207129168071326, 7.75491027202143, 8.017307507688582, 0.0, 0.0, 0.0, 0.0, 0.0, 8.569026340056254, 0.0, 0.0, 8.971194463184467, 7.594381242551817, 7.285506548522785, 6.827629234502852, 8.516392871245468, 0.0, 0.0, 0.0, 7.824046010856292, 8.350429973538136, 0.0, 0.0, 0.0, 0.0, 7.3777589082278725, 8.0507033814703, 7.790282380703483, 0.0, 0.0, 0.0, 7.656810091480378, 7.393263094763838, 7.24422751560335, 6.182084906716632, 0.0, 7.285506548522785, 7.418180822726788, 7.495541943884256, 0.0, 0.0, 9.903487552536127, 0.0, 0.0, 0.0, 7.783224016336037, 0.0, 0.0, 0.0, 0.0, 0.0, 0.0, 7.617267813628347, 8.082402253926244, 0.0, 0.0, 9.903487552536127, 7.927685045615778, 7.256297239690681, 0.0, 0.0, 7.449498005382849, 7.418780882750794, 0.0, 8.366370301681654, 0.0, 0.0, 2.780060789187662, 0.0, 0.0, 0.0, 0.0, 7.757906208351747, 0.0, 0.0, 7.523481312573497, 7.025538314638521, 0.0, 0.0, 8.529911963824013, 7.513709247839705, 7.597396320212795, 0.0, 9.027978814382207, 7.098375638590786, 0.0, 7.226936018493289, 7.444248649496705, 7.340835554123275, 7.134890851565884, 7.283448228756631, 7.457609289715606, 7.81035268372429, 0.0, 0.0, 0.0, 7.851271997109883, 0.0, 0.0, 8.314587291319576, 0.0, 7.690743163541872, 0.0, 0.0, 0.0, 7.416979621381154, 0.0, 7.978310969867722, 7.804251383528112, 7.639642287858013, 7.313220387090301, 0.0, 0.0, 8.444192298531748, 6.921658184151129, 7.4673710669175595, 7.534762657037537, 7.718685495198466, 7.3796321526095525, 0.0, 0.0, 8.055157731819678, 0.0, 0.0, 7.798112628829788, 0.0, 0.0, 7.641564441260972, 0.0, 7.932003152361385, 7.030857476116121, 0.0, 0.0, 7.676473646389156, 6.816735880594968, 7.438383530044307, 7.957527402230773, 0.0, 8.392989587956931, 8.211482916445066, 0.0, 8.6347984334905, 8.57583938684897, 7.301822342137932, 8.392989587956931, 8.80492526261806, 0.0, 8.0106915391303, 0.0, 7.160069207596127, 7.602900462204755, 7.618251097876695, 8.804775258867686, 8.20685642839965, 8.13973227971767, 7.397561535524052, 7.495541943884256, 7.557472901614746, 0.0, 7.462789157412448, 0.0, 7.261225091971921, 8.8771028978649, 7.643482907077201, 0.0, 0.0, 7.265429723253953, 7.171656822768514, 0.0, 8.612503371220562, 0.0, 0.0, 0.0, 0.0, 7.621684998724611, 8.270269111436624, 0.0, 6.284134161070802, 0.0, 7.953318346560431, 0.0, 0.0, 7.8336002236611035, 6.4967749901858625, 7.575584651557793, 0.0, 7.48605261786314, 0.0, 7.60887062919126, 0.0, 7.772752716468742, 8.086410275323782, 7.75491027202143, 8.358431899031295, 6.939253946041508, 7.393263094763838, 0.0, 7.889459149404524, 7.743269700829004, 5.488937726156687, 0.0, 7.627544390488503, 0.0, 0.0, 0.0, 0.0, 7.824046010856292, 0.0, 7.6324011266014535, 7.4673710669175595, 7.280008252884188, 0.0, 7.393263094763838, 0.0, 6.133398042996649, 7.700747794511798, 7.915348169263078, 7.710653323501202, 7.978310969867722, 0.0, 10.429310157308027, 0.0, 0.0, 7.558516743045645, 8.006367567650246, 7.3277805384216315, 0.0, 0.0, 0.0, 8.13622555490846, 0.0, 0.0, 8.101677747454572, 0.0, 0.0, 6.907755278982137, 0.0, 0.0, 0.0, 10.637464727584328, 7.934513463882263, 0.0, 8.366602832783736, 0.0, 8.242756345714477, 7.824046010856292, 7.252053951852814, 7.575584651557793, 0.0, 0.0, 5.480638923341991, 0.0, 0.0], \"xaxis\": \"x\", \"y\": [0.0, 7.318539548567902, 0.0, 7.765569081097317, 0.0, 8.341886969516187, 7.323830566202317, 7.825644732219989, 7.330405211844402, 9.30273722124215, 6.551080335043404, 7.517520850603031, 9.000359807188254, 7.951559331155252, 6.990256500493881, 0.0, 0.0, 0.0, 0.0, 8.160518247477505, 0.0, 8.63497622707262, 7.555381944240273, 7.558516743045645, 7.981049759665957, 0.0, 7.720017940432244, 6.946975992135418, 0.0, 7.641564441260972, 8.122371243406553, 0.0, 0.0, 7.418780882750794, 8.006367567650246, 7.633853559681768, 7.1929342212158, 7.285506548522785, 8.883224230278994, 7.419380582918692, 0.0, 7.10085190894405, 0.0, 7.756195343948118, 0.0, 0.0, 0.0, 0.0, 8.143226750367445, 7.729735331385051, 7.404887575616125, 0.0, 0.0, 0.0, 0.0, 7.062191632286556, 7.372118028337787, 7.696212639346407, 7.718685495198466, 7.958227192322312, 8.241703159729818, 0.0, 8.145839612936841, 0.0, 0.0, 8.432724034789787, 7.720461694599722, 0.0, 0.0, 0.0, 8.028129059431759, 7.536363938404511, 0.0, 0.0, 7.480992162869525, 0.0, 8.465899897028686, 8.013674142832684, 8.294049640102028, 7.680637427560936, 0.0, 0.0, 7.53955882930103, 7.718685495198466, 0.0, 7.836369760545124, 7.600902459542082, 7.658227526161352, 0.0, 8.334951631422454, 7.9724660159745655, 8.640118538253535, 7.506591780070841, 0.0, 0.0, 0.0, 7.741533589281828, 6.904750769961838, 0.0, 8.172164452111904, 8.09040229659332, 8.244334047856094, 0.0, 8.183955717304954, 6.625392368007956, 6.937314081223682, 7.026426808699636, 0.0, 8.1886891244442, 6.625392368007956, 0.0, 7.75491027202143, 8.322151070212902, 0.0, 0.0, 0.0, 7.733245646529795, 7.242797922793756, 7.669495251007694, 0.0, 7.888709524182015, 0.0, 9.102755161296246, 0.0, 7.607878073278507, 0.0, 0.0, 7.402451520818244, 8.25582842728183, 7.851271997109883, 0.0, 7.564757012905729, 0.0, 0.0, 0.0, 8.955448122347393, 0.0, 8.160518247477505, 0.0, 7.265429723253953, 7.641564441260972, 0.0, 0.0, 7.617759576608505, 0.0, 8.408716715080153, 0.0, 7.261927092702751, 7.418180822726788, 6.721425700790643, 0.0, 8.229511118964457, 0.0, 0.0, 0.0, 0.0, 0.0, 0.0, 7.641564441260972, 8.63497622707262, 6.947937068614969, 0.0, 7.154615356913663, 7.277247726631484, 0.0, 8.060224240440958, 0.0, 8.11162807830774, 0.0, 0.0, 7.478169694159785, 0.0, 0.0, 8.63497622707262, 6.601230118728877, 7.582738488914411, 7.389563953677635, 9.332558004700433, 0.0, 7.280008252884188, 8.88875674784872, 8.529714471969909, 0.0, 0.0, 0.0, 8.465899897028686, 0.0, 7.6676260915849905, 8.574707097616844, 0.0, 0.0, 0.0, 0.0, 0.0, 0.0, 7.8567067930958405, 8.229511118964457, 7.768533300926033, 7.943072717277933, 0.0, 7.824046010856292, 0.0, 0.0, 6.9874902470009905, 0.0, 0.0, 0.0, 7.836369760545124, 0.0, 0.0, 0.0, 7.1308988302963465, 0.0, 0.0, 8.013343181386672, 6.890609120147166, 7.495541943884256, 7.4815557019095165, 0.0, 7.776115477098742, 0.0, 7.448333860897476, 7.934155233536322, 6.917705609835305, 0.0, 0.0, 0.0, 7.43543801981455, 0.0, 0.0, 7.627544390488503, 0.0, 7.862497197230545, 0.0, 7.483806687665835, 7.138866999945524, 0.0, 0.0, 0.0, 0.0, 8.517193191416238, 7.592366128519796, 8.648396877031582, 7.170119543449628, 8.393216011596527, 8.374015421739909, 0.0, 0.0, 7.519149957669823, 7.532623618788788, 8.266164436612492, 0.0, 7.681099001536359, 8.867990898182093, 0.0, 0.0, 0.0, 0.0, 7.649692623711514, 0.0, 8.354674261918463, 7.700295203420117, 0.0, 0.0, 0.0, 8.145259566516865, 7.234898420314831, 7.501634457883413, 0.0, 7.352441100243583, 0.0, 0.0, 7.526717561352706, 7.706612913964197, 0.0, 7.518607216815252, 8.09376775793108, 7.170119543449628, 0.0, 0.0, 7.793999089503996, 6.684611727667927, 6.893453481895541, 7.418180822726788, 0.0, 8.023879992734878, 7.448333860897476, 7.600902459542082, 0.0, 0.0, 7.789868559054706, 0.0, 7.352441100243583, 0.0, 8.111928063310739, 7.1308988302963465, 0.0, 0.0, 7.840312983320164, 7.981049759665957, 7.984121958702927, 7.4673710669175595, 0.0, 7.497207223203318, 7.824046010856292, 0.0, 7.418180822726788, 7.529943370601589, 0.0, 0.0, 0.0, 7.785305182539862, 0.0, 0.0, 7.519149957669823, 7.402451520818244, 0.0, 7.665753431861699, 0.0, 0.0, 7.681099001536359, 5.241747015059643, 7.371489295214277, 8.001355025826703, 0.0, 8.513787398281405, 0.0, 7.67786350067821, 7.804251383528112, 0.0, 7.491645473605133, 0.0, 0.0, 0.0, 7.513709247839705, 8.4096079807363, 6.5337888379333435, 8.433811582477187, 0.0, 0.0, 7.369600720526409, 0.0, 7.113956109566034, 0.0, 7.753623546559746, 7.80710329012598, 8.080237416216702, 7.681560362559537, 8.430109084509125, 8.740336742730447, 0.0, 8.334951631422454, 7.641564441260972, 0.0, 6.22455842927536, 0.0, 8.06054004653864, 0.0, 7.418180822726788, 8.06054004653864, 0.0, 8.207129168071326, 7.75491027202143, 8.017307507688582, 0.0, 0.0, 0.0, 0.0, 0.0, 8.569026340056254, 0.0, 0.0, 8.971194463184467, 7.594381242551817, 7.285506548522785, 6.827629234502852, 8.516392871245468, 0.0, 0.0, 0.0, 7.824046010856292, 8.350429973538136, 0.0, 0.0, 0.0, 0.0, 7.3777589082278725, 8.0507033814703, 7.790282380703483, 0.0, 0.0, 0.0, 7.656810091480378, 7.393263094763838, 7.24422751560335, 6.182084906716632, 0.0, 7.285506548522785, 7.418180822726788, 7.495541943884256, 0.0, 0.0, 9.903487552536127, 0.0, 0.0, 0.0, 7.783224016336037, 0.0, 0.0, 0.0, 0.0, 0.0, 0.0, 7.617267813628347, 8.082402253926244, 0.0, 0.0, 9.903487552536127, 7.927685045615778, 7.256297239690681, 0.0, 0.0, 7.449498005382849, 7.418780882750794, 0.0, 8.366370301681654, 0.0, 0.0, 2.780060789187662, 0.0, 0.0, 0.0, 0.0, 7.757906208351747, 0.0, 0.0, 7.523481312573497, 7.025538314638521, 0.0, 0.0, 8.529911963824013, 7.513709247839705, 7.597396320212795, 0.0, 9.027978814382207, 7.098375638590786, 0.0, 7.226936018493289, 7.444248649496705, 7.340835554123275, 7.134890851565884, 7.283448228756631, 7.457609289715606, 7.81035268372429, 0.0, 0.0, 0.0, 7.851271997109883, 0.0, 0.0, 8.314587291319576, 0.0, 7.690743163541872, 0.0, 0.0, 0.0, 7.416979621381154, 0.0, 7.978310969867722, 7.804251383528112, 7.639642287858013, 7.313220387090301, 0.0, 0.0, 8.444192298531748, 6.921658184151129, 7.4673710669175595, 7.534762657037537, 7.718685495198466, 7.3796321526095525, 0.0, 0.0, 8.055157731819678, 0.0, 0.0, 7.798112628829788, 0.0, 0.0, 7.641564441260972, 0.0, 7.932003152361385, 7.030857476116121, 0.0, 0.0, 7.676473646389156, 6.816735880594968, 7.438383530044307, 7.957527402230773, 0.0, 8.392989587956931, 8.211482916445066, 0.0, 8.6347984334905, 8.57583938684897, 7.301822342137932, 8.392989587956931, 8.80492526261806, 0.0, 8.0106915391303, 0.0, 7.160069207596127, 7.602900462204755, 7.618251097876695, 8.804775258867686, 8.20685642839965, 8.13973227971767, 7.397561535524052, 7.495541943884256, 7.557472901614746, 0.0, 7.462789157412448, 0.0, 7.261225091971921, 8.8771028978649, 7.643482907077201, 0.0, 0.0, 7.265429723253953, 7.171656822768514, 0.0, 8.612503371220562, 0.0, 0.0, 0.0, 0.0, 7.621684998724611, 8.270269111436624, 0.0, 6.284134161070802, 0.0, 7.953318346560431, 0.0, 0.0, 7.8336002236611035, 6.4967749901858625, 7.575584651557793, 0.0, 7.48605261786314, 0.0, 7.60887062919126, 0.0, 7.772752716468742, 8.086410275323782, 7.75491027202143, 8.358431899031295, 6.939253946041508, 7.393263094763838, 0.0, 7.889459149404524, 7.743269700829004, 5.488937726156687, 0.0, 7.627544390488503, 0.0, 0.0, 0.0, 0.0, 7.824046010856292, 0.0, 7.6324011266014535, 7.4673710669175595, 7.280008252884188, 0.0, 7.393263094763838, 0.0, 6.133398042996649, 7.700747794511798, 7.915348169263078, 7.710653323501202, 7.978310969867722, 0.0, 10.429310157308027, 0.0, 0.0, 7.558516743045645, 8.006367567650246, 7.3277805384216315, 0.0, 0.0, 0.0, 8.13622555490846, 0.0, 0.0, 8.101677747454572, 0.0, 0.0, 6.907755278982137, 0.0, 0.0, 0.0, 10.637464727584328, 7.934513463882263, 0.0, 8.366602832783736, 0.0, 8.242756345714477, 7.824046010856292, 7.252053951852814, 7.575584651557793, 0.0, 0.0, 5.480638923341991, 0.0, 0.0], \"yaxis\": \"y\"}],                        {\"barmode\": \"relative\", \"legend\": {\"tracegroupgap\": 0}, \"margin\": {\"t\": 60}, \"template\": {\"data\": {\"bar\": [{\"error_x\": {\"color\": \"#2a3f5f\"}, \"error_y\": {\"color\": \"#2a3f5f\"}, \"marker\": {\"line\": {\"color\": \"#E5ECF6\", \"width\": 0.5}}, \"type\": \"bar\"}], \"barpolar\": [{\"marker\": {\"line\": {\"color\": \"#E5ECF6\", \"width\": 0.5}}, \"type\": \"barpolar\"}], \"carpet\": [{\"aaxis\": {\"endlinecolor\": \"#2a3f5f\", \"gridcolor\": \"white\", \"linecolor\": \"white\", \"minorgridcolor\": \"white\", \"startlinecolor\": \"#2a3f5f\"}, \"baxis\": {\"endlinecolor\": \"#2a3f5f\", \"gridcolor\": \"white\", \"linecolor\": \"white\", \"minorgridcolor\": \"white\", \"startlinecolor\": \"#2a3f5f\"}, \"type\": \"carpet\"}], \"choropleth\": [{\"colorbar\": {\"outlinewidth\": 0, \"ticks\": \"\"}, \"type\": \"choropleth\"}], \"contour\": [{\"colorbar\": {\"outlinewidth\": 0, \"ticks\": \"\"}, \"colorscale\": [[0.0, \"#0d0887\"], [0.1111111111111111, \"#46039f\"], [0.2222222222222222, \"#7201a8\"], [0.3333333333333333, \"#9c179e\"], [0.4444444444444444, \"#bd3786\"], [0.5555555555555556, \"#d8576b\"], [0.6666666666666666, \"#ed7953\"], [0.7777777777777778, \"#fb9f3a\"], [0.8888888888888888, \"#fdca26\"], [1.0, \"#f0f921\"]], \"type\": \"contour\"}], \"contourcarpet\": [{\"colorbar\": {\"outlinewidth\": 0, \"ticks\": \"\"}, \"type\": \"contourcarpet\"}], \"heatmap\": [{\"colorbar\": {\"outlinewidth\": 0, \"ticks\": \"\"}, \"colorscale\": [[0.0, \"#0d0887\"], [0.1111111111111111, \"#46039f\"], [0.2222222222222222, \"#7201a8\"], [0.3333333333333333, \"#9c179e\"], [0.4444444444444444, \"#bd3786\"], [0.5555555555555556, \"#d8576b\"], [0.6666666666666666, \"#ed7953\"], [0.7777777777777778, \"#fb9f3a\"], [0.8888888888888888, \"#fdca26\"], [1.0, \"#f0f921\"]], \"type\": \"heatmap\"}], \"heatmapgl\": [{\"colorbar\": {\"outlinewidth\": 0, \"ticks\": \"\"}, \"colorscale\": [[0.0, \"#0d0887\"], [0.1111111111111111, \"#46039f\"], [0.2222222222222222, \"#7201a8\"], [0.3333333333333333, \"#9c179e\"], [0.4444444444444444, \"#bd3786\"], [0.5555555555555556, \"#d8576b\"], [0.6666666666666666, \"#ed7953\"], [0.7777777777777778, \"#fb9f3a\"], [0.8888888888888888, \"#fdca26\"], [1.0, \"#f0f921\"]], \"type\": \"heatmapgl\"}], \"histogram\": [{\"marker\": {\"colorbar\": {\"outlinewidth\": 0, \"ticks\": \"\"}}, \"type\": \"histogram\"}], \"histogram2d\": [{\"colorbar\": {\"outlinewidth\": 0, \"ticks\": \"\"}, \"colorscale\": [[0.0, \"#0d0887\"], [0.1111111111111111, \"#46039f\"], [0.2222222222222222, \"#7201a8\"], [0.3333333333333333, \"#9c179e\"], [0.4444444444444444, \"#bd3786\"], [0.5555555555555556, \"#d8576b\"], [0.6666666666666666, \"#ed7953\"], [0.7777777777777778, \"#fb9f3a\"], [0.8888888888888888, \"#fdca26\"], [1.0, \"#f0f921\"]], \"type\": \"histogram2d\"}], \"histogram2dcontour\": [{\"colorbar\": {\"outlinewidth\": 0, \"ticks\": \"\"}, \"colorscale\": [[0.0, \"#0d0887\"], [0.1111111111111111, \"#46039f\"], [0.2222222222222222, \"#7201a8\"], [0.3333333333333333, \"#9c179e\"], [0.4444444444444444, \"#bd3786\"], [0.5555555555555556, \"#d8576b\"], [0.6666666666666666, \"#ed7953\"], [0.7777777777777778, \"#fb9f3a\"], [0.8888888888888888, \"#fdca26\"], [1.0, \"#f0f921\"]], \"type\": \"histogram2dcontour\"}], \"mesh3d\": [{\"colorbar\": {\"outlinewidth\": 0, \"ticks\": \"\"}, \"type\": \"mesh3d\"}], \"parcoords\": [{\"line\": {\"colorbar\": {\"outlinewidth\": 0, \"ticks\": \"\"}}, \"type\": \"parcoords\"}], \"pie\": [{\"automargin\": true, \"type\": \"pie\"}], \"scatter\": [{\"marker\": {\"colorbar\": {\"outlinewidth\": 0, \"ticks\": \"\"}}, \"type\": \"scatter\"}], \"scatter3d\": [{\"line\": {\"colorbar\": {\"outlinewidth\": 0, \"ticks\": \"\"}}, \"marker\": {\"colorbar\": {\"outlinewidth\": 0, \"ticks\": \"\"}}, \"type\": \"scatter3d\"}], \"scattercarpet\": [{\"marker\": {\"colorbar\": {\"outlinewidth\": 0, \"ticks\": \"\"}}, \"type\": \"scattercarpet\"}], \"scattergeo\": [{\"marker\": {\"colorbar\": {\"outlinewidth\": 0, \"ticks\": \"\"}}, \"type\": \"scattergeo\"}], \"scattergl\": [{\"marker\": {\"colorbar\": {\"outlinewidth\": 0, \"ticks\": \"\"}}, \"type\": \"scattergl\"}], \"scattermapbox\": [{\"marker\": {\"colorbar\": {\"outlinewidth\": 0, \"ticks\": \"\"}}, \"type\": \"scattermapbox\"}], \"scatterpolar\": [{\"marker\": {\"colorbar\": {\"outlinewidth\": 0, \"ticks\": \"\"}}, \"type\": \"scatterpolar\"}], \"scatterpolargl\": [{\"marker\": {\"colorbar\": {\"outlinewidth\": 0, \"ticks\": \"\"}}, \"type\": \"scatterpolargl\"}], \"scatterternary\": [{\"marker\": {\"colorbar\": {\"outlinewidth\": 0, \"ticks\": \"\"}}, \"type\": \"scatterternary\"}], \"surface\": [{\"colorbar\": {\"outlinewidth\": 0, \"ticks\": \"\"}, \"colorscale\": [[0.0, \"#0d0887\"], [0.1111111111111111, \"#46039f\"], [0.2222222222222222, \"#7201a8\"], [0.3333333333333333, \"#9c179e\"], [0.4444444444444444, \"#bd3786\"], [0.5555555555555556, \"#d8576b\"], [0.6666666666666666, \"#ed7953\"], [0.7777777777777778, \"#fb9f3a\"], [0.8888888888888888, \"#fdca26\"], [1.0, \"#f0f921\"]], \"type\": \"surface\"}], \"table\": [{\"cells\": {\"fill\": {\"color\": \"#EBF0F8\"}, \"line\": {\"color\": \"white\"}}, \"header\": {\"fill\": {\"color\": \"#C8D4E3\"}, \"line\": {\"color\": \"white\"}}, \"type\": \"table\"}]}, \"layout\": {\"annotationdefaults\": {\"arrowcolor\": \"#2a3f5f\", \"arrowhead\": 0, \"arrowwidth\": 1}, \"coloraxis\": {\"colorbar\": {\"outlinewidth\": 0, \"ticks\": \"\"}}, \"colorscale\": {\"diverging\": [[0, \"#8e0152\"], [0.1, \"#c51b7d\"], [0.2, \"#de77ae\"], [0.3, \"#f1b6da\"], [0.4, \"#fde0ef\"], [0.5, \"#f7f7f7\"], [0.6, \"#e6f5d0\"], [0.7, \"#b8e186\"], [0.8, \"#7fbc41\"], [0.9, \"#4d9221\"], [1, \"#276419\"]], \"sequential\": [[0.0, \"#0d0887\"], [0.1111111111111111, \"#46039f\"], [0.2222222222222222, \"#7201a8\"], [0.3333333333333333, \"#9c179e\"], [0.4444444444444444, \"#bd3786\"], [0.5555555555555556, \"#d8576b\"], [0.6666666666666666, \"#ed7953\"], [0.7777777777777778, \"#fb9f3a\"], [0.8888888888888888, \"#fdca26\"], [1.0, \"#f0f921\"]], \"sequentialminus\": [[0.0, \"#0d0887\"], [0.1111111111111111, \"#46039f\"], [0.2222222222222222, \"#7201a8\"], [0.3333333333333333, \"#9c179e\"], [0.4444444444444444, \"#bd3786\"], [0.5555555555555556, \"#d8576b\"], [0.6666666666666666, \"#ed7953\"], [0.7777777777777778, \"#fb9f3a\"], [0.8888888888888888, \"#fdca26\"], [1.0, \"#f0f921\"]]}, \"colorway\": [\"#636efa\", \"#EF553B\", \"#00cc96\", \"#ab63fa\", \"#FFA15A\", \"#19d3f3\", \"#FF6692\", \"#B6E880\", \"#FF97FF\", \"#FECB52\"], \"font\": {\"color\": \"#2a3f5f\"}, \"geo\": {\"bgcolor\": \"white\", \"lakecolor\": \"white\", \"landcolor\": \"#E5ECF6\", \"showlakes\": true, \"showland\": true, \"subunitcolor\": \"white\"}, \"hoverlabel\": {\"align\": \"left\"}, \"hovermode\": \"closest\", \"mapbox\": {\"style\": \"light\"}, \"paper_bgcolor\": \"white\", \"plot_bgcolor\": \"#E5ECF6\", \"polar\": {\"angularaxis\": {\"gridcolor\": \"white\", \"linecolor\": \"white\", \"ticks\": \"\"}, \"bgcolor\": \"#E5ECF6\", \"radialaxis\": {\"gridcolor\": \"white\", \"linecolor\": \"white\", \"ticks\": \"\"}}, \"scene\": {\"xaxis\": {\"backgroundcolor\": \"#E5ECF6\", \"gridcolor\": \"white\", \"gridwidth\": 2, \"linecolor\": \"white\", \"showbackground\": true, \"ticks\": \"\", \"zerolinecolor\": \"white\"}, \"yaxis\": {\"backgroundcolor\": \"#E5ECF6\", \"gridcolor\": \"white\", \"gridwidth\": 2, \"linecolor\": \"white\", \"showbackground\": true, \"ticks\": \"\", \"zerolinecolor\": \"white\"}, \"zaxis\": {\"backgroundcolor\": \"#E5ECF6\", \"gridcolor\": \"white\", \"gridwidth\": 2, \"linecolor\": \"white\", \"showbackground\": true, \"ticks\": \"\", \"zerolinecolor\": \"white\"}}, \"shapedefaults\": {\"line\": {\"color\": \"#2a3f5f\"}}, \"ternary\": {\"aaxis\": {\"gridcolor\": \"white\", \"linecolor\": \"white\", \"ticks\": \"\"}, \"baxis\": {\"gridcolor\": \"white\", \"linecolor\": \"white\", \"ticks\": \"\"}, \"bgcolor\": \"#E5ECF6\", \"caxis\": {\"gridcolor\": \"white\", \"linecolor\": \"white\", \"ticks\": \"\"}}, \"title\": {\"x\": 0.05}, \"xaxis\": {\"automargin\": true, \"gridcolor\": \"white\", \"linecolor\": \"white\", \"ticks\": \"\", \"title\": {\"standoff\": 15}, \"zerolinecolor\": \"white\", \"zerolinewidth\": 2}, \"yaxis\": {\"automargin\": true, \"gridcolor\": \"white\", \"linecolor\": \"white\", \"ticks\": \"\", \"title\": {\"standoff\": 15}, \"zerolinecolor\": \"white\", \"zerolinewidth\": 2}}}, \"title\": {\"text\": \"CoapplicantIncome\"}, \"xaxis\": {\"anchor\": \"y\", \"domain\": [0.0, 1.0], \"title\": {\"text\": \"CoapplicantIncome\"}}, \"yaxis\": {\"anchor\": \"x\", \"domain\": [0.0, 1.0], \"title\": {\"text\": \"sum of CoapplicantIncome\"}}},                        {\"responsive\": true}                    ).then(function(){\n",
       "                            \n",
       "var gd = document.getElementById('84da78c8-e059-45e6-938a-917e12d82f76');\n",
       "var x = new MutationObserver(function (mutations, observer) {{\n",
       "        var display = window.getComputedStyle(gd).display;\n",
       "        if (!display || display === 'none') {{\n",
       "            console.log([gd, 'removed!']);\n",
       "            Plotly.purge(gd);\n",
       "            observer.disconnect();\n",
       "        }}\n",
       "}});\n",
       "\n",
       "// Listen for the removal of the full notebook cells\n",
       "var notebookContainer = gd.closest('#notebook-container');\n",
       "if (notebookContainer) {{\n",
       "    x.observe(notebookContainer, {childList: true});\n",
       "}}\n",
       "\n",
       "// Listen for the clearing of the current output cell\n",
       "var outputEl = gd.closest('.output');\n",
       "if (outputEl) {{\n",
       "    x.observe(outputEl, {childList: true});\n",
       "}}\n",
       "\n",
       "                        })                };                });            </script>        </div>"
      ]
     },
     "metadata": {},
     "output_type": "display_data"
    },
    {
     "data": {
      "text/html": [
       "<div>                            <div id=\"b2172baf-afc3-4bc0-b92d-b3978ab12c27\" class=\"plotly-graph-div\" style=\"height:525px; width:100%;\"></div>            <script type=\"text/javascript\">                require([\"plotly\"], function(Plotly) {                    window.PLOTLYENV=window.PLOTLYENV || {};                                    if (document.getElementById(\"b2172baf-afc3-4bc0-b92d-b3978ab12c27\")) {                    Plotly.newPlot(                        \"b2172baf-afc3-4bc0-b92d-b3978ab12c27\",                        [{\"alignmentgroup\": \"True\", \"bingroup\": \"x\", \"histfunc\": \"sum\", \"hovertemplate\": \"LoanAmount=%{x}<br>sum of LoanAmount=%{y}<extra></extra>\", \"legendgroup\": \"\", \"marker\": {\"color\": \"#636efa\"}, \"name\": \"\", \"offsetgroup\": \"\", \"orientation\": \"v\", \"showlegend\": false, \"type\": \"histogram\", \"x\": [4.852030263919617, 4.852030263919617, 4.189654742026425, 4.787491742782046, 4.948759890378168, 5.58724865840025, 4.553876891600541, 5.062595033026967, 5.123963979403259, 5.855071922202427, 4.248495242049359, 4.6913478822291435, 5.298317366548036, 4.736198448394496, 2.833213344056216, 4.8283137373023015, 4.605170185988092, 4.330733340286331, 4.890349128221754, 4.74493212836325, 4.6443908991413725, 5.752572638825633, 4.7535901911063645, 4.718498871295094, 5.017279836814924, 5.25227342804663, 4.804021044733257, 4.700480365792417, 3.5553480614894135, 4.787491742782046, 5.303304908059076, 4.30406509320417, 4.663439094112067, 4.736198448394496, 5.768320995793772, 4.852030263919617, 4.605170185988092, 4.969813299576001, 5.214935757608986, 4.700480365792417, 4.382026634673881, 3.8501476017100584, 4.31748811353631, 4.897839799950911, 4.564348191467836, 4.477336814478207, 3.784189633918261, 4.969813299576001, 4.787491742782046, 4.969813299576001, 4.605170185988092, 4.787491742782046, 4.718498871295094, 4.897839799950911, 5.655991810819852, 4.574710978503383, 4.564348191467836, 4.90527477843843, 5.19295685089021, 4.969813299576001, 4.787491742782046, 4.59511985013459, 5.10594547390058, 4.852030263919617, 4.7535901911063645, 5.552959584921617, 4.836281906951478, 5.7430031878094825, 4.8283137373023015, 4.912654885736052, 5.147494476813453, 4.574710978503383, 4.394449154672439, 4.553876891600541, 5.231108616854587, 4.727387818712341, 5.170483995038151, 4.700480365792417, 5.19295685089021, 4.867534450455582, 4.709530201312334, 4.852030263919617, 5.117993812416755, 5.579729825986222, 3.912023005428146, 4.912654885736052, 4.59511985013459, 4.6443908991413725, 5.3471075307174685, 5.1647859739235145, 4.875197323201151, 5.236441962829949, 4.394449154672439, 4.804021044733257, 3.2188758248682006, 4.852030263919617, 4.919980925828125, 3.912023005428146, 4.74493212836325, 4.875197323201151, 4.890349128221754, 5.017279836814924, 4.852030263919617, 4.852030263919617, 5.075173815233827, 4.605170185988092, 5.41610040220442, 4.787491742782046, 5.375278407684165, 4.543294782270004, 4.912654885736052, 4.9344739331306915, 5.0238805208462765, 4.852030263919617, 4.770684624465665, 5.220355825078324, 5.0369526024136295, 4.442651256490317, 5.1647859739235145, 5.556828061699537, 5.19295685089021, 3.784189633918261, 4.919980925828125, 4.394449154672439, 5.267858159063328, 4.532599493153256, 5.91350300563827, 4.852030263919617, 5.075173815233827, 5.204006687076795, 6.476972362889683, 4.30406509320417, 4.248495242049359, 3.2188758248682006, 4.624972813284271, 5.66988092298052, 4.430816798843313, 4.477336814478207, 5.488937726156687, 4.859812404361672, 5.220355825078324, 5.123963979403259, 5.1647859739235145, 4.804021044733257, 5.231108616854587, 4.605170185988092, 4.248495242049359, 3.4011973816621555, 5.41610040220442, 4.8283137373023015, 4.770684624465665, 5.0238805208462765, 5.497168225293202, 4.727387818712341, 3.912023005428146, 6.396929655216146, 5.075173815233827, 5.231108616854587, 4.787491742782046, 5.541263545158426, 4.584967478670572, 5.616771097666572, 4.795790545596741, 5.062595033026967, 4.31748811353631, 5.204006687076795, 4.718498871295094, 4.859812404361672, 4.143134726391533, 5.298317366548036, 4.553876891600541, 6.551080335043404, 4.394449154672439, 5.231108616854587, 4.465908118654584, 4.7535901911063645, 4.61512051684126, 6.20455776256869, 4.7535901911063645, 4.624972813284271, 5.19295685089021, 4.204692619390966, 4.290459441148391, 5.560681631015528, 4.68213122712422, 4.787491742782046, 4.189654742026425, 4.060443010546419, 5.123963979403259, 5.236441962829949, 3.871201010907891, 5.099866427824199, 5.075173815233827, 4.330733340286331, 4.787491742782046, 5.135798437050262, 5.231108616854587, 4.787491742782046, 4.727387818712341, 4.418840607796598, 4.499809670330265, 5.111987788356544, 4.852030263919617, 4.90527477843843, 4.820281565605037, 4.787491742782046, 4.382026634673881, 4.007333185232471, 4.07753744390572, 4.844187086458591, 5.365976015021851, 4.852030263919617, 5.480638923341991, 4.867534450455582, 4.919980925828125, 4.605170185988092, 4.90527477843843, 4.875197323201151, 4.276666119016055, 4.844187086458591, 4.0943445622221, 4.7535901911063645, 4.969813299576001, 5.1647859739235145, 4.852030263919617, 5.135798437050262, 4.927253685157205, 5.3471075307174685, 5.062595033026967, 5.298317366548036, 4.6443908991413725, 3.7376696182833684, 4.787491742782046, 5.634789603169249, 4.941642422609304, 5.135798437050262, 5.541263545158426, 4.804021044733257, 4.718498871295094, 4.564348191467836, 4.787491742782046, 4.941642422609304, 5.043425116919247, 4.68213122712422, 4.812184355372417, 4.787491742782046, 4.718498871295094, 4.919980925828125, 4.812184355372417, 4.499809670330265, 5.303304908059076, 4.927253685157205, 4.6443908991413725, 5.631211781821365, 5.2574953720277815, 5.541263545158426, 4.74493212836325, 4.543294782270004, 5.717027701406222, 4.852030263919617, 5.799092654460526, 4.897839799950911, 5.043425116919247, 4.787491742782046, 4.852030263919617, 5.017279836814924, 5.0106352940962555, 5.075173815233827, 4.90527477843843, 4.499809670330265, 3.4011973816621555, 4.912654885736052, 4.836281906951478, 5.0106352940962555, 4.499809670330265, 4.74493212836325, 5.332718793265369, 4.382026634673881, 6.077642243349034, 4.820281565605037, 5.062595033026967, 4.718498871295094, 4.356708826689592, 3.9889840465642745, 4.852030263919617, 4.48863636973214, 4.59511985013459, 4.787491742782046, 4.74493212836325, 5.231108616854587, 4.9344739331306915, 4.844187086458591, 4.897839799950911, 4.962844630259907, 5.147494476813453, 4.700480365792417, 5.298317366548036, 4.90527477843843, 5.017279836814924, 4.727387818712341, 4.532599493153256, 4.653960350157523, 4.882801922586371, 4.564348191467836, 4.941642422609304, 4.852030263919617, 4.90527477843843, 4.6443908991413725, 6.173786103901937, 5.220355825078324, 4.430816798843313, 4.709530201312334, 4.02535169073515, 4.969813299576001, 5.0689042022202315, 4.709530201312334, 4.787491742782046, 4.477336814478207, 4.718498871295094, 5.043425116919247, 4.74493212836325, 4.820281565605037, 4.852030263919617, 4.882801922586371, 5.703782474656201, 5.929589143389895, 4.867534450455582, 5.214935757608986, 4.700480365792417, 4.204692619390966, 4.762173934797756, 4.584967478670572, 4.2626798770413155, 6.194405391104672, 5.204006687076795, 4.248495242049359, 5.075173815233827, 5.170483995038151, 4.852030263919617, 4.2626798770413155, 5.153291594497779, 3.828641396489095, 5.062595033026967, 4.30406509320417, 4.8283137373023015, 5.075173815233827, 5.0238805208462765, 4.836281906951478, 5.556828061699537, 5.231108616854587, 5.429345628954441, 5.730099782973574, 4.553876891600541, 4.653960350157523, 4.867534450455582, 4.7535901911063645, 5.10594547390058, 4.204692619390966, 4.605170185988092, 5.298317366548036, 4.394449154672439, 5.4638318050256105, 4.867534450455582, 4.553876891600541, 4.948759890378168, 4.890349128221754, 4.564348191467836, 4.820281565605037, 5.1647859739235145, 6.345636360828596, 4.007333185232471, 5.043425116919247, 5.940171252720432, 4.709530201312334, 4.700480365792417, 4.787491742782046, 4.867534450455582, 4.867534450455582, 4.2626798770413155, 4.867534450455582, 4.852030263919617, 5.69035945432406, 5.049856007249537, 4.852030263919617, 4.605170185988092, 4.727387818712341, 4.882801922586371, 4.852030263919617, 4.912654885736052, 4.8283137373023015, 5.220355825078324, 5.616771097666572, 4.787491742782046, 4.727387818712341, 4.727387818712341, 4.90527477843843, 4.2626798770413155, 4.553876891600541, 4.6913478822291435, 4.634728988229636, 3.8066624897703196, 4.174387269895637, 4.634728988229636, 3.970291913552122, 5.267858159063328, 4.74493212836325, 4.74493212836325, 4.189654742026425, 5.0238805208462765, 5.886104031450156, 4.127134385045092, 5.075173815233827, 5.384495062789089, 4.700480365792417, 5.181783550292085, 4.0943445622221, 5.075173815233827, 5.476463551931511, 4.718498871295094, 4.927253685157205, 4.927253685157205, 4.382026634673881, 4.605170185988092, 4.700480365792417, 4.564348191467836, 4.795790545596741, 4.394449154672439, 4.890349128221754, 4.465908118654584, 4.0943445622221, 5.0106352940962555, 4.653960350157523, 6.003887067106539, 4.962844630259907, 4.605170185988092, 4.852030263919617, 3.912023005428146, 4.852030263919617, 5.231108616854587, 4.927253685157205, 5.231108616854587, 5.19295685089021, 4.997212273764115, 5.0238805208462765, 5.1647859739235145, 4.867534450455582, 4.700480365792417, 4.007333185232471, 5.0106352940962555, 5.247024072160486, 4.8283137373023015, 4.0943445622221, 5.003946305945459, 4.499809670330265, 4.430816798843313, 4.564348191467836, 4.770684624465665, 5.153291594497779, 4.912654885736052, 5.075173815233827, 5.075173815233827, 4.852030263919617, 5.030437921392435, 4.882801922586371, 4.584967478670572, 4.941642422609304, 4.248495242049359, 4.700480365792417, 4.584967478670572, 4.700480365792417, 5.087596335232384, 4.727387818712341, 4.605170185988092, 4.532599493153256, 5.087596335232384, 5.0106352940962555, 5.438079308923196, 4.882801922586371, 4.454347296253507, 4.852030263919617, 5.0369526024136295, 4.727387818712341, 4.852030263919617, 5.455321115357702, 5.5053315359323625, 4.875197323201151, 4.382026634673881, 6.214608098422191, 5.075173815233827, 4.31748811353631, 4.564348191467836, 5.225746673713202, 4.700480365792417, 5.41610040220442, 4.77912349311153, 4.653960350157523, 4.672828834461906, 4.709530201312334, 4.553876891600541, 5.342334251964811, 4.727387818712341, 4.605170185988092, 5.337538079701318, 4.927253685157205, 4.820281565605037, 5.493061443340548, 6.173786103901937, 4.564348191467836, 5.236441962829949, 3.6888794541139363, 4.605170185988092, 5.521460917862246, 4.997212273764115, 4.248495242049359, 5.739792912179234, 5.0106352940962555, 4.727387818712341, 4.812184355372417, 5.220355825078324, 4.553876891600541, 3.8066624897703196, 4.007333185232471, 4.605170185988092, 6.173786103901937, 4.852030263919617, 5.991464547107982, 4.700480365792417, 5.081404364984463, 4.543294782270004, 4.867534450455582, 5.375278407684165, 4.605170185988092, 4.700480365792417, 5.278114659230517, 4.8283137373023015, 4.836281906951478, 5.780743515792329, 4.672828834461906, 4.189654742026425, 5.056245805348308, 4.941642422609304, 4.59511985013459, 4.553876891600541, 4.852030263919617, 4.624972813284271, 5.043425116919247, 4.382026634673881, 4.976733742420574, 4.634728988229636, 4.700480365792417, 4.852030263919617, 4.852030263919617, 5.062595033026967, 5.198497031265826, 4.882801922586371, 3.258096538021482, 4.430816798843313, 5.560681631015528, 5.087596335232384, 5.204006687076795, 4.68213122712422, 6.396929655216146, 5.351858133476067, 4.882801922586371, 5.552959584921617, 4.787491742782046, 4.248495242049359, 4.812184355372417, 2.1972245773362196, 4.6443908991413725, 5.225746673713202, 5.10594547390058, 5.616771097666572, 5.231108616854587, 5.0106352940962555, 4.68213122712422, 4.912654885736052, 4.700480365792417, 4.672828834461906, 5.081404364984463, 5.3230099791384085, 4.499809670330265, 3.58351893845611, 4.110873864173311, 4.983606621708336, 5.147494476813453, 4.6443908991413725, 4.248495242049359, 4.543294782270004, 4.663439094112067, 4.02535169073515, 5.3230099791384085, 5.676753802268282, 4.955827057601261, 5.560681631015528, 4.700480365792417, 5.231108616854587, 4.477336814478207, 5.19295685089021, 5.2574953720277815, 5.857933154483459, 5.043425116919247, 4.852030263919617, 5.147494476813453, 6.206575926724928, 4.852030263919617, 5.153291594497779, 5.056245805348308, 4.68213122712422, 4.2626798770413155, 3.6888794541139363, 5.53338948872752, 5.231108616854587, 4.890349128221754], \"xaxis\": \"x\", \"y\": [4.852030263919617, 4.852030263919617, 4.189654742026425, 4.787491742782046, 4.948759890378168, 5.58724865840025, 4.553876891600541, 5.062595033026967, 5.123963979403259, 5.855071922202427, 4.248495242049359, 4.6913478822291435, 5.298317366548036, 4.736198448394496, 2.833213344056216, 4.8283137373023015, 4.605170185988092, 4.330733340286331, 4.890349128221754, 4.74493212836325, 4.6443908991413725, 5.752572638825633, 4.7535901911063645, 4.718498871295094, 5.017279836814924, 5.25227342804663, 4.804021044733257, 4.700480365792417, 3.5553480614894135, 4.787491742782046, 5.303304908059076, 4.30406509320417, 4.663439094112067, 4.736198448394496, 5.768320995793772, 4.852030263919617, 4.605170185988092, 4.969813299576001, 5.214935757608986, 4.700480365792417, 4.382026634673881, 3.8501476017100584, 4.31748811353631, 4.897839799950911, 4.564348191467836, 4.477336814478207, 3.784189633918261, 4.969813299576001, 4.787491742782046, 4.969813299576001, 4.605170185988092, 4.787491742782046, 4.718498871295094, 4.897839799950911, 5.655991810819852, 4.574710978503383, 4.564348191467836, 4.90527477843843, 5.19295685089021, 4.969813299576001, 4.787491742782046, 4.59511985013459, 5.10594547390058, 4.852030263919617, 4.7535901911063645, 5.552959584921617, 4.836281906951478, 5.7430031878094825, 4.8283137373023015, 4.912654885736052, 5.147494476813453, 4.574710978503383, 4.394449154672439, 4.553876891600541, 5.231108616854587, 4.727387818712341, 5.170483995038151, 4.700480365792417, 5.19295685089021, 4.867534450455582, 4.709530201312334, 4.852030263919617, 5.117993812416755, 5.579729825986222, 3.912023005428146, 4.912654885736052, 4.59511985013459, 4.6443908991413725, 5.3471075307174685, 5.1647859739235145, 4.875197323201151, 5.236441962829949, 4.394449154672439, 4.804021044733257, 3.2188758248682006, 4.852030263919617, 4.919980925828125, 3.912023005428146, 4.74493212836325, 4.875197323201151, 4.890349128221754, 5.017279836814924, 4.852030263919617, 4.852030263919617, 5.075173815233827, 4.605170185988092, 5.41610040220442, 4.787491742782046, 5.375278407684165, 4.543294782270004, 4.912654885736052, 4.9344739331306915, 5.0238805208462765, 4.852030263919617, 4.770684624465665, 5.220355825078324, 5.0369526024136295, 4.442651256490317, 5.1647859739235145, 5.556828061699537, 5.19295685089021, 3.784189633918261, 4.919980925828125, 4.394449154672439, 5.267858159063328, 4.532599493153256, 5.91350300563827, 4.852030263919617, 5.075173815233827, 5.204006687076795, 6.476972362889683, 4.30406509320417, 4.248495242049359, 3.2188758248682006, 4.624972813284271, 5.66988092298052, 4.430816798843313, 4.477336814478207, 5.488937726156687, 4.859812404361672, 5.220355825078324, 5.123963979403259, 5.1647859739235145, 4.804021044733257, 5.231108616854587, 4.605170185988092, 4.248495242049359, 3.4011973816621555, 5.41610040220442, 4.8283137373023015, 4.770684624465665, 5.0238805208462765, 5.497168225293202, 4.727387818712341, 3.912023005428146, 6.396929655216146, 5.075173815233827, 5.231108616854587, 4.787491742782046, 5.541263545158426, 4.584967478670572, 5.616771097666572, 4.795790545596741, 5.062595033026967, 4.31748811353631, 5.204006687076795, 4.718498871295094, 4.859812404361672, 4.143134726391533, 5.298317366548036, 4.553876891600541, 6.551080335043404, 4.394449154672439, 5.231108616854587, 4.465908118654584, 4.7535901911063645, 4.61512051684126, 6.20455776256869, 4.7535901911063645, 4.624972813284271, 5.19295685089021, 4.204692619390966, 4.290459441148391, 5.560681631015528, 4.68213122712422, 4.787491742782046, 4.189654742026425, 4.060443010546419, 5.123963979403259, 5.236441962829949, 3.871201010907891, 5.099866427824199, 5.075173815233827, 4.330733340286331, 4.787491742782046, 5.135798437050262, 5.231108616854587, 4.787491742782046, 4.727387818712341, 4.418840607796598, 4.499809670330265, 5.111987788356544, 4.852030263919617, 4.90527477843843, 4.820281565605037, 4.787491742782046, 4.382026634673881, 4.007333185232471, 4.07753744390572, 4.844187086458591, 5.365976015021851, 4.852030263919617, 5.480638923341991, 4.867534450455582, 4.919980925828125, 4.605170185988092, 4.90527477843843, 4.875197323201151, 4.276666119016055, 4.844187086458591, 4.0943445622221, 4.7535901911063645, 4.969813299576001, 5.1647859739235145, 4.852030263919617, 5.135798437050262, 4.927253685157205, 5.3471075307174685, 5.062595033026967, 5.298317366548036, 4.6443908991413725, 3.7376696182833684, 4.787491742782046, 5.634789603169249, 4.941642422609304, 5.135798437050262, 5.541263545158426, 4.804021044733257, 4.718498871295094, 4.564348191467836, 4.787491742782046, 4.941642422609304, 5.043425116919247, 4.68213122712422, 4.812184355372417, 4.787491742782046, 4.718498871295094, 4.919980925828125, 4.812184355372417, 4.499809670330265, 5.303304908059076, 4.927253685157205, 4.6443908991413725, 5.631211781821365, 5.2574953720277815, 5.541263545158426, 4.74493212836325, 4.543294782270004, 5.717027701406222, 4.852030263919617, 5.799092654460526, 4.897839799950911, 5.043425116919247, 4.787491742782046, 4.852030263919617, 5.017279836814924, 5.0106352940962555, 5.075173815233827, 4.90527477843843, 4.499809670330265, 3.4011973816621555, 4.912654885736052, 4.836281906951478, 5.0106352940962555, 4.499809670330265, 4.74493212836325, 5.332718793265369, 4.382026634673881, 6.077642243349034, 4.820281565605037, 5.062595033026967, 4.718498871295094, 4.356708826689592, 3.9889840465642745, 4.852030263919617, 4.48863636973214, 4.59511985013459, 4.787491742782046, 4.74493212836325, 5.231108616854587, 4.9344739331306915, 4.844187086458591, 4.897839799950911, 4.962844630259907, 5.147494476813453, 4.700480365792417, 5.298317366548036, 4.90527477843843, 5.017279836814924, 4.727387818712341, 4.532599493153256, 4.653960350157523, 4.882801922586371, 4.564348191467836, 4.941642422609304, 4.852030263919617, 4.90527477843843, 4.6443908991413725, 6.173786103901937, 5.220355825078324, 4.430816798843313, 4.709530201312334, 4.02535169073515, 4.969813299576001, 5.0689042022202315, 4.709530201312334, 4.787491742782046, 4.477336814478207, 4.718498871295094, 5.043425116919247, 4.74493212836325, 4.820281565605037, 4.852030263919617, 4.882801922586371, 5.703782474656201, 5.929589143389895, 4.867534450455582, 5.214935757608986, 4.700480365792417, 4.204692619390966, 4.762173934797756, 4.584967478670572, 4.2626798770413155, 6.194405391104672, 5.204006687076795, 4.248495242049359, 5.075173815233827, 5.170483995038151, 4.852030263919617, 4.2626798770413155, 5.153291594497779, 3.828641396489095, 5.062595033026967, 4.30406509320417, 4.8283137373023015, 5.075173815233827, 5.0238805208462765, 4.836281906951478, 5.556828061699537, 5.231108616854587, 5.429345628954441, 5.730099782973574, 4.553876891600541, 4.653960350157523, 4.867534450455582, 4.7535901911063645, 5.10594547390058, 4.204692619390966, 4.605170185988092, 5.298317366548036, 4.394449154672439, 5.4638318050256105, 4.867534450455582, 4.553876891600541, 4.948759890378168, 4.890349128221754, 4.564348191467836, 4.820281565605037, 5.1647859739235145, 6.345636360828596, 4.007333185232471, 5.043425116919247, 5.940171252720432, 4.709530201312334, 4.700480365792417, 4.787491742782046, 4.867534450455582, 4.867534450455582, 4.2626798770413155, 4.867534450455582, 4.852030263919617, 5.69035945432406, 5.049856007249537, 4.852030263919617, 4.605170185988092, 4.727387818712341, 4.882801922586371, 4.852030263919617, 4.912654885736052, 4.8283137373023015, 5.220355825078324, 5.616771097666572, 4.787491742782046, 4.727387818712341, 4.727387818712341, 4.90527477843843, 4.2626798770413155, 4.553876891600541, 4.6913478822291435, 4.634728988229636, 3.8066624897703196, 4.174387269895637, 4.634728988229636, 3.970291913552122, 5.267858159063328, 4.74493212836325, 4.74493212836325, 4.189654742026425, 5.0238805208462765, 5.886104031450156, 4.127134385045092, 5.075173815233827, 5.384495062789089, 4.700480365792417, 5.181783550292085, 4.0943445622221, 5.075173815233827, 5.476463551931511, 4.718498871295094, 4.927253685157205, 4.927253685157205, 4.382026634673881, 4.605170185988092, 4.700480365792417, 4.564348191467836, 4.795790545596741, 4.394449154672439, 4.890349128221754, 4.465908118654584, 4.0943445622221, 5.0106352940962555, 4.653960350157523, 6.003887067106539, 4.962844630259907, 4.605170185988092, 4.852030263919617, 3.912023005428146, 4.852030263919617, 5.231108616854587, 4.927253685157205, 5.231108616854587, 5.19295685089021, 4.997212273764115, 5.0238805208462765, 5.1647859739235145, 4.867534450455582, 4.700480365792417, 4.007333185232471, 5.0106352940962555, 5.247024072160486, 4.8283137373023015, 4.0943445622221, 5.003946305945459, 4.499809670330265, 4.430816798843313, 4.564348191467836, 4.770684624465665, 5.153291594497779, 4.912654885736052, 5.075173815233827, 5.075173815233827, 4.852030263919617, 5.030437921392435, 4.882801922586371, 4.584967478670572, 4.941642422609304, 4.248495242049359, 4.700480365792417, 4.584967478670572, 4.700480365792417, 5.087596335232384, 4.727387818712341, 4.605170185988092, 4.532599493153256, 5.087596335232384, 5.0106352940962555, 5.438079308923196, 4.882801922586371, 4.454347296253507, 4.852030263919617, 5.0369526024136295, 4.727387818712341, 4.852030263919617, 5.455321115357702, 5.5053315359323625, 4.875197323201151, 4.382026634673881, 6.214608098422191, 5.075173815233827, 4.31748811353631, 4.564348191467836, 5.225746673713202, 4.700480365792417, 5.41610040220442, 4.77912349311153, 4.653960350157523, 4.672828834461906, 4.709530201312334, 4.553876891600541, 5.342334251964811, 4.727387818712341, 4.605170185988092, 5.337538079701318, 4.927253685157205, 4.820281565605037, 5.493061443340548, 6.173786103901937, 4.564348191467836, 5.236441962829949, 3.6888794541139363, 4.605170185988092, 5.521460917862246, 4.997212273764115, 4.248495242049359, 5.739792912179234, 5.0106352940962555, 4.727387818712341, 4.812184355372417, 5.220355825078324, 4.553876891600541, 3.8066624897703196, 4.007333185232471, 4.605170185988092, 6.173786103901937, 4.852030263919617, 5.991464547107982, 4.700480365792417, 5.081404364984463, 4.543294782270004, 4.867534450455582, 5.375278407684165, 4.605170185988092, 4.700480365792417, 5.278114659230517, 4.8283137373023015, 4.836281906951478, 5.780743515792329, 4.672828834461906, 4.189654742026425, 5.056245805348308, 4.941642422609304, 4.59511985013459, 4.553876891600541, 4.852030263919617, 4.624972813284271, 5.043425116919247, 4.382026634673881, 4.976733742420574, 4.634728988229636, 4.700480365792417, 4.852030263919617, 4.852030263919617, 5.062595033026967, 5.198497031265826, 4.882801922586371, 3.258096538021482, 4.430816798843313, 5.560681631015528, 5.087596335232384, 5.204006687076795, 4.68213122712422, 6.396929655216146, 5.351858133476067, 4.882801922586371, 5.552959584921617, 4.787491742782046, 4.248495242049359, 4.812184355372417, 2.1972245773362196, 4.6443908991413725, 5.225746673713202, 5.10594547390058, 5.616771097666572, 5.231108616854587, 5.0106352940962555, 4.68213122712422, 4.912654885736052, 4.700480365792417, 4.672828834461906, 5.081404364984463, 5.3230099791384085, 4.499809670330265, 3.58351893845611, 4.110873864173311, 4.983606621708336, 5.147494476813453, 4.6443908991413725, 4.248495242049359, 4.543294782270004, 4.663439094112067, 4.02535169073515, 5.3230099791384085, 5.676753802268282, 4.955827057601261, 5.560681631015528, 4.700480365792417, 5.231108616854587, 4.477336814478207, 5.19295685089021, 5.2574953720277815, 5.857933154483459, 5.043425116919247, 4.852030263919617, 5.147494476813453, 6.206575926724928, 4.852030263919617, 5.153291594497779, 5.056245805348308, 4.68213122712422, 4.2626798770413155, 3.6888794541139363, 5.53338948872752, 5.231108616854587, 4.890349128221754], \"yaxis\": \"y\"}],                        {\"barmode\": \"relative\", \"legend\": {\"tracegroupgap\": 0}, \"margin\": {\"t\": 60}, \"template\": {\"data\": {\"bar\": [{\"error_x\": {\"color\": \"#2a3f5f\"}, \"error_y\": {\"color\": \"#2a3f5f\"}, \"marker\": {\"line\": {\"color\": \"#E5ECF6\", \"width\": 0.5}}, \"type\": \"bar\"}], \"barpolar\": [{\"marker\": {\"line\": {\"color\": \"#E5ECF6\", \"width\": 0.5}}, \"type\": \"barpolar\"}], \"carpet\": [{\"aaxis\": {\"endlinecolor\": \"#2a3f5f\", \"gridcolor\": \"white\", \"linecolor\": \"white\", \"minorgridcolor\": \"white\", \"startlinecolor\": \"#2a3f5f\"}, \"baxis\": {\"endlinecolor\": \"#2a3f5f\", \"gridcolor\": \"white\", \"linecolor\": \"white\", \"minorgridcolor\": \"white\", \"startlinecolor\": \"#2a3f5f\"}, \"type\": \"carpet\"}], \"choropleth\": [{\"colorbar\": {\"outlinewidth\": 0, \"ticks\": \"\"}, \"type\": \"choropleth\"}], \"contour\": [{\"colorbar\": {\"outlinewidth\": 0, \"ticks\": \"\"}, \"colorscale\": [[0.0, \"#0d0887\"], [0.1111111111111111, \"#46039f\"], [0.2222222222222222, \"#7201a8\"], [0.3333333333333333, \"#9c179e\"], [0.4444444444444444, \"#bd3786\"], [0.5555555555555556, \"#d8576b\"], [0.6666666666666666, \"#ed7953\"], [0.7777777777777778, \"#fb9f3a\"], [0.8888888888888888, \"#fdca26\"], [1.0, \"#f0f921\"]], \"type\": \"contour\"}], \"contourcarpet\": [{\"colorbar\": {\"outlinewidth\": 0, \"ticks\": \"\"}, \"type\": \"contourcarpet\"}], \"heatmap\": [{\"colorbar\": {\"outlinewidth\": 0, \"ticks\": \"\"}, \"colorscale\": [[0.0, \"#0d0887\"], [0.1111111111111111, \"#46039f\"], [0.2222222222222222, \"#7201a8\"], [0.3333333333333333, \"#9c179e\"], [0.4444444444444444, \"#bd3786\"], [0.5555555555555556, \"#d8576b\"], [0.6666666666666666, \"#ed7953\"], [0.7777777777777778, \"#fb9f3a\"], [0.8888888888888888, \"#fdca26\"], [1.0, \"#f0f921\"]], \"type\": \"heatmap\"}], \"heatmapgl\": [{\"colorbar\": {\"outlinewidth\": 0, \"ticks\": \"\"}, \"colorscale\": [[0.0, \"#0d0887\"], [0.1111111111111111, \"#46039f\"], [0.2222222222222222, \"#7201a8\"], [0.3333333333333333, \"#9c179e\"], [0.4444444444444444, \"#bd3786\"], [0.5555555555555556, \"#d8576b\"], [0.6666666666666666, \"#ed7953\"], [0.7777777777777778, \"#fb9f3a\"], [0.8888888888888888, \"#fdca26\"], [1.0, \"#f0f921\"]], \"type\": \"heatmapgl\"}], \"histogram\": [{\"marker\": {\"colorbar\": {\"outlinewidth\": 0, \"ticks\": \"\"}}, \"type\": \"histogram\"}], \"histogram2d\": [{\"colorbar\": {\"outlinewidth\": 0, \"ticks\": \"\"}, \"colorscale\": [[0.0, \"#0d0887\"], [0.1111111111111111, \"#46039f\"], [0.2222222222222222, \"#7201a8\"], [0.3333333333333333, \"#9c179e\"], [0.4444444444444444, \"#bd3786\"], [0.5555555555555556, \"#d8576b\"], [0.6666666666666666, \"#ed7953\"], [0.7777777777777778, \"#fb9f3a\"], [0.8888888888888888, \"#fdca26\"], [1.0, \"#f0f921\"]], \"type\": \"histogram2d\"}], \"histogram2dcontour\": [{\"colorbar\": {\"outlinewidth\": 0, \"ticks\": \"\"}, \"colorscale\": [[0.0, \"#0d0887\"], [0.1111111111111111, \"#46039f\"], [0.2222222222222222, \"#7201a8\"], [0.3333333333333333, \"#9c179e\"], [0.4444444444444444, \"#bd3786\"], [0.5555555555555556, \"#d8576b\"], [0.6666666666666666, \"#ed7953\"], [0.7777777777777778, \"#fb9f3a\"], [0.8888888888888888, \"#fdca26\"], [1.0, \"#f0f921\"]], \"type\": \"histogram2dcontour\"}], \"mesh3d\": [{\"colorbar\": {\"outlinewidth\": 0, \"ticks\": \"\"}, \"type\": \"mesh3d\"}], \"parcoords\": [{\"line\": {\"colorbar\": {\"outlinewidth\": 0, \"ticks\": \"\"}}, \"type\": \"parcoords\"}], \"pie\": [{\"automargin\": true, \"type\": \"pie\"}], \"scatter\": [{\"marker\": {\"colorbar\": {\"outlinewidth\": 0, \"ticks\": \"\"}}, \"type\": \"scatter\"}], \"scatter3d\": [{\"line\": {\"colorbar\": {\"outlinewidth\": 0, \"ticks\": \"\"}}, \"marker\": {\"colorbar\": {\"outlinewidth\": 0, \"ticks\": \"\"}}, \"type\": \"scatter3d\"}], \"scattercarpet\": [{\"marker\": {\"colorbar\": {\"outlinewidth\": 0, \"ticks\": \"\"}}, \"type\": \"scattercarpet\"}], \"scattergeo\": [{\"marker\": {\"colorbar\": {\"outlinewidth\": 0, \"ticks\": \"\"}}, \"type\": \"scattergeo\"}], \"scattergl\": [{\"marker\": {\"colorbar\": {\"outlinewidth\": 0, \"ticks\": \"\"}}, \"type\": \"scattergl\"}], \"scattermapbox\": [{\"marker\": {\"colorbar\": {\"outlinewidth\": 0, \"ticks\": \"\"}}, \"type\": \"scattermapbox\"}], \"scatterpolar\": [{\"marker\": {\"colorbar\": {\"outlinewidth\": 0, \"ticks\": \"\"}}, \"type\": \"scatterpolar\"}], \"scatterpolargl\": [{\"marker\": {\"colorbar\": {\"outlinewidth\": 0, \"ticks\": \"\"}}, \"type\": \"scatterpolargl\"}], \"scatterternary\": [{\"marker\": {\"colorbar\": {\"outlinewidth\": 0, \"ticks\": \"\"}}, \"type\": \"scatterternary\"}], \"surface\": [{\"colorbar\": {\"outlinewidth\": 0, \"ticks\": \"\"}, \"colorscale\": [[0.0, \"#0d0887\"], [0.1111111111111111, \"#46039f\"], [0.2222222222222222, \"#7201a8\"], [0.3333333333333333, \"#9c179e\"], [0.4444444444444444, \"#bd3786\"], [0.5555555555555556, \"#d8576b\"], [0.6666666666666666, \"#ed7953\"], [0.7777777777777778, \"#fb9f3a\"], [0.8888888888888888, \"#fdca26\"], [1.0, \"#f0f921\"]], \"type\": \"surface\"}], \"table\": [{\"cells\": {\"fill\": {\"color\": \"#EBF0F8\"}, \"line\": {\"color\": \"white\"}}, \"header\": {\"fill\": {\"color\": \"#C8D4E3\"}, \"line\": {\"color\": \"white\"}}, \"type\": \"table\"}]}, \"layout\": {\"annotationdefaults\": {\"arrowcolor\": \"#2a3f5f\", \"arrowhead\": 0, \"arrowwidth\": 1}, \"coloraxis\": {\"colorbar\": {\"outlinewidth\": 0, \"ticks\": \"\"}}, \"colorscale\": {\"diverging\": [[0, \"#8e0152\"], [0.1, \"#c51b7d\"], [0.2, \"#de77ae\"], [0.3, \"#f1b6da\"], [0.4, \"#fde0ef\"], [0.5, \"#f7f7f7\"], [0.6, \"#e6f5d0\"], [0.7, \"#b8e186\"], [0.8, \"#7fbc41\"], [0.9, \"#4d9221\"], [1, \"#276419\"]], \"sequential\": [[0.0, \"#0d0887\"], [0.1111111111111111, \"#46039f\"], [0.2222222222222222, \"#7201a8\"], [0.3333333333333333, \"#9c179e\"], [0.4444444444444444, \"#bd3786\"], [0.5555555555555556, \"#d8576b\"], [0.6666666666666666, \"#ed7953\"], [0.7777777777777778, \"#fb9f3a\"], [0.8888888888888888, \"#fdca26\"], [1.0, \"#f0f921\"]], \"sequentialminus\": [[0.0, \"#0d0887\"], [0.1111111111111111, \"#46039f\"], [0.2222222222222222, \"#7201a8\"], [0.3333333333333333, \"#9c179e\"], [0.4444444444444444, \"#bd3786\"], [0.5555555555555556, \"#d8576b\"], [0.6666666666666666, \"#ed7953\"], [0.7777777777777778, \"#fb9f3a\"], [0.8888888888888888, \"#fdca26\"], [1.0, \"#f0f921\"]]}, \"colorway\": [\"#636efa\", \"#EF553B\", \"#00cc96\", \"#ab63fa\", \"#FFA15A\", \"#19d3f3\", \"#FF6692\", \"#B6E880\", \"#FF97FF\", \"#FECB52\"], \"font\": {\"color\": \"#2a3f5f\"}, \"geo\": {\"bgcolor\": \"white\", \"lakecolor\": \"white\", \"landcolor\": \"#E5ECF6\", \"showlakes\": true, \"showland\": true, \"subunitcolor\": \"white\"}, \"hoverlabel\": {\"align\": \"left\"}, \"hovermode\": \"closest\", \"mapbox\": {\"style\": \"light\"}, \"paper_bgcolor\": \"white\", \"plot_bgcolor\": \"#E5ECF6\", \"polar\": {\"angularaxis\": {\"gridcolor\": \"white\", \"linecolor\": \"white\", \"ticks\": \"\"}, \"bgcolor\": \"#E5ECF6\", \"radialaxis\": {\"gridcolor\": \"white\", \"linecolor\": \"white\", \"ticks\": \"\"}}, \"scene\": {\"xaxis\": {\"backgroundcolor\": \"#E5ECF6\", \"gridcolor\": \"white\", \"gridwidth\": 2, \"linecolor\": \"white\", \"showbackground\": true, \"ticks\": \"\", \"zerolinecolor\": \"white\"}, \"yaxis\": {\"backgroundcolor\": \"#E5ECF6\", \"gridcolor\": \"white\", \"gridwidth\": 2, \"linecolor\": \"white\", \"showbackground\": true, \"ticks\": \"\", \"zerolinecolor\": \"white\"}, \"zaxis\": {\"backgroundcolor\": \"#E5ECF6\", \"gridcolor\": \"white\", \"gridwidth\": 2, \"linecolor\": \"white\", \"showbackground\": true, \"ticks\": \"\", \"zerolinecolor\": \"white\"}}, \"shapedefaults\": {\"line\": {\"color\": \"#2a3f5f\"}}, \"ternary\": {\"aaxis\": {\"gridcolor\": \"white\", \"linecolor\": \"white\", \"ticks\": \"\"}, \"baxis\": {\"gridcolor\": \"white\", \"linecolor\": \"white\", \"ticks\": \"\"}, \"bgcolor\": \"#E5ECF6\", \"caxis\": {\"gridcolor\": \"white\", \"linecolor\": \"white\", \"ticks\": \"\"}}, \"title\": {\"x\": 0.05}, \"xaxis\": {\"automargin\": true, \"gridcolor\": \"white\", \"linecolor\": \"white\", \"ticks\": \"\", \"title\": {\"standoff\": 15}, \"zerolinecolor\": \"white\", \"zerolinewidth\": 2}, \"yaxis\": {\"automargin\": true, \"gridcolor\": \"white\", \"linecolor\": \"white\", \"ticks\": \"\", \"title\": {\"standoff\": 15}, \"zerolinecolor\": \"white\", \"zerolinewidth\": 2}}}, \"title\": {\"text\": \"LoanAmount\"}, \"xaxis\": {\"anchor\": \"y\", \"domain\": [0.0, 1.0], \"title\": {\"text\": \"LoanAmount\"}}, \"yaxis\": {\"anchor\": \"x\", \"domain\": [0.0, 1.0], \"title\": {\"text\": \"sum of LoanAmount\"}}},                        {\"responsive\": true}                    ).then(function(){\n",
       "                            \n",
       "var gd = document.getElementById('b2172baf-afc3-4bc0-b92d-b3978ab12c27');\n",
       "var x = new MutationObserver(function (mutations, observer) {{\n",
       "        var display = window.getComputedStyle(gd).display;\n",
       "        if (!display || display === 'none') {{\n",
       "            console.log([gd, 'removed!']);\n",
       "            Plotly.purge(gd);\n",
       "            observer.disconnect();\n",
       "        }}\n",
       "}});\n",
       "\n",
       "// Listen for the removal of the full notebook cells\n",
       "var notebookContainer = gd.closest('#notebook-container');\n",
       "if (notebookContainer) {{\n",
       "    x.observe(notebookContainer, {childList: true});\n",
       "}}\n",
       "\n",
       "// Listen for the clearing of the current output cell\n",
       "var outputEl = gd.closest('.output');\n",
       "if (outputEl) {{\n",
       "    x.observe(outputEl, {childList: true});\n",
       "}}\n",
       "\n",
       "                        })                };                });            </script>        </div>"
      ]
     },
     "metadata": {},
     "output_type": "display_data"
    },
    {
     "data": {
      "text/plain": [
       "<Figure size 720x288 with 0 Axes>"
      ]
     },
     "metadata": {},
     "output_type": "display_data"
    }
   ],
   "source": [
    "#Treating outliers and Converting data to Normal Distribution\n",
    "#Before removing outlier\n",
    "\n",
    "print(\"\\nMean:->\\n\")\n",
    "print(\"ApplicantIncome: \",np.mean(data[\"ApplicantIncome\"]))\n",
    "print(\"CoapplicantIncome: \",np.mean(data[\"CoapplicantIncome\"]))\n",
    "print(\"LoanAmount: \",np.mean(data[\"LoanAmount\"]))\n",
    "\n",
    "print(\"\\nMode:->\\n\")\n",
    "print(\"ApplicantIncome: \",stats.mode(data[\"ApplicantIncome\"])[0])\n",
    "print(\"CoapplicantIncome: \",stats.mode(data[\"CoapplicantIncome\"])[0])\n",
    "print(\"LoanAmount: \",stats.mode(data[\"LoanAmount\"])[0])\n",
    "\n",
    "print(\"\\nMedian:->\\n\")\n",
    "print(\"ApplicantIncome: \",np.median(data[\"ApplicantIncome\"]))\n",
    "print(\"CoapplicantIncome: \",np.median(data[\"CoapplicantIncome\"]))\n",
    "print(\"LoanAmount: \",np.median(data[\"LoanAmount\"]))\n",
    "\n",
    "print(\"\\nStandard Deviation:->\\n\")\n",
    "print(\"ApplicantIncome: \",np.std(data[\"ApplicantIncome\"]))\n",
    "print(\"CoapplicantIncome: \",np.std(data[\"CoapplicantIncome\"]))\n",
    "print(\"LoanAmount: \",np.std(data[\"LoanAmount\"]))\n",
    "\n",
    "fig = px.histogram(data[\"ApplicantIncome\"],x =\"ApplicantIncome\" ,y = \"ApplicantIncome\" )\n",
    "fig.update_layout(title=\"ApplicantIncome\")\n",
    "fig.show()\n",
    "\n",
    "fig = px.histogram(data[\"CoapplicantIncome\"],x =\"CoapplicantIncome\" ,y = \"CoapplicantIncome\" )\n",
    "fig.update_layout(title=\"CoapplicantIncome\")\n",
    "fig.show()\n",
    "\n",
    "fig = px.histogram(data[\"LoanAmount\"],x =\"LoanAmount\" ,y = \"LoanAmount\" )\n",
    "fig.update_layout(title=\"LoanAmount\")\n",
    "fig.show()\n",
    "\n",
    "####################################################################################################\n",
    "#Getting log value :->\n",
    "\n",
    "data[\"ApplicantIncome\"] = np.log(data[\"ApplicantIncome\"])\n",
    "#As \"CoapplicantIncome\" columns has some \"0\" values we will get log values except \"0\"\n",
    "data[\"CoapplicantIncome\"] = [np.log(i) if i!=0 else 0 for i in data[\"CoapplicantIncome\"]]\n",
    "data[\"LoanAmount\"] = np.log(data[\"LoanAmount\"])\n",
    "####################################################################################################\n",
    "\n",
    "print(\"---------------------------After converting to Normal Distributed data----------------------\")\n",
    "\n",
    "print(\"\\nMean:->\\n\")\n",
    "print(\"ApplicantIncome: \",np.mean(data[\"ApplicantIncome\"]))\n",
    "print(\"CoapplicantIncome: \",np.mean(data[\"CoapplicantIncome\"]))\n",
    "print(\"LoanAmount: \",np.mean(data[\"LoanAmount\"]))\n",
    "\n",
    "print(\"\\nMode:->\\n\")\n",
    "print(\"ApplicantIncome: \",stats.mode(data[\"ApplicantIncome\"])[0])\n",
    "print(\"CoapplicantIncome: \",stats.mode(data[\"CoapplicantIncome\"])[0])\n",
    "print(\"LoanAmount: \",stats.mode(data[\"LoanAmount\"])[0])\n",
    "\n",
    "print(\"\\nMedian:->\\n\")\n",
    "print(\"ApplicantIncome: \",np.median(data[\"ApplicantIncome\"]))\n",
    "print(\"CoapplicantIncome: \",np.median(data[\"CoapplicantIncome\"]))\n",
    "print(\"LoanAmount: \",np.median(data[\"LoanAmount\"]))\n",
    "\n",
    "print(\"\\nStandard Deviation:->\\n\")\n",
    "print(\"ApplicantIncome: \",np.std(data[\"ApplicantIncome\"]))\n",
    "print(\"CoapplicantIncome: \",np.std(data[\"CoapplicantIncome\"]))\n",
    "print(\"LoanAmount: \",np.std(data[\"LoanAmount\"]))\n",
    "\n",
    "plt.figure(figsize=(10,4))\n",
    "fig = px.histogram(data[\"ApplicantIncome\"],x =\"ApplicantIncome\" ,y = \"ApplicantIncome\" )\n",
    "fig.update_layout(title=\"ApplicantIncome\")\n",
    "fig.show()\n",
    "\n",
    "fig = px.histogram(data[\"CoapplicantIncome\"],x =\"CoapplicantIncome\" ,y = \"CoapplicantIncome\" )\n",
    "fig.update_layout(title=\"CoapplicantIncome\")\n",
    "fig.show()\n",
    "\n",
    "fig = px.histogram(data[\"LoanAmount\"],x =\"LoanAmount\" ,y = \"LoanAmount\" )\n",
    "fig.update_layout(title=\"LoanAmount\")\n",
    "fig.show()"
   ]
  },
  {
   "cell_type": "code",
   "execution_count": 13,
   "metadata": {
    "execution": {
     "iopub.execute_input": "2020-11-28T21:16:11.381205Z",
     "iopub.status.busy": "2020-11-28T21:16:11.380479Z",
     "iopub.status.idle": "2020-11-28T21:16:11.385483Z",
     "shell.execute_reply": "2020-11-28T21:16:11.384839Z"
    },
    "papermill": {
     "duration": 0.060041,
     "end_time": "2020-11-28T21:16:11.385586",
     "exception": false,
     "start_time": "2020-11-28T21:16:11.325545",
     "status": "completed"
    },
    "tags": []
   },
   "outputs": [
    {
     "data": {
      "text/html": [
       "<div>\n",
       "<style scoped>\n",
       "    .dataframe tbody tr th:only-of-type {\n",
       "        vertical-align: middle;\n",
       "    }\n",
       "\n",
       "    .dataframe tbody tr th {\n",
       "        vertical-align: top;\n",
       "    }\n",
       "\n",
       "    .dataframe thead th {\n",
       "        text-align: right;\n",
       "    }\n",
       "</style>\n",
       "<table border=\"1\" class=\"dataframe\">\n",
       "  <thead>\n",
       "    <tr style=\"text-align: right;\">\n",
       "      <th></th>\n",
       "      <th>Loan_ID</th>\n",
       "      <th>Gender</th>\n",
       "      <th>Married</th>\n",
       "      <th>Dependents</th>\n",
       "      <th>Education</th>\n",
       "      <th>Self_Employed</th>\n",
       "      <th>ApplicantIncome</th>\n",
       "      <th>CoapplicantIncome</th>\n",
       "      <th>LoanAmount</th>\n",
       "      <th>Loan_Amount_Term</th>\n",
       "      <th>Credit_History</th>\n",
       "      <th>Property_Area</th>\n",
       "      <th>Loan_Status</th>\n",
       "    </tr>\n",
       "  </thead>\n",
       "  <tbody>\n",
       "    <tr>\n",
       "      <th>0</th>\n",
       "      <td>LP001002</td>\n",
       "      <td>Male</td>\n",
       "      <td>No</td>\n",
       "      <td>0</td>\n",
       "      <td>Graduate</td>\n",
       "      <td>No</td>\n",
       "      <td>8.674026</td>\n",
       "      <td>0.000000</td>\n",
       "      <td>4.852030</td>\n",
       "      <td>360.0</td>\n",
       "      <td>1.0</td>\n",
       "      <td>Urban</td>\n",
       "      <td>Y</td>\n",
       "    </tr>\n",
       "    <tr>\n",
       "      <th>1</th>\n",
       "      <td>LP001003</td>\n",
       "      <td>Male</td>\n",
       "      <td>Yes</td>\n",
       "      <td>1</td>\n",
       "      <td>Graduate</td>\n",
       "      <td>No</td>\n",
       "      <td>8.430109</td>\n",
       "      <td>7.318540</td>\n",
       "      <td>4.852030</td>\n",
       "      <td>360.0</td>\n",
       "      <td>1.0</td>\n",
       "      <td>Rural</td>\n",
       "      <td>N</td>\n",
       "    </tr>\n",
       "    <tr>\n",
       "      <th>2</th>\n",
       "      <td>LP001005</td>\n",
       "      <td>Male</td>\n",
       "      <td>Yes</td>\n",
       "      <td>0</td>\n",
       "      <td>Graduate</td>\n",
       "      <td>Yes</td>\n",
       "      <td>8.006368</td>\n",
       "      <td>0.000000</td>\n",
       "      <td>4.189655</td>\n",
       "      <td>360.0</td>\n",
       "      <td>1.0</td>\n",
       "      <td>Urban</td>\n",
       "      <td>Y</td>\n",
       "    </tr>\n",
       "    <tr>\n",
       "      <th>3</th>\n",
       "      <td>LP001006</td>\n",
       "      <td>Male</td>\n",
       "      <td>Yes</td>\n",
       "      <td>0</td>\n",
       "      <td>Not Graduate</td>\n",
       "      <td>No</td>\n",
       "      <td>7.856707</td>\n",
       "      <td>7.765569</td>\n",
       "      <td>4.787492</td>\n",
       "      <td>360.0</td>\n",
       "      <td>1.0</td>\n",
       "      <td>Urban</td>\n",
       "      <td>Y</td>\n",
       "    </tr>\n",
       "    <tr>\n",
       "      <th>4</th>\n",
       "      <td>LP001008</td>\n",
       "      <td>Male</td>\n",
       "      <td>No</td>\n",
       "      <td>0</td>\n",
       "      <td>Graduate</td>\n",
       "      <td>No</td>\n",
       "      <td>8.699515</td>\n",
       "      <td>0.000000</td>\n",
       "      <td>4.948760</td>\n",
       "      <td>360.0</td>\n",
       "      <td>1.0</td>\n",
       "      <td>Urban</td>\n",
       "      <td>Y</td>\n",
       "    </tr>\n",
       "  </tbody>\n",
       "</table>\n",
       "</div>"
      ],
      "text/plain": [
       "    Loan_ID Gender Married  Dependents     Education Self_Employed  \\\n",
       "0  LP001002   Male      No           0      Graduate            No   \n",
       "1  LP001003   Male     Yes           1      Graduate            No   \n",
       "2  LP001005   Male     Yes           0      Graduate           Yes   \n",
       "3  LP001006   Male     Yes           0  Not Graduate            No   \n",
       "4  LP001008   Male      No           0      Graduate            No   \n",
       "\n",
       "   ApplicantIncome  CoapplicantIncome  LoanAmount  Loan_Amount_Term  \\\n",
       "0         8.674026           0.000000    4.852030             360.0   \n",
       "1         8.430109           7.318540    4.852030             360.0   \n",
       "2         8.006368           0.000000    4.189655             360.0   \n",
       "3         7.856707           7.765569    4.787492             360.0   \n",
       "4         8.699515           0.000000    4.948760             360.0   \n",
       "\n",
       "   Credit_History Property_Area Loan_Status  \n",
       "0             1.0         Urban           Y  \n",
       "1             1.0         Rural           N  \n",
       "2             1.0         Urban           Y  \n",
       "3             1.0         Urban           Y  \n",
       "4             1.0         Urban           Y  "
      ]
     },
     "execution_count": 13,
     "metadata": {},
     "output_type": "execute_result"
    }
   ],
   "source": [
    "data.head(5)"
   ]
  },
  {
   "cell_type": "code",
   "execution_count": 14,
   "metadata": {
    "execution": {
     "iopub.execute_input": "2020-11-28T21:16:11.485478Z",
     "iopub.status.busy": "2020-11-28T21:16:11.484813Z",
     "iopub.status.idle": "2020-11-28T21:16:11.490382Z",
     "shell.execute_reply": "2020-11-28T21:16:11.489810Z"
    },
    "papermill": {
     "duration": 0.066616,
     "end_time": "2020-11-28T21:16:11.490486",
     "exception": false,
     "start_time": "2020-11-28T21:16:11.423870",
     "status": "completed"
    },
    "tags": []
   },
   "outputs": [
    {
     "data": {
      "text/html": [
       "<div>\n",
       "<style scoped>\n",
       "    .dataframe tbody tr th:only-of-type {\n",
       "        vertical-align: middle;\n",
       "    }\n",
       "\n",
       "    .dataframe tbody tr th {\n",
       "        vertical-align: top;\n",
       "    }\n",
       "\n",
       "    .dataframe thead th {\n",
       "        text-align: right;\n",
       "    }\n",
       "</style>\n",
       "<table border=\"1\" class=\"dataframe\">\n",
       "  <thead>\n",
       "    <tr style=\"text-align: right;\">\n",
       "      <th></th>\n",
       "      <th>Loan_ID</th>\n",
       "      <th>Gender</th>\n",
       "      <th>Married</th>\n",
       "      <th>Dependents</th>\n",
       "      <th>Education</th>\n",
       "      <th>Self_Employed</th>\n",
       "      <th>ApplicantIncome</th>\n",
       "      <th>CoapplicantIncome</th>\n",
       "      <th>LoanAmount</th>\n",
       "      <th>Loan_Amount_Term</th>\n",
       "      <th>Credit_History</th>\n",
       "      <th>Property_Area</th>\n",
       "      <th>Loan_Status</th>\n",
       "    </tr>\n",
       "  </thead>\n",
       "  <tbody>\n",
       "    <tr>\n",
       "      <th>0</th>\n",
       "      <td>LP001002</td>\n",
       "      <td>1</td>\n",
       "      <td>0</td>\n",
       "      <td>0</td>\n",
       "      <td>0</td>\n",
       "      <td>0</td>\n",
       "      <td>8.674026</td>\n",
       "      <td>0.000000</td>\n",
       "      <td>4.852030</td>\n",
       "      <td>360.0</td>\n",
       "      <td>1.0</td>\n",
       "      <td>2</td>\n",
       "      <td>1</td>\n",
       "    </tr>\n",
       "    <tr>\n",
       "      <th>1</th>\n",
       "      <td>LP001003</td>\n",
       "      <td>1</td>\n",
       "      <td>1</td>\n",
       "      <td>1</td>\n",
       "      <td>0</td>\n",
       "      <td>0</td>\n",
       "      <td>8.430109</td>\n",
       "      <td>7.318540</td>\n",
       "      <td>4.852030</td>\n",
       "      <td>360.0</td>\n",
       "      <td>1.0</td>\n",
       "      <td>0</td>\n",
       "      <td>0</td>\n",
       "    </tr>\n",
       "    <tr>\n",
       "      <th>2</th>\n",
       "      <td>LP001005</td>\n",
       "      <td>1</td>\n",
       "      <td>1</td>\n",
       "      <td>0</td>\n",
       "      <td>0</td>\n",
       "      <td>1</td>\n",
       "      <td>8.006368</td>\n",
       "      <td>0.000000</td>\n",
       "      <td>4.189655</td>\n",
       "      <td>360.0</td>\n",
       "      <td>1.0</td>\n",
       "      <td>2</td>\n",
       "      <td>1</td>\n",
       "    </tr>\n",
       "    <tr>\n",
       "      <th>3</th>\n",
       "      <td>LP001006</td>\n",
       "      <td>1</td>\n",
       "      <td>1</td>\n",
       "      <td>0</td>\n",
       "      <td>1</td>\n",
       "      <td>0</td>\n",
       "      <td>7.856707</td>\n",
       "      <td>7.765569</td>\n",
       "      <td>4.787492</td>\n",
       "      <td>360.0</td>\n",
       "      <td>1.0</td>\n",
       "      <td>2</td>\n",
       "      <td>1</td>\n",
       "    </tr>\n",
       "    <tr>\n",
       "      <th>4</th>\n",
       "      <td>LP001008</td>\n",
       "      <td>1</td>\n",
       "      <td>0</td>\n",
       "      <td>0</td>\n",
       "      <td>0</td>\n",
       "      <td>0</td>\n",
       "      <td>8.699515</td>\n",
       "      <td>0.000000</td>\n",
       "      <td>4.948760</td>\n",
       "      <td>360.0</td>\n",
       "      <td>1.0</td>\n",
       "      <td>2</td>\n",
       "      <td>1</td>\n",
       "    </tr>\n",
       "  </tbody>\n",
       "</table>\n",
       "</div>"
      ],
      "text/plain": [
       "    Loan_ID  Gender  Married  Dependents  Education  Self_Employed  \\\n",
       "0  LP001002       1        0           0          0              0   \n",
       "1  LP001003       1        1           1          0              0   \n",
       "2  LP001005       1        1           0          0              1   \n",
       "3  LP001006       1        1           0          1              0   \n",
       "4  LP001008       1        0           0          0              0   \n",
       "\n",
       "   ApplicantIncome  CoapplicantIncome  LoanAmount  Loan_Amount_Term  \\\n",
       "0         8.674026           0.000000    4.852030             360.0   \n",
       "1         8.430109           7.318540    4.852030             360.0   \n",
       "2         8.006368           0.000000    4.189655             360.0   \n",
       "3         7.856707           7.765569    4.787492             360.0   \n",
       "4         8.699515           0.000000    4.948760             360.0   \n",
       "\n",
       "   Credit_History  Property_Area  Loan_Status  \n",
       "0             1.0              2            1  \n",
       "1             1.0              0            0  \n",
       "2             1.0              2            1  \n",
       "3             1.0              2            1  \n",
       "4             1.0              2            1  "
      ]
     },
     "execution_count": 14,
     "metadata": {},
     "output_type": "execute_result"
    }
   ],
   "source": [
    "data[\"Gender\"] = le.fit_transform(data[\"Gender\"])\n",
    "data[\"Married\"] = le.fit_transform(data[\"Married\"])\n",
    "data[\"Education\"] = le.fit_transform(data[\"Education\"])\n",
    "data[\"Self_Employed\"] = le.fit_transform(data[\"Self_Employed\"])\n",
    "data[\"Property_Area\"] = le.fit_transform(data[\"Property_Area\"])\n",
    "data[\"Loan_Status\"] = le.fit_transform(data[\"Loan_Status\"])\n",
    "\n",
    "#data = pd.get_dummies(data)\n",
    "data.head(5)"
   ]
  },
  {
   "cell_type": "code",
   "execution_count": 15,
   "metadata": {
    "execution": {
     "iopub.execute_input": "2020-11-28T21:16:11.578349Z",
     "iopub.status.busy": "2020-11-28T21:16:11.576440Z",
     "iopub.status.idle": "2020-11-28T21:16:11.581286Z",
     "shell.execute_reply": "2020-11-28T21:16:11.581751Z"
    },
    "papermill": {
     "duration": 0.052346,
     "end_time": "2020-11-28T21:16:11.581903",
     "exception": false,
     "start_time": "2020-11-28T21:16:11.529557",
     "status": "completed"
    },
    "tags": []
   },
   "outputs": [],
   "source": [
    "#Dividing data into Input X variables and Target Y variable\n",
    "X = data.drop([\"Loan_Status\",\"Loan_ID\"],axis=1)\n",
    "y = data[\"Loan_Status\"]"
   ]
  },
  {
   "cell_type": "code",
   "execution_count": 16,
   "metadata": {
    "execution": {
     "iopub.execute_input": "2020-11-28T21:16:11.692736Z",
     "iopub.status.busy": "2020-11-28T21:16:11.675229Z",
     "iopub.status.idle": "2020-11-28T21:16:14.956718Z",
     "shell.execute_reply": "2020-11-28T21:16:14.956028Z"
    },
    "papermill": {
     "duration": 3.334367,
     "end_time": "2020-11-28T21:16:14.956843",
     "exception": false,
     "start_time": "2020-11-28T21:16:11.622476",
     "status": "completed"
    },
    "tags": []
   },
   "outputs": [
    {
     "name": "stdout",
     "output_type": "stream",
     "text": [
      "Feature importance by XGBoost:->\n",
      "\n",
      "Gender -> 0.032498196\n",
      "Married -> 0.038461618\n",
      "Dependents -> 0.042435512\n",
      "Education -> 0.06297734\n",
      "Self_Employed -> 0.04353367\n",
      "ApplicantIncome -> 0.04360314\n",
      "CoapplicantIncome -> 0.057352304\n",
      "LoanAmount -> 0.04579362\n",
      "Loan_Amount_Term -> 0.049817037\n",
      "Credit_History -> 0.53902644\n",
      "Property_Area -> 0.044501156\n"
     ]
    },
    {
     "data": {
      "image/png": "[encoded data removed]",
      "text/plain": [
       "<Figure size 1152x360 with 1 Axes>"
      ]
     },
     "metadata": {
      "needs_background": "light"
     },
     "output_type": "display_data"
    },
    {
     "name": "stdout",
     "output_type": "stream",
     "text": [
      "Feature importance by Random Forest:->\n",
      "\n",
      "Gender -> 0.018013387044520754\n",
      "Married -> 0.02289823970487089\n",
      "Dependents -> 0.04696166814959998\n",
      "Education -> 0.023988258636634105\n",
      "Self_Employed -> 0.019991372628825117\n",
      "ApplicantIncome -> 0.20723099330246286\n",
      "CoapplicantIncome -> 0.11737679311395731\n",
      "LoanAmount -> 0.1920139798998223\n",
      "Loan_Amount_Term -> 0.04417835093420457\n",
      "Credit_History -> 0.2615528337183177\n",
      "Property_Area -> 0.045794122866784456\n"
     ]
    },
    {
     "data": {
      "image/png": "[encoded data removed]",
      "text/plain": [
       "<Figure size 432x288 with 1 Axes>"
      ]
     },
     "metadata": {
      "needs_background": "light"
     },
     "output_type": "display_data"
    },
    {
     "data": {
      "image/png": "[encoded data removed]",
      "text/plain": [
       "<Figure size 1152x360 with 1 Axes>"
      ]
     },
     "metadata": {
      "needs_background": "light"
     },
     "output_type": "display_data"
    },
    {
     "name": "stdout",
     "output_type": "stream",
     "text": [
      "Feature importance by Decision Tree:->\n",
      "\n",
      "Gender -> 0.011409102378444794\n",
      "Married -> 0.013169088111200884\n",
      "Dependents -> 0.06983542936663795\n",
      "Education -> 0.023749865563382752\n",
      "Self_Employed -> 0.02823707731512826\n",
      "ApplicantIncome -> 0.2452353083954443\n",
      "CoapplicantIncome -> 0.08659760627739987\n",
      "LoanAmount -> 0.16469612925908075\n",
      "Loan_Amount_Term -> 0.030321244601189533\n",
      "Credit_History -> 0.29220086689201125\n",
      "Property_Area -> 0.03454828184007955\n"
     ]
    },
    {
     "data": {
      "image/png": "[encoded data removed]",
      "text/plain": [
       "<Figure size 1152x360 with 1 Axes>"
      ]
     },
     "metadata": {
      "needs_background": "light"
     },
     "output_type": "display_data"
    },
    {
     "name": "stdout",
     "output_type": "stream",
     "text": [
      "Feature importance by Suppoprt Vector Machine:->\n",
      "\n",
      "Gender -> -0.011153748611402614\n",
      "Married -> 0.01643362180294139\n",
      "Dependents -> -0.0003948864299211721\n",
      "Education -> -0.007897250281862611\n",
      "Self_Employed -> -0.0045186612877454735\n",
      "ApplicantIncome -> 0.00950971393872102\n",
      "CoapplicantIncome -> 0.0009391121595029375\n",
      "LoanAmount -> -0.012713675349107056\n",
      "Loan_Amount_Term -> 8.910680668350324e-05\n",
      "Credit_History -> 2.0812104159306477\n",
      "Property_Area -> -0.0006557085562250223\n"
     ]
    },
    {
     "data": {
      "image/png": "[encoded data removed]",
      "text/plain": [
       "<Figure size 1152x360 with 1 Axes>"
      ]
     },
     "metadata": {
      "needs_background": "light"
     },
     "output_type": "display_data"
    },
    {
     "name": "stdout",
     "output_type": "stream",
     "text": [
      "Feature importance by Logistic Regression:->\n",
      "\n",
      "Gender -> -0.181484637259901\n",
      "Married -> 0.44014360839964\n",
      "Dependents -> 0.06301982994975869\n",
      "Education -> -0.4009414914115258\n",
      "Self_Employed -> 0.05516512076196314\n",
      "ApplicantIncome -> 0.10447253759465827\n",
      "CoapplicantIncome -> 0.04818512938501722\n",
      "LoanAmount -> -0.5512357269222531\n",
      "Loan_Amount_Term -> -0.0012382458080667969\n",
      "Credit_History -> 3.2793318521166466\n",
      "Property_Area -> 0.07487343949293385\n"
     ]
    },
    {
     "data": {
      "image/png": "[encoded data removed]",
      "text/plain": [
       "<Figure size 1152x360 with 1 Axes>"
      ]
     },
     "metadata": {
      "needs_background": "light"
     },
     "output_type": "display_data"
    }
   ],
   "source": [
    "print(\"Feature importance by XGBoost:->\\n\")\n",
    "XGBR = XGBClassifier()\n",
    "XGBR.fit(X,y)\n",
    "features = XGBR.feature_importances_\n",
    "Columns = list(X.columns)\n",
    "for i,j in enumerate(features):\n",
    "    print(Columns[i],\"->\",j)\n",
    "plt.figure(figsize=(16,5))\n",
    "plt.title(label=\"XGBC\")\n",
    "plt.bar([x for x in range(len(features))],features)\n",
    "plt.show()\n",
    "\n",
    "plot_importance(XGBR)\n",
    "\n",
    "print(\"Feature importance by Random Forest:->\\n\")\n",
    "RF = RandomForestClassifier()\n",
    "RF.fit(X,y)\n",
    "features = RF.feature_importances_\n",
    "Columns = list(X.columns)\n",
    "for i,j in enumerate(features):\n",
    "    print(Columns[i],\"->\",j)\n",
    "plt.figure(figsize=(16,5))\n",
    "plt.title(label=\"RF\")\n",
    "plt.bar([x for x in range(len(features))],features)\n",
    "plt.show()\n",
    "\n",
    "print(\"Feature importance by Decision Tree:->\\n\")\n",
    "DT = DecisionTreeClassifier()\n",
    "DT.fit(X,y)\n",
    "features = DT.feature_importances_\n",
    "Columns = list(X.columns)\n",
    "for i,j in enumerate(features):\n",
    "    print(Columns[i],\"->\",j)\n",
    "plt.figure(figsize=(16,5))\n",
    "plt.title(label=\"DT\")\n",
    "plt.bar([x for x in range(len(features))],features)\n",
    "plt.show()\n",
    "\n",
    "print(\"Feature importance by Suppoprt Vector Machine:->\\n\")\n",
    "SVM = SVC(kernel=\"linear\")\n",
    "SVM.fit(X,y)\n",
    "features = SVM.coef_[0]\n",
    "Columns = list(X.columns)\n",
    "for i,j in enumerate(features):\n",
    "    print(Columns[i],\"->\",j)\n",
    "plt.figure(figsize=(16,5))\n",
    "plt.bar([x for x in range(len(features))],features)\n",
    "plt.show()\n",
    "\n",
    "print(\"Feature importance by Logistic Regression:->\\n\")\n",
    "LOGC = LogisticRegression()\n",
    "LOGC.fit(X,y)\n",
    "features = LOGC.coef_[0]\n",
    "Columns = list(X.columns)\n",
    "for i,j in enumerate(features):\n",
    "    print(Columns[i],\"->\",j)\n",
    "plt.figure(figsize=(16,5))\n",
    "plt.title(label=\"LOGC\")\n",
    "plt.bar([x for x in range(len(features))],features)\n",
    "plt.show()"
   ]
  },
  {
   "cell_type": "code",
   "execution_count": 17,
   "metadata": {
    "execution": {
     "iopub.execute_input": "2020-11-28T21:16:15.105791Z",
     "iopub.status.busy": "2020-11-28T21:16:15.104959Z",
     "iopub.status.idle": "2020-11-28T21:16:15.160797Z",
     "shell.execute_reply": "2020-11-28T21:16:15.160120Z"
    },
    "papermill": {
     "duration": 0.139938,
     "end_time": "2020-11-28T21:16:15.160913",
     "exception": false,
     "start_time": "2020-11-28T21:16:15.020975",
     "status": "completed"
    },
    "tags": []
   },
   "outputs": [
    {
     "name": "stdout",
     "output_type": "stream",
     "text": [
      "Count of 1<Approved>:  422 \n",
      "Count of 0<Rejected>:  192\n"
     ]
    },
    {
     "data": {
      "text/html": [
       "<div>                            <div id=\"81adbf09-ee86-4092-b894-66799f7a4310\" class=\"plotly-graph-div\" style=\"height:525px; width:100%;\"></div>            <script type=\"text/javascript\">                require([\"plotly\"], function(Plotly) {                    window.PLOTLYENV=window.PLOTLYENV || {};                                    if (document.getElementById(\"81adbf09-ee86-4092-b894-66799f7a4310\")) {                    Plotly.newPlot(                        \"81adbf09-ee86-4092-b894-66799f7a4310\",                        [{\"alignmentgroup\": \"True\", \"hovertemplate\": \"x=%{x}<br>y=%{y}<br>color=%{marker.color}<extra></extra>\", \"legendgroup\": \"\", \"marker\": {\"color\": [422, 192], \"coloraxis\": \"coloraxis\"}, \"name\": \"\", \"offsetgroup\": \"\", \"orientation\": \"v\", \"showlegend\": false, \"textposition\": \"auto\", \"type\": \"bar\", \"x\": [\"Approved\", \"Rejected\"], \"xaxis\": \"x\", \"y\": [422, 192], \"yaxis\": \"y\"}],                        {\"barmode\": \"relative\", \"coloraxis\": {\"colorbar\": {\"title\": {\"text\": \"color\"}}, \"colorscale\": [[0.0, \"#0d0887\"], [0.1111111111111111, \"#46039f\"], [0.2222222222222222, \"#7201a8\"], [0.3333333333333333, \"#9c179e\"], [0.4444444444444444, \"#bd3786\"], [0.5555555555555556, \"#d8576b\"], [0.6666666666666666, \"#ed7953\"], [0.7777777777777778, \"#fb9f3a\"], [0.8888888888888888, \"#fdca26\"], [1.0, \"#f0f921\"]]}, \"legend\": {\"tracegroupgap\": 0}, \"margin\": {\"t\": 60}, \"template\": {\"data\": {\"bar\": [{\"error_x\": {\"color\": \"#2a3f5f\"}, \"error_y\": {\"color\": \"#2a3f5f\"}, \"marker\": {\"line\": {\"color\": \"#E5ECF6\", \"width\": 0.5}}, \"type\": \"bar\"}], \"barpolar\": [{\"marker\": {\"line\": {\"color\": \"#E5ECF6\", \"width\": 0.5}}, \"type\": \"barpolar\"}], \"carpet\": [{\"aaxis\": {\"endlinecolor\": \"#2a3f5f\", \"gridcolor\": \"white\", \"linecolor\": \"white\", \"minorgridcolor\": \"white\", \"startlinecolor\": \"#2a3f5f\"}, \"baxis\": {\"endlinecolor\": \"#2a3f5f\", \"gridcolor\": \"white\", \"linecolor\": \"white\", \"minorgridcolor\": \"white\", \"startlinecolor\": \"#2a3f5f\"}, \"type\": \"carpet\"}], \"choropleth\": [{\"colorbar\": {\"outlinewidth\": 0, \"ticks\": \"\"}, \"type\": \"choropleth\"}], \"contour\": [{\"colorbar\": {\"outlinewidth\": 0, \"ticks\": \"\"}, \"colorscale\": [[0.0, \"#0d0887\"], [0.1111111111111111, \"#46039f\"], [0.2222222222222222, \"#7201a8\"], [0.3333333333333333, \"#9c179e\"], [0.4444444444444444, \"#bd3786\"], [0.5555555555555556, \"#d8576b\"], [0.6666666666666666, \"#ed7953\"], [0.7777777777777778, \"#fb9f3a\"], [0.8888888888888888, \"#fdca26\"], [1.0, \"#f0f921\"]], \"type\": \"contour\"}], \"contourcarpet\": [{\"colorbar\": {\"outlinewidth\": 0, \"ticks\": \"\"}, \"type\": \"contourcarpet\"}], \"heatmap\": [{\"colorbar\": {\"outlinewidth\": 0, \"ticks\": \"\"}, \"colorscale\": [[0.0, \"#0d0887\"], [0.1111111111111111, \"#46039f\"], [0.2222222222222222, \"#7201a8\"], [0.3333333333333333, \"#9c179e\"], [0.4444444444444444, \"#bd3786\"], [0.5555555555555556, \"#d8576b\"], [0.6666666666666666, \"#ed7953\"], [0.7777777777777778, \"#fb9f3a\"], [0.8888888888888888, \"#fdca26\"], [1.0, \"#f0f921\"]], \"type\": \"heatmap\"}], \"heatmapgl\": [{\"colorbar\": {\"outlinewidth\": 0, \"ticks\": \"\"}, \"colorscale\": [[0.0, \"#0d0887\"], [0.1111111111111111, \"#46039f\"], [0.2222222222222222, \"#7201a8\"], [0.3333333333333333, \"#9c179e\"], [0.4444444444444444, \"#bd3786\"], [0.5555555555555556, \"#d8576b\"], [0.6666666666666666, \"#ed7953\"], [0.7777777777777778, \"#fb9f3a\"], [0.8888888888888888, \"#fdca26\"], [1.0, \"#f0f921\"]], \"type\": \"heatmapgl\"}], \"histogram\": [{\"marker\": {\"colorbar\": {\"outlinewidth\": 0, \"ticks\": \"\"}}, \"type\": \"histogram\"}], \"histogram2d\": [{\"colorbar\": {\"outlinewidth\": 0, \"ticks\": \"\"}, \"colorscale\": [[0.0, \"#0d0887\"], [0.1111111111111111, \"#46039f\"], [0.2222222222222222, \"#7201a8\"], [0.3333333333333333, \"#9c179e\"], [0.4444444444444444, \"#bd3786\"], [0.5555555555555556, \"#d8576b\"], [0.6666666666666666, \"#ed7953\"], [0.7777777777777778, \"#fb9f3a\"], [0.8888888888888888, \"#fdca26\"], [1.0, \"#f0f921\"]], \"type\": \"histogram2d\"}], \"histogram2dcontour\": [{\"colorbar\": {\"outlinewidth\": 0, \"ticks\": \"\"}, \"colorscale\": [[0.0, \"#0d0887\"], [0.1111111111111111, \"#46039f\"], [0.2222222222222222, \"#7201a8\"], [0.3333333333333333, \"#9c179e\"], [0.4444444444444444, \"#bd3786\"], [0.5555555555555556, \"#d8576b\"], [0.6666666666666666, \"#ed7953\"], [0.7777777777777778, \"#fb9f3a\"], [0.8888888888888888, \"#fdca26\"], [1.0, \"#f0f921\"]], \"type\": \"histogram2dcontour\"}], \"mesh3d\": [{\"colorbar\": {\"outlinewidth\": 0, \"ticks\": \"\"}, \"type\": \"mesh3d\"}], \"parcoords\": [{\"line\": {\"colorbar\": {\"outlinewidth\": 0, \"ticks\": \"\"}}, \"type\": \"parcoords\"}], \"pie\": [{\"automargin\": true, \"type\": \"pie\"}], \"scatter\": [{\"marker\": {\"colorbar\": {\"outlinewidth\": 0, \"ticks\": \"\"}}, \"type\": \"scatter\"}], \"scatter3d\": [{\"line\": {\"colorbar\": {\"outlinewidth\": 0, \"ticks\": \"\"}}, \"marker\": {\"colorbar\": {\"outlinewidth\": 0, \"ticks\": \"\"}}, \"type\": \"scatter3d\"}], \"scattercarpet\": [{\"marker\": {\"colorbar\": {\"outlinewidth\": 0, \"ticks\": \"\"}}, \"type\": \"scattercarpet\"}], \"scattergeo\": [{\"marker\": {\"colorbar\": {\"outlinewidth\": 0, \"ticks\": \"\"}}, \"type\": \"scattergeo\"}], \"scattergl\": [{\"marker\": {\"colorbar\": {\"outlinewidth\": 0, \"ticks\": \"\"}}, \"type\": \"scattergl\"}], \"scattermapbox\": [{\"marker\": {\"colorbar\": {\"outlinewidth\": 0, \"ticks\": \"\"}}, \"type\": \"scattermapbox\"}], \"scatterpolar\": [{\"marker\": {\"colorbar\": {\"outlinewidth\": 0, \"ticks\": \"\"}}, \"type\": \"scatterpolar\"}], \"scatterpolargl\": [{\"marker\": {\"colorbar\": {\"outlinewidth\": 0, \"ticks\": \"\"}}, \"type\": \"scatterpolargl\"}], \"scatterternary\": [{\"marker\": {\"colorbar\": {\"outlinewidth\": 0, \"ticks\": \"\"}}, \"type\": \"scatterternary\"}], \"surface\": [{\"colorbar\": {\"outlinewidth\": 0, \"ticks\": \"\"}, \"colorscale\": [[0.0, \"#0d0887\"], [0.1111111111111111, \"#46039f\"], [0.2222222222222222, \"#7201a8\"], [0.3333333333333333, \"#9c179e\"], [0.4444444444444444, \"#bd3786\"], [0.5555555555555556, \"#d8576b\"], [0.6666666666666666, \"#ed7953\"], [0.7777777777777778, \"#fb9f3a\"], [0.8888888888888888, \"#fdca26\"], [1.0, \"#f0f921\"]], \"type\": \"surface\"}], \"table\": [{\"cells\": {\"fill\": {\"color\": \"#EBF0F8\"}, \"line\": {\"color\": \"white\"}}, \"header\": {\"fill\": {\"color\": \"#C8D4E3\"}, \"line\": {\"color\": \"white\"}}, \"type\": \"table\"}]}, \"layout\": {\"annotationdefaults\": {\"arrowcolor\": \"#2a3f5f\", \"arrowhead\": 0, \"arrowwidth\": 1}, \"coloraxis\": {\"colorbar\": {\"outlinewidth\": 0, \"ticks\": \"\"}}, \"colorscale\": {\"diverging\": [[0, \"#8e0152\"], [0.1, \"#c51b7d\"], [0.2, \"#de77ae\"], [0.3, \"#f1b6da\"], [0.4, \"#fde0ef\"], [0.5, \"#f7f7f7\"], [0.6, \"#e6f5d0\"], [0.7, \"#b8e186\"], [0.8, \"#7fbc41\"], [0.9, \"#4d9221\"], [1, \"#276419\"]], \"sequential\": [[0.0, \"#0d0887\"], [0.1111111111111111, \"#46039f\"], [0.2222222222222222, \"#7201a8\"], [0.3333333333333333, \"#9c179e\"], [0.4444444444444444, \"#bd3786\"], [0.5555555555555556, \"#d8576b\"], [0.6666666666666666, \"#ed7953\"], [0.7777777777777778, \"#fb9f3a\"], [0.8888888888888888, \"#fdca26\"], [1.0, \"#f0f921\"]], \"sequentialminus\": [[0.0, \"#0d0887\"], [0.1111111111111111, \"#46039f\"], [0.2222222222222222, \"#7201a8\"], [0.3333333333333333, \"#9c179e\"], [0.4444444444444444, \"#bd3786\"], [0.5555555555555556, \"#d8576b\"], [0.6666666666666666, \"#ed7953\"], [0.7777777777777778, \"#fb9f3a\"], [0.8888888888888888, \"#fdca26\"], [1.0, \"#f0f921\"]]}, \"colorway\": [\"#636efa\", \"#EF553B\", \"#00cc96\", \"#ab63fa\", \"#FFA15A\", \"#19d3f3\", \"#FF6692\", \"#B6E880\", \"#FF97FF\", \"#FECB52\"], \"font\": {\"color\": \"#2a3f5f\"}, \"geo\": {\"bgcolor\": \"white\", \"lakecolor\": \"white\", \"landcolor\": \"#E5ECF6\", \"showlakes\": true, \"showland\": true, \"subunitcolor\": \"white\"}, \"hoverlabel\": {\"align\": \"left\"}, \"hovermode\": \"closest\", \"mapbox\": {\"style\": \"light\"}, \"paper_bgcolor\": \"white\", \"plot_bgcolor\": \"#E5ECF6\", \"polar\": {\"angularaxis\": {\"gridcolor\": \"white\", \"linecolor\": \"white\", \"ticks\": \"\"}, \"bgcolor\": \"#E5ECF6\", \"radialaxis\": {\"gridcolor\": \"white\", \"linecolor\": \"white\", \"ticks\": \"\"}}, \"scene\": {\"xaxis\": {\"backgroundcolor\": \"#E5ECF6\", \"gridcolor\": \"white\", \"gridwidth\": 2, \"linecolor\": \"white\", \"showbackground\": true, \"ticks\": \"\", \"zerolinecolor\": \"white\"}, \"yaxis\": {\"backgroundcolor\": \"#E5ECF6\", \"gridcolor\": \"white\", \"gridwidth\": 2, \"linecolor\": \"white\", \"showbackground\": true, \"ticks\": \"\", \"zerolinecolor\": \"white\"}, \"zaxis\": {\"backgroundcolor\": \"#E5ECF6\", \"gridcolor\": \"white\", \"gridwidth\": 2, \"linecolor\": \"white\", \"showbackground\": true, \"ticks\": \"\", \"zerolinecolor\": \"white\"}}, \"shapedefaults\": {\"line\": {\"color\": \"#2a3f5f\"}}, \"ternary\": {\"aaxis\": {\"gridcolor\": \"white\", \"linecolor\": \"white\", \"ticks\": \"\"}, \"baxis\": {\"gridcolor\": \"white\", \"linecolor\": \"white\", \"ticks\": \"\"}, \"bgcolor\": \"#E5ECF6\", \"caxis\": {\"gridcolor\": \"white\", \"linecolor\": \"white\", \"ticks\": \"\"}}, \"title\": {\"x\": 0.05}, \"xaxis\": {\"automargin\": true, \"gridcolor\": \"white\", \"linecolor\": \"white\", \"ticks\": \"\", \"title\": {\"standoff\": 15}, \"zerolinecolor\": \"white\", \"zerolinewidth\": 2}, \"yaxis\": {\"automargin\": true, \"gridcolor\": \"white\", \"linecolor\": \"white\", \"ticks\": \"\", \"title\": {\"standoff\": 15}, \"zerolinecolor\": \"white\", \"zerolinewidth\": 2}}}, \"xaxis\": {\"anchor\": \"y\", \"domain\": [0.0, 1.0], \"title\": {\"text\": \"x\"}}, \"yaxis\": {\"anchor\": \"x\", \"domain\": [0.0, 1.0], \"title\": {\"text\": \"y\"}}},                        {\"responsive\": true}                    ).then(function(){\n",
       "                            \n",
       "var gd = document.getElementById('81adbf09-ee86-4092-b894-66799f7a4310');\n",
       "var x = new MutationObserver(function (mutations, observer) {{\n",
       "        var display = window.getComputedStyle(gd).display;\n",
       "        if (!display || display === 'none') {{\n",
       "            console.log([gd, 'removed!']);\n",
       "            Plotly.purge(gd);\n",
       "            observer.disconnect();\n",
       "        }}\n",
       "}});\n",
       "\n",
       "// Listen for the removal of the full notebook cells\n",
       "var notebookContainer = gd.closest('#notebook-container');\n",
       "if (notebookContainer) {{\n",
       "    x.observe(notebookContainer, {childList: true});\n",
       "}}\n",
       "\n",
       "// Listen for the clearing of the current output cell\n",
       "var outputEl = gd.closest('.output');\n",
       "if (outputEl) {{\n",
       "    x.observe(outputEl, {childList: true});\n",
       "}}\n",
       "\n",
       "                        })                };                });            </script>        </div>"
      ]
     },
     "metadata": {},
     "output_type": "display_data"
    }
   ],
   "source": [
    "A = list(data.Loan_Status).count(1)\n",
    "B = list(data.Loan_Status).count(0)\n",
    "print(\"Count of 1<Approved>: \",A,\"\\nCount of 0<Rejected>: \",B)\n",
    "\n",
    "fig = px.bar((A,B),x=[\"Approved\",\"Rejected\"],y=[A,B],color=[A,B])\n",
    "fig.show()"
   ]
  },
  {
   "cell_type": "code",
   "execution_count": 18,
   "metadata": {
    "execution": {
     "iopub.execute_input": "2020-11-28T21:16:15.278254Z",
     "iopub.status.busy": "2020-11-28T21:16:15.265943Z",
     "iopub.status.idle": "2020-11-28T21:16:15.290930Z",
     "shell.execute_reply": "2020-11-28T21:16:15.290113Z"
    },
    "papermill": {
     "duration": 0.08212,
     "end_time": "2020-11-28T21:16:15.291090",
     "exception": false,
     "start_time": "2020-11-28T21:16:15.208970",
     "status": "completed"
    },
    "tags": []
   },
   "outputs": [
    {
     "name": "stdout",
     "output_type": "stream",
     "text": [
      "Downsampled data:->\n",
      " 1    192\n",
      "0    192\n",
      "Name: Loan_Status, dtype: int64\n",
      "Upsampled data:->\n",
      " 1    422\n",
      "0    422\n",
      "Name: Loan_Status, dtype: int64\n"
     ]
    }
   ],
   "source": [
    "#result above shows the data is very Imbalanced.\n",
    "#if the target classes do not have equal(ish) count then the data is considered as imbalanced.\n",
    "\n",
    "#If data would have maximum of 20-30 records difference that time this imabalanced could be ignored.\n",
    "#Which will lead to make wrong assumptions by model and also model will be biased after \n",
    "#training.\n",
    "\n",
    "#To overcome the problem i will balance the data using Resampling technique with Upsample and Downsample.\n",
    "\n",
    "\n",
    "#To keep original data as it is to use the same for later.\n",
    "new_data = data.copy()\n",
    "\n",
    "#Getting seperated data with 1 and 0 status.\n",
    "df_majority = new_data[new_data.Loan_Status==1]\n",
    "df_minority = new_data[new_data.Loan_Status==0]\n",
    "\n",
    "#Here we are downsampling the Majority Class Data Points. \n",
    "#i.e. We will get equal amount of datapoint as Minority class from Majority class\n",
    "\n",
    "df_manjority_downsampled = resample(df_majority,replace=False,n_samples=192,random_state=123)\n",
    "df_downsampled = pd.concat([df_manjority_downsampled,df_minority])\n",
    "print(\"Downsampled data:->\\n\",df_downsampled.Loan_Status.value_counts())\n",
    "\n",
    "#Here we are upsampling the Minority Class Data Points. \n",
    "#i.e. We will get equal amount of datapoint as Majority class from Minority class\n",
    "df_monority_upsampled = resample(df_minority,replace=True,n_samples=422,random_state=123)\n",
    "df_upsampled = pd.concat([df_majority,df_monority_upsampled])\n",
    "print(\"Upsampled data:->\\n\",df_upsampled.Loan_Status.value_counts())"
   ]
  },
  {
   "cell_type": "code",
   "execution_count": 19,
   "metadata": {
    "execution": {
     "iopub.execute_input": "2020-11-28T21:16:15.401429Z",
     "iopub.status.busy": "2020-11-28T21:16:15.396095Z",
     "iopub.status.idle": "2020-11-28T21:16:24.584238Z",
     "shell.execute_reply": "2020-11-28T21:16:24.583555Z"
    },
    "papermill": {
     "duration": 9.245358,
     "end_time": "2020-11-28T21:16:24.584373",
     "exception": false,
     "start_time": "2020-11-28T21:16:15.339015",
     "status": "completed"
    },
    "tags": []
   },
   "outputs": [
    {
     "name": "stdout",
     "output_type": "stream",
     "text": [
      "844 844\n",
      "After Standardization\n",
      "Mean  7.143184188310644e-17 Standard Deviation  1.0 \n",
      "\n",
      "              precision    recall  f1-score   support\n",
      "\n",
      "           0       0.70      0.85      0.77        89\n",
      "           1       0.87      0.74      0.80       122\n",
      "\n",
      "    accuracy                           0.79       211\n",
      "   macro avg       0.79      0.80      0.79       211\n",
      "weighted avg       0.80      0.79      0.79       211\n",
      "\n",
      "Voting Ensemble:> 0.7867298578199052\n",
      "              precision    recall  f1-score   support\n",
      "\n",
      "           0       0.38      0.95      0.54        43\n",
      "           1       0.98      0.60      0.75       168\n",
      "\n",
      "    accuracy                           0.67       211\n",
      "   macro avg       0.68      0.78      0.64       211\n",
      "weighted avg       0.86      0.67      0.70       211\n",
      "\n",
      "SVM:> 0.6729857819905213\n",
      "              precision    recall  f1-score   support\n",
      "\n",
      "           0       0.68      0.75      0.71        97\n",
      "           1       0.77      0.69      0.73       114\n",
      "\n",
      "    accuracy                           0.72       211\n",
      "   macro avg       0.72      0.72      0.72       211\n",
      "weighted avg       0.73      0.72      0.72       211\n",
      "\n",
      "XGBoost:> 0.7203791469194313\n",
      "              precision    recall  f1-score   support\n",
      "\n",
      "           0       0.80      0.88      0.83        98\n",
      "           1       0.88      0.81      0.84       113\n",
      "\n",
      "    accuracy                           0.84       211\n",
      "   macro avg       0.84      0.84      0.84       211\n",
      "weighted avg       0.84      0.84      0.84       211\n",
      "\n",
      "RandomForestClassifier:> 0.8388625592417062\n",
      "              precision    recall  f1-score   support\n",
      "\n",
      "           0       0.59      0.77      0.67        83\n",
      "           1       0.82      0.66      0.73       128\n",
      "\n",
      "    accuracy                           0.70       211\n",
      "   macro avg       0.70      0.71      0.70       211\n",
      "weighted avg       0.73      0.70      0.70       211\n",
      "\n",
      "GradientBoostingClassifier:> 0.7014218009478673\n",
      "              precision    recall  f1-score   support\n",
      "\n",
      "           0       0.54      0.70      0.61        83\n",
      "           1       0.76      0.61      0.68       128\n",
      "\n",
      "    accuracy                           0.64       211\n",
      "   macro avg       0.65      0.65      0.64       211\n",
      "weighted avg       0.67      0.64      0.65       211\n",
      "\n",
      "DecisionTreeClassifier:> 0.6445497630331753\n",
      "              precision    recall  f1-score   support\n",
      "\n",
      "           0       0.63      0.76      0.69        89\n",
      "           1       0.80      0.67      0.73       122\n",
      "\n",
      "    accuracy                           0.71       211\n",
      "   macro avg       0.71      0.72      0.71       211\n",
      "weighted avg       0.73      0.71      0.71       211\n",
      "\n",
      "AdaBoostClassifier:> 0.7109004739336493\n",
      "              precision    recall  f1-score   support\n",
      "\n",
      "           0       0.44      0.78      0.56        60\n",
      "           1       0.87      0.60      0.71       151\n",
      "\n",
      "    accuracy                           0.65       211\n",
      "   macro avg       0.65      0.69      0.63       211\n",
      "weighted avg       0.75      0.65      0.67       211\n",
      "\n",
      "LinearDiscriminantAnalysis:> 0.6492890995260664\n",
      "              precision    recall  f1-score   support\n",
      "\n",
      "           0       0.55      0.81      0.65        73\n",
      "           1       0.86      0.64      0.74       138\n",
      "\n",
      "    accuracy                           0.70       211\n",
      "   macro avg       0.71      0.73      0.70       211\n",
      "weighted avg       0.75      0.70      0.71       211\n",
      "\n",
      "KNeighborsClassifier:> 0.7014218009478673\n",
      "              precision    recall  f1-score   support\n",
      "\n",
      "           0       0.40      0.88      0.55        49\n",
      "           1       0.94      0.60      0.73       162\n",
      "\n",
      "    accuracy                           0.66       211\n",
      "   macro avg       0.67      0.74      0.64       211\n",
      "weighted avg       0.82      0.66      0.69       211\n",
      "\n",
      "GaussianNB:> 0.6635071090047393\n",
      "              precision    recall  f1-score   support\n",
      "\n",
      "           0       0.45      0.79      0.58        62\n",
      "           1       0.87      0.60      0.71       149\n",
      "\n",
      "    accuracy                           0.66       211\n",
      "   macro avg       0.66      0.70      0.65       211\n",
      "weighted avg       0.75      0.66      0.67       211\n",
      "\n",
      "Logistic Regression:> 0.6587677725118484\n"
     ]
    }
   ],
   "source": [
    "#X = df_upsampled.drop([\"Loan_ID\",\"Gender\",\"Married\",\"Education\",\"Self_Employed\",\"Loan_Amount_Term\",\"Loan_Status\",'Property_Area'],axis=1)\n",
    "X = df_upsampled.drop([\"Loan_Status\",\"Loan_ID\"],axis=1)\n",
    "y = df_upsampled.Loan_Status\n",
    "print(len(X),len(y))\n",
    "X_train , X_test , y_train , y_test = train_test_split(X,y,test_size=0.25,random_state=0)\n",
    "\n",
    "#Scaling data here:------------->\n",
    "\n",
    "StSc = StandardScaler()\n",
    "X_train  = StSc.fit_transform(X_train)\n",
    "X_test  = StSc.fit_transform(X_test)\n",
    "\n",
    "#Check mean is 0 and Standard deviation is 1\n",
    "print(\"After Standardization\\nMean \",np.mean(X_train),\"Standard Deviation \",np.std(X_train),\"\\n\")\n",
    "\n",
    "#Voting ensemble mathod. Combining all tree based algorithms.\n",
    "models = []\n",
    "models.append((\"XGB\",XGBClassifier()))\n",
    "models.append((\"RF\",RandomForestClassifier()))\n",
    "models.append((\"DT\",DecisionTreeClassifier()))\n",
    "models.append((\"ADB\",AdaBoostClassifier()))\n",
    "models.append((\"GB\",GradientBoostingClassifier()))\n",
    "\n",
    "ensemble = VotingClassifier(estimators=models)\n",
    "ensemble.fit(X_train,y_train)\n",
    "y_pred = ensemble.predict(X_test) \n",
    "print(classification_report(y_pred,y_test))\n",
    "print(\"Voting Ensemble:>\",accuracy_score(y_pred,y_test))\n",
    "\n",
    "\n",
    "\n",
    "SVM = SVC(kernel=\"linear\",class_weight=\"balanced\",probability=True)\n",
    "SVM.fit(X_train,y_train)\n",
    "y_pred = SVM.predict(X_test)\n",
    "print(classification_report(y_pred,y_test))\n",
    "print(\"SVM:>\",accuracy_score(y_pred,y_test))\n",
    "\n",
    "\n",
    "XGBC = XGBClassifier(learning_rate =0.1,n_estimators=10000,max_depth=4,min_child_weight=6,gamma=0,subsample=0.6,colsample_bytree=0.8,\n",
    " reg_alpha=0.005, objective= 'binary:logistic', nthread=2, scale_pos_weight=1, seed=27)\n",
    "XGBC.fit(X_train,y_train)\n",
    "y_pred = XGBC.predict(X_test)\n",
    "print(classification_report(y_pred,y_test))\n",
    "print(\"XGBoost:>\",accuracy_score(y_pred,y_test))\n",
    "\n",
    "Model1 = RandomForestClassifier(n_estimators=1000,random_state=0,n_jobs=1000,max_depth=70,bootstrap=True)\n",
    "Model1.fit(X_train,y_train)\n",
    "y_pred = Model1.predict(X_test)\n",
    "print(classification_report(y_pred,y_test))\n",
    "print(\"RandomForestClassifier:>\",accuracy_score(y_pred,y_test))\n",
    "\n",
    "\n",
    "Model2 = GradientBoostingClassifier()\n",
    "Model2.fit(X_train,y_train)\n",
    "y_pred = Model2.predict(X_test)\n",
    "print(classification_report(y_pred,y_test))\n",
    "print(\"GradientBoostingClassifier:>\",accuracy_score(y_pred,y_test))\n",
    "\n",
    "\n",
    "Model3 = DecisionTreeClassifier(class_weight=None, criterion='gini', max_depth=100,\n",
    " max_features=1.0, max_leaf_nodes=10,\n",
    " min_impurity_split=1e-07, min_samples_leaf=1,\n",
    " min_samples_split=2, min_weight_fraction_leaf=0.10,\n",
    " presort=False, random_state=27, splitter='best')\n",
    "Model3.fit(X_train,y_train)\n",
    "y_pred = Model3.predict(X_test)\n",
    "print(classification_report(y_pred,y_test))\n",
    "print(\"DecisionTreeClassifier:>\",accuracy_score(y_pred,y_test))\n",
    "\n",
    "\n",
    "Model4 = AdaBoostClassifier()\n",
    "Model4.fit(X_train,y_train)\n",
    "y_pred = Model4.predict(X_test)\n",
    "print(classification_report(y_pred,y_test))\n",
    "print(\"AdaBoostClassifier:>\",accuracy_score(y_pred,y_test))\n",
    "\n",
    "\n",
    "Model5 = LinearDiscriminantAnalysis()\n",
    "Model5.fit(X_train,y_train)\n",
    "y_pred = Model5.predict(X_test)\n",
    "print(classification_report(y_pred,y_test))\n",
    "print(\"LinearDiscriminantAnalysis:>\",accuracy_score(y_pred,y_test))\n",
    "\n",
    "KNN = KNeighborsClassifier(leaf_size=1,p=2,n_neighbors=20)\n",
    "KNN.fit(X_train,y_train)\n",
    "y_pred = KNN.predict(X_test)\n",
    "print(classification_report(y_pred,y_test))\n",
    "print(\"KNeighborsClassifier:>\",accuracy_score(y_pred,y_test))\n",
    "\n",
    "\n",
    "Model7 = GaussianNB()\n",
    "Model7.fit(X_train,y_train)\n",
    "y_pred = Model7.predict(X_test)\n",
    "print(classification_report(y_pred,y_test))\n",
    "print(\"GaussianNB:>\",accuracy_score(y_pred,y_test))\n",
    "\n",
    "\n",
    "Model8 = LogisticRegression(C=1.0, class_weight=None, dual=False, fit_intercept=True,\n",
    "          intercept_scaling=1, max_iter=100, multi_class='ovr', n_jobs=1,\n",
    "          penalty='l2', random_state=None, solver='liblinear', tol=0.0001,\n",
    "          verbose=0, warm_start=False)\n",
    "Model8.fit(X_train,y_train)\n",
    "y_pred = Model8.predict(X_test)\n",
    "print(classification_report(y_pred,y_test))\n",
    "print(\"Logistic Regression:>\",accuracy_score(y_pred,y_test))"
   ]
  },
  {
   "cell_type": "code",
   "execution_count": 20,
   "metadata": {
    "execution": {
     "iopub.execute_input": "2020-11-28T21:16:24.732004Z",
     "iopub.status.busy": "2020-11-28T21:16:24.731220Z",
     "iopub.status.idle": "2020-11-28T21:16:29.314443Z",
     "shell.execute_reply": "2020-11-28T21:16:29.313674Z"
    },
    "papermill": {
     "duration": 4.660848,
     "end_time": "2020-11-28T21:16:29.314604",
     "exception": false,
     "start_time": "2020-11-28T21:16:24.653756",
     "status": "completed"
    },
    "tags": []
   },
   "outputs": [
    {
     "name": "stdout",
     "output_type": "stream",
     "text": [
      "              precision    recall  f1-score   support\n",
      "\n",
      "           0       0.80      0.88      0.83        98\n",
      "           1       0.88      0.81      0.84       113\n",
      "\n",
      "    accuracy                           0.84       211\n",
      "   macro avg       0.84      0.84      0.84       211\n",
      "weighted avg       0.84      0.84      0.84       211\n",
      "\n",
      "RandomForestClassifier gives the optimum loan Prediction:> 0.8388625592417062\n"
     ]
    }
   ],
   "source": [
    "LoanEstModel = RandomForestClassifier(n_estimators=1000,random_state=0,n_jobs=1000,max_depth=70,bootstrap=True)\n",
    "LoanEstModel.fit(X_train,y_train)\n",
    "y_pred = LoanEstModel.predict(X_test)\n",
    "print(classification_report(y_pred,y_test))\n",
    "print(\"RandomForestClassifier gives the optimum loan Prediction:>\",accuracy_score(y_pred,y_test))\n",
    "\n",
    "\n",
    "# Save the Model to file in the current working directory\n",
    "\n",
    "Pkl_Filename = \"Pickle_LoanPredict_Model.pkl\"  \n",
    "\n",
    "with open(Pkl_Filename, 'wb') as file:  \n",
    "    pickle.dump(LoanEstModel, file)\n",
    "    "
   ]
  },
  {
   "cell_type": "code",
   "execution_count": 21,
   "metadata": {
    "execution": {
     "iopub.execute_input": "2020-11-28T21:16:29.423809Z",
     "iopub.status.busy": "2020-11-28T21:16:29.422624Z",
     "iopub.status.idle": "2020-11-28T21:16:29.481195Z",
     "shell.execute_reply": "2020-11-28T21:16:29.481664Z"
    },
    "papermill": {
     "duration": 0.11586,
     "end_time": "2020-11-28T21:16:29.481810",
     "exception": false,
     "start_time": "2020-11-28T21:16:29.365950",
     "status": "completed"
    },
    "tags": []
   },
   "outputs": [
    {
     "data": {
      "text/plain": [
       "RandomForestClassifier(max_depth=70, n_estimators=1000, n_jobs=1000,\n",
       "                       random_state=0)"
      ]
     },
     "execution_count": 21,
     "metadata": {},
     "output_type": "execute_result"
    }
   ],
   "source": [
    "# Load the Model back from file\n",
    "with open(Pkl_Filename, 'rb') as file:  \n",
    "    Pickled_LR_Model = pickle.load(file)\n",
    "\n",
    "Pickled_LR_Model"
   ]
  },
  {
   "cell_type": "code",
   "execution_count": 22,
   "metadata": {
    "execution": {
     "iopub.execute_input": "2020-11-28T21:16:29.601831Z",
     "iopub.status.busy": "2020-11-28T21:16:29.601023Z",
     "iopub.status.idle": "2020-11-28T21:16:30.542186Z",
     "shell.execute_reply": "2020-11-28T21:16:30.542833Z"
    },
    "papermill": {
     "duration": 1.01056,
     "end_time": "2020-11-28T21:16:30.542963",
     "exception": false,
     "start_time": "2020-11-28T21:16:29.532403",
     "status": "completed"
    },
    "tags": []
   },
   "outputs": [
    {
     "name": "stdout",
     "output_type": "stream",
     "text": [
      "Test score: 83.89 %\n"
     ]
    },
    {
     "data": {
      "text/plain": [
       "array([1, 0, 0, 0, 1, 0, 0, 1, 0, 0, 1, 0, 0, 1, 0, 1, 1, 1, 0, 1, 0, 0,\n",
       "       0, 0, 1, 0, 1, 1, 0, 0, 1, 0, 1, 1, 0, 1, 1, 1, 0, 1, 0, 0, 0, 1,\n",
       "       1, 1, 1, 0, 1, 1, 1, 0, 0, 1, 1, 0, 1, 1, 1, 0, 1, 0, 0, 1, 1, 0,\n",
       "       0, 1, 1, 1, 0, 0, 1, 0, 0, 1, 1, 1, 1, 0, 1, 0, 1, 0, 0, 0, 0, 1,\n",
       "       1, 0, 0, 1, 1, 0, 0, 1, 1, 0, 1, 1, 0, 1, 1, 0, 1, 0, 0, 1, 1, 0,\n",
       "       1, 0, 0, 0, 1, 0, 0, 0, 0, 1, 1, 1, 0, 0, 0, 1, 1, 0, 1, 0, 1, 0,\n",
       "       0, 1, 1, 0, 1, 1, 0, 1, 1, 0, 1, 0, 0, 1, 1, 0, 1, 1, 1, 1, 1, 0,\n",
       "       1, 0, 0, 0, 1, 0, 1, 1, 0, 1, 0, 1, 0, 1, 1, 0, 1, 1, 0, 0, 0, 0,\n",
       "       1, 0, 0, 0, 1, 1, 1, 0, 1, 0, 0, 0, 1, 1, 0, 1, 1, 1, 1, 0, 1, 0,\n",
       "       0, 0, 1, 1, 1, 1, 1, 1, 1, 1, 1, 1, 1])"
      ]
     },
     "execution_count": 22,
     "metadata": {},
     "output_type": "execute_result"
    }
   ],
   "source": [
    "# Use the Reloaded Model to \n",
    "# Calculate the accuracy score and predict target values\n",
    "\n",
    "# Calculate the Score \n",
    "score = Pickled_LR_Model.score(X_test, y_test)  \n",
    "# Print the Score\n",
    "print(\"Test score: {0:.2f} %\".format(100 * score))  \n",
    "\n",
    "# Predict the Labels using the reloaded Model\n",
    "Ypredict = Pickled_LR_Model.predict(X_test)  \n",
    "\n",
    "Ypredict"
   ]
  },
  {
   "cell_type": "code",
   "execution_count": 23,
   "metadata": {
    "execution": {
     "iopub.execute_input": "2020-11-28T21:16:30.661002Z",
     "iopub.status.busy": "2020-11-28T21:16:30.660377Z",
     "iopub.status.idle": "2020-11-28T21:16:38.949523Z",
     "shell.execute_reply": "2020-11-28T21:16:38.948949Z"
    },
    "papermill": {
     "duration": 8.354659,
     "end_time": "2020-11-28T21:16:38.949636",
     "exception": false,
     "start_time": "2020-11-28T21:16:30.594977",
     "status": "completed"
    },
    "tags": []
   },
   "outputs": [
    {
     "name": "stdout",
     "output_type": "stream",
     "text": [
      "Done\n"
     ]
    }
   ],
   "source": [
    "from keras.models import Sequential\n",
    "from keras.layers import Dense, Activation, Dropout\n",
    "from keras.optimizers import SGD\n",
    "\n",
    "\n",
    "\n",
    "\n",
    "#use keras to build model\n",
    "models = keras.Sequential()\n",
    "models.add(keras.layers.Dense(64, activation=tf.nn.relu))\n",
    "models.add(keras.layers.Dense(64, activation=tf.nn.relu))\n",
    "models.add(keras.layers.Dense(1))\n",
    "models.compile(optimizer = tf.keras.optimizers.RMSprop(0.001), loss='mse', metrics=['mae', 'mse'])\n",
    "\n",
    "    #train model\n",
    "EPOCHS = 200\n",
    "history = models.fit(X_train, y_train,epochs = EPOCHS, validation_split = 0.2, verbose=0)\n",
    "print('Done')\n",
    "    \n",
    "    #save model as .h5 file\n",
    "models.save('loan_model.h5') \n",
    "    \n",
    "    #convert saved model to model.json and binary weights file. \n",
    "#mkdir tfjs_loan_files\n",
    "#tensorflowjs_converter --input_format keras 'loan_model.h5' 'tfjs_loan_files'\n",
    "\n",
    "#converter = tf.lite.TFLiteConverter.from_keras_model(model)\n",
    "#housing_tflite_model = converter.convert()\n",
    "    # Re-convert the model to TF Lite using quantization.\n",
    "#converter.optimizations = [tf.lite.Optimize.DEFAULT]\n",
    "#tflite_quantized_model = converter.convert()"
   ]
  }
 ],
 "metadata": {
  "kernelspec": {
   "display_name": "Python 3",
   "language": "python",
   "name": "python3"
  },
  "language_info": {
   "codemirror_mode": {
    "name": "ipython",
    "version": 3
   },
   "file_extension": ".py",
   "mimetype": "text/x-python",
   "name": "python",
   "nbconvert_exporter": "python",
   "pygments_lexer": "ipython3",
   "version": "3.7.6"
  },
  "papermill": {
   "duration": 44.314979,
   "end_time": "2020-11-28T21:16:39.111396",
   "environment_variables": {},
   "exception": null,
   "input_path": "__notebook__.ipynb",
   "output_path": "__notebook__.ipynb",
   "parameters": {},
   "start_time": "2020-11-28T21:15:54.796417",
   "version": "2.1.0"
  }
 },
 "nbformat": 4,
 "nbformat_minor": 4
}
